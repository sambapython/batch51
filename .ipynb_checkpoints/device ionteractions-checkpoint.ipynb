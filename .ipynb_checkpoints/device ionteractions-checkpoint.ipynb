{
 "cells": [
  {
   "cell_type": "code",
   "execution_count": 1,
   "metadata": {},
   "outputs": [
    {
     "data": {
      "text/plain": [
       "0"
      ]
     },
     "execution_count": 1,
     "metadata": {},
     "output_type": "execute_result"
    }
   ],
   "source": [
    "import os\n",
    "os.system(\"mkdir folder2\")"
   ]
  },
  {
   "cell_type": "code",
   "execution_count": 2,
   "metadata": {},
   "outputs": [
    {
     "data": {
      "text/plain": [
       "0"
      ]
     },
     "execution_count": 2,
     "metadata": {},
     "output_type": "execute_result"
    }
   ],
   "source": [
    "os.system(\"rm -rf folder2\")"
   ]
  },
  {
   "cell_type": "code",
   "execution_count": 3,
   "metadata": {},
   "outputs": [
    {
     "data": {
      "text/plain": [
       "0"
      ]
     },
     "execution_count": 3,
     "metadata": {},
     "output_type": "execute_result"
    }
   ],
   "source": [
    "os.system(\"rm -rf folder2\")"
   ]
  },
  {
   "cell_type": "code",
   "execution_count": 5,
   "metadata": {},
   "outputs": [
    {
     "data": {
      "text/plain": [
       "256"
      ]
     },
     "execution_count": 5,
     "metadata": {},
     "output_type": "execute_result"
    }
   ],
   "source": [
    "os.system(\"rm -r folder2\")"
   ]
  },
  {
   "cell_type": "code",
   "execution_count": 6,
   "metadata": {},
   "outputs": [
    {
     "data": {
      "text/plain": [
       "0"
      ]
     },
     "execution_count": 6,
     "metadata": {},
     "output_type": "execute_result"
    }
   ],
   "source": [
    "os.system(\"rm -r folder1\")"
   ]
  },
  {
   "cell_type": "code",
   "execution_count": 8,
   "metadata": {},
   "outputs": [
    {
     "data": {
      "text/plain": [
       "0"
      ]
     },
     "execution_count": 8,
     "metadata": {},
     "output_type": "execute_result"
    }
   ],
   "source": [
    "os.system(\"ls -l\")"
   ]
  },
  {
   "cell_type": "code",
   "execution_count": 10,
   "metadata": {},
   "outputs": [
    {
     "name": "stdout",
     "output_type": "stream",
     "text": [
      "total 3964\n",
      "-rw-r--r-- 1 khyaathi-python khyaathi-python   42939 Nov 13 09:31 adv concepts.ipynb\n",
      "-rw-r--r-- 1 khyaathi-python khyaathi-python      76 Nov  6 09:39 a.py\n",
      "-rw-r--r-- 1 khyaathi-python khyaathi-python   28239 Oct 12 09:23 Assignments.odt\n",
      "-rw-r--r-- 1 khyaathi-python khyaathi-python   52976 Oct 26 09:02 conditinal statements.ipynb\n",
      "-rw-r--r-- 1 khyaathi-python khyaathi-python     132 Nov 18 08:55 data1.csv\n",
      "-rw-r--r-- 1 khyaathi-python khyaathi-python       0 Nov 18 09:00 data2.csv\n",
      "-rw-r--r-- 1 khyaathi-python khyaathi-python     110 Nov 20 08:16 data3.csv\n",
      "-rw-r--r-- 1 khyaathi-python khyaathi-python     132 Nov 18 08:52 data.csv\n",
      "-rw-r--r-- 1 khyaathi-python khyaathi-python     586 Sep 10 08:57 data.json\n",
      "-rw-r--r-- 1 khyaathi-python khyaathi-python     117 Sep 10 08:53 data.yaml\n",
      "-rw-r--r-- 1 khyaathi-python khyaathi-python    8192 Nov 18 09:51 db1.sqlite3\n",
      "-rw-r--r-- 1 khyaathi-python khyaathi-python   41174 Nov 18 09:16 DB.jpg\n",
      "-rw-r--r-- 1 khyaathi-python khyaathi-python    7191 Nov 20 08:59 DB Operaions.ipynb\n",
      "-rw-r--r-- 1 khyaathi-python khyaathi-python    2180 Nov 28 08:58 device ionteractions.ipynb\n",
      "-rw-r--r-- 1 khyaathi-python khyaathi-python   41241 Nov 10 09:38 dictionaries.ipynb\n",
      "-rw-r--r-- 1 khyaathi-python khyaathi-python   41922 Nov 21 08:56 exceptions.ipynb\n",
      "-rw-r--r-- 1 khyaathi-python khyaathi-python     628 Nov 21 08:24 excp.py\n",
      "-rw-r--r-- 1 khyaathi-python khyaathi-python   32604 Nov 18 08:39 file1.jpg\n",
      "-rw-r--r-- 1 khyaathi-python khyaathi-python   22271 Nov 18 09:20 file based and block based DB.jpg\n",
      "-rw-r--r-- 1 khyaathi-python khyaathi-python   69904 Nov 18 08:44 files-assignment.jpg\n",
      "-rw-r--r-- 1 khyaathi-python khyaathi-python   37423 Nov 20 08:35 files.ipynb\n",
      "drwxr-xr-x 2 khyaathi-python khyaathi-python    4096 Nov  6 09:43 floder1\n",
      "-rw-r--r-- 1 khyaathi-python khyaathi-python   71929 Nov  2 08:53 fun2_mem.jpg\n",
      "-rw-r--r-- 1 khyaathi-python khyaathi-python   42617 Nov 25 08:40 fun3.jpg\n",
      "-rw-r--r-- 1 khyaathi-python khyaathi-python   50312 Nov  2 09:25 functions.ipynb\n",
      "-rw-r--r-- 1 khyaathi-python khyaathi-python   41782 Nov  2 08:25 fun_mem.jpg\n",
      "-rw-r--r-- 1 khyaathi-python khyaathi-python     177 Oct 24 09:00 git commands.txt\n",
      "-rw-r--r-- 1 khyaathi-python khyaathi-python   34442 Oct 24 09:25 git.jpg\n",
      "-rw-r--r-- 1 khyaathi-python khyaathi-python   46313 Oct 12 09:11 int_mem2.jpg\n",
      "-rw-r--r-- 1 khyaathi-python khyaathi-python   69562 Nov  9 09:25 lists.ipynb\n",
      "-rw-r--r-- 1 khyaathi-python khyaathi-python   51652 Oct 27 09:44 loop1.jpg\n",
      "-rw-r--r-- 1 khyaathi-python khyaathi-python   33241 Oct 27 10:31 loop2.jpg\n",
      "-rw-r--r-- 1 khyaathi-python khyaathi-python   22488 Oct 31 09:06 looping2.ipynb\n",
      "-rw-r--r-- 1 khyaathi-python khyaathi-python 2585677 Oct 30 09:34 looping statements.ipynb\n",
      "-rw-r--r-- 1 khyaathi-python khyaathi-python     276 Oct 23 09:15 mails.txt\n",
      "drwxr-xr-x 3 khyaathi-python khyaathi-python    4096 Nov 18 07:41 modules\n",
      "drwxr-xr-x 2 khyaathi-python khyaathi-python    4096 Nov 24 09:57 monitoring\n",
      "-rw-r--r-- 1 khyaathi-python khyaathi-python   33943 Nov 24 09:43 oops1.jpg\n",
      "-rw-r--r-- 1 khyaathi-python khyaathi-python   46883 Nov 25 09:27 oops3.jpg\n",
      "-rw-r--r-- 1 khyaathi-python khyaathi-python  146026 Nov 26 09:49 oops.ipynb\n",
      "-rw-r--r-- 1 khyaathi-python khyaathi-python   32734 Nov 28 08:56 regular exp.ipynb\n",
      "drwxr-xr-x 2 khyaathi-python khyaathi-python    4096 Nov 27 09:07 socket_program\n",
      "-rw-r--r-- 1 khyaathi-python khyaathi-python   12587 Nov  8 08:32 stringfunction3.ipynb\n",
      "-rw-r--r-- 1 khyaathi-python khyaathi-python   54519 Nov  6 09:43 string functions2.ipynb\n",
      "-rw-r--r-- 1 khyaathi-python khyaathi-python   55163 Nov  5 09:22 string functions.ipynb\n",
      "-rw-r--r-- 1 khyaathi-python khyaathi-python      72 Oct 16 06:56 Untitled1.ipynb\n",
      "-rw-r--r-- 1 khyaathi-python khyaathi-python     828 Nov 13 07:31 Untitled2.ipynb\n",
      "-rw-r--r-- 1 khyaathi-python khyaathi-python    4906 Oct 12 09:14 Untitled.ipynb\n",
      "-rw-r--r-- 1 khyaathi-python khyaathi-python   61386 Oct 24 08:24 variables expressions statements.ipynb\n",
      "\n"
     ]
    }
   ],
   "source": [
    "from subprocess import check_output\n",
    "print check_output([\"ls\",\"-l\"])"
   ]
  },
  {
   "cell_type": "code",
   "execution_count": 11,
   "metadata": {},
   "outputs": [
    {
     "name": "stdout",
     "output_type": "stream",
     "text": [
      "total 3964\n",
      "-rw-r--r-- 1 khyaathi-python khyaathi-python   42939 Nov 13 09:31 adv concepts.ipynb\n",
      "-rw-r--r-- 1 khyaathi-python khyaathi-python      76 Nov  6 09:39 a.py\n",
      "-rw-r--r-- 1 khyaathi-python khyaathi-python   28239 Oct 12 09:23 Assignments.odt\n",
      "-rw-r--r-- 1 khyaathi-python khyaathi-python   52976 Oct 26 09:02 conditinal statements.ipynb\n",
      "-rw-r--r-- 1 khyaathi-python khyaathi-python     132 Nov 18 08:55 data1.csv\n",
      "-rw-r--r-- 1 khyaathi-python khyaathi-python       0 Nov 18 09:00 data2.csv\n",
      "-rw-r--r-- 1 khyaathi-python khyaathi-python     110 Nov 20 08:16 data3.csv\n",
      "-rw-r--r-- 1 khyaathi-python khyaathi-python     132 Nov 18 08:52 data.csv\n",
      "-rw-r--r-- 1 khyaathi-python khyaathi-python     586 Sep 10 08:57 data.json\n",
      "-rw-r--r-- 1 khyaathi-python khyaathi-python     117 Sep 10 08:53 data.yaml\n",
      "-rw-r--r-- 1 khyaathi-python khyaathi-python    8192 Nov 18 09:51 db1.sqlite3\n",
      "-rw-r--r-- 1 khyaathi-python khyaathi-python   41174 Nov 18 09:16 DB.jpg\n",
      "-rw-r--r-- 1 khyaathi-python khyaathi-python    7191 Nov 20 08:59 DB Operaions.ipynb\n",
      "-rw-r--r-- 1 khyaathi-python khyaathi-python    2180 Nov 28 08:58 device ionteractions.ipynb\n",
      "-rw-r--r-- 1 khyaathi-python khyaathi-python   41241 Nov 10 09:38 dictionaries.ipynb\n",
      "-rw-r--r-- 1 khyaathi-python khyaathi-python   41922 Nov 21 08:56 exceptions.ipynb\n",
      "-rw-r--r-- 1 khyaathi-python khyaathi-python     628 Nov 21 08:24 excp.py\n",
      "-rw-r--r-- 1 khyaathi-python khyaathi-python   32604 Nov 18 08:39 file1.jpg\n",
      "-rw-r--r-- 1 khyaathi-python khyaathi-python   22271 Nov 18 09:20 file based and block based DB.jpg\n",
      "-rw-r--r-- 1 khyaathi-python khyaathi-python   69904 Nov 18 08:44 files-assignment.jpg\n",
      "-rw-r--r-- 1 khyaathi-python khyaathi-python   37423 Nov 20 08:35 files.ipynb\n",
      "drwxr-xr-x 2 khyaathi-python khyaathi-python    4096 Nov  6 09:43 floder1\n",
      "-rw-r--r-- 1 khyaathi-python khyaathi-python   71929 Nov  2 08:53 fun2_mem.jpg\n",
      "-rw-r--r-- 1 khyaathi-python khyaathi-python   42617 Nov 25 08:40 fun3.jpg\n",
      "-rw-r--r-- 1 khyaathi-python khyaathi-python   50312 Nov  2 09:25 functions.ipynb\n",
      "-rw-r--r-- 1 khyaathi-python khyaathi-python   41782 Nov  2 08:25 fun_mem.jpg\n",
      "-rw-r--r-- 1 khyaathi-python khyaathi-python     177 Oct 24 09:00 git commands.txt\n",
      "-rw-r--r-- 1 khyaathi-python khyaathi-python   34442 Oct 24 09:25 git.jpg\n",
      "-rw-r--r-- 1 khyaathi-python khyaathi-python   46313 Oct 12 09:11 int_mem2.jpg\n",
      "-rw-r--r-- 1 khyaathi-python khyaathi-python   69562 Nov  9 09:25 lists.ipynb\n",
      "-rw-r--r-- 1 khyaathi-python khyaathi-python   51652 Oct 27 09:44 loop1.jpg\n",
      "-rw-r--r-- 1 khyaathi-python khyaathi-python   33241 Oct 27 10:31 loop2.jpg\n",
      "-rw-r--r-- 1 khyaathi-python khyaathi-python   22488 Oct 31 09:06 looping2.ipynb\n",
      "-rw-r--r-- 1 khyaathi-python khyaathi-python 2585677 Oct 30 09:34 looping statements.ipynb\n",
      "-rw-r--r-- 1 khyaathi-python khyaathi-python     276 Oct 23 09:15 mails.txt\n",
      "drwxr-xr-x 3 khyaathi-python khyaathi-python    4096 Nov 18 07:41 modules\n",
      "drwxr-xr-x 2 khyaathi-python khyaathi-python    4096 Nov 24 09:57 monitoring\n",
      "-rw-r--r-- 1 khyaathi-python khyaathi-python   33943 Nov 24 09:43 oops1.jpg\n",
      "-rw-r--r-- 1 khyaathi-python khyaathi-python   46883 Nov 25 09:27 oops3.jpg\n",
      "-rw-r--r-- 1 khyaathi-python khyaathi-python  146026 Nov 26 09:49 oops.ipynb\n",
      "-rw-r--r-- 1 khyaathi-python khyaathi-python   32734 Nov 28 08:56 regular exp.ipynb\n",
      "drwxr-xr-x 2 khyaathi-python khyaathi-python    4096 Nov 27 09:07 socket_program\n",
      "-rw-r--r-- 1 khyaathi-python khyaathi-python   12587 Nov  8 08:32 stringfunction3.ipynb\n",
      "-rw-r--r-- 1 khyaathi-python khyaathi-python   54519 Nov  6 09:43 string functions2.ipynb\n",
      "-rw-r--r-- 1 khyaathi-python khyaathi-python   55163 Nov  5 09:22 string functions.ipynb\n",
      "-rw-r--r-- 1 khyaathi-python khyaathi-python      72 Oct 16 06:56 Untitled1.ipynb\n",
      "-rw-r--r-- 1 khyaathi-python khyaathi-python     828 Nov 13 07:31 Untitled2.ipynb\n",
      "-rw-r--r-- 1 khyaathi-python khyaathi-python    4906 Oct 12 09:14 Untitled.ipynb\n",
      "-rw-r--r-- 1 khyaathi-python khyaathi-python   61386 Oct 24 08:24 variables expressions statements.ipynb\n",
      "\n"
     ]
    }
   ],
   "source": [
    "from subprocess import check_output\n",
    "res = check_output([\"ls\",\"-l\"])\n",
    "print res"
   ]
  },
  {
   "cell_type": "code",
   "execution_count": 14,
   "metadata": {},
   "outputs": [
    {
     "ename": "CalledProcessError",
     "evalue": "Command '['ps', '-aux', '|', 'grep', 'pinta']' returned non-zero exit status 1",
     "output_type": "error",
     "traceback": [
      "\u001b[0;31m---------------------------------------------------------------------------\u001b[0m",
      "\u001b[0;31mCalledProcessError\u001b[0m                        Traceback (most recent call last)",
      "\u001b[0;32m<ipython-input-14-4be04fec6797>\u001b[0m in \u001b[0;36m<module>\u001b[0;34m()\u001b[0m\n\u001b[1;32m      1\u001b[0m \u001b[0;32mfrom\u001b[0m \u001b[0msubprocess\u001b[0m \u001b[0;32mimport\u001b[0m \u001b[0mcheck_output\u001b[0m\u001b[0;34m\u001b[0m\u001b[0m\n\u001b[0;32m----> 2\u001b[0;31m \u001b[0mres\u001b[0m \u001b[0;34m=\u001b[0m \u001b[0mcheck_output\u001b[0m\u001b[0;34m(\u001b[0m\u001b[0;34m[\u001b[0m\u001b[0;34m\"ps\"\u001b[0m\u001b[0;34m,\u001b[0m\u001b[0;34m\"-aux\"\u001b[0m\u001b[0;34m,\u001b[0m\u001b[0;34m\"|\"\u001b[0m\u001b[0;34m,\u001b[0m\u001b[0;34m\"grep\"\u001b[0m\u001b[0;34m,\u001b[0m\u001b[0;34m\"pinta\"\u001b[0m\u001b[0;34m]\u001b[0m\u001b[0;34m)\u001b[0m\u001b[0;34m\u001b[0m\u001b[0m\n\u001b[0m\u001b[1;32m      3\u001b[0m \u001b[0;32mprint\u001b[0m \u001b[0mres\u001b[0m\u001b[0;34m\u001b[0m\u001b[0m\n",
      "\u001b[0;32m/home/khyaathi-python/anaconda2/lib/python2.7/subprocess.pyc\u001b[0m in \u001b[0;36mcheck_output\u001b[0;34m(*popenargs, **kwargs)\u001b[0m\n\u001b[1;32m    217\u001b[0m         \u001b[0;32mif\u001b[0m \u001b[0mcmd\u001b[0m \u001b[0;32mis\u001b[0m \u001b[0mNone\u001b[0m\u001b[0;34m:\u001b[0m\u001b[0;34m\u001b[0m\u001b[0m\n\u001b[1;32m    218\u001b[0m             \u001b[0mcmd\u001b[0m \u001b[0;34m=\u001b[0m \u001b[0mpopenargs\u001b[0m\u001b[0;34m[\u001b[0m\u001b[0;36m0\u001b[0m\u001b[0;34m]\u001b[0m\u001b[0;34m\u001b[0m\u001b[0m\n\u001b[0;32m--> 219\u001b[0;31m         \u001b[0;32mraise\u001b[0m \u001b[0mCalledProcessError\u001b[0m\u001b[0;34m(\u001b[0m\u001b[0mretcode\u001b[0m\u001b[0;34m,\u001b[0m \u001b[0mcmd\u001b[0m\u001b[0;34m,\u001b[0m \u001b[0moutput\u001b[0m\u001b[0;34m=\u001b[0m\u001b[0moutput\u001b[0m\u001b[0;34m)\u001b[0m\u001b[0;34m\u001b[0m\u001b[0m\n\u001b[0m\u001b[1;32m    220\u001b[0m     \u001b[0;32mreturn\u001b[0m \u001b[0moutput\u001b[0m\u001b[0;34m\u001b[0m\u001b[0m\n\u001b[1;32m    221\u001b[0m \u001b[0;34m\u001b[0m\u001b[0m\n",
      "\u001b[0;31mCalledProcessError\u001b[0m: Command '['ps', '-aux', '|', 'grep', 'pinta']' returned non-zero exit status 1"
     ]
    }
   ],
   "source": [
    "from subprocess import check_output\n",
    "res = check_output([\"ps\",\"-aux\",\"|\",\"grep\",\"pinta\"])\n",
    "print res"
   ]
  },
  {
   "cell_type": "code",
   "execution_count": 15,
   "metadata": {},
   "outputs": [
    {
     "ename": "CalledProcessError",
     "evalue": "Command '['ps', '-aux|grep pinta']' returned non-zero exit status 1",
     "output_type": "error",
     "traceback": [
      "\u001b[0;31m---------------------------------------------------------------------------\u001b[0m",
      "\u001b[0;31mCalledProcessError\u001b[0m                        Traceback (most recent call last)",
      "\u001b[0;32m<ipython-input-15-0cc99266ae75>\u001b[0m in \u001b[0;36m<module>\u001b[0;34m()\u001b[0m\n\u001b[1;32m      1\u001b[0m \u001b[0;32mfrom\u001b[0m \u001b[0msubprocess\u001b[0m \u001b[0;32mimport\u001b[0m \u001b[0mcheck_output\u001b[0m\u001b[0;34m\u001b[0m\u001b[0m\n\u001b[0;32m----> 2\u001b[0;31m \u001b[0mres\u001b[0m \u001b[0;34m=\u001b[0m \u001b[0mcheck_output\u001b[0m\u001b[0;34m(\u001b[0m\u001b[0;34m[\u001b[0m\u001b[0;34m\"ps\"\u001b[0m\u001b[0;34m,\u001b[0m\u001b[0;34m\"-aux|grep pinta\"\u001b[0m\u001b[0;34m]\u001b[0m\u001b[0;34m)\u001b[0m\u001b[0;34m\u001b[0m\u001b[0m\n\u001b[0m\u001b[1;32m      3\u001b[0m \u001b[0;32mprint\u001b[0m \u001b[0mres\u001b[0m\u001b[0;34m\u001b[0m\u001b[0m\n",
      "\u001b[0;32m/home/khyaathi-python/anaconda2/lib/python2.7/subprocess.pyc\u001b[0m in \u001b[0;36mcheck_output\u001b[0;34m(*popenargs, **kwargs)\u001b[0m\n\u001b[1;32m    217\u001b[0m         \u001b[0;32mif\u001b[0m \u001b[0mcmd\u001b[0m \u001b[0;32mis\u001b[0m \u001b[0mNone\u001b[0m\u001b[0;34m:\u001b[0m\u001b[0;34m\u001b[0m\u001b[0m\n\u001b[1;32m    218\u001b[0m             \u001b[0mcmd\u001b[0m \u001b[0;34m=\u001b[0m \u001b[0mpopenargs\u001b[0m\u001b[0;34m[\u001b[0m\u001b[0;36m0\u001b[0m\u001b[0;34m]\u001b[0m\u001b[0;34m\u001b[0m\u001b[0m\n\u001b[0;32m--> 219\u001b[0;31m         \u001b[0;32mraise\u001b[0m \u001b[0mCalledProcessError\u001b[0m\u001b[0;34m(\u001b[0m\u001b[0mretcode\u001b[0m\u001b[0;34m,\u001b[0m \u001b[0mcmd\u001b[0m\u001b[0;34m,\u001b[0m \u001b[0moutput\u001b[0m\u001b[0;34m=\u001b[0m\u001b[0moutput\u001b[0m\u001b[0;34m)\u001b[0m\u001b[0;34m\u001b[0m\u001b[0m\n\u001b[0m\u001b[1;32m    220\u001b[0m     \u001b[0;32mreturn\u001b[0m \u001b[0moutput\u001b[0m\u001b[0;34m\u001b[0m\u001b[0m\n\u001b[1;32m    221\u001b[0m \u001b[0;34m\u001b[0m\u001b[0m\n",
      "\u001b[0;31mCalledProcessError\u001b[0m: Command '['ps', '-aux|grep pinta']' returned non-zero exit status 1"
     ]
    }
   ],
   "source": [
    "from subprocess import check_output\n",
    "res = check_output([\"ps\",\"-aux|grep pinta\"])\n",
    "print res"
   ]
  },
  {
   "cell_type": "code",
   "execution_count": 16,
   "metadata": {},
   "outputs": [
    {
     "name": "stdout",
     "output_type": "stream",
     "text": [
      "USER       PID %CPU %MEM    VSZ   RSS TTY      STAT START   TIME COMMAND\n",
      "root         1  0.0  0.1 137384  7408 ?        Ss   Nov27   0:02 /sbin/init splash\n",
      "root         2  0.0  0.0      0     0 ?        S    Nov27   0:00 [kthreadd]\n",
      "root         3  0.0  0.0      0     0 ?        S    Nov27   0:01 [ksoftirqd/0]\n",
      "root         5  0.0  0.0      0     0 ?        S<   Nov27   0:00 [kworker/0:0H]\n",
      "root         7  0.0  0.0      0     0 ?        S    Nov27   0:11 [rcu_sched]\n",
      "root         8  0.0  0.0      0     0 ?        S    Nov27   0:00 [rcu_bh]\n",
      "root         9  0.0  0.0      0     0 ?        S    Nov27   0:00 [migration/0]\n",
      "root        10  0.0  0.0      0     0 ?        S<   Nov27   0:00 [lru-add-drain]\n",
      "root        11  0.0  0.0      0     0 ?        S    Nov27   0:00 [watchdog/0]\n",
      "root        12  0.0  0.0      0     0 ?        S    Nov27   0:00 [cpuhp/0]\n",
      "root        13  0.0  0.0      0     0 ?        S    Nov27   0:00 [kdevtmpfs]\n",
      "root        14  0.0  0.0      0     0 ?        S<   Nov27   0:00 [netns]\n",
      "root        15  0.0  0.0      0     0 ?        S    Nov27   0:00 [khungtaskd]\n",
      "root        16  0.0  0.0      0     0 ?        S    Nov27   0:00 [oom_reaper]\n",
      "root        17  0.0  0.0      0     0 ?        S<   Nov27   0:00 [writeback]\n",
      "root        18  0.0  0.0      0     0 ?        S    Nov27   0:00 [kcompactd0]\n",
      "root        19  0.0  0.0      0     0 ?        SN   Nov27   0:00 [ksmd]\n",
      "root        20  0.0  0.0      0     0 ?        SN   Nov27   0:04 [khugepaged]\n",
      "root        21  0.0  0.0      0     0 ?        S<   Nov27   0:00 [crypto]\n",
      "root        22  0.0  0.0      0     0 ?        S<   Nov27   0:00 [kintegrityd]\n",
      "root        23  0.0  0.0      0     0 ?        S<   Nov27   0:00 [bioset]\n",
      "root        24  0.0  0.0      0     0 ?        S<   Nov27   0:00 [kblockd]\n",
      "root        25  0.0  0.0      0     0 ?        S<   Nov27   0:00 [ata_sff]\n",
      "root        26  0.0  0.0      0     0 ?        S<   Nov27   0:00 [md]\n",
      "root        27  0.0  0.0      0     0 ?        S<   Nov27   0:00 [devfreq_wq]\n",
      "root        28  0.0  0.0      0     0 ?        S<   Nov27   0:00 [watchdogd]\n",
      "root        32  0.0  0.0      0     0 ?        S    Nov27   0:00 [kswapd0]\n",
      "root        33  0.0  0.0      0     0 ?        S<   Nov27   0:00 [vmstat]\n",
      "root        34  0.0  0.0      0     0 ?        S    Nov27   0:00 [ecryptfs-kthrea]\n",
      "root        73  0.0  0.0      0     0 ?        S<   Nov27   0:00 [kthrotld]\n",
      "root        74  0.0  0.0      0     0 ?        S<   Nov27   0:00 [acpi_thermal_pm]\n",
      "root        75  0.0  0.0      0     0 ?        S<   Nov27   0:00 [bioset]\n",
      "root        76  0.0  0.0      0     0 ?        S<   Nov27   0:00 [bioset]\n",
      "root        77  0.0  0.0      0     0 ?        S<   Nov27   0:00 [bioset]\n",
      "root        78  0.0  0.0      0     0 ?        S<   Nov27   0:00 [bioset]\n",
      "root        79  0.0  0.0      0     0 ?        S<   Nov27   0:00 [bioset]\n",
      "root        80  0.0  0.0      0     0 ?        S<   Nov27   0:00 [bioset]\n",
      "root        81  0.0  0.0      0     0 ?        S<   Nov27   0:00 [bioset]\n",
      "root        82  0.0  0.0      0     0 ?        S<   Nov27   0:00 [bioset]\n",
      "root        83  0.0  0.0      0     0 ?        S    Nov27   0:00 [scsi_eh_0]\n",
      "root        84  0.0  0.0      0     0 ?        S<   Nov27   0:00 [scsi_tmf_0]\n",
      "root        85  0.0  0.0      0     0 ?        S    Nov27   0:00 [scsi_eh_1]\n",
      "root        86  0.0  0.0      0     0 ?        S<   Nov27   0:00 [scsi_tmf_1]\n",
      "root        92  0.0  0.0      0     0 ?        S<   Nov27   0:00 [ipv6_addrconf]\n",
      "root       113  0.0  0.0      0     0 ?        S<   Nov27   0:00 [deferwq]\n",
      "root       114  0.0  0.0      0     0 ?        S<   Nov27   0:00 [charger_manager]\n",
      "root       115  0.0  0.0      0     0 ?        S<   Nov27   0:00 [bioset]\n",
      "root       160  0.0  0.0      0     0 ?        S<   Nov27   0:00 [kpsmoused]\n",
      "root       167  0.0  0.0      0     0 ?        S    Nov27   0:00 [scsi_eh_2]\n",
      "root       168  0.0  0.0      0     0 ?        S<   Nov27   0:00 [scsi_tmf_2]\n",
      "root       169  0.0  0.0      0     0 ?        S<   Nov27   0:00 [bioset]\n",
      "root       190  0.0  0.0      0     0 ?        S<   Nov27   0:00 [kworker/0:1H]\n",
      "root       192  0.0  0.0      0     0 ?        S    Nov27   0:01 [jbd2/sda1-8]\n",
      "root       193  0.0  0.0      0     0 ?        S<   Nov27   0:00 [ext4-rsv-conver]\n",
      "root       232  0.0  0.3  49608 13380 ?        Ss   Nov27   0:01 /lib/systemd/systemd-journald\n",
      "root       234  0.0  0.0      0     0 ?        S    Nov27   0:00 [kauditd]\n",
      "root       255  0.0  0.1  45772  4616 ?        Ss   Nov27   0:01 /lib/systemd/systemd-udevd\n",
      "root       327  0.0  0.0      0     0 ?        S<   Nov27   0:00 [iprt-VBoxWQueue]\n",
      "root       426  0.0  0.0      0     0 ?        S<   Nov27   0:00 [ttm_swap]\n",
      "root       604  0.0  0.0   4384  1284 ?        Ss   Nov27   0:01 /usr/sbin/acpid\n",
      "root       618  0.0  0.2 420528  9260 ?        Ssl  Nov27   0:00 /usr/sbin/ModemManager\n",
      "whoopsie   619  0.0  0.3 455680 13288 ?        Ssl  Nov27   0:00 /usr/bin/whoopsie -f\n",
      "message+   637  0.0  0.1  44588  5376 ?        Ss   Nov27   0:06 /usr/bin/dbus-daemon --system --address=systemd: --nofork --nopidfile --systemd-activation\n",
      "root       689  0.0  0.4 400860 17508 ?        Ssl  Nov27   0:00 /usr/sbin/NetworkManager --no-daemon\n",
      "root       691  0.0  0.0  31100  3168 ?        Ss   Nov27   0:00 /usr/sbin/cron -f\n",
      "root       692  0.0  0.1  44412  4812 ?        Ss   Nov27   0:00 /lib/systemd/systemd-logind\n",
      "syslog     693  0.0  0.0 256404  3432 ?        Ssl  Nov27   0:00 /usr/sbin/rsyslogd -n\n",
      "avahi      694  0.0  0.0  45136  3652 ?        Ss   Nov27   0:00 avahi-daemon: running [khyaathipython.local]\n",
      "root       695  0.0  0.2 293988  8356 ?        Ssl  Nov27   0:00 /usr/lib/accountsservice/accounts-daemon\n",
      "root       699  0.0  0.0  30088  1652 ?        Ss   Nov27   0:00 /sbin/cgmanager -m name=systemd\n",
      "root       701  0.0  0.4 207780 17804 ?        Ssl  Nov27   0:00 /usr/lib/snapd/snapd\n",
      "root       714  0.0  0.2 304636 11192 ?        Ssl  Nov27   0:00 /usr/lib/policykit-1/polkitd --no-debug\n",
      "avahi      719  0.0  0.0  45008   352 ?        S    Nov27   0:00 avahi-daemon: chroot helper\n",
      "systemd+   844  0.0  0.0  47552  4028 ?        Ss   Nov27   0:00 /lib/systemd/systemd-resolved\n",
      "root       850  0.0  0.0 248720  2200 ?        Sl   Nov27   0:07 /usr/sbin/VBoxService\n",
      "root       859  0.0  0.1  67820  5376 ?        Ss   Nov27   0:00 /usr/sbin/sshd -D\n",
      "root       904  0.0  0.2 303372  8620 ?        SLsl Nov27   0:00 /usr/sbin/lightdm\n",
      "root       915  2.3  2.9 409596 120884 tty7    Ss+  Nov27  19:48 /usr/lib/xorg/Xorg -core :0 -seat seat0 -auth /var/run/lightdm/root/:0 -nolisten tcp vt7 -novtswitch\n",
      "root       920  0.0  0.0  16060  1832 tty1     Ss+  Nov27   0:00 /sbin/agetty --noclear tty1 linux\n",
      "postgres   935  0.0  0.6 296984 24448 ?        S    Nov27   0:00 /usr/lib/postgresql/9.5/bin/postgres -D /var/lib/postgresql/9.5/main -c config_file=/etc/postgresql/9.5/main/postgresql.conf\n",
      "nobody     946  0.0  0.1  53084  4076 ?        S    Nov27   0:00 /usr/sbin/dnsmasq --no-resolv --keep-in-foreground --no-hosts --bind-interfaces --pid-file=/var/run/NetworkManager/dnsmasq.pid --listen-address=127.0.1.1 --cache-size=0 --conf-file=/dev/null --proxy-dnssec --enable-dbus=org.freedesktop.NetworkManager.dnsmasq --conf-dir=/etc/NetworkManager/dnsmasq.d\n",
      "postgres  1019  0.0  0.1 297112  6932 ?        Ss   Nov27   0:00 postgres: 9.5/main: checkpointer process   \n",
      "postgres  1020  0.0  0.1 296984  5728 ?        Ss   Nov27   0:00 postgres: 9.5/main: writer process   \n",
      "postgres  1021  0.0  0.2 296984  8840 ?        Ss   Nov27   0:00 postgres: 9.5/main: wal writer process   \n",
      "postgres  1022  0.0  0.1 297360  6828 ?        Ss   Nov27   0:00 postgres: 9.5/main: autovacuum launcher process   \n",
      "postgres  1023  0.0  0.1 152064  4404 ?        Ss   Nov27   0:00 postgres: 9.5/main: stats collector process   \n",
      "snmp      1367  0.0  0.1  59620  7772 ?        S    Nov27   0:10 /usr/sbin/snmpd -Lsd -Lf /dev/null -u snmp -g snmp -I -smux mteTrigger mteTriggerConf -p /run/snmpd.pid\n",
      "root      1369  0.0  0.3 702120 14392 ?        Sl   Nov27   0:24 /opt/teamviewer/tv_bin/teamviewerd -d\n",
      "root      1405  0.0  0.1  71576  4872 ?        Ss   Nov27   0:01 /usr/sbin/apache2 -k start\n",
      "root      1567  0.0  0.3 322156 12228 ?        Ssl  Nov27   0:00 /usr/lib/packagekit/packagekitd\n",
      "root      1684  0.0  0.2 354176 10348 ?        Ssl  Nov27   0:00 /usr/lib/upower/upowerd\n",
      "rtkit     1745  0.0  0.0 183760  3008 ?        SNsl Nov27   0:00 /usr/lib/rtkit/rtkit-daemon\n",
      "colord    1756  0.0  0.3 323920 16104 ?        Ssl  Nov27   0:00 /usr/lib/colord/colord\n",
      "root      1763  0.0  0.2 245696  8852 ?        Sl   Nov27   0:00 lightdm --session-child 12 19\n",
      "khyaath+  1791  0.0  0.1  63084  6896 ?        Ss   Nov27   0:00 /lib/systemd/systemd --user\n",
      "khyaath+  1795  0.0  0.0  89260  2340 ?        S    Nov27   0:00 (sd-pam)\n",
      "khyaath+  1820  0.0  0.1  44244  5152 ?        Ss   Nov27   0:06 /usr/bin/dbus-daemon --session --address=systemd: --nofork --nopidfile --systemd-activation\n",
      "khyaath+  1845  0.0  0.1 283588  6608 ?        Ssl  Nov27   0:00 /usr/lib/gvfs/gvfsd\n",
      "khyaath+  1850  0.0  0.1 428864  7516 ?        Sl   Nov27   0:00 /usr/lib/gvfs/gvfsd-fuse /run/user/1000/gvfs -f -o big_writes\n",
      "khyaath+  1858  0.0  0.1 187676  5328 ?        Sl   Nov27   0:00 /usr/lib/dconf/dconf-service\n",
      "khyaath+  1894  0.0  0.2 214356  8396 ?        Sl   Nov27   0:00 /usr/bin/gnome-keyring-daemon --daemonize --login\n",
      "khyaath+  1897  0.0  0.1  47100  5076 ?        Ss   Nov27   0:10 /sbin/upstart --user\n",
      "khyaath+  1938  0.0  0.1  82260  5364 ?        S    Nov27   0:18 /usr/bin/xbrlapi -q\n",
      "khyaath+  1983  0.0  0.0  49720   896 ?        S    Nov27   0:01 /usr/bin/VBoxClient --checkhostversion\n",
      "khyaath+  1985  0.0  0.0  49720   924 ?        S    Nov27   0:01 /usr/bin/VBoxClient --clipboard\n",
      "khyaath+  1990  0.0  0.0  49720   380 ?        S    Nov27   0:00 /usr/bin/VBoxClient --display\n",
      "khyaath+  1991  0.0  0.0  49856  2920 ?        S    Nov27   0:00 /usr/bin/VBoxClient --display\n",
      "khyaath+  2001  0.0  0.0  49720   896 ?        S    Nov27   0:01 /usr/bin/VBoxClient --seamless\n",
      "khyaath+  2012  0.0  0.0  49720   860 ?        S    Nov27   0:01 /usr/bin/VBoxClient --draganddrop\n",
      "khyaath+  2017  0.0  0.8 493324 34688 ?        Sl   Nov27   0:01 /usr/lib/x86_64-linux-gnu/notify-osd\n",
      "khyaath+  2040  0.0  0.0  33084  2232 ?        S    Nov27   0:01 upstart-udev-bridge --daemon --user\n",
      "khyaath+  2057  0.0  0.0   7280   752 ?        Ss   Nov27   0:00 sleep infinity\n",
      "khyaath+  2063  0.0  0.0   4492   708 ?        Ss   Nov27   0:00 /bin/sh -e /proc/self/fd/9\n",
      "khyaath+  2067  0.0  0.2 160344  9764 ?        Ssl  Nov27   0:00 /usr/lib/x86_64-linux-gnu/hud/window-stack-bridge\n",
      "khyaath+  2071  0.0  0.4 518704 17004 ?        Sl   Nov27   0:00 /usr/lib/x86_64-linux-gnu/url-dispatcher/url-dispatcher\n",
      "khyaath+  2088  0.0  0.6 449816 27296 ?        Ssl  Nov27   0:08 /usr/lib/x86_64-linux-gnu/bamf/bamfdaemon\n",
      "khyaath+  2095  0.0  0.0  33140  1780 ?        S    Nov27   0:04 upstart-dbus-bridge --daemon --session --user --bus-name session\n",
      "khyaath+  2096  0.0  0.0  33140  1804 ?        S    Nov27   0:01 upstart-dbus-bridge --daemon --system --user --bus-name system\n",
      "khyaath+  2116  0.0  0.0  41776  1768 ?        S    Nov27   0:01 upstart-file-bridge --daemon --user\n",
      "khyaath+  2185  0.0  0.8 1004312 32892 ?       Ssl  Nov27   0:05 /usr/lib/unity-settings-daemon/unity-settings-daemon\n",
      "khyaath+  2204  0.1  0.4 374172 17376 ?        Rsl  Nov27   1:00 /usr/bin/ibus-daemon --daemonize --xim --address unix:tmpdir=/tmp/ibus\n",
      "khyaath+  2208  0.0  0.3 647964 16020 ?        Ssl  Nov27   0:00 /usr/lib/gnome-session/gnome-session-binary --session=ubuntu\n",
      "khyaath+  2252  0.0  0.2 286400  8216 ?        Sl   Nov27   0:00 /usr/lib/ibus/ibus-dconf\n",
      "khyaath+  2253  0.0  0.8 480444 32728 ?        Sl   Nov27   0:15 /usr/lib/ibus/ibus-ui-gtk3\n",
      "khyaath+  2265  0.0  0.5 356528 22960 ?        Sl   Nov27   0:00 /usr/lib/ibus/ibus-x11 --kill-daemon\n",
      "khyaath+  2303 11.9  9.0 1369628 365880 ?      Ssl  Nov27 102:25 /usr/bin/compiz\n",
      "khyaath+  2321  0.0  1.2 657260 48912 ?        Ssl  Nov27   0:09 /usr/lib/x86_64-linux-gnu/unity/unity-panel-service\n",
      "khyaath+  2333  0.0  0.1 210528  7944 ?        Sl   Nov27   0:12 /usr/lib/ibus/ibus-engine-simple\n",
      "khyaath+  2340  0.0  0.2 566288 11672 ?        S<l  Nov27   0:00 /usr/bin/pulseaudio --start --log-target=syslog\n",
      "khyaath+  2367  0.0  0.7 674312 31712 ?        Sl   Nov27   0:01 nm-applet\n",
      "khyaath+  2373  0.0  0.5 436444 20776 ?        Sl   Nov27   0:00 /usr/lib/policykit-1-gnome/polkit-gnome-authentication-agent-1\n",
      "khyaath+  2375  0.0  0.2 377140  9372 ?        Ssl  Nov27   0:00 /usr/lib/x86_64-linux-gnu/indicator-messages/indicator-messages-service\n",
      "khyaath+  2379  0.0  0.1 357992  7864 ?        Ssl  Nov27   0:00 /usr/lib/x86_64-linux-gnu/indicator-bluetooth/indicator-bluetooth-service\n",
      "khyaath+  2382  0.0  0.5 581784 22088 ?        Sl   Nov27   0:00 /usr/lib/unity-settings-daemon/unity-fallback-mount-helper\n",
      "khyaath+  2383  0.0  0.1 362368  8080 ?        Ssl  Nov27   0:00 /usr/lib/x86_64-linux-gnu/indicator-power/indicator-power-service\n",
      "khyaath+  2386  0.0  0.8 923576 32944 ?        Ssl  Nov27   0:00 /usr/lib/x86_64-linux-gnu/indicator-datetime/indicator-datetime-service\n",
      "khyaath+  2389  0.0  0.6 665888 26664 ?        Ssl  Nov27   0:01 /usr/lib/x86_64-linux-gnu/indicator-keyboard/indicator-keyboard-service --use-gtk\n",
      "khyaath+  2390  0.0  0.3 682872 12664 ?        Ssl  Nov27   0:00 /usr/lib/x86_64-linux-gnu/indicator-sound/indicator-sound-service\n",
      "khyaath+  2393  0.0  0.2 645292  8988 ?        Ssl  Nov27   0:00 /usr/lib/x86_64-linux-gnu/indicator-session/indicator-session-service\n",
      "khyaath+  2404  0.0  0.3 481192 13296 ?        Ssl  Nov27   0:00 /usr/lib/x86_64-linux-gnu/indicator-application/indicator-application-service\n",
      "root      2422  0.0  0.1 260976  4808 ?        Sl   Nov27   0:00 /usr/lib/x86_64-linux-gnu/unity-greeter-session-broadcast/unity-greeter-session-broadcast-service\n",
      "khyaath+  2426  0.0  2.2 989536 90416 ?        Sl   Nov27   0:06 /usr/bin/gnome-software --gapplication-service\n",
      "khyaath+  2427  0.0  0.8 412116 33348 ?        Ssl  Nov27   0:13 /usr/lib/x86_64-linux-gnu/hud/hud-service\n",
      "khyaath+  2441  0.0  1.5 1023160 60788 ?       Sl   Nov27   0:26 nautilus -n\n",
      "khyaath+  2442  0.0  0.6 554460 24996 ?        Ssl  Nov27   0:00 /usr/lib/x86_64-linux-gnu/indicator-printers/indicator-printers-service\n",
      "khyaath+  2448  0.0  0.6 861712 25284 ?        Ssl  Nov27   0:00 /usr/lib/evolution/evolution-source-registry\n",
      "khyaath+  2469  0.0  0.2 362600  8556 ?        Ssl  Nov27   0:00 /usr/lib/at-spi2-core/at-spi-bus-launcher --launch-immediately\n",
      "khyaath+  2470  0.0  0.0   7280   688 ?        Ss   Nov27   0:00 sleep infinity\n",
      "khyaath+  2476  0.0  0.0  43120  3964 ?        S    Nov27   0:01 /usr/bin/dbus-daemon --config-file=/usr/share/defaults/at-spi2/accessibility.conf --nofork --print-address 3\n",
      "khyaath+  2496  0.0  0.1 213960  7592 ?        Sl   Nov27   0:03 /usr/lib/at-spi2-core/at-spi2-registryd --use-gnome-session\n",
      "khyaath+  2501  0.0  0.8 852312 33620 ?        Ssl  Nov27   0:00 /usr/lib/evolution/evolution-calendar-factory\n",
      "khyaath+  2515  0.0  0.2 377156  9776 ?        Ssl  Nov27   0:00 /usr/lib/gvfs/gvfs-udisks2-volume-monitor\n",
      "root      2518  0.0  0.2 389316 10484 ?        Ssl  Nov27   0:00 /usr/lib/udisks2/udisksd --no-debug\n",
      "khyaath+  2531  0.0  0.6 803904 28212 ?        Sl   Nov27   0:00 /usr/lib/evolution/evolution-calendar-factory-subprocess --factory contacts --bus-name org.gnome.evolution.dataserver.Subprocess.Backend.Calendarx2501x2 --own-path /org/gnome/evolution/dataserver/Subprocess/Backend/Calendar/2501/2\n",
      "khyaath+  2533  0.0  0.1 278532  5380 ?        Ssl  Nov27   0:00 /usr/lib/gvfs/gvfs-gphoto2-volume-monitor\n",
      "khyaath+  2537  0.0  0.1 266420  5328 ?        Ssl  Nov27   0:00 /usr/lib/gvfs/gvfs-goa-volume-monitor\n",
      "khyaath+  2541  0.0  0.2 412720  9676 ?        Ssl  Nov27   0:00 /usr/lib/gvfs/gvfs-afc-volume-monitor\n",
      "khyaath+  2550  0.0  0.1 266332  4876 ?        Ssl  Nov27   0:00 /usr/lib/gvfs/gvfs-mtp-volume-monitor\n",
      "khyaath+  2567  0.0  0.5 784728 21204 ?        Sl   Nov27   0:00 /usr/lib/evolution/evolution-calendar-factory-subprocess --factory local --bus-name org.gnome.evolution.dataserver.Subprocess.Backend.Calendarx2501x3 --own-path /org/gnome/evolution/dataserver/Subprocess/Backend/Calendar/2501/3\n",
      "khyaath+  2568  0.0  0.5 716400 22156 ?        Ssl  Nov27   0:00 /usr/lib/evolution/evolution-addressbook-factory\n",
      "khyaath+  2583  0.0  0.5 802396 22152 ?        Sl   Nov27   0:00 /usr/lib/evolution/evolution-addressbook-factory-subprocess --factory local --bus-name org.gnome.evolution.dataserver.Subprocess.Backend.AddressBookx2568x2 --own-path /org/gnome/evolution/dataserver/Subprocess/Backend/AddressBook/2568/2\n",
      "khyaath+  2600  0.0  0.2 373104  9344 ?        Sl   Nov27   0:00 /usr/lib/gvfs/gvfsd-trash --spawner :1.6 /org/gtk/gvfs/exec_spaw/0\n",
      "khyaath+  2654  0.0  0.1 193308  6148 ?        Ssl  Nov27   0:00 /usr/lib/gvfs/gvfsd-metadata\n",
      "khyaath+  2670  0.0  0.4 429252 17204 ?        Sl   Nov27   0:02 zeitgeist-datahub\n",
      "khyaath+  2676  0.0  0.0   4492   772 ?        S    Nov27   0:00 /bin/sh -c /usr/lib/x86_64-linux-gnu/zeitgeist/zeitgeist-maybe-vacuum; /usr/bin/zeitgeist-daemon\n",
      "khyaath+  2680  0.0  0.2 368288 10956 ?        Sl   Nov27   0:00 /usr/bin/zeitgeist-daemon\n",
      "khyaath+  2688  0.0  0.7 342532 30380 ?        Sl   Nov27   0:01 /usr/lib/x86_64-linux-gnu/zeitgeist-fts\n",
      "khyaath+  2851  0.0  0.6 610316 26368 ?        Sl   Nov27   0:01 update-notifier\n",
      "khyaath+  2924  0.0  0.2 422872  9952 ?        Sl   Nov27   0:00 /usr/lib/gvfs/gvfsd-http --spawner :1.6 /org/gtk/gvfs/exec_spaw/1\n",
      "khyaath+  2963  0.0  0.1  68160  5600 ?        S    Nov27   0:00 /usr/lib/x86_64-linux-gnu/gconf/gconfd-2\n",
      "khyaath+  3283  0.0  0.2 450436  8900 ?        Sl   Nov27   0:00 /usr/lib/x86_64-linux-gnu/deja-dup/deja-dup-monitor\n",
      "khyaath+  4902  0.0  0.4 668568 19568 ?        Sl   Nov27   0:00 /usr/lib/x86_64-linux-gnu/unity-scope-home/unity-scope-home\n",
      "khyaath+  4913  0.0  0.5 584172 24112 ?        Sl   Nov27   0:01 /usr/bin/unity-scope-loader applications/applications.scope applications/scopes.scope commands.scope\n",
      "khyaath+  4915  0.0  0.3 713868 15780 ?        Sl   Nov27   0:00 /usr/lib/x86_64-linux-gnu/unity-lens-files/unity-files-daemon\n",
      "khyaath+  8834  0.0  0.2 446916  8628 ?        Sl   05:19   0:00 /usr/lib/gvfs/gvfsd-network --spawner :1.6 /org/gtk/gvfs/exec_spaw/2\n",
      "khyaath+  8864  0.0  0.1 376920  7000 ?        Sl   05:19   0:00 /usr/lib/gvfs/gvfsd-dnssd --spawner :1.6 /org/gtk/gvfs/exec_spaw/6\n",
      "khyaath+  9493  0.0  1.1 635008 47156 ?        Ssl  Nov27   0:03 /home/khyaathi-python/anaconda2/bin/python -m ipykernel_launcher -f /run/user/1000/jupyter/kernel-3a3d3708-ab94-4532-8b7d-34c1ba5b5aaa.json\n",
      "khyaath+ 11831  0.0  0.1  22704  5448 pts/18   Ss   05:55   0:00 bash\n",
      "khyaath+ 12040  0.3  4.4 1031932 181940 ?      Sl   05:58   0:34 /usr/bin/mono /usr/lib/pinta/Pinta.exe\n",
      "khyaath+ 12629  0.0  1.1 635600 48024 ?        Ssl  Nov27   0:03 /home/khyaathi-python/anaconda2/bin/python -m ipykernel_launcher -f /run/user/1000/jupyter/kernel-5f03a49a-a4f2-44d3-9a91-106da7d3e4b6.json\n",
      "root     15911  0.0  0.0  16108  3744 ?        S    06:56   0:00 /sbin/dhclient -d -q -sf /usr/lib/NetworkManager/nm-dhcp-helper -pf /var/run/dhclient-enp0s3.pid -lf /var/lib/NetworkManager/dhclient-95f3ca14-4e16-3f87-8f42-7af863a75f0d-enp0s3.lease -cf /var/lib/NetworkManager/dhclient-enp0s3.conf enp0s3\n",
      "www-data 18387  0.0  0.1 360768  5892 ?        Sl   07:35   0:00 /usr/sbin/apache2 -k start\n",
      "www-data 18388  0.0  0.1 360800  5892 ?        Sl   07:35   0:00 /usr/sbin/apache2 -k start\n",
      "root     18448  0.0  0.1  95768  7844 ?        Ss   07:35   0:00 /usr/sbin/cupsd -l\n",
      "root     18451  0.0  0.2 282220 10260 ?        Ssl  07:35   0:00 /usr/sbin/cups-browsed\n",
      "khyaath+ 18913  5.4  9.8 2153628 398700 ?      Rl   07:41   4:32 /usr/lib/firefox/firefox\n",
      "root     20490  0.0  0.0      0     0 ?        S    08:05   0:00 [kworker/0:1]\n",
      "khyaath+ 20788  0.2  1.5 360444 64480 pts/18   Sl+  08:10   0:08 /home/khyaathi-python/anaconda2/bin/python /home/khyaathi-python/anaconda2/bin/ipython notebook\n",
      "khyaath+ 20838  0.0  1.1 635108 44892 ?        Ssl  08:11   0:02 /home/khyaathi-python/anaconda2/bin/python -m ipykernel_launcher -f /run/user/1000/jupyter/kernel-4207061c-99d6-40e9-b775-c99803fd8087.json\n",
      "root     21424  0.0  0.0      0     0 ?        S    08:21   0:00 [kworker/u2:1]\n",
      "khyaath+ 22491  0.0  1.1 635004 47276 ?        Ssl  00:01   0:03 /home/khyaathi-python/anaconda2/bin/python -m ipykernel_launcher -f /run/user/1000/jupyter/kernel-8d2ac1b0-c263-4900-a824-afd74d88a5ed.json\n",
      "root     23027  0.0  0.0      0     0 ?        S    08:51   0:00 [kworker/u2:2]\n",
      "khyaath+ 23291  0.4  1.1 635232 48140 ?        Ssl  08:56   0:02 /home/khyaathi-python/anaconda2/bin/python -m ipykernel_launcher -f /run/user/1000/jupyter/kernel-a5e3083e-988c-4f27-8329-e10823c0d8c8.json\n",
      "root     23383  0.0  0.0      0     0 ?        S    08:57   0:00 [kworker/0:2]\n",
      "khyaath+ 23725  0.0  0.0  37604  3400 ?        R    09:03   0:00 ps -aux\n",
      "khyaath+ 28812  0.0  0.9 743144 39548 ?        Ssl  01:48   0:10 /usr/lib/gnome-terminal/gnome-terminal-server\n",
      "khyaath+ 28821  0.0  0.1  22704  5452 pts/10   Ss+  01:48   0:00 bash\n",
      "\n"
     ]
    }
   ],
   "source": [
    "from subprocess import check_output\n",
    "res = check_output([\"ps\",\"-aux\"])\n",
    "print res"
   ]
  },
  {
   "cell_type": "code",
   "execution_count": 18,
   "metadata": {},
   "outputs": [
    {
     "name": "stdout",
     "output_type": "stream",
     "text": [
      "USER       PID %CPU %MEM    VSZ   RSS TTY      STAT START   TIME COMMAND\n",
      "root         1  0.0  0.1 137384  7408 ?        Ss   Nov27   0:02 /sbin/init splash\n",
      "root         2  0.0  0.0      0     0 ?        S    Nov27   0:00 [kthreadd]\n",
      "root         3  0.0  0.0      0     0 ?        S    Nov27   0:01 [ksoftirqd/0]\n",
      "root         5  0.0  0.0      0     0 ?        S<   Nov27   0:00 [kworker/0:0H]\n",
      "root         7  0.0  0.0      0     0 ?        S    Nov27   0:11 [rcu_sched]\n",
      "root         8  0.0  0.0      0     0 ?        S    Nov27   0:00 [rcu_bh]\n",
      "root         9  0.0  0.0      0     0 ?        S    Nov27   0:00 [migration/0]\n",
      "root        10  0.0  0.0      0     0 ?        S<   Nov27   0:00 [lru-add-drain]\n",
      "root        11  0.0  0.0      0     0 ?        S    Nov27   0:00 [watchdog/0]\n",
      "root        12  0.0  0.0      0     0 ?        S    Nov27   0:00 [cpuhp/0]\n",
      "root        13  0.0  0.0      0     0 ?        S    Nov27   0:00 [kdevtmpfs]\n",
      "root        14  0.0  0.0      0     0 ?        S<   Nov27   0:00 [netns]\n",
      "root        15  0.0  0.0      0     0 ?        S    Nov27   0:00 [khungtaskd]\n",
      "root        16  0.0  0.0      0     0 ?        S    Nov27   0:00 [oom_reaper]\n",
      "root        17  0.0  0.0      0     0 ?        S<   Nov27   0:00 [writeback]\n",
      "root        18  0.0  0.0      0     0 ?        S    Nov27   0:00 [kcompactd0]\n",
      "root        19  0.0  0.0      0     0 ?        SN   Nov27   0:00 [ksmd]\n",
      "root        20  0.0  0.0      0     0 ?        SN   Nov27   0:04 [khugepaged]\n",
      "root        21  0.0  0.0      0     0 ?        S<   Nov27   0:00 [crypto]\n",
      "root        22  0.0  0.0      0     0 ?        S<   Nov27   0:00 [kintegrityd]\n",
      "root        23  0.0  0.0      0     0 ?        S<   Nov27   0:00 [bioset]\n",
      "root        24  0.0  0.0      0     0 ?        S<   Nov27   0:00 [kblockd]\n",
      "root        25  0.0  0.0      0     0 ?        S<   Nov27   0:00 [ata_sff]\n",
      "root        26  0.0  0.0      0     0 ?        S<   Nov27   0:00 [md]\n",
      "root        27  0.0  0.0      0     0 ?        S<   Nov27   0:00 [devfreq_wq]\n",
      "root        28  0.0  0.0      0     0 ?        S<   Nov27   0:00 [watchdogd]\n",
      "root        32  0.0  0.0      0     0 ?        S    Nov27   0:00 [kswapd0]\n",
      "root        33  0.0  0.0      0     0 ?        S<   Nov27   0:00 [vmstat]\n",
      "root        34  0.0  0.0      0     0 ?        S    Nov27   0:00 [ecryptfs-kthrea]\n",
      "root        73  0.0  0.0      0     0 ?        S<   Nov27   0:00 [kthrotld]\n",
      "root        74  0.0  0.0      0     0 ?        S<   Nov27   0:00 [acpi_thermal_pm]\n",
      "root        75  0.0  0.0      0     0 ?        S<   Nov27   0:00 [bioset]\n",
      "root        76  0.0  0.0      0     0 ?        S<   Nov27   0:00 [bioset]\n",
      "root        77  0.0  0.0      0     0 ?        S<   Nov27   0:00 [bioset]\n",
      "root        78  0.0  0.0      0     0 ?        S<   Nov27   0:00 [bioset]\n",
      "root        79  0.0  0.0      0     0 ?        S<   Nov27   0:00 [bioset]\n",
      "root        80  0.0  0.0      0     0 ?        S<   Nov27   0:00 [bioset]\n",
      "root        81  0.0  0.0      0     0 ?        S<   Nov27   0:00 [bioset]\n",
      "root        82  0.0  0.0      0     0 ?        S<   Nov27   0:00 [bioset]\n",
      "root        83  0.0  0.0      0     0 ?        S    Nov27   0:00 [scsi_eh_0]\n",
      "root        84  0.0  0.0      0     0 ?        S<   Nov27   0:00 [scsi_tmf_0]\n",
      "root        85  0.0  0.0      0     0 ?        S    Nov27   0:00 [scsi_eh_1]\n",
      "root        86  0.0  0.0      0     0 ?        S<   Nov27   0:00 [scsi_tmf_1]\n",
      "root        92  0.0  0.0      0     0 ?        S<   Nov27   0:00 [ipv6_addrconf]\n",
      "root       113  0.0  0.0      0     0 ?        S<   Nov27   0:00 [deferwq]\n",
      "root       114  0.0  0.0      0     0 ?        S<   Nov27   0:00 [charger_manager]\n",
      "root       115  0.0  0.0      0     0 ?        S<   Nov27   0:00 [bioset]\n",
      "root       160  0.0  0.0      0     0 ?        S<   Nov27   0:00 [kpsmoused]\n",
      "root       167  0.0  0.0      0     0 ?        S    Nov27   0:00 [scsi_eh_2]\n",
      "root       168  0.0  0.0      0     0 ?        S<   Nov27   0:00 [scsi_tmf_2]\n",
      "root       169  0.0  0.0      0     0 ?        S<   Nov27   0:00 [bioset]\n",
      "root       190  0.0  0.0      0     0 ?        S<   Nov27   0:00 [kworker/0:1H]\n",
      "root       192  0.0  0.0      0     0 ?        S    Nov27   0:01 [jbd2/sda1-8]\n",
      "root       193  0.0  0.0      0     0 ?        S<   Nov27   0:00 [ext4-rsv-conver]\n",
      "root       232  0.0  0.3  49608 13380 ?        Ss   Nov27   0:01 /lib/systemd/systemd-journald\n",
      "root       234  0.0  0.0      0     0 ?        S    Nov27   0:00 [kauditd]\n",
      "root       255  0.0  0.1  45772  4616 ?        Ss   Nov27   0:01 /lib/systemd/systemd-udevd\n",
      "root       327  0.0  0.0      0     0 ?        S<   Nov27   0:00 [iprt-VBoxWQueue]\n",
      "root       426  0.0  0.0      0     0 ?        S<   Nov27   0:00 [ttm_swap]\n",
      "root       604  0.0  0.0   4384  1284 ?        Ss   Nov27   0:01 /usr/sbin/acpid\n",
      "root       618  0.0  0.2 420528  9260 ?        Ssl  Nov27   0:00 /usr/sbin/ModemManager\n",
      "whoopsie   619  0.0  0.3 455680 13288 ?        Ssl  Nov27   0:00 /usr/bin/whoopsie -f\n",
      "message+   637  0.0  0.1  44588  5376 ?        Ss   Nov27   0:06 /usr/bin/dbus-daemon --system --address=systemd: --nofork --nopidfile --systemd-activation\n",
      "root       689  0.0  0.4 400860 17508 ?        Ssl  Nov27   0:00 /usr/sbin/NetworkManager --no-daemon\n",
      "root       691  0.0  0.0  31100  3168 ?        Ss   Nov27   0:00 /usr/sbin/cron -f\n",
      "root       692  0.0  0.1  44412  4812 ?        Ss   Nov27   0:00 /lib/systemd/systemd-logind\n",
      "syslog     693  0.0  0.0 256404  3432 ?        Ssl  Nov27   0:00 /usr/sbin/rsyslogd -n\n",
      "avahi      694  0.0  0.0  45136  3652 ?        Ss   Nov27   0:00 avahi-daemon: running [khyaathipython.local]\n",
      "root       695  0.0  0.2 293988  8356 ?        Ssl  Nov27   0:00 /usr/lib/accountsservice/accounts-daemon\n",
      "root       699  0.0  0.0  30088  1652 ?        Ss   Nov27   0:00 /sbin/cgmanager -m name=systemd\n",
      "root       701  0.0  0.4 207780 17804 ?        Ssl  Nov27   0:00 /usr/lib/snapd/snapd\n",
      "root       714  0.0  0.2 304636 11192 ?        Ssl  Nov27   0:00 /usr/lib/policykit-1/polkitd --no-debug\n",
      "avahi      719  0.0  0.0  45008   352 ?        S    Nov27   0:00 avahi-daemon: chroot helper\n",
      "systemd+   844  0.0  0.0  47552  4028 ?        Ss   Nov27   0:00 /lib/systemd/systemd-resolved\n",
      "root       850  0.0  0.0 248720  2200 ?        Sl   Nov27   0:07 /usr/sbin/VBoxService\n",
      "root       859  0.0  0.1  67820  5376 ?        Ss   Nov27   0:00 /usr/sbin/sshd -D\n",
      "root       904  0.0  0.2 303372  8620 ?        SLsl Nov27   0:00 /usr/sbin/lightdm\n",
      "root       915  2.3  2.9 409596 120884 tty7    Ss+  Nov27  19:50 /usr/lib/xorg/Xorg -core :0 -seat seat0 -auth /var/run/lightdm/root/:0 -nolisten tcp vt7 -novtswitch\n",
      "root       920  0.0  0.0  16060  1832 tty1     Ss+  Nov27   0:00 /sbin/agetty --noclear tty1 linux\n",
      "postgres   935  0.0  0.6 296984 24448 ?        S    Nov27   0:00 /usr/lib/postgresql/9.5/bin/postgres -D /var/lib/postgresql/9.5/main -c config_file=/etc/postgresql/9.5/main/postgresql.conf\n",
      "nobody     946  0.0  0.1  53084  4076 ?        S    Nov27   0:00 /usr/sbin/dnsmasq --no-resolv --keep-in-foreground --no-hosts --bind-interfaces --pid-file=/var/run/NetworkManager/dnsmasq.pid --listen-address=127.0.1.1 --cache-size=0 --conf-file=/dev/null --proxy-dnssec --enable-dbus=org.freedesktop.NetworkManager.dnsmasq --conf-dir=/etc/NetworkManager/dnsmasq.d\n",
      "postgres  1019  0.0  0.1 297112  6932 ?        Ss   Nov27   0:00 postgres: 9.5/main: checkpointer process   \n",
      "postgres  1020  0.0  0.1 296984  5728 ?        Ss   Nov27   0:00 postgres: 9.5/main: writer process   \n",
      "postgres  1021  0.0  0.2 296984  8840 ?        Ss   Nov27   0:00 postgres: 9.5/main: wal writer process   \n",
      "postgres  1022  0.0  0.1 297360  6828 ?        Ss   Nov27   0:00 postgres: 9.5/main: autovacuum launcher process   \n",
      "postgres  1023  0.0  0.1 152064  4404 ?        Ss   Nov27   0:00 postgres: 9.5/main: stats collector process   \n",
      "snmp      1367  0.0  0.1  59620  7772 ?        S    Nov27   0:10 /usr/sbin/snmpd -Lsd -Lf /dev/null -u snmp -g snmp -I -smux mteTrigger mteTriggerConf -p /run/snmpd.pid\n",
      "root      1369  0.0  0.3 702120 14392 ?        Sl   Nov27   0:24 /opt/teamviewer/tv_bin/teamviewerd -d\n",
      "root      1405  0.0  0.1  71576  4872 ?        Ss   Nov27   0:01 /usr/sbin/apache2 -k start\n",
      "root      1567  0.0  0.3 322156 12228 ?        Ssl  Nov27   0:00 /usr/lib/packagekit/packagekitd\n",
      "root      1684  0.0  0.2 354176 10348 ?        Ssl  Nov27   0:00 /usr/lib/upower/upowerd\n",
      "rtkit     1745  0.0  0.0 183760  3008 ?        SNsl Nov27   0:00 /usr/lib/rtkit/rtkit-daemon\n",
      "colord    1756  0.0  0.3 323920 16104 ?        Ssl  Nov27   0:00 /usr/lib/colord/colord\n",
      "root      1763  0.0  0.2 245696  8852 ?        Sl   Nov27   0:00 lightdm --session-child 12 19\n",
      "khyaath+  1791  0.0  0.1  63084  6896 ?        Ss   Nov27   0:00 /lib/systemd/systemd --user\n",
      "khyaath+  1795  0.0  0.0  89260  2340 ?        S    Nov27   0:00 (sd-pam)\n",
      "khyaath+  1820  0.0  0.1  44244  5152 ?        Ss   Nov27   0:06 /usr/bin/dbus-daemon --session --address=systemd: --nofork --nopidfile --systemd-activation\n",
      "khyaath+  1845  0.0  0.1 283588  6608 ?        Ssl  Nov27   0:00 /usr/lib/gvfs/gvfsd\n",
      "khyaath+  1850  0.0  0.1 428864  7516 ?        Sl   Nov27   0:00 /usr/lib/gvfs/gvfsd-fuse /run/user/1000/gvfs -f -o big_writes\n",
      "khyaath+  1858  0.0  0.1 187676  5328 ?        Sl   Nov27   0:00 /usr/lib/dconf/dconf-service\n",
      "khyaath+  1894  0.0  0.2 214356  8396 ?        Sl   Nov27   0:00 /usr/bin/gnome-keyring-daemon --daemonize --login\n",
      "khyaath+  1897  0.0  0.1  47100  5076 ?        Ss   Nov27   0:10 /sbin/upstart --user\n",
      "khyaath+  1938  0.0  0.1  82260  5364 ?        S    Nov27   0:18 /usr/bin/xbrlapi -q\n",
      "khyaath+  1983  0.0  0.0  49720   896 ?        S    Nov27   0:01 /usr/bin/VBoxClient --checkhostversion\n",
      "khyaath+  1985  0.0  0.0  49720   924 ?        S    Nov27   0:01 /usr/bin/VBoxClient --clipboard\n",
      "khyaath+  1990  0.0  0.0  49720   380 ?        S    Nov27   0:00 /usr/bin/VBoxClient --display\n",
      "khyaath+  1991  0.0  0.0  49856  2920 ?        S    Nov27   0:00 /usr/bin/VBoxClient --display\n",
      "khyaath+  2001  0.0  0.0  49720   896 ?        S    Nov27   0:01 /usr/bin/VBoxClient --seamless\n",
      "khyaath+  2012  0.0  0.0  49720   860 ?        S    Nov27   0:01 /usr/bin/VBoxClient --draganddrop\n",
      "khyaath+  2017  0.0  0.8 493324 34688 ?        Sl   Nov27   0:01 /usr/lib/x86_64-linux-gnu/notify-osd\n",
      "khyaath+  2040  0.0  0.0  33084  2232 ?        S    Nov27   0:01 upstart-udev-bridge --daemon --user\n",
      "khyaath+  2057  0.0  0.0   7280   752 ?        Ss   Nov27   0:00 sleep infinity\n",
      "khyaath+  2063  0.0  0.0   4492   708 ?        Ss   Nov27   0:00 /bin/sh -e /proc/self/fd/9\n",
      "khyaath+  2067  0.0  0.2 160344  9764 ?        Ssl  Nov27   0:00 /usr/lib/x86_64-linux-gnu/hud/window-stack-bridge\n",
      "khyaath+  2071  0.0  0.4 518704 17004 ?        Sl   Nov27   0:00 /usr/lib/x86_64-linux-gnu/url-dispatcher/url-dispatcher\n",
      "khyaath+  2088  0.0  0.6 449816 27296 ?        Ssl  Nov27   0:08 /usr/lib/x86_64-linux-gnu/bamf/bamfdaemon\n",
      "khyaath+  2095  0.0  0.0  33140  1780 ?        S    Nov27   0:04 upstart-dbus-bridge --daemon --session --user --bus-name session\n",
      "khyaath+  2096  0.0  0.0  33140  1804 ?        S    Nov27   0:01 upstart-dbus-bridge --daemon --system --user --bus-name system\n",
      "khyaath+  2116  0.0  0.0  41776  1768 ?        S    Nov27   0:01 upstart-file-bridge --daemon --user\n",
      "khyaath+  2185  0.0  0.8 1004312 32892 ?       Ssl  Nov27   0:05 /usr/lib/unity-settings-daemon/unity-settings-daemon\n",
      "khyaath+  2204  0.1  0.4 374172 17376 ?        Rsl  Nov27   1:00 /usr/bin/ibus-daemon --daemonize --xim --address unix:tmpdir=/tmp/ibus\n",
      "khyaath+  2208  0.0  0.3 647964 16020 ?        Ssl  Nov27   0:00 /usr/lib/gnome-session/gnome-session-binary --session=ubuntu\n",
      "khyaath+  2252  0.0  0.2 286400  8216 ?        Sl   Nov27   0:00 /usr/lib/ibus/ibus-dconf\n",
      "khyaath+  2253  0.0  0.8 480444 32732 ?        Sl   Nov27   0:15 /usr/lib/ibus/ibus-ui-gtk3\n",
      "khyaath+  2265  0.0  0.5 356528 22960 ?        Sl   Nov27   0:00 /usr/lib/ibus/ibus-x11 --kill-daemon\n",
      "khyaath+  2303 11.9  9.0 1369628 365880 ?      Rsl  Nov27 102:33 /usr/bin/compiz\n",
      "khyaath+  2321  0.0  1.2 657260 48912 ?        Ssl  Nov27   0:09 /usr/lib/x86_64-linux-gnu/unity/unity-panel-service\n",
      "khyaath+  2333  0.0  0.1 210528  7944 ?        Sl   Nov27   0:12 /usr/lib/ibus/ibus-engine-simple\n",
      "khyaath+  2340  0.0  0.2 566288 11672 ?        S<l  Nov27   0:00 /usr/bin/pulseaudio --start --log-target=syslog\n",
      "khyaath+  2367  0.0  0.7 674312 31712 ?        Sl   Nov27   0:01 nm-applet\n",
      "khyaath+  2373  0.0  0.5 436444 20776 ?        Sl   Nov27   0:00 /usr/lib/policykit-1-gnome/polkit-gnome-authentication-agent-1\n",
      "khyaath+  2375  0.0  0.2 377140  9372 ?        Ssl  Nov27   0:00 /usr/lib/x86_64-linux-gnu/indicator-messages/indicator-messages-service\n",
      "khyaath+  2379  0.0  0.1 357992  7864 ?        Ssl  Nov27   0:00 /usr/lib/x86_64-linux-gnu/indicator-bluetooth/indicator-bluetooth-service\n",
      "khyaath+  2382  0.0  0.5 581784 22088 ?        Sl   Nov27   0:00 /usr/lib/unity-settings-daemon/unity-fallback-mount-helper\n",
      "khyaath+  2383  0.0  0.1 362368  8080 ?        Ssl  Nov27   0:00 /usr/lib/x86_64-linux-gnu/indicator-power/indicator-power-service\n",
      "khyaath+  2386  0.0  0.8 923576 32944 ?        Ssl  Nov27   0:00 /usr/lib/x86_64-linux-gnu/indicator-datetime/indicator-datetime-service\n",
      "khyaath+  2389  0.0  0.6 665888 26664 ?        Ssl  Nov27   0:01 /usr/lib/x86_64-linux-gnu/indicator-keyboard/indicator-keyboard-service --use-gtk\n",
      "khyaath+  2390  0.0  0.3 682872 12664 ?        Ssl  Nov27   0:00 /usr/lib/x86_64-linux-gnu/indicator-sound/indicator-sound-service\n",
      "khyaath+  2393  0.0  0.2 645292  8988 ?        Ssl  Nov27   0:00 /usr/lib/x86_64-linux-gnu/indicator-session/indicator-session-service\n",
      "khyaath+  2404  0.0  0.3 481192 13296 ?        Ssl  Nov27   0:00 /usr/lib/x86_64-linux-gnu/indicator-application/indicator-application-service\n",
      "root      2422  0.0  0.1 260976  4808 ?        Sl   Nov27   0:00 /usr/lib/x86_64-linux-gnu/unity-greeter-session-broadcast/unity-greeter-session-broadcast-service\n",
      "khyaath+  2426  0.0  2.2 989536 90416 ?        Sl   Nov27   0:06 /usr/bin/gnome-software --gapplication-service\n",
      "khyaath+  2427  0.0  0.8 412116 33348 ?        Ssl  Nov27   0:13 /usr/lib/x86_64-linux-gnu/hud/hud-service\n",
      "khyaath+  2441  0.0  1.5 1023160 60788 ?       Sl   Nov27   0:26 nautilus -n\n",
      "khyaath+  2442  0.0  0.6 554460 24996 ?        Ssl  Nov27   0:00 /usr/lib/x86_64-linux-gnu/indicator-printers/indicator-printers-service\n",
      "khyaath+  2448  0.0  0.6 861712 25284 ?        Ssl  Nov27   0:00 /usr/lib/evolution/evolution-source-registry\n",
      "khyaath+  2469  0.0  0.2 362600  8556 ?        Ssl  Nov27   0:00 /usr/lib/at-spi2-core/at-spi-bus-launcher --launch-immediately\n",
      "khyaath+  2470  0.0  0.0   7280   688 ?        Ss   Nov27   0:00 sleep infinity\n",
      "khyaath+  2476  0.0  0.0  43120  3964 ?        S    Nov27   0:01 /usr/bin/dbus-daemon --config-file=/usr/share/defaults/at-spi2/accessibility.conf --nofork --print-address 3\n",
      "khyaath+  2496  0.0  0.1 213960  7592 ?        Sl   Nov27   0:03 /usr/lib/at-spi2-core/at-spi2-registryd --use-gnome-session\n",
      "khyaath+  2501  0.0  0.8 852312 33620 ?        Ssl  Nov27   0:00 /usr/lib/evolution/evolution-calendar-factory\n",
      "khyaath+  2515  0.0  0.2 377156  9776 ?        Ssl  Nov27   0:00 /usr/lib/gvfs/gvfs-udisks2-volume-monitor\n",
      "root      2518  0.0  0.2 389316 10484 ?        Ssl  Nov27   0:00 /usr/lib/udisks2/udisksd --no-debug\n",
      "khyaath+  2531  0.0  0.6 803904 28212 ?        Sl   Nov27   0:00 /usr/lib/evolution/evolution-calendar-factory-subprocess --factory contacts --bus-name org.gnome.evolution.dataserver.Subprocess.Backend.Calendarx2501x2 --own-path /org/gnome/evolution/dataserver/Subprocess/Backend/Calendar/2501/2\n",
      "khyaath+  2533  0.0  0.1 278532  5380 ?        Ssl  Nov27   0:00 /usr/lib/gvfs/gvfs-gphoto2-volume-monitor\n",
      "khyaath+  2537  0.0  0.1 266420  5328 ?        Ssl  Nov27   0:00 /usr/lib/gvfs/gvfs-goa-volume-monitor\n",
      "khyaath+  2541  0.0  0.2 412720  9676 ?        Ssl  Nov27   0:00 /usr/lib/gvfs/gvfs-afc-volume-monitor\n",
      "khyaath+  2550  0.0  0.1 266332  4876 ?        Ssl  Nov27   0:00 /usr/lib/gvfs/gvfs-mtp-volume-monitor\n",
      "khyaath+  2567  0.0  0.5 784728 21204 ?        Sl   Nov27   0:00 /usr/lib/evolution/evolution-calendar-factory-subprocess --factory local --bus-name org.gnome.evolution.dataserver.Subprocess.Backend.Calendarx2501x3 --own-path /org/gnome/evolution/dataserver/Subprocess/Backend/Calendar/2501/3\n",
      "khyaath+  2568  0.0  0.5 716400 22156 ?        Ssl  Nov27   0:00 /usr/lib/evolution/evolution-addressbook-factory\n",
      "khyaath+  2583  0.0  0.5 802396 22152 ?        Sl   Nov27   0:00 /usr/lib/evolution/evolution-addressbook-factory-subprocess --factory local --bus-name org.gnome.evolution.dataserver.Subprocess.Backend.AddressBookx2568x2 --own-path /org/gnome/evolution/dataserver/Subprocess/Backend/AddressBook/2568/2\n",
      "khyaath+  2600  0.0  0.2 373104  9344 ?        Sl   Nov27   0:00 /usr/lib/gvfs/gvfsd-trash --spawner :1.6 /org/gtk/gvfs/exec_spaw/0\n",
      "khyaath+  2654  0.0  0.1 193308  6148 ?        Ssl  Nov27   0:00 /usr/lib/gvfs/gvfsd-metadata\n",
      "khyaath+  2670  0.0  0.4 429252 17204 ?        Sl   Nov27   0:02 zeitgeist-datahub\n",
      "khyaath+  2676  0.0  0.0   4492   772 ?        S    Nov27   0:00 /bin/sh -c /usr/lib/x86_64-linux-gnu/zeitgeist/zeitgeist-maybe-vacuum; /usr/bin/zeitgeist-daemon\n",
      "khyaath+  2680  0.0  0.2 368288 10956 ?        Sl   Nov27   0:00 /usr/bin/zeitgeist-daemon\n",
      "khyaath+  2688  0.0  0.7 342532 30380 ?        Sl   Nov27   0:01 /usr/lib/x86_64-linux-gnu/zeitgeist-fts\n",
      "khyaath+  2851  0.0  0.6 610316 26368 ?        Sl   Nov27   0:01 update-notifier\n",
      "khyaath+  2924  0.0  0.2 422872  9952 ?        Sl   Nov27   0:00 /usr/lib/gvfs/gvfsd-http --spawner :1.6 /org/gtk/gvfs/exec_spaw/1\n",
      "khyaath+  2963  0.0  0.1  68160  5600 ?        S    Nov27   0:00 /usr/lib/x86_64-linux-gnu/gconf/gconfd-2\n",
      "khyaath+  3283  0.0  0.2 450436  8900 ?        Sl   Nov27   0:00 /usr/lib/x86_64-linux-gnu/deja-dup/deja-dup-monitor\n",
      "khyaath+  4902  0.0  0.4 668568 19568 ?        Sl   Nov27   0:00 /usr/lib/x86_64-linux-gnu/unity-scope-home/unity-scope-home\n",
      "khyaath+  4913  0.0  0.5 584172 24112 ?        Sl   Nov27   0:01 /usr/bin/unity-scope-loader applications/applications.scope applications/scopes.scope commands.scope\n",
      "khyaath+  4915  0.0  0.3 713868 15780 ?        Sl   Nov27   0:00 /usr/lib/x86_64-linux-gnu/unity-lens-files/unity-files-daemon\n",
      "khyaath+  8834  0.0  0.2 446916  8628 ?        Sl   05:19   0:00 /usr/lib/gvfs/gvfsd-network --spawner :1.6 /org/gtk/gvfs/exec_spaw/2\n",
      "khyaath+  8864  0.0  0.1 376920  7000 ?        Sl   05:19   0:00 /usr/lib/gvfs/gvfsd-dnssd --spawner :1.6 /org/gtk/gvfs/exec_spaw/6\n",
      "khyaath+  9493  0.0  1.1 635008 47156 ?        Ssl  Nov27   0:03 /home/khyaathi-python/anaconda2/bin/python -m ipykernel_launcher -f /run/user/1000/jupyter/kernel-3a3d3708-ab94-4532-8b7d-34c1ba5b5aaa.json\n",
      "khyaath+ 11831  0.0  0.1  22704  5448 pts/18   Ss   05:55   0:00 bash\n",
      "khyaath+ 12040  0.3  4.4 1031932 181940 ?      Sl   05:58   0:34 /usr/bin/mono /usr/lib/pinta/Pinta.exe\n",
      "khyaath+ 12629  0.0  1.1 635600 48024 ?        Ssl  Nov27   0:03 /home/khyaathi-python/anaconda2/bin/python -m ipykernel_launcher -f /run/user/1000/jupyter/kernel-5f03a49a-a4f2-44d3-9a91-106da7d3e4b6.json\n",
      "root     15911  0.0  0.0  16108  3744 ?        S    06:56   0:00 /sbin/dhclient -d -q -sf /usr/lib/NetworkManager/nm-dhcp-helper -pf /var/run/dhclient-enp0s3.pid -lf /var/lib/NetworkManager/dhclient-95f3ca14-4e16-3f87-8f42-7af863a75f0d-enp0s3.lease -cf /var/lib/NetworkManager/dhclient-enp0s3.conf enp0s3\n",
      "www-data 18387  0.0  0.1 360768  5892 ?        Sl   07:35   0:00 /usr/sbin/apache2 -k start\n",
      "www-data 18388  0.0  0.1 360800  5892 ?        Sl   07:35   0:00 /usr/sbin/apache2 -k start\n",
      "root     18448  0.0  0.1  95768  7844 ?        Ss   07:35   0:00 /usr/sbin/cupsd -l\n",
      "root     18451  0.0  0.2 282220 10260 ?        Ssl  07:35   0:00 /usr/sbin/cups-browsed\n",
      "khyaath+ 18913  5.5  9.9 2153628 401336 ?      Rl   07:41   4:38 /usr/lib/firefox/firefox\n",
      "root     20490  0.0  0.0      0     0 ?        S    08:05   0:00 [kworker/0:1]\n",
      "khyaath+ 20788  0.2  1.5 360444 64672 pts/18   Sl+  08:10   0:08 /home/khyaathi-python/anaconda2/bin/python /home/khyaathi-python/anaconda2/bin/ipython notebook\n",
      "khyaath+ 20838  0.0  1.1 635108 44892 ?        Ssl  08:11   0:02 /home/khyaathi-python/anaconda2/bin/python -m ipykernel_launcher -f /run/user/1000/jupyter/kernel-4207061c-99d6-40e9-b775-c99803fd8087.json\n",
      "root     21424  0.0  0.0      0     0 ?        S    08:21   0:00 [kworker/u2:1]\n",
      "khyaath+ 22491  0.0  1.1 635004 47276 ?        Ssl  00:01   0:03 /home/khyaathi-python/anaconda2/bin/python -m ipykernel_launcher -f /run/user/1000/jupyter/kernel-8d2ac1b0-c263-4900-a824-afd74d88a5ed.json\n",
      "root     23027  0.0  0.0      0     0 ?        S    08:51   0:00 [kworker/u2:2]\n",
      "khyaath+ 23291  0.4  1.1 635384 48188 ?        Ssl  08:56   0:02 /home/khyaathi-python/anaconda2/bin/python -m ipykernel_launcher -f /run/user/1000/jupyter/kernel-a5e3083e-988c-4f27-8329-e10823c0d8c8.json\n",
      "root     23383  0.0  0.0      0     0 ?        S    08:57   0:00 [kworker/0:2]\n",
      "khyaath+ 23756  0.0  0.0  37604  3396 ?        R    09:04   0:00 ps -aux\n",
      "khyaath+ 28812  0.0  0.9 743144 39548 ?        Ssl  01:48   0:10 /usr/lib/gnome-terminal/gnome-terminal-server\n",
      "khyaath+ 28821  0.0  0.1  22704  5452 pts/10   Ss+  01:48   0:00 bash\n"
     ]
    }
   ],
   "source": [
    "from subprocess import check_output\n",
    "res = check_output([\"ps\",\"-aux\"])\n",
    "for row in res.splitlines():\n",
    "    print row"
   ]
  },
  {
   "cell_type": "code",
   "execution_count": 19,
   "metadata": {},
   "outputs": [
    {
     "name": "stdout",
     "output_type": "stream",
     "text": [
      "khyaath+ 12040  0.3  4.4 1031932 181940 ?      Sl   05:58   0:34 /usr/bin/mono /usr/lib/pinta/Pinta.exe\n"
     ]
    }
   ],
   "source": [
    "from subprocess import check_output\n",
    "res = check_output([\"ps\",\"-aux\"])\n",
    "for row in res.splitlines():\n",
    "    if \"pinta\" in row.lower():\n",
    "        print row"
   ]
  },
  {
   "cell_type": "code",
   "execution_count": 20,
   "metadata": {},
   "outputs": [
    {
     "name": "stdout",
     "output_type": "stream",
     "text": [
      "['khyaath+', '12040', '0.3', '4.4', '1031932', '181940', '?', 'Sl', '05:58', '0:34', '/usr/bin/mono', '/usr/lib/pinta/Pinta.exe']\n"
     ]
    }
   ],
   "source": [
    "from subprocess import check_output\n",
    "res = check_output([\"ps\",\"-aux\"])\n",
    "for row in res.splitlines():\n",
    "    if \"pinta\" in row.lower():\n",
    "        print row.split()\n",
    "        break"
   ]
  },
  {
   "cell_type": "code",
   "execution_count": 21,
   "metadata": {},
   "outputs": [
    {
     "name": "stdout",
     "output_type": "stream",
     "text": [
      "12040\n"
     ]
    }
   ],
   "source": [
    "from subprocess import check_output\n",
    "res = check_output([\"ps\",\"-aux\"])\n",
    "for row in res.splitlines():\n",
    "    if \"pinta\" in row.lower():\n",
    "        print row.split()[1]\n",
    "        break"
   ]
  },
  {
   "cell_type": "code",
   "execution_count": 22,
   "metadata": {
    "collapsed": true
   },
   "outputs": [],
   "source": [
    "from subprocess import check_output\n",
    "res = check_output([\"ps\",\"-aux\"])\n",
    "for row in res.splitlines():\n",
    "    if \"pinta\" in row.lower():\n",
    "        pid = row.split()[1]\n",
    "        os.system(\"kill -9 %s\"%pid)"
   ]
  },
  {
   "cell_type": "code",
   "execution_count": 23,
   "metadata": {},
   "outputs": [
    {
     "name": "stdout",
     "output_type": "stream",
     "text": [
      "Enter a process name to kill:sublime\n"
     ]
    }
   ],
   "source": [
    "from subprocess import check_output\n",
    "res = check_output([\"ps\",\"-aux\"])\n",
    "process = raw_input(\"Enter a process name to kill:\")\n",
    "for row in res.splitlines():\n",
    "    if process.lower() in row.lower():\n",
    "        pid = row.split()[1]\n",
    "        os.system(\"kill -9 %s\"%pid)"
   ]
  },
  {
   "cell_type": "code",
   "execution_count": 24,
   "metadata": {},
   "outputs": [
    {
     "name": "stdout",
     "output_type": "stream",
     "text": [
      "Enter a process name to kill:pinta\n"
     ]
    }
   ],
   "source": [
    "from subprocess import check_output\n",
    "res = check_output([\"ps\",\"-aux\"])\n",
    "process = raw_input(\"Enter a process name to kill:\")\n",
    "for row in res.splitlines():\n",
    "    if process.lower() in row.lower():\n",
    "        pid = row.split()[1]\n",
    "        os.system(\"kill -9 %s\"%pid)"
   ]
  },
  {
   "cell_type": "code",
   "execution_count": 1,
   "metadata": {
    "collapsed": true
   },
   "outputs": [],
   "source": [
    "from github import Github\n",
    "username=\"\"\n",
    "password=\"\"\n",
    "g=Github(username, password)"
   ]
  },
  {
   "cell_type": "code",
   "execution_count": 2,
   "metadata": {},
   "outputs": [
    {
     "data": {
      "text/plain": [
       "<github.MainClass.Github at 0x7f967cc94290>"
      ]
     },
     "execution_count": 2,
     "metadata": {},
     "output_type": "execute_result"
    }
   ],
   "source": [
    "g"
   ]
  },
  {
   "cell_type": "code",
   "execution_count": 3,
   "metadata": {},
   "outputs": [
    {
     "data": {
      "text/plain": [
       "<github.PaginatedList.PaginatedList instance at 0x7f967c5edd40>"
      ]
     },
     "execution_count": 3,
     "metadata": {},
     "output_type": "execute_result"
    }
   ],
   "source": [
    "g.get_repos()"
   ]
  },
  {
   "cell_type": "code",
   "execution_count": 5,
   "metadata": {
    "collapsed": true
   },
   "outputs": [],
   "source": [
    "user = g.get_user()"
   ]
  },
  {
   "cell_type": "code",
   "execution_count": 6,
   "metadata": {},
   "outputs": [
    {
     "data": {
      "text/plain": [
       "AuthenticatedUser(login=None)"
      ]
     },
     "execution_count": 6,
     "metadata": {},
     "output_type": "execute_result"
    }
   ],
   "source": [
    "user"
   ]
  },
  {
   "cell_type": "code",
   "execution_count": 7,
   "metadata": {
    "collapsed": true
   },
   "outputs": [],
   "source": [
    "user.create_repo?"
   ]
  },
  {
   "cell_type": "code",
   "execution_count": 8,
   "metadata": {},
   "outputs": [
    {
     "data": {
      "text/plain": [
       "Repository(full_name=\"uday1834/batch51\")"
      ]
     },
     "execution_count": 8,
     "metadata": {},
     "output_type": "execute_result"
    }
   ],
   "source": [
    "user.create_repo(\"batch51\")"
   ]
  },
  {
   "cell_type": "code",
   "execution_count": 9,
   "metadata": {},
   "outputs": [
    {
     "name": "stdout",
     "output_type": "stream",
     "text": [
      "Repository(full_name=\"khyaathi/batch51\")\n",
      "Repository(full_name=\"khyaathi/batch51_1\")\n",
      "Repository(full_name=\"khyaathiinstitute/batch44\")\n",
      "Repository(full_name=\"khyaathiinstitute/batch44_auto\")\n",
      "Repository(full_name=\"khyaathiinstitute/batch44_repo2\")\n",
      "Repository(full_name=\"khyaathiinstitute/batch46\")\n",
      "Repository(full_name=\"khyaathiinstitute/batch48\")\n",
      "Repository(full_name=\"khyaathiinstitute/newrepo\")\n",
      "Repository(full_name=\"tcloud123/batch44_repo1\")\n",
      "Repository(full_name=\"tcloud123/batch48\")\n",
      "Repository(full_name=\"tcloud123/newrepo\")\n",
      "Repository(full_name=\"tcloud123/repo411\")\n",
      "Repository(full_name=\"uday1834/batch48\")\n",
      "Repository(full_name=\"uday1834/batch51\")\n"
     ]
    }
   ],
   "source": [
    "for repo in user.get_repos():\n",
    "    print repo"
   ]
  },
  {
   "cell_type": "code",
   "execution_count": 10,
   "metadata": {
    "collapsed": true
   },
   "outputs": [],
   "source": [
    "repo.delete()"
   ]
  },
  {
   "cell_type": "code",
   "execution_count": 11,
   "metadata": {},
   "outputs": [
    {
     "name": "stdout",
     "output_type": "stream",
     "text": [
      "None\n",
      "None\n",
      "None\n",
      "None\n",
      "None\n",
      "None\n",
      "None\n",
      "None\n",
      "None\n",
      "None\n",
      "None\n",
      "None\n",
      "None\n"
     ]
    }
   ],
   "source": [
    "for repo in user.get_repos():\n",
    "    print repo.delete()"
   ]
  },
  {
   "cell_type": "code",
   "execution_count": 1,
   "metadata": {},
   "outputs": [
    {
     "name": "stdout",
     "output_type": "stream",
     "text": [
      "https://api.github.com/orgs/khyaathi/repos\n"
     ]
    }
   ],
   "source": [
    "base_url = \"https://api.github.com\"\n",
    "repos_url = \"/orgs/khyaathi/repos\"\n",
    "url_khyaathi_repos = base_url+repos_url\n",
    "print url_khyaathi_repos"
   ]
  },
  {
   "cell_type": "code",
   "execution_count": 2,
   "metadata": {},
   "outputs": [
    {
     "name": "stdout",
     "output_type": "stream",
     "text": [
      "<Response [200]>\n"
     ]
    }
   ],
   "source": [
    "import requests\n",
    "resp  = requests.get(\"https://api.github.com/orgs/khyaathi/repos\")\n",
    "print resp"
   ]
  },
  {
   "cell_type": "code",
   "execution_count": 3,
   "metadata": {},
   "outputs": [
    {
     "data": {
      "text/plain": [
       "[]"
      ]
     },
     "execution_count": 3,
     "metadata": {},
     "output_type": "execute_result"
    }
   ],
   "source": [
    "resp.json()"
   ]
  },
  {
   "cell_type": "code",
   "execution_count": 4,
   "metadata": {},
   "outputs": [
    {
     "name": "stdout",
     "output_type": "stream",
     "text": [
      "<Response [401]>\n"
     ]
    }
   ],
   "source": [
    "import requests\n",
    "resp  = requests.post(\"https://api.github.com/orgs/khyaathi/repos\", json={\"name\":\"repo1\"})\n",
    "print resp"
   ]
  },
  {
   "cell_type": "code",
   "execution_count": 5,
   "metadata": {},
   "outputs": [
    {
     "name": "stdout",
     "output_type": "stream",
     "text": [
      "<Response [201]>\n"
     ]
    }
   ],
   "source": [
    "import requests\n",
    "username=\"\"\n",
    "password=\"\"\n",
    "resp  = requests.post(\"https://api.github.com/orgs/khyaathi/repos\", \n",
    "                      json={\"name\":\"repo1\"},\n",
    "                     auth=(username,password))\n",
    "print resp"
   ]
  },
  {
   "cell_type": "code",
   "execution_count": 6,
   "metadata": {},
   "outputs": [
    {
     "name": "stdout",
     "output_type": "stream",
     "text": [
      "<Response [200]>\n"
     ]
    }
   ],
   "source": [
    "resp  = requests.get(\"https://api.github.com/orgs/khyaathi/repos\",\n",
    "                     auth=(username,password))\n",
    "print resp"
   ]
  },
  {
   "cell_type": "code",
   "execution_count": 7,
   "metadata": {},
   "outputs": [
    {
     "data": {
      "text/plain": [
       "[{u'archive_url': u'https://api.github.com/repos/khyaathi/repo1/{archive_format}{/ref}',\n",
       "  u'archived': False,\n",
       "  u'assignees_url': u'https://api.github.com/repos/khyaathi/repo1/assignees{/user}',\n",
       "  u'blobs_url': u'https://api.github.com/repos/khyaathi/repo1/git/blobs{/sha}',\n",
       "  u'branches_url': u'https://api.github.com/repos/khyaathi/repo1/branches{/branch}',\n",
       "  u'clone_url': u'https://github.com/khyaathi/repo1.git',\n",
       "  u'collaborators_url': u'https://api.github.com/repos/khyaathi/repo1/collaborators{/collaborator}',\n",
       "  u'comments_url': u'https://api.github.com/repos/khyaathi/repo1/comments{/number}',\n",
       "  u'commits_url': u'https://api.github.com/repos/khyaathi/repo1/commits{/sha}',\n",
       "  u'compare_url': u'https://api.github.com/repos/khyaathi/repo1/compare/{base}...{head}',\n",
       "  u'contents_url': u'https://api.github.com/repos/khyaathi/repo1/contents/{+path}',\n",
       "  u'contributors_url': u'https://api.github.com/repos/khyaathi/repo1/contributors',\n",
       "  u'created_at': u'2018-11-29T03:07:13Z',\n",
       "  u'default_branch': u'master',\n",
       "  u'deployments_url': u'https://api.github.com/repos/khyaathi/repo1/deployments',\n",
       "  u'description': None,\n",
       "  u'downloads_url': u'https://api.github.com/repos/khyaathi/repo1/downloads',\n",
       "  u'events_url': u'https://api.github.com/repos/khyaathi/repo1/events',\n",
       "  u'fork': False,\n",
       "  u'forks': 0,\n",
       "  u'forks_count': 0,\n",
       "  u'forks_url': u'https://api.github.com/repos/khyaathi/repo1/forks',\n",
       "  u'full_name': u'khyaathi/repo1',\n",
       "  u'git_commits_url': u'https://api.github.com/repos/khyaathi/repo1/git/commits{/sha}',\n",
       "  u'git_refs_url': u'https://api.github.com/repos/khyaathi/repo1/git/refs{/sha}',\n",
       "  u'git_tags_url': u'https://api.github.com/repos/khyaathi/repo1/git/tags{/sha}',\n",
       "  u'git_url': u'git://github.com/khyaathi/repo1.git',\n",
       "  u'has_downloads': True,\n",
       "  u'has_issues': True,\n",
       "  u'has_pages': False,\n",
       "  u'has_projects': True,\n",
       "  u'has_wiki': True,\n",
       "  u'homepage': None,\n",
       "  u'hooks_url': u'https://api.github.com/repos/khyaathi/repo1/hooks',\n",
       "  u'html_url': u'https://github.com/khyaathi/repo1',\n",
       "  u'id': 159599730,\n",
       "  u'issue_comment_url': u'https://api.github.com/repos/khyaathi/repo1/issues/comments{/number}',\n",
       "  u'issue_events_url': u'https://api.github.com/repos/khyaathi/repo1/issues/events{/number}',\n",
       "  u'issues_url': u'https://api.github.com/repos/khyaathi/repo1/issues{/number}',\n",
       "  u'keys_url': u'https://api.github.com/repos/khyaathi/repo1/keys{/key_id}',\n",
       "  u'labels_url': u'https://api.github.com/repos/khyaathi/repo1/labels{/name}',\n",
       "  u'language': None,\n",
       "  u'languages_url': u'https://api.github.com/repos/khyaathi/repo1/languages',\n",
       "  u'license': None,\n",
       "  u'merges_url': u'https://api.github.com/repos/khyaathi/repo1/merges',\n",
       "  u'milestones_url': u'https://api.github.com/repos/khyaathi/repo1/milestones{/number}',\n",
       "  u'mirror_url': None,\n",
       "  u'name': u'repo1',\n",
       "  u'node_id': u'MDEwOlJlcG9zaXRvcnkxNTk1OTk3MzA=',\n",
       "  u'notifications_url': u'https://api.github.com/repos/khyaathi/repo1/notifications{?since,all,participating}',\n",
       "  u'open_issues': 0,\n",
       "  u'open_issues_count': 0,\n",
       "  u'owner': {u'avatar_url': u'https://avatars2.githubusercontent.com/u/34699715?v=4',\n",
       "   u'events_url': u'https://api.github.com/users/khyaathi/events{/privacy}',\n",
       "   u'followers_url': u'https://api.github.com/users/khyaathi/followers',\n",
       "   u'following_url': u'https://api.github.com/users/khyaathi/following{/other_user}',\n",
       "   u'gists_url': u'https://api.github.com/users/khyaathi/gists{/gist_id}',\n",
       "   u'gravatar_id': u'',\n",
       "   u'html_url': u'https://github.com/khyaathi',\n",
       "   u'id': 34699715,\n",
       "   u'login': u'khyaathi',\n",
       "   u'node_id': u'MDEyOk9yZ2FuaXphdGlvbjM0Njk5NzE1',\n",
       "   u'organizations_url': u'https://api.github.com/users/khyaathi/orgs',\n",
       "   u'received_events_url': u'https://api.github.com/users/khyaathi/received_events',\n",
       "   u'repos_url': u'https://api.github.com/users/khyaathi/repos',\n",
       "   u'site_admin': False,\n",
       "   u'starred_url': u'https://api.github.com/users/khyaathi/starred{/owner}{/repo}',\n",
       "   u'subscriptions_url': u'https://api.github.com/users/khyaathi/subscriptions',\n",
       "   u'type': u'Organization',\n",
       "   u'url': u'https://api.github.com/users/khyaathi'},\n",
       "  u'permissions': {u'admin': True, u'pull': True, u'push': True},\n",
       "  u'private': False,\n",
       "  u'pulls_url': u'https://api.github.com/repos/khyaathi/repo1/pulls{/number}',\n",
       "  u'pushed_at': u'2018-11-29T03:07:14Z',\n",
       "  u'releases_url': u'https://api.github.com/repos/khyaathi/repo1/releases{/id}',\n",
       "  u'size': 0,\n",
       "  u'ssh_url': u'git@github.com:khyaathi/repo1.git',\n",
       "  u'stargazers_count': 0,\n",
       "  u'stargazers_url': u'https://api.github.com/repos/khyaathi/repo1/stargazers',\n",
       "  u'statuses_url': u'https://api.github.com/repos/khyaathi/repo1/statuses/{sha}',\n",
       "  u'subscribers_url': u'https://api.github.com/repos/khyaathi/repo1/subscribers',\n",
       "  u'subscription_url': u'https://api.github.com/repos/khyaathi/repo1/subscription',\n",
       "  u'svn_url': u'https://github.com/khyaathi/repo1',\n",
       "  u'tags_url': u'https://api.github.com/repos/khyaathi/repo1/tags',\n",
       "  u'teams_url': u'https://api.github.com/repos/khyaathi/repo1/teams',\n",
       "  u'trees_url': u'https://api.github.com/repos/khyaathi/repo1/git/trees{/sha}',\n",
       "  u'updated_at': u'2018-11-29T03:07:13Z',\n",
       "  u'url': u'https://api.github.com/repos/khyaathi/repo1',\n",
       "  u'watchers': 0,\n",
       "  u'watchers_count': 0}]"
      ]
     },
     "execution_count": 7,
     "metadata": {},
     "output_type": "execute_result"
    }
   ],
   "source": [
    "resp.json()"
   ]
  },
  {
   "cell_type": "code",
   "execution_count": 8,
   "metadata": {},
   "outputs": [
    {
     "name": "stdout",
     "output_type": "stream",
     "text": [
      "{u'documentation_url': u'https://developer.github.com/v3', u'message': u'Not Found'}\n"
     ]
    }
   ],
   "source": [
    "resp  = requests.get(\"https://api.github.com/orgs/khyaathi/repos/159599730\",\n",
    "                     auth=(username,password))\n",
    "print resp.json()"
   ]
  },
  {
   "cell_type": "code",
   "execution_count": 13,
   "metadata": {},
   "outputs": [
    {
     "name": "stdout",
     "output_type": "stream",
     "text": [
      "{u'documentation_url': u'https://developer.github.com/v3', u'message': u'Not Found'}\n"
     ]
    }
   ],
   "source": [
    "resp  = requests.get(\"https://api.github.com/orgs/khyaathi/repos/\",\n",
    "                     params={\"id\":\"159599730\"},\n",
    "                     auth=(username,password))\n",
    "print resp.json()"
   ]
  },
  {
   "cell_type": "code",
   "execution_count": 14,
   "metadata": {},
   "outputs": [
    {
     "name": "stdout",
     "output_type": "stream",
     "text": [
      "{u'documentation_url': u'https://developer.github.com/v3', u'message': u'Not Found'}\n"
     ]
    }
   ],
   "source": [
    "resp  = requests.get(\"https://api.github.com/repos/\",\n",
    "                     params={\"id\":\"159599730\"},\n",
    "                     auth=(username,password))\n",
    "print resp.json()"
   ]
  },
  {
   "cell_type": "code",
   "execution_count": 15,
   "metadata": {},
   "outputs": [
    {
     "data": {
      "text/plain": [
       "<Response [404]>"
      ]
     },
     "execution_count": 15,
     "metadata": {},
     "output_type": "execute_result"
    }
   ],
   "source": [
    "resp"
   ]
  },
  {
   "cell_type": "code",
   "execution_count": 16,
   "metadata": {},
   "outputs": [
    {
     "data": {
      "text/plain": [
       "404"
      ]
     },
     "execution_count": 16,
     "metadata": {},
     "output_type": "execute_result"
    }
   ],
   "source": [
    "resp.status_code"
   ]
  },
  {
   "cell_type": "code",
   "execution_count": 18,
   "metadata": {},
   "outputs": [
    {
     "name": "stdout",
     "output_type": "stream",
     "text": [
      "159599730\n"
     ]
    }
   ],
   "source": [
    "resp  = requests.get(\"https://api.github.com/orgs/khyaathi/repos\",\n",
    "                     auth=(username,password))\n",
    "data = resp.json()\n",
    "print data[0].get(\"id\")"
   ]
  },
  {
   "cell_type": "code",
   "execution_count": 19,
   "metadata": {},
   "outputs": [
    {
     "name": "stdout",
     "output_type": "stream",
     "text": [
      "159599730\n"
     ]
    }
   ],
   "source": [
    "resp  = requests.get(\"https://api.github.com/orgs/khyaathi/repos\",\n",
    "                     auth=(username,password))\n",
    "data = resp.json()\n",
    "for repo in data:\n",
    "    print repo.get(\"id\")"
   ]
  },
  {
   "cell_type": "code",
   "execution_count": 22,
   "metadata": {},
   "outputs": [
    {
     "name": "stdout",
     "output_type": "stream",
     "text": [
      "<Response [201]>\n",
      "159599730\n",
      "159600777\n"
     ]
    }
   ],
   "source": [
    "resp  = requests.post(\"https://api.github.com/orgs/khyaathi/repos\",\n",
    "                     json={\"name\":\"repo2\"},\n",
    "                     auth=(username,password))\n",
    "print resp\n",
    "resp  = requests.get(\"https://api.github.com/orgs/khyaathi/repos\",\n",
    "                     auth=(username,password))\n",
    "data = resp.json()\n",
    "for repo in data:\n",
    "    print repo.get(\"id\")"
   ]
  },
  {
   "cell_type": "code",
   "execution_count": 23,
   "metadata": {},
   "outputs": [
    {
     "name": "stdout",
     "output_type": "stream",
     "text": [
      "<Response [404]>\n"
     ]
    }
   ],
   "source": [
    "resp  = requests.get(\"https://api.github.com/orgs/khyaathi/repos/repo1\",\n",
    "                     auth=(username,password))\n",
    "print resp"
   ]
  },
  {
   "cell_type": "code",
   "execution_count": 25,
   "metadata": {
    "collapsed": true
   },
   "outputs": [],
   "source": [
    "import paramiko as pmk"
   ]
  },
  {
   "cell_type": "code",
   "execution_count": 26,
   "metadata": {
    "collapsed": true
   },
   "outputs": [],
   "source": [
    "ssh = pmk.SSHClient()"
   ]
  },
  {
   "cell_type": "code",
   "execution_count": 27,
   "metadata": {
    "collapsed": true
   },
   "outputs": [],
   "source": [
    "import paramiko as pmk\n",
    "ssh = pmk.SSHClient()\n",
    "ssh.set_missing_host_key_policy(pmk.AutoAddPolicy())\n",
    "ssh.connect(\"192.168.0.114\",username=\"sambapython\",password=\"123456\")"
   ]
  },
  {
   "cell_type": "code",
   "execution_count": 28,
   "metadata": {},
   "outputs": [
    {
     "data": {
      "text/plain": [
       "(<paramiko.ChannelFile from <paramiko.Channel 0 (open) window=2097152 -> <paramiko.Transport at 0x331bef50L (cipher aes128-ctr, 128 bits) (active; 1 open channel(s))>>>,\n",
       " <paramiko.ChannelFile from <paramiko.Channel 0 (open) window=2097152 -> <paramiko.Transport at 0x331bef50L (cipher aes128-ctr, 128 bits) (active; 1 open channel(s))>>>,\n",
       " <paramiko.ChannelFile from <paramiko.Channel 0 (open) window=2097152 -> <paramiko.Transport at 0x331bef50L (cipher aes128-ctr, 128 bits) (active; 1 open channel(s))>>>)"
      ]
     },
     "execution_count": 28,
     "metadata": {},
     "output_type": "execute_result"
    }
   ],
   "source": [
    "ssh.exec_command(\"mkdir folder1\")"
   ]
  },
  {
   "cell_type": "code",
   "execution_count": 29,
   "metadata": {},
   "outputs": [
    {
     "data": {
      "text/plain": [
       "(<paramiko.ChannelFile from <paramiko.Channel 1 (open) window=2097152 -> <paramiko.Transport at 0x331bef50L (cipher aes128-ctr, 128 bits) (active; 1 open channel(s))>>>,\n",
       " <paramiko.ChannelFile from <paramiko.Channel 1 (open) window=2097152 -> <paramiko.Transport at 0x331bef50L (cipher aes128-ctr, 128 bits) (active; 1 open channel(s))>>>,\n",
       " <paramiko.ChannelFile from <paramiko.Channel 1 (open) window=2097152 -> <paramiko.Transport at 0x331bef50L (cipher aes128-ctr, 128 bits) (active; 1 open channel(s))>>>)"
      ]
     },
     "execution_count": 29,
     "metadata": {},
     "output_type": "execute_result"
    }
   ],
   "source": [
    "ssh.exec_command(\"ls -l\")"
   ]
  },
  {
   "cell_type": "code",
   "execution_count": 30,
   "metadata": {
    "collapsed": true
   },
   "outputs": [],
   "source": [
    "inp, outp, errp = ssh.exec_command(\"mkdir folder2\")"
   ]
  },
  {
   "cell_type": "code",
   "execution_count": 31,
   "metadata": {},
   "outputs": [
    {
     "data": {
      "text/plain": [
       "'mkdir: cannot create directory \\xe2\\x80\\x98folder2\\xe2\\x80\\x99: Permission denied\\n'"
      ]
     },
     "execution_count": 31,
     "metadata": {},
     "output_type": "execute_result"
    }
   ],
   "source": [
    "errp.read()"
   ]
  },
  {
   "cell_type": "code",
   "execution_count": 32,
   "metadata": {},
   "outputs": [
    {
     "name": "stdout",
     "output_type": "stream",
     "text": [
      "\n"
     ]
    }
   ],
   "source": [
    "inp, outp, errp = ssh.exec_command(\"mkdir folder2\")\n",
    "print errp.read()"
   ]
  },
  {
   "cell_type": "code",
   "execution_count": 33,
   "metadata": {},
   "outputs": [
    {
     "name": "stdout",
     "output_type": "stream",
     "text": [
      "total 4\n",
      "drwxrwxr-x 2 sambapython sambapython 4096 Nov 29 09:09 folder2\n",
      "\n"
     ]
    }
   ],
   "source": [
    "inp, outp, errp = ssh.exec_command(\"ls -l\")\n",
    "print outp.read()"
   ]
  },
  {
   "cell_type": "code",
   "execution_count": 34,
   "metadata": {},
   "outputs": [
    {
     "name": "stdout",
     "output_type": "stream",
     "text": [
      "1\n",
      "10\n",
      "1006\n",
      "1053\n",
      "1056\n",
      "1057\n",
      "1071\n",
      "1075\n",
      "1077\n",
      "1082\n",
      "1086\n",
      "11\n",
      "116\n",
      "117\n",
      "1173\n",
      "1175\n",
      "1180\n",
      "1183\n",
      "1195\n",
      "12\n",
      "1200\n",
      "1219\n",
      "1228\n",
      "1238\n",
      "1242\n",
      "1244\n",
      "1249\n",
      "1258\n",
      "1265\n",
      "1270\n",
      "1276\n",
      "1280\n",
      "1284\n",
      "1294\n",
      "13\n",
      "1300\n",
      "1304\n",
      "1308\n",
      "1313\n",
      "1315\n",
      "1316\n",
      "1317\n",
      "1318\n",
      "1323\n",
      "1327\n",
      "1328\n",
      "1331\n",
      "1345\n",
      "1348\n",
      "1352\n",
      "1353\n",
      "1355\n",
      "1357\n",
      "1358\n",
      "1360\n",
      "1388\n",
      "14\n",
      "1411\n",
      "1412\n",
      "1413\n",
      "1419\n",
      "1444\n",
      "1450\n",
      "1463\n",
      "1479\n",
      "1491\n",
      "15\n",
      "1504\n",
      "1521\n",
      "1533\n",
      "1547\n",
      "1548\n",
      "16\n",
      "1623\n",
      "1632\n",
      "1643\n",
      "165\n",
      "1655\n",
      "166\n",
      "167\n",
      "168\n",
      "169\n",
      "170\n",
      "171\n",
      "172\n",
      "173\n",
      "174\n",
      "175\n",
      "176\n",
      "178\n",
      "179\n",
      "1792\n",
      "18\n",
      "180\n",
      "1841\n",
      "1843\n",
      "1844\n",
      "1857\n",
      "187\n",
      "19\n",
      "1915\n",
      "1917\n",
      "1943\n",
      "2\n",
      "20\n",
      "2024\n",
      "209\n",
      "21\n",
      "210\n",
      "22\n",
      "224\n",
      "24\n",
      "2442\n",
      "2443\n",
      "249\n",
      "25\n",
      "2522\n",
      "2524\n",
      "2525\n",
      "2526\n",
      "26\n",
      "2600\n",
      "2646\n",
      "2647\n",
      "27\n",
      "2702\n",
      "2704\n",
      "2705\n",
      "2706\n",
      "271\n",
      "28\n",
      "29\n",
      "30\n",
      "31\n",
      "311\n",
      "32\n",
      "33\n",
      "34\n",
      "35\n",
      "36\n",
      "37\n",
      "38\n",
      "39\n",
      "4\n",
      "40\n",
      "402\n",
      "41\n",
      "42\n",
      "460\n",
      "461\n",
      "503\n",
      "505\n",
      "6\n",
      "626\n",
      "633\n",
      "639\n",
      "643\n",
      "671\n",
      "672\n",
      "673\n",
      "674\n",
      "675\n",
      "676\n",
      "678\n",
      "679\n",
      "680\n",
      "682\n",
      "7\n",
      "711\n",
      "731\n",
      "739\n",
      "765\n",
      "793\n",
      "794\n",
      "8\n",
      "809\n",
      "828\n",
      "829\n",
      "84\n",
      "840\n",
      "842\n",
      "844\n",
      "85\n",
      "852\n",
      "859\n",
      "882\n",
      "887\n",
      "892\n",
      "894\n",
      "898\n",
      "899\n",
      "9\n",
      "90\n",
      "913\n",
      "914\n",
      "916\n",
      "928\n",
      "931\n",
      "933\n",
      "938\n",
      "948\n",
      "952\n",
      "953\n",
      "956\n",
      "957\n",
      "958\n",
      "961\n",
      "962\n",
      "965\n",
      "970\n",
      "971\n",
      "972\n",
      "973\n",
      "976\n",
      "977\n",
      "978\n",
      "982\n",
      "988\n",
      "99\n",
      "993\n",
      "acpi\n",
      "asound\n",
      "brcm_monitor0\n",
      "buddyinfo\n",
      "bus\n",
      "cgroups\n",
      "cmdline\n",
      "consoles\n",
      "cpuinfo\n",
      "crypto\n",
      "devices\n",
      "diskstats\n",
      "dma\n",
      "driver\n",
      "execdomains\n",
      "fb\n",
      "filesystems\n",
      "fs\n",
      "interrupts\n",
      "iomem\n",
      "ioports\n",
      "irq\n",
      "kallsyms\n",
      "kcore\n",
      "keys\n",
      "key-users\n",
      "kmsg\n",
      "kpagecgroup\n",
      "kpagecount\n",
      "kpageflags\n",
      "loadavg\n",
      "locks\n",
      "mdstat\n",
      "meminfo\n",
      "misc\n",
      "modules\n",
      "mounts\n",
      "mtrr\n",
      "net\n",
      "pagetypeinfo\n",
      "partitions\n",
      "sched_debug\n",
      "schedstat\n",
      "scsi\n",
      "self\n",
      "slabinfo\n",
      "softirqs\n",
      "stat\n",
      "swaps\n",
      "sys\n",
      "sysrq-trigger\n",
      "sysvipc\n",
      "thread-self\n",
      "timer_list\n",
      "tty\n",
      "uptime\n",
      "version\n",
      "version_signature\n",
      "vmallocinfo\n",
      "vmstat\n",
      "zoneinfo\n",
      "\n"
     ]
    }
   ],
   "source": [
    "inp, outp, errp = ssh.exec_command(\"echo 123456|sudo -S ls /proc\")\n",
    "print outp.read()"
   ]
  },
  {
   "cell_type": "code",
   "execution_count": 35,
   "metadata": {
    "collapsed": true
   },
   "outputs": [],
   "source": [
    "sftp = ssh.open_sftp()"
   ]
  },
  {
   "cell_type": "code",
   "execution_count": 36,
   "metadata": {},
   "outputs": [
    {
     "data": {
      "text/plain": [
       "<SFTPAttributes: [ size=42617 uid=1001 gid=1001 mode=0100664 atime=1543463174 mtime=1543463175 ]>"
      ]
     },
     "execution_count": 36,
     "metadata": {},
     "output_type": "execute_result"
    }
   ],
   "source": [
    "sftp.put(\"/home/khyaathi-python/pythonexamples/batch51/fun3.jpg\",\"/home/sambapython/fun3_1.jpg\")"
   ]
  },
  {
   "cell_type": "code",
   "execution_count": 37,
   "metadata": {},
   "outputs": [
    {
     "name": "stdout",
     "output_type": "stream",
     "text": [
      "total 48\n",
      "drwxrwxr-x 2 sambapython sambapython  4096 Nov 29 09:09 folder2\n",
      "-rw-rw-r-- 1 sambapython sambapython 42617 Nov 29 09:16 fun3_1.jpg\n",
      "\n"
     ]
    }
   ],
   "source": [
    "inp, outp, errp = ssh.exec_command(\"ls -l\")\n",
    "print outp.read()"
   ]
  },
  {
   "cell_type": "code",
   "execution_count": 38,
   "metadata": {
    "collapsed": true
   },
   "outputs": [],
   "source": [
    "sftp.get(\"/home/sambapython/fun3_1.jpg\",\"/home/khyaathi-python/pythonexamples/batch51/fun3_2.jpg\",)"
   ]
  },
  {
   "cell_type": "code",
   "execution_count": 39,
   "metadata": {
    "collapsed": true
   },
   "outputs": [],
   "source": [
    "import os"
   ]
  },
  {
   "cell_type": "code",
   "execution_count": 40,
   "metadata": {
    "collapsed": true
   },
   "outputs": [],
   "source": [
    "os.mkdir(\"folder3\")"
   ]
  },
  {
   "cell_type": "code",
   "execution_count": 41,
   "metadata": {},
   "outputs": [
    {
     "name": "stdout",
     "output_type": "stream",
     "text": [
      "              total        used        free      shared  buff/cache   available\n",
      "Mem:        3033944      871996      946704      206124     1215244     1764064\n",
      "Swap:             0           0           0\n",
      "\n"
     ]
    }
   ],
   "source": [
    "inp, outp, errp = ssh.exec_command(\"free\")\n",
    "print outp.read()"
   ]
  },
  {
   "cell_type": "code",
   "execution_count": 42,
   "metadata": {},
   "outputs": [
    {
     "name": "stdout",
     "output_type": "stream",
     "text": [
      "              total        used        free      shared  buff/cache   available\n",
      "Mem:        3033944      872376      951876      200552     1209692     1769272\n",
      "Swap:             0           0           0\n",
      "<type 'str'>\n"
     ]
    }
   ],
   "source": [
    "inp, outp, errp = ssh.exec_command(\"free\")\n",
    "resp = outp.read()\n",
    "print resp, type(resp)"
   ]
  },
  {
   "cell_type": "code",
   "execution_count": 43,
   "metadata": {},
   "outputs": [
    {
     "name": "stdout",
     "output_type": "stream",
     "text": [
      "['              total        used        free      shared  buff/cache   available', 'Mem:        3033944      872220      952032      200552     1209692     1769428', 'Swap:             0           0           0']\n"
     ]
    }
   ],
   "source": [
    "inp, outp, errp = ssh.exec_command(\"free\")\n",
    "resp = outp.read()\n",
    "print resp.splitlines()"
   ]
  },
  {
   "cell_type": "code",
   "execution_count": 44,
   "metadata": {},
   "outputs": [
    {
     "name": "stdout",
     "output_type": "stream",
     "text": [
      "Mem:        3033944      872256      951952      200584     1209736     1769360\n"
     ]
    }
   ],
   "source": [
    "inp, outp, errp = ssh.exec_command(\"free\")\n",
    "resp = outp.read()\n",
    "print resp.splitlines()[1]"
   ]
  },
  {
   "cell_type": "code",
   "execution_count": 45,
   "metadata": {},
   "outputs": [
    {
     "name": "stdout",
     "output_type": "stream",
     "text": [
      "['Mem:', '3033944', '872312', '952084', '200396', '1209548', '1769492']\n"
     ]
    }
   ],
   "source": [
    "inp, outp, errp = ssh.exec_command(\"free\")\n",
    "resp = outp.read()\n",
    "print resp.splitlines()[1].split()"
   ]
  },
  {
   "cell_type": "code",
   "execution_count": 46,
   "metadata": {},
   "outputs": [
    {
     "name": "stdout",
     "output_type": "stream",
     "text": [
      "872272\n"
     ]
    }
   ],
   "source": [
    "inp, outp, errp = ssh.exec_command(\"free\")\n",
    "resp = outp.read()\n",
    "print resp.splitlines()[1].split()[2]"
   ]
  },
  {
   "cell_type": "code",
   "execution_count": 49,
   "metadata": {},
   "outputs": [
    {
     "name": "stdout",
     "output_type": "stream",
     "text": [
      "192.168.0.114 USED SAPCE:875932\n",
      "192.168.0.114 USED SAPCE:876300\n",
      "192.168.0.114 USED SAPCE:876204\n"
     ]
    }
   ],
   "source": [
    "import paramiko as pmk\n",
    "servers=[(\"192.168.0.114\",\"sambapython\",\"123456\"),(\"192.168.0.114\",\"sambapython\",\"123456\"),(\"192.168.0.114\",\"sambapython\",\"123456\")]\n",
    "def get_ssh(ip, username, password):\n",
    "    ssh = pmk.SSHClient()\n",
    "    ssh.set_missing_host_key_policy(pmk.AutoAddPolicy())\n",
    "    ssh.connect(ip,username=username,password=password)\n",
    "    return ssh\n",
    "def get_used(ssh):\n",
    "    inp, outp, errp=ssh.exec_command(\"free\")\n",
    "    resp =outp.read()\n",
    "    return resp.splitlines()[1].split()[2]\n",
    "    \n",
    "for server in servers:\n",
    "    #ssh = get_ssh(server[0],server[1],server[2])\n",
    "    ssh = get_ssh(*server)\n",
    "    used_space=get_used(ssh)\n",
    "    print \"%s USED SAPCE:%s\"%(server[0],used_space)\n",
    "    ssh.close()\n",
    "    \n",
    "    "
   ]
  },
  {
   "cell_type": "code",
   "execution_count": 56,
   "metadata": {},
   "outputs": [
    {
     "name": "stdout",
     "output_type": "stream",
     "text": [
      "192.168.0.114 \tUSED SAPCE:876392 \tUSED SAPCE:876488 \tUSED SAPCE:876488\n"
     ]
    }
   ],
   "source": [
    "import paramiko as pmk\n",
    "servers=[(\"192.168.0.114\",\"sambapython\",\"123456\"),(\"192.168.0.114\",\"sambapython\",\"123456\"),(\"192.168.0.114\",\"sambapython\",\"123456\")]\n",
    "def get_ssh(ip, username, password):\n",
    "    ssh = pmk.SSHClient()\n",
    "    ssh.set_missing_host_key_policy(pmk.AutoAddPolicy())\n",
    "    ssh.connect(ip,username=username,password=password)\n",
    "    return ssh\n",
    "def get_used(ssh):\n",
    "    inp, outp, errp=ssh.exec_command(\"free\")\n",
    "    resp =outp.read()\n",
    "    return resp.splitlines()[1].split()[2]\n",
    "shown_servers=[]\n",
    "for server in servers:\n",
    "    #ssh = get_ssh(server[0],server[1],server[2])\n",
    "    ssh = get_ssh(*server)\n",
    "    used_space=get_used(ssh)\n",
    "    server_ip = server[0]\n",
    "    if server_ip not in shown_servers:\n",
    "        print server_ip,\n",
    "        shown_servers.append(server_ip)\n",
    "  \n",
    "    print \"\\tUSED SAPCE:%s\"%(used_space),\n",
    "    ssh.close()\n",
    "    \n",
    "    "
   ]
  },
  {
   "cell_type": "code",
   "execution_count": 54,
   "metadata": {},
   "outputs": [
    {
     "name": "stdout",
     "output_type": "stream",
     "text": [
      "sdfsd dasfdsf\n"
     ]
    }
   ],
   "source": [
    "print \"sdfsd\",\n",
    "print \"dasfdsf\""
   ]
  },
  {
   "cell_type": "code",
   "execution_count": 57,
   "metadata": {},
   "outputs": [
    {
     "name": "stdout",
     "output_type": "stream",
     "text": [
      "192.168.0.114 \t876388 \t876544 \t876768\n"
     ]
    }
   ],
   "source": [
    "import paramiko as pmk\n",
    "servers=[(\"192.168.0.114\",\"sambapython\",\"123456\"),(\"192.168.0.114\",\"sambapython\",\"123456\"),(\"192.168.0.114\",\"sambapython\",\"123456\")]\n",
    "def get_ssh(ip, username, password):\n",
    "    ssh = pmk.SSHClient()\n",
    "    ssh.set_missing_host_key_policy(pmk.AutoAddPolicy())\n",
    "    ssh.connect(ip,username=username,password=password)\n",
    "    return ssh\n",
    "def get_used(ssh):\n",
    "    inp, outp, errp=ssh.exec_command(\"free\")\n",
    "    resp =outp.read()\n",
    "    return resp.splitlines()[1].split()[2]\n",
    "shown_servers=[]\n",
    "for server in servers:\n",
    "    #ssh = get_ssh(server[0],server[1],server[2])\n",
    "    ssh = get_ssh(*server)\n",
    "    used_space=get_used(ssh)\n",
    "    server_ip = server[0]\n",
    "    if server_ip not in shown_servers:\n",
    "        print server_ip,\n",
    "        shown_servers.append(server_ip)\n",
    "  \n",
    "    print \"\\t%s\"%(used_space),\n",
    "    ssh.close()\n",
    "    \n",
    "    "
   ]
  },
  {
   "cell_type": "code",
   "execution_count": 60,
   "metadata": {},
   "outputs": [],
   "source": [
    "import pandas as pd\n",
    "df= pd.DataFrame([(\"192.168.0.114\",123),\n",
    "                 (\"192.168.0.114\",126),\n",
    "                 (\"192.168.0.114\",127)],columns=[\"ip\",\"memory\"])"
   ]
  },
  {
   "cell_type": "code",
   "execution_count": 61,
   "metadata": {},
   "outputs": [
    {
     "data": {
      "text/html": [
       "<div>\n",
       "<style>\n",
       "    .dataframe thead tr:only-child th {\n",
       "        text-align: right;\n",
       "    }\n",
       "\n",
       "    .dataframe thead th {\n",
       "        text-align: left;\n",
       "    }\n",
       "\n",
       "    .dataframe tbody tr th {\n",
       "        vertical-align: top;\n",
       "    }\n",
       "</style>\n",
       "<table border=\"1\" class=\"dataframe\">\n",
       "  <thead>\n",
       "    <tr style=\"text-align: right;\">\n",
       "      <th></th>\n",
       "      <th>ip</th>\n",
       "      <th>memory</th>\n",
       "    </tr>\n",
       "  </thead>\n",
       "  <tbody>\n",
       "    <tr>\n",
       "      <th>0</th>\n",
       "      <td>192.168.0.114</td>\n",
       "      <td>123</td>\n",
       "    </tr>\n",
       "    <tr>\n",
       "      <th>1</th>\n",
       "      <td>192.168.0.114</td>\n",
       "      <td>126</td>\n",
       "    </tr>\n",
       "    <tr>\n",
       "      <th>2</th>\n",
       "      <td>192.168.0.114</td>\n",
       "      <td>127</td>\n",
       "    </tr>\n",
       "  </tbody>\n",
       "</table>\n",
       "</div>"
      ],
      "text/plain": [
       "              ip  memory\n",
       "0  192.168.0.114     123\n",
       "1  192.168.0.114     126\n",
       "2  192.168.0.114     127"
      ]
     },
     "execution_count": 61,
     "metadata": {},
     "output_type": "execute_result"
    }
   ],
   "source": [
    "df"
   ]
  },
  {
   "cell_type": "code",
   "execution_count": 62,
   "metadata": {},
   "outputs": [
    {
     "data": {
      "image/png": "[encoded data removed]",
      "text/plain": [
       "<matplotlib.figure.Figure at 0x7f8a1b8bf8d0>"
      ]
     },
     "metadata": {},
     "output_type": "display_data"
    }
   ],
   "source": [
    "import matplotlib.pyplot as plt\n",
    "df.plot()\n",
    "plt.show()"
   ]
  },
  {
   "cell_type": "code",
   "execution_count": 63,
   "metadata": {},
   "outputs": [
    {
     "data": {
      "image/png": "[encoded data removed]",
      "text/plain": [
       "<matplotlib.figure.Figure at 0x7f8a32b65650>"
      ]
     },
     "metadata": {},
     "output_type": "display_data"
    }
   ],
   "source": [
    "import matplotlib.pyplot as plt\n",
    "df.plot(kind=\"bar\")\n",
    "plt.show()"
   ]
  },
  {
   "cell_type": "code",
   "execution_count": 64,
   "metadata": {
    "collapsed": true
   },
   "outputs": [],
   "source": [
    "df.to_csv(\"data_mem.csv\")"
   ]
  },
  {
   "cell_type": "code",
   "execution_count": 65,
   "metadata": {
    "collapsed": true
   },
   "outputs": [],
   "source": [
    "df.plot?"
   ]
  },
  {
   "cell_type": "code",
   "execution_count": 66,
   "metadata": {},
   "outputs": [
    {
     "data": {
      "image/png": "[encoded data removed]",
      "text/plain": [
       "<matplotlib.figure.Figure at 0x7f8a143da250>"
      ]
     },
     "metadata": {},
     "output_type": "display_data"
    }
   ],
   "source": [
    "import matplotlib.pyplot as plt\n",
    "df.plot(kind=\"bar\")\n",
    "plt.savefig(\"bar_mem.jpg\")\n",
    "plt.show()"
   ]
  },
  {
   "cell_type": "code",
   "execution_count": 67,
   "metadata": {},
   "outputs": [
    {
     "data": {
      "image/png": "[encoded data removed]",
      "text/plain": [
       "<matplotlib.figure.Figure at 0x7f8a143385d0>"
      ]
     },
     "metadata": {},
     "output_type": "display_data"
    }
   ],
   "source": [
    "import matplotlib.pyplot as plt\n",
    "df.plot()\n",
    "plt.savefig(\"bar_mem.jpg\")\n",
    "plt.show()"
   ]
  },
  {
   "cell_type": "code",
   "execution_count": 69,
   "metadata": {},
   "outputs": [
    {
     "data": {
      "image/png": "[encoded data removed]",
      "text/plain": [
       "<matplotlib.figure.Figure at 0x7f8a14445150>"
      ]
     },
     "metadata": {},
     "output_type": "display_data"
    }
   ],
   "source": [
    "\n",
    "import pandas as pd\n",
    "df= pd.DataFrame([(\"192.168.0.114\",123,120),\n",
    "                 (\"192.168.0.114\",126,140),\n",
    "                 (\"192.168.0.114\",127,100)],columns=[\"ip\",\"memory_used\",\"memory_pre\"])\n",
    "import matplotlib.pyplot as plt\n",
    "df.plot()\n",
    "plt.savefig(\"bar_mem.jpg\")\n",
    "plt.show()"
   ]
  },
  {
   "cell_type": "code",
   "execution_count": 74,
   "metadata": {},
   "outputs": [
    {
     "data": {
      "image/png": "[encoded data removed]",
      "text/plain": [
       "<matplotlib.figure.Figure at 0x7f8a14312090>"
      ]
     },
     "metadata": {},
     "output_type": "display_data"
    }
   ],
   "source": [
    "\n",
    "import pandas as pd\n",
    "df= pd.DataFrame([(\"192.168.0.114\",123,120),\n",
    "                 (\"192.168.0.115\",126,140),\n",
    "                 (\"192.168.0.116\",127,100)],columns=[\"ip\",\"memory_used\",\"memory_pre\"],\n",
    "                 index=[\"192.168.0.114\",\"192.168.0.115\",\"192.168.0.116\"])\n",
    "import matplotlib.pyplot as plt\n",
    "df.plot()\n",
    "plt.savefig(\"bar_mem.jpg\")\n",
    "plt.show()"
   ]
  },
  {
   "cell_type": "code",
   "execution_count": 73,
   "metadata": {
    "collapsed": true
   },
   "outputs": [],
   "source": [
    "pd.DataFrame?"
   ]
  },
  {
   "cell_type": "code",
   "execution_count": 75,
   "metadata": {},
   "outputs": [
    {
     "ename": "TypeError",
     "evalue": "Empty 'DataFrame': no numeric data to plot",
     "output_type": "error",
     "traceback": [
      "\u001b[0;31m---------------------------------------------------------------------------\u001b[0m",
      "\u001b[0;31mTypeError\u001b[0m                                 Traceback (most recent call last)",
      "\u001b[0;32m<ipython-input-75-6233d0a87279>\u001b[0m in \u001b[0;36m<module>\u001b[0;34m()\u001b[0m\n\u001b[1;32m      6\u001b[0m \u001b[0mdf\u001b[0m\u001b[0;34m=\u001b[0m\u001b[0mpd\u001b[0m\u001b[0;34m.\u001b[0m\u001b[0mDataFrame\u001b[0m\u001b[0;34m(\u001b[0m\u001b[0mdata\u001b[0m\u001b[0;34m)\u001b[0m\u001b[0;34m\u001b[0m\u001b[0m\n\u001b[1;32m      7\u001b[0m \u001b[0;32mimport\u001b[0m \u001b[0mmatplotlib\u001b[0m\u001b[0;34m.\u001b[0m\u001b[0mpyplot\u001b[0m \u001b[0;32mas\u001b[0m \u001b[0mplt\u001b[0m\u001b[0;34m\u001b[0m\u001b[0m\n\u001b[0;32m----> 8\u001b[0;31m \u001b[0mdf\u001b[0m\u001b[0;34m.\u001b[0m\u001b[0mplot\u001b[0m\u001b[0;34m(\u001b[0m\u001b[0;34m)\u001b[0m\u001b[0;34m\u001b[0m\u001b[0m\n\u001b[0m\u001b[1;32m      9\u001b[0m \u001b[0mplt\u001b[0m\u001b[0;34m.\u001b[0m\u001b[0msavefig\u001b[0m\u001b[0;34m(\u001b[0m\u001b[0;34m\"bar_mem.jpg\"\u001b[0m\u001b[0;34m)\u001b[0m\u001b[0;34m\u001b[0m\u001b[0m\n\u001b[1;32m     10\u001b[0m \u001b[0mplt\u001b[0m\u001b[0;34m.\u001b[0m\u001b[0mshow\u001b[0m\u001b[0;34m(\u001b[0m\u001b[0;34m)\u001b[0m\u001b[0;34m\u001b[0m\u001b[0m\n",
      "\u001b[0;32m/home/khyaathi-python/anaconda2/lib/python2.7/site-packages/pandas/plotting/_core.pyc\u001b[0m in \u001b[0;36m__call__\u001b[0;34m(self, x, y, kind, ax, subplots, sharex, sharey, layout, figsize, use_index, title, grid, legend, style, logx, logy, loglog, xticks, yticks, xlim, ylim, rot, fontsize, colormap, table, yerr, xerr, secondary_y, sort_columns, **kwds)\u001b[0m\n\u001b[1;32m   2625\u001b[0m                           \u001b[0mfontsize\u001b[0m\u001b[0;34m=\u001b[0m\u001b[0mfontsize\u001b[0m\u001b[0;34m,\u001b[0m \u001b[0mcolormap\u001b[0m\u001b[0;34m=\u001b[0m\u001b[0mcolormap\u001b[0m\u001b[0;34m,\u001b[0m \u001b[0mtable\u001b[0m\u001b[0;34m=\u001b[0m\u001b[0mtable\u001b[0m\u001b[0;34m,\u001b[0m\u001b[0;34m\u001b[0m\u001b[0m\n\u001b[1;32m   2626\u001b[0m                           \u001b[0myerr\u001b[0m\u001b[0;34m=\u001b[0m\u001b[0myerr\u001b[0m\u001b[0;34m,\u001b[0m \u001b[0mxerr\u001b[0m\u001b[0;34m=\u001b[0m\u001b[0mxerr\u001b[0m\u001b[0;34m,\u001b[0m \u001b[0msecondary_y\u001b[0m\u001b[0;34m=\u001b[0m\u001b[0msecondary_y\u001b[0m\u001b[0;34m,\u001b[0m\u001b[0;34m\u001b[0m\u001b[0m\n\u001b[0;32m-> 2627\u001b[0;31m                           sort_columns=sort_columns, **kwds)\n\u001b[0m\u001b[1;32m   2628\u001b[0m     \u001b[0m__call__\u001b[0m\u001b[0;34m.\u001b[0m\u001b[0m__doc__\u001b[0m \u001b[0;34m=\u001b[0m \u001b[0mplot_frame\u001b[0m\u001b[0;34m.\u001b[0m\u001b[0m__doc__\u001b[0m\u001b[0;34m\u001b[0m\u001b[0m\n\u001b[1;32m   2629\u001b[0m \u001b[0;34m\u001b[0m\u001b[0m\n",
      "\u001b[0;32m/home/khyaathi-python/anaconda2/lib/python2.7/site-packages/pandas/plotting/_core.pyc\u001b[0m in \u001b[0;36mplot_frame\u001b[0;34m(data, x, y, kind, ax, subplots, sharex, sharey, layout, figsize, use_index, title, grid, legend, style, logx, logy, loglog, xticks, yticks, xlim, ylim, rot, fontsize, colormap, table, yerr, xerr, secondary_y, sort_columns, **kwds)\u001b[0m\n\u001b[1;32m   1867\u001b[0m                  \u001b[0myerr\u001b[0m\u001b[0;34m=\u001b[0m\u001b[0myerr\u001b[0m\u001b[0;34m,\u001b[0m \u001b[0mxerr\u001b[0m\u001b[0;34m=\u001b[0m\u001b[0mxerr\u001b[0m\u001b[0;34m,\u001b[0m\u001b[0;34m\u001b[0m\u001b[0m\n\u001b[1;32m   1868\u001b[0m                  \u001b[0msecondary_y\u001b[0m\u001b[0;34m=\u001b[0m\u001b[0msecondary_y\u001b[0m\u001b[0;34m,\u001b[0m \u001b[0msort_columns\u001b[0m\u001b[0;34m=\u001b[0m\u001b[0msort_columns\u001b[0m\u001b[0;34m,\u001b[0m\u001b[0;34m\u001b[0m\u001b[0m\n\u001b[0;32m-> 1869\u001b[0;31m                  **kwds)\n\u001b[0m\u001b[1;32m   1870\u001b[0m \u001b[0;34m\u001b[0m\u001b[0m\n\u001b[1;32m   1871\u001b[0m \u001b[0;34m\u001b[0m\u001b[0m\n",
      "\u001b[0;32m/home/khyaathi-python/anaconda2/lib/python2.7/site-packages/pandas/plotting/_core.pyc\u001b[0m in \u001b[0;36m_plot\u001b[0;34m(data, x, y, subplots, ax, kind, **kwds)\u001b[0m\n\u001b[1;32m   1692\u001b[0m         \u001b[0mplot_obj\u001b[0m \u001b[0;34m=\u001b[0m \u001b[0mklass\u001b[0m\u001b[0;34m(\u001b[0m\u001b[0mdata\u001b[0m\u001b[0;34m,\u001b[0m \u001b[0msubplots\u001b[0m\u001b[0;34m=\u001b[0m\u001b[0msubplots\u001b[0m\u001b[0;34m,\u001b[0m \u001b[0max\u001b[0m\u001b[0;34m=\u001b[0m\u001b[0max\u001b[0m\u001b[0;34m,\u001b[0m \u001b[0mkind\u001b[0m\u001b[0;34m=\u001b[0m\u001b[0mkind\u001b[0m\u001b[0;34m,\u001b[0m \u001b[0;34m**\u001b[0m\u001b[0mkwds\u001b[0m\u001b[0;34m)\u001b[0m\u001b[0;34m\u001b[0m\u001b[0m\n\u001b[1;32m   1693\u001b[0m \u001b[0;34m\u001b[0m\u001b[0m\n\u001b[0;32m-> 1694\u001b[0;31m     \u001b[0mplot_obj\u001b[0m\u001b[0;34m.\u001b[0m\u001b[0mgenerate\u001b[0m\u001b[0;34m(\u001b[0m\u001b[0;34m)\u001b[0m\u001b[0;34m\u001b[0m\u001b[0m\n\u001b[0m\u001b[1;32m   1695\u001b[0m     \u001b[0mplot_obj\u001b[0m\u001b[0;34m.\u001b[0m\u001b[0mdraw\u001b[0m\u001b[0;34m(\u001b[0m\u001b[0;34m)\u001b[0m\u001b[0;34m\u001b[0m\u001b[0m\n\u001b[1;32m   1696\u001b[0m     \u001b[0;32mreturn\u001b[0m \u001b[0mplot_obj\u001b[0m\u001b[0;34m.\u001b[0m\u001b[0mresult\u001b[0m\u001b[0;34m\u001b[0m\u001b[0m\n",
      "\u001b[0;32m/home/khyaathi-python/anaconda2/lib/python2.7/site-packages/pandas/plotting/_core.pyc\u001b[0m in \u001b[0;36mgenerate\u001b[0;34m(self)\u001b[0m\n\u001b[1;32m    241\u001b[0m     \u001b[0;32mdef\u001b[0m \u001b[0mgenerate\u001b[0m\u001b[0;34m(\u001b[0m\u001b[0mself\u001b[0m\u001b[0;34m)\u001b[0m\u001b[0;34m:\u001b[0m\u001b[0;34m\u001b[0m\u001b[0m\n\u001b[1;32m    242\u001b[0m         \u001b[0mself\u001b[0m\u001b[0;34m.\u001b[0m\u001b[0m_args_adjust\u001b[0m\u001b[0;34m(\u001b[0m\u001b[0;34m)\u001b[0m\u001b[0;34m\u001b[0m\u001b[0m\n\u001b[0;32m--> 243\u001b[0;31m         \u001b[0mself\u001b[0m\u001b[0;34m.\u001b[0m\u001b[0m_compute_plot_data\u001b[0m\u001b[0;34m(\u001b[0m\u001b[0;34m)\u001b[0m\u001b[0;34m\u001b[0m\u001b[0m\n\u001b[0m\u001b[1;32m    244\u001b[0m         \u001b[0mself\u001b[0m\u001b[0;34m.\u001b[0m\u001b[0m_setup_subplots\u001b[0m\u001b[0;34m(\u001b[0m\u001b[0;34m)\u001b[0m\u001b[0;34m\u001b[0m\u001b[0m\n\u001b[1;32m    245\u001b[0m         \u001b[0mself\u001b[0m\u001b[0;34m.\u001b[0m\u001b[0m_make_plot\u001b[0m\u001b[0;34m(\u001b[0m\u001b[0;34m)\u001b[0m\u001b[0;34m\u001b[0m\u001b[0m\n",
      "\u001b[0;32m/home/khyaathi-python/anaconda2/lib/python2.7/site-packages/pandas/plotting/_core.pyc\u001b[0m in \u001b[0;36m_compute_plot_data\u001b[0;34m(self)\u001b[0m\n\u001b[1;32m    350\u001b[0m         \u001b[0;32mif\u001b[0m \u001b[0mis_empty\u001b[0m\u001b[0;34m:\u001b[0m\u001b[0;34m\u001b[0m\u001b[0m\n\u001b[1;32m    351\u001b[0m             raise TypeError('Empty {0!r}: no numeric data to '\n\u001b[0;32m--> 352\u001b[0;31m                             'plot'.format(numeric_data.__class__.__name__))\n\u001b[0m\u001b[1;32m    353\u001b[0m \u001b[0;34m\u001b[0m\u001b[0m\n\u001b[1;32m    354\u001b[0m         \u001b[0mself\u001b[0m\u001b[0;34m.\u001b[0m\u001b[0mdata\u001b[0m \u001b[0;34m=\u001b[0m \u001b[0mnumeric_data\u001b[0m\u001b[0;34m\u001b[0m\u001b[0m\n",
      "\u001b[0;31mTypeError\u001b[0m: Empty 'DataFrame': no numeric data to plot"
     ]
    }
   ],
   "source": [
    "\n",
    "import pandas as pd\n",
    "data={\"192.168.0.1\":[{\"time\":\"12:30\",\"used\":123},{\"time\":\"1:30\",\"used\":124}],\n",
    "      \"192.168.0.2\":[{\"time\":\"12:30\",\"used\":130},{\"time\":\"1:30\",\"used\":140}],\n",
    "     }\n",
    "df=pd.DataFrame(data)\n",
    "import matplotlib.pyplot as plt\n",
    "df.plot()\n",
    "plt.savefig(\"bar_mem.jpg\")\n",
    "plt.show()"
   ]
  },
  {
   "cell_type": "code",
   "execution_count": 78,
   "metadata": {},
   "outputs": [
    {
     "data": {
      "text/html": [
       "<div>\n",
       "<style>\n",
       "    .dataframe thead tr:only-child th {\n",
       "        text-align: right;\n",
       "    }\n",
       "\n",
       "    .dataframe thead th {\n",
       "        text-align: left;\n",
       "    }\n",
       "\n",
       "    .dataframe tbody tr th {\n",
       "        vertical-align: top;\n",
       "    }\n",
       "</style>\n",
       "<table border=\"1\" class=\"dataframe\">\n",
       "  <thead>\n",
       "    <tr style=\"text-align: right;\">\n",
       "      <th></th>\n",
       "      <th>time</th>\n",
       "      <th>used</th>\n",
       "    </tr>\n",
       "  </thead>\n",
       "  <tbody>\n",
       "    <tr>\n",
       "      <th>192.168.0.1</th>\n",
       "      <td>{u'used': 123, u'time': u'12:30'}</td>\n",
       "      <td>{u'used': 124, u'time': u'1:30'}</td>\n",
       "    </tr>\n",
       "    <tr>\n",
       "      <th>192.168.0.2</th>\n",
       "      <td>{u'used': 130, u'time': u'12:30'}</td>\n",
       "      <td>{u'used': 140, u'time': u'1:30'}</td>\n",
       "    </tr>\n",
       "  </tbody>\n",
       "</table>\n",
       "</div>"
      ],
      "text/plain": [
       "                                          time  \\\n",
       "192.168.0.1  {u'used': 123, u'time': u'12:30'}   \n",
       "192.168.0.2  {u'used': 130, u'time': u'12:30'}   \n",
       "\n",
       "                                         used  \n",
       "192.168.0.1  {u'used': 124, u'time': u'1:30'}  \n",
       "192.168.0.2  {u'used': 140, u'time': u'1:30'}  "
      ]
     },
     "execution_count": 78,
     "metadata": {},
     "output_type": "execute_result"
    }
   ],
   "source": [
    "\n",
    "import pandas as pd\n",
    "data=[[{\"time\":\"12:30\",\"used\":123},{\"time\":\"1:30\",\"used\":124}],\n",
    "      [{\"time\":\"12:30\",\"used\":130},{\"time\":\"1:30\",\"used\":140}],\n",
    "     ]\n",
    "index=[\"192.168.0.1\",\"192.168.0.2\"]\n",
    "df=pd.DataFrame(data,index=index,columns=[\"time\",\"used\"])\n",
    "df"
   ]
  },
  {
   "cell_type": "code",
   "execution_count": null,
   "metadata": {
    "collapsed": true
   },
   "outputs": [],
   "source": []
  }
 ],
 "metadata": {
  "kernelspec": {
   "display_name": "Python 2",
   "language": "python",
   "name": "python2"
  },
  "language_info": {
   "codemirror_mode": {
    "name": "ipython",
    "version": 2
   },
   "file_extension": ".py",
   "mimetype": "text/x-python",
   "name": "python",
   "nbconvert_exporter": "python",
   "pygments_lexer": "ipython2",
   "version": "2.7.14"
  }
 },
 "nbformat": 4,
 "nbformat_minor": 2
}
