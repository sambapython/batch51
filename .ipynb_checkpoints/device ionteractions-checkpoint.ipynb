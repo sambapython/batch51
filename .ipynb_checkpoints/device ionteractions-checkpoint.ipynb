{
 "cells": [
  {
   "cell_type": "code",
   "execution_count": 1,
   "metadata": {},
   "outputs": [
    {
     "data": {
      "text/plain": [
       "0"
      ]
     },
     "execution_count": 1,
     "metadata": {},
     "output_type": "execute_result"
    }
   ],
   "source": [
    "import os\n",
    "os.system(\"mkdir folder2\")"
   ]
  },
  {
   "cell_type": "code",
   "execution_count": 2,
   "metadata": {},
   "outputs": [
    {
     "data": {
      "text/plain": [
       "0"
      ]
     },
     "execution_count": 2,
     "metadata": {},
     "output_type": "execute_result"
    }
   ],
   "source": [
    "os.system(\"rm -rf folder2\")"
   ]
  },
  {
   "cell_type": "code",
   "execution_count": 3,
   "metadata": {},
   "outputs": [
    {
     "data": {
      "text/plain": [
       "0"
      ]
     },
     "execution_count": 3,
     "metadata": {},
     "output_type": "execute_result"
    }
   ],
   "source": [
    "os.system(\"rm -rf folder2\")"
   ]
  },
  {
   "cell_type": "code",
   "execution_count": 5,
   "metadata": {},
   "outputs": [
    {
     "data": {
      "text/plain": [
       "256"
      ]
     },
     "execution_count": 5,
     "metadata": {},
     "output_type": "execute_result"
    }
   ],
   "source": [
    "os.system(\"rm -r folder2\")"
   ]
  },
  {
   "cell_type": "code",
   "execution_count": 6,
   "metadata": {},
   "outputs": [
    {
     "data": {
      "text/plain": [
       "0"
      ]
     },
     "execution_count": 6,
     "metadata": {},
     "output_type": "execute_result"
    }
   ],
   "source": [
    "os.system(\"rm -r folder1\")"
   ]
  },
  {
   "cell_type": "code",
   "execution_count": 8,
   "metadata": {},
   "outputs": [
    {
     "data": {
      "text/plain": [
       "0"
      ]
     },
     "execution_count": 8,
     "metadata": {},
     "output_type": "execute_result"
    }
   ],
   "source": [
    "os.system(\"ls -l\")"
   ]
  },
  {
   "cell_type": "code",
   "execution_count": 10,
   "metadata": {},
   "outputs": [
    {
     "name": "stdout",
     "output_type": "stream",
     "text": [
      "total 3964\n",
      "-rw-r--r-- 1 khyaathi-python khyaathi-python   42939 Nov 13 09:31 adv concepts.ipynb\n",
      "-rw-r--r-- 1 khyaathi-python khyaathi-python      76 Nov  6 09:39 a.py\n",
      "-rw-r--r-- 1 khyaathi-python khyaathi-python   28239 Oct 12 09:23 Assignments.odt\n",
      "-rw-r--r-- 1 khyaathi-python khyaathi-python   52976 Oct 26 09:02 conditinal statements.ipynb\n",
      "-rw-r--r-- 1 khyaathi-python khyaathi-python     132 Nov 18 08:55 data1.csv\n",
      "-rw-r--r-- 1 khyaathi-python khyaathi-python       0 Nov 18 09:00 data2.csv\n",
      "-rw-r--r-- 1 khyaathi-python khyaathi-python     110 Nov 20 08:16 data3.csv\n",
      "-rw-r--r-- 1 khyaathi-python khyaathi-python     132 Nov 18 08:52 data.csv\n",
      "-rw-r--r-- 1 khyaathi-python khyaathi-python     586 Sep 10 08:57 data.json\n",
      "-rw-r--r-- 1 khyaathi-python khyaathi-python     117 Sep 10 08:53 data.yaml\n",
      "-rw-r--r-- 1 khyaathi-python khyaathi-python    8192 Nov 18 09:51 db1.sqlite3\n",
      "-rw-r--r-- 1 khyaathi-python khyaathi-python   41174 Nov 18 09:16 DB.jpg\n",
      "-rw-r--r-- 1 khyaathi-python khyaathi-python    7191 Nov 20 08:59 DB Operaions.ipynb\n",
      "-rw-r--r-- 1 khyaathi-python khyaathi-python    2180 Nov 28 08:58 device ionteractions.ipynb\n",
      "-rw-r--r-- 1 khyaathi-python khyaathi-python   41241 Nov 10 09:38 dictionaries.ipynb\n",
      "-rw-r--r-- 1 khyaathi-python khyaathi-python   41922 Nov 21 08:56 exceptions.ipynb\n",
      "-rw-r--r-- 1 khyaathi-python khyaathi-python     628 Nov 21 08:24 excp.py\n",
      "-rw-r--r-- 1 khyaathi-python khyaathi-python   32604 Nov 18 08:39 file1.jpg\n",
      "-rw-r--r-- 1 khyaathi-python khyaathi-python   22271 Nov 18 09:20 file based and block based DB.jpg\n",
      "-rw-r--r-- 1 khyaathi-python khyaathi-python   69904 Nov 18 08:44 files-assignment.jpg\n",
      "-rw-r--r-- 1 khyaathi-python khyaathi-python   37423 Nov 20 08:35 files.ipynb\n",
      "drwxr-xr-x 2 khyaathi-python khyaathi-python    4096 Nov  6 09:43 floder1\n",
      "-rw-r--r-- 1 khyaathi-python khyaathi-python   71929 Nov  2 08:53 fun2_mem.jpg\n",
      "-rw-r--r-- 1 khyaathi-python khyaathi-python   42617 Nov 25 08:40 fun3.jpg\n",
      "-rw-r--r-- 1 khyaathi-python khyaathi-python   50312 Nov  2 09:25 functions.ipynb\n",
      "-rw-r--r-- 1 khyaathi-python khyaathi-python   41782 Nov  2 08:25 fun_mem.jpg\n",
      "-rw-r--r-- 1 khyaathi-python khyaathi-python     177 Oct 24 09:00 git commands.txt\n",
      "-rw-r--r-- 1 khyaathi-python khyaathi-python   34442 Oct 24 09:25 git.jpg\n",
      "-rw-r--r-- 1 khyaathi-python khyaathi-python   46313 Oct 12 09:11 int_mem2.jpg\n",
      "-rw-r--r-- 1 khyaathi-python khyaathi-python   69562 Nov  9 09:25 lists.ipynb\n",
      "-rw-r--r-- 1 khyaathi-python khyaathi-python   51652 Oct 27 09:44 loop1.jpg\n",
      "-rw-r--r-- 1 khyaathi-python khyaathi-python   33241 Oct 27 10:31 loop2.jpg\n",
      "-rw-r--r-- 1 khyaathi-python khyaathi-python   22488 Oct 31 09:06 looping2.ipynb\n",
      "-rw-r--r-- 1 khyaathi-python khyaathi-python 2585677 Oct 30 09:34 looping statements.ipynb\n",
      "-rw-r--r-- 1 khyaathi-python khyaathi-python     276 Oct 23 09:15 mails.txt\n",
      "drwxr-xr-x 3 khyaathi-python khyaathi-python    4096 Nov 18 07:41 modules\n",
      "drwxr-xr-x 2 khyaathi-python khyaathi-python    4096 Nov 24 09:57 monitoring\n",
      "-rw-r--r-- 1 khyaathi-python khyaathi-python   33943 Nov 24 09:43 oops1.jpg\n",
      "-rw-r--r-- 1 khyaathi-python khyaathi-python   46883 Nov 25 09:27 oops3.jpg\n",
      "-rw-r--r-- 1 khyaathi-python khyaathi-python  146026 Nov 26 09:49 oops.ipynb\n",
      "-rw-r--r-- 1 khyaathi-python khyaathi-python   32734 Nov 28 08:56 regular exp.ipynb\n",
      "drwxr-xr-x 2 khyaathi-python khyaathi-python    4096 Nov 27 09:07 socket_program\n",
      "-rw-r--r-- 1 khyaathi-python khyaathi-python   12587 Nov  8 08:32 stringfunction3.ipynb\n",
      "-rw-r--r-- 1 khyaathi-python khyaathi-python   54519 Nov  6 09:43 string functions2.ipynb\n",
      "-rw-r--r-- 1 khyaathi-python khyaathi-python   55163 Nov  5 09:22 string functions.ipynb\n",
      "-rw-r--r-- 1 khyaathi-python khyaathi-python      72 Oct 16 06:56 Untitled1.ipynb\n",
      "-rw-r--r-- 1 khyaathi-python khyaathi-python     828 Nov 13 07:31 Untitled2.ipynb\n",
      "-rw-r--r-- 1 khyaathi-python khyaathi-python    4906 Oct 12 09:14 Untitled.ipynb\n",
      "-rw-r--r-- 1 khyaathi-python khyaathi-python   61386 Oct 24 08:24 variables expressions statements.ipynb\n",
      "\n"
     ]
    }
   ],
   "source": [
    "from subprocess import check_output\n",
    "print check_output([\"ls\",\"-l\"])"
   ]
  },
  {
   "cell_type": "code",
   "execution_count": 11,
   "metadata": {},
   "outputs": [
    {
     "name": "stdout",
     "output_type": "stream",
     "text": [
      "total 3964\n",
      "-rw-r--r-- 1 khyaathi-python khyaathi-python   42939 Nov 13 09:31 adv concepts.ipynb\n",
      "-rw-r--r-- 1 khyaathi-python khyaathi-python      76 Nov  6 09:39 a.py\n",
      "-rw-r--r-- 1 khyaathi-python khyaathi-python   28239 Oct 12 09:23 Assignments.odt\n",
      "-rw-r--r-- 1 khyaathi-python khyaathi-python   52976 Oct 26 09:02 conditinal statements.ipynb\n",
      "-rw-r--r-- 1 khyaathi-python khyaathi-python     132 Nov 18 08:55 data1.csv\n",
      "-rw-r--r-- 1 khyaathi-python khyaathi-python       0 Nov 18 09:00 data2.csv\n",
      "-rw-r--r-- 1 khyaathi-python khyaathi-python     110 Nov 20 08:16 data3.csv\n",
      "-rw-r--r-- 1 khyaathi-python khyaathi-python     132 Nov 18 08:52 data.csv\n",
      "-rw-r--r-- 1 khyaathi-python khyaathi-python     586 Sep 10 08:57 data.json\n",
      "-rw-r--r-- 1 khyaathi-python khyaathi-python     117 Sep 10 08:53 data.yaml\n",
      "-rw-r--r-- 1 khyaathi-python khyaathi-python    8192 Nov 18 09:51 db1.sqlite3\n",
      "-rw-r--r-- 1 khyaathi-python khyaathi-python   41174 Nov 18 09:16 DB.jpg\n",
      "-rw-r--r-- 1 khyaathi-python khyaathi-python    7191 Nov 20 08:59 DB Operaions.ipynb\n",
      "-rw-r--r-- 1 khyaathi-python khyaathi-python    2180 Nov 28 08:58 device ionteractions.ipynb\n",
      "-rw-r--r-- 1 khyaathi-python khyaathi-python   41241 Nov 10 09:38 dictionaries.ipynb\n",
      "-rw-r--r-- 1 khyaathi-python khyaathi-python   41922 Nov 21 08:56 exceptions.ipynb\n",
      "-rw-r--r-- 1 khyaathi-python khyaathi-python     628 Nov 21 08:24 excp.py\n",
      "-rw-r--r-- 1 khyaathi-python khyaathi-python   32604 Nov 18 08:39 file1.jpg\n",
      "-rw-r--r-- 1 khyaathi-python khyaathi-python   22271 Nov 18 09:20 file based and block based DB.jpg\n",
      "-rw-r--r-- 1 khyaathi-python khyaathi-python   69904 Nov 18 08:44 files-assignment.jpg\n",
      "-rw-r--r-- 1 khyaathi-python khyaathi-python   37423 Nov 20 08:35 files.ipynb\n",
      "drwxr-xr-x 2 khyaathi-python khyaathi-python    4096 Nov  6 09:43 floder1\n",
      "-rw-r--r-- 1 khyaathi-python khyaathi-python   71929 Nov  2 08:53 fun2_mem.jpg\n",
      "-rw-r--r-- 1 khyaathi-python khyaathi-python   42617 Nov 25 08:40 fun3.jpg\n",
      "-rw-r--r-- 1 khyaathi-python khyaathi-python   50312 Nov  2 09:25 functions.ipynb\n",
      "-rw-r--r-- 1 khyaathi-python khyaathi-python   41782 Nov  2 08:25 fun_mem.jpg\n",
      "-rw-r--r-- 1 khyaathi-python khyaathi-python     177 Oct 24 09:00 git commands.txt\n",
      "-rw-r--r-- 1 khyaathi-python khyaathi-python   34442 Oct 24 09:25 git.jpg\n",
      "-rw-r--r-- 1 khyaathi-python khyaathi-python   46313 Oct 12 09:11 int_mem2.jpg\n",
      "-rw-r--r-- 1 khyaathi-python khyaathi-python   69562 Nov  9 09:25 lists.ipynb\n",
      "-rw-r--r-- 1 khyaathi-python khyaathi-python   51652 Oct 27 09:44 loop1.jpg\n",
      "-rw-r--r-- 1 khyaathi-python khyaathi-python   33241 Oct 27 10:31 loop2.jpg\n",
      "-rw-r--r-- 1 khyaathi-python khyaathi-python   22488 Oct 31 09:06 looping2.ipynb\n",
      "-rw-r--r-- 1 khyaathi-python khyaathi-python 2585677 Oct 30 09:34 looping statements.ipynb\n",
      "-rw-r--r-- 1 khyaathi-python khyaathi-python     276 Oct 23 09:15 mails.txt\n",
      "drwxr-xr-x 3 khyaathi-python khyaathi-python    4096 Nov 18 07:41 modules\n",
      "drwxr-xr-x 2 khyaathi-python khyaathi-python    4096 Nov 24 09:57 monitoring\n",
      "-rw-r--r-- 1 khyaathi-python khyaathi-python   33943 Nov 24 09:43 oops1.jpg\n",
      "-rw-r--r-- 1 khyaathi-python khyaathi-python   46883 Nov 25 09:27 oops3.jpg\n",
      "-rw-r--r-- 1 khyaathi-python khyaathi-python  146026 Nov 26 09:49 oops.ipynb\n",
      "-rw-r--r-- 1 khyaathi-python khyaathi-python   32734 Nov 28 08:56 regular exp.ipynb\n",
      "drwxr-xr-x 2 khyaathi-python khyaathi-python    4096 Nov 27 09:07 socket_program\n",
      "-rw-r--r-- 1 khyaathi-python khyaathi-python   12587 Nov  8 08:32 stringfunction3.ipynb\n",
      "-rw-r--r-- 1 khyaathi-python khyaathi-python   54519 Nov  6 09:43 string functions2.ipynb\n",
      "-rw-r--r-- 1 khyaathi-python khyaathi-python   55163 Nov  5 09:22 string functions.ipynb\n",
      "-rw-r--r-- 1 khyaathi-python khyaathi-python      72 Oct 16 06:56 Untitled1.ipynb\n",
      "-rw-r--r-- 1 khyaathi-python khyaathi-python     828 Nov 13 07:31 Untitled2.ipynb\n",
      "-rw-r--r-- 1 khyaathi-python khyaathi-python    4906 Oct 12 09:14 Untitled.ipynb\n",
      "-rw-r--r-- 1 khyaathi-python khyaathi-python   61386 Oct 24 08:24 variables expressions statements.ipynb\n",
      "\n"
     ]
    }
   ],
   "source": [
    "from subprocess import check_output\n",
    "res = check_output([\"ls\",\"-l\"])\n",
    "print res"
   ]
  },
  {
   "cell_type": "code",
   "execution_count": 14,
   "metadata": {},
   "outputs": [
    {
     "ename": "CalledProcessError",
     "evalue": "Command '['ps', '-aux', '|', 'grep', 'pinta']' returned non-zero exit status 1",
     "output_type": "error",
     "traceback": [
      "\u001b[0;31m---------------------------------------------------------------------------\u001b[0m",
      "\u001b[0;31mCalledProcessError\u001b[0m                        Traceback (most recent call last)",
      "\u001b[0;32m<ipython-input-14-4be04fec6797>\u001b[0m in \u001b[0;36m<module>\u001b[0;34m()\u001b[0m\n\u001b[1;32m      1\u001b[0m \u001b[0;32mfrom\u001b[0m \u001b[0msubprocess\u001b[0m \u001b[0;32mimport\u001b[0m \u001b[0mcheck_output\u001b[0m\u001b[0;34m\u001b[0m\u001b[0m\n\u001b[0;32m----> 2\u001b[0;31m \u001b[0mres\u001b[0m \u001b[0;34m=\u001b[0m \u001b[0mcheck_output\u001b[0m\u001b[0;34m(\u001b[0m\u001b[0;34m[\u001b[0m\u001b[0;34m\"ps\"\u001b[0m\u001b[0;34m,\u001b[0m\u001b[0;34m\"-aux\"\u001b[0m\u001b[0;34m,\u001b[0m\u001b[0;34m\"|\"\u001b[0m\u001b[0;34m,\u001b[0m\u001b[0;34m\"grep\"\u001b[0m\u001b[0;34m,\u001b[0m\u001b[0;34m\"pinta\"\u001b[0m\u001b[0;34m]\u001b[0m\u001b[0;34m)\u001b[0m\u001b[0;34m\u001b[0m\u001b[0m\n\u001b[0m\u001b[1;32m      3\u001b[0m \u001b[0;32mprint\u001b[0m \u001b[0mres\u001b[0m\u001b[0;34m\u001b[0m\u001b[0m\n",
      "\u001b[0;32m/home/khyaathi-python/anaconda2/lib/python2.7/subprocess.pyc\u001b[0m in \u001b[0;36mcheck_output\u001b[0;34m(*popenargs, **kwargs)\u001b[0m\n\u001b[1;32m    217\u001b[0m         \u001b[0;32mif\u001b[0m \u001b[0mcmd\u001b[0m \u001b[0;32mis\u001b[0m \u001b[0mNone\u001b[0m\u001b[0;34m:\u001b[0m\u001b[0;34m\u001b[0m\u001b[0m\n\u001b[1;32m    218\u001b[0m             \u001b[0mcmd\u001b[0m \u001b[0;34m=\u001b[0m \u001b[0mpopenargs\u001b[0m\u001b[0;34m[\u001b[0m\u001b[0;36m0\u001b[0m\u001b[0;34m]\u001b[0m\u001b[0;34m\u001b[0m\u001b[0m\n\u001b[0;32m--> 219\u001b[0;31m         \u001b[0;32mraise\u001b[0m \u001b[0mCalledProcessError\u001b[0m\u001b[0;34m(\u001b[0m\u001b[0mretcode\u001b[0m\u001b[0;34m,\u001b[0m \u001b[0mcmd\u001b[0m\u001b[0;34m,\u001b[0m \u001b[0moutput\u001b[0m\u001b[0;34m=\u001b[0m\u001b[0moutput\u001b[0m\u001b[0;34m)\u001b[0m\u001b[0;34m\u001b[0m\u001b[0m\n\u001b[0m\u001b[1;32m    220\u001b[0m     \u001b[0;32mreturn\u001b[0m \u001b[0moutput\u001b[0m\u001b[0;34m\u001b[0m\u001b[0m\n\u001b[1;32m    221\u001b[0m \u001b[0;34m\u001b[0m\u001b[0m\n",
      "\u001b[0;31mCalledProcessError\u001b[0m: Command '['ps', '-aux', '|', 'grep', 'pinta']' returned non-zero exit status 1"
     ]
    }
   ],
   "source": [
    "from subprocess import check_output\n",
    "res = check_output([\"ps\",\"-aux\",\"|\",\"grep\",\"pinta\"])\n",
    "print res"
   ]
  },
  {
   "cell_type": "code",
   "execution_count": 15,
   "metadata": {},
   "outputs": [
    {
     "ename": "CalledProcessError",
     "evalue": "Command '['ps', '-aux|grep pinta']' returned non-zero exit status 1",
     "output_type": "error",
     "traceback": [
      "\u001b[0;31m---------------------------------------------------------------------------\u001b[0m",
      "\u001b[0;31mCalledProcessError\u001b[0m                        Traceback (most recent call last)",
      "\u001b[0;32m<ipython-input-15-0cc99266ae75>\u001b[0m in \u001b[0;36m<module>\u001b[0;34m()\u001b[0m\n\u001b[1;32m      1\u001b[0m \u001b[0;32mfrom\u001b[0m \u001b[0msubprocess\u001b[0m \u001b[0;32mimport\u001b[0m \u001b[0mcheck_output\u001b[0m\u001b[0;34m\u001b[0m\u001b[0m\n\u001b[0;32m----> 2\u001b[0;31m \u001b[0mres\u001b[0m \u001b[0;34m=\u001b[0m \u001b[0mcheck_output\u001b[0m\u001b[0;34m(\u001b[0m\u001b[0;34m[\u001b[0m\u001b[0;34m\"ps\"\u001b[0m\u001b[0;34m,\u001b[0m\u001b[0;34m\"-aux|grep pinta\"\u001b[0m\u001b[0;34m]\u001b[0m\u001b[0;34m)\u001b[0m\u001b[0;34m\u001b[0m\u001b[0m\n\u001b[0m\u001b[1;32m      3\u001b[0m \u001b[0;32mprint\u001b[0m \u001b[0mres\u001b[0m\u001b[0;34m\u001b[0m\u001b[0m\n",
      "\u001b[0;32m/home/khyaathi-python/anaconda2/lib/python2.7/subprocess.pyc\u001b[0m in \u001b[0;36mcheck_output\u001b[0;34m(*popenargs, **kwargs)\u001b[0m\n\u001b[1;32m    217\u001b[0m         \u001b[0;32mif\u001b[0m \u001b[0mcmd\u001b[0m \u001b[0;32mis\u001b[0m \u001b[0mNone\u001b[0m\u001b[0;34m:\u001b[0m\u001b[0;34m\u001b[0m\u001b[0m\n\u001b[1;32m    218\u001b[0m             \u001b[0mcmd\u001b[0m \u001b[0;34m=\u001b[0m \u001b[0mpopenargs\u001b[0m\u001b[0;34m[\u001b[0m\u001b[0;36m0\u001b[0m\u001b[0;34m]\u001b[0m\u001b[0;34m\u001b[0m\u001b[0m\n\u001b[0;32m--> 219\u001b[0;31m         \u001b[0;32mraise\u001b[0m \u001b[0mCalledProcessError\u001b[0m\u001b[0;34m(\u001b[0m\u001b[0mretcode\u001b[0m\u001b[0;34m,\u001b[0m \u001b[0mcmd\u001b[0m\u001b[0;34m,\u001b[0m \u001b[0moutput\u001b[0m\u001b[0;34m=\u001b[0m\u001b[0moutput\u001b[0m\u001b[0;34m)\u001b[0m\u001b[0;34m\u001b[0m\u001b[0m\n\u001b[0m\u001b[1;32m    220\u001b[0m     \u001b[0;32mreturn\u001b[0m \u001b[0moutput\u001b[0m\u001b[0;34m\u001b[0m\u001b[0m\n\u001b[1;32m    221\u001b[0m \u001b[0;34m\u001b[0m\u001b[0m\n",
      "\u001b[0;31mCalledProcessError\u001b[0m: Command '['ps', '-aux|grep pinta']' returned non-zero exit status 1"
     ]
    }
   ],
   "source": [
    "from subprocess import check_output\n",
    "res = check_output([\"ps\",\"-aux|grep pinta\"])\n",
    "print res"
   ]
  },
  {
   "cell_type": "code",
   "execution_count": 16,
   "metadata": {},
   "outputs": [
    {
     "name": "stdout",
     "output_type": "stream",
     "text": [
      "USER       PID %CPU %MEM    VSZ   RSS TTY      STAT START   TIME COMMAND\n",
      "root         1  0.0  0.1 137384  7408 ?        Ss   Nov27   0:02 /sbin/init splash\n",
      "root         2  0.0  0.0      0     0 ?        S    Nov27   0:00 [kthreadd]\n",
      "root         3  0.0  0.0      0     0 ?        S    Nov27   0:01 [ksoftirqd/0]\n",
      "root         5  0.0  0.0      0     0 ?        S<   Nov27   0:00 [kworker/0:0H]\n",
      "root         7  0.0  0.0      0     0 ?        S    Nov27   0:11 [rcu_sched]\n",
      "root         8  0.0  0.0      0     0 ?        S    Nov27   0:00 [rcu_bh]\n",
      "root         9  0.0  0.0      0     0 ?        S    Nov27   0:00 [migration/0]\n",
      "root        10  0.0  0.0      0     0 ?        S<   Nov27   0:00 [lru-add-drain]\n",
      "root        11  0.0  0.0      0     0 ?        S    Nov27   0:00 [watchdog/0]\n",
      "root        12  0.0  0.0      0     0 ?        S    Nov27   0:00 [cpuhp/0]\n",
      "root        13  0.0  0.0      0     0 ?        S    Nov27   0:00 [kdevtmpfs]\n",
      "root        14  0.0  0.0      0     0 ?        S<   Nov27   0:00 [netns]\n",
      "root        15  0.0  0.0      0     0 ?        S    Nov27   0:00 [khungtaskd]\n",
      "root        16  0.0  0.0      0     0 ?        S    Nov27   0:00 [oom_reaper]\n",
      "root        17  0.0  0.0      0     0 ?        S<   Nov27   0:00 [writeback]\n",
      "root        18  0.0  0.0      0     0 ?        S    Nov27   0:00 [kcompactd0]\n",
      "root        19  0.0  0.0      0     0 ?        SN   Nov27   0:00 [ksmd]\n",
      "root        20  0.0  0.0      0     0 ?        SN   Nov27   0:04 [khugepaged]\n",
      "root        21  0.0  0.0      0     0 ?        S<   Nov27   0:00 [crypto]\n",
      "root        22  0.0  0.0      0     0 ?        S<   Nov27   0:00 [kintegrityd]\n",
      "root        23  0.0  0.0      0     0 ?        S<   Nov27   0:00 [bioset]\n",
      "root        24  0.0  0.0      0     0 ?        S<   Nov27   0:00 [kblockd]\n",
      "root        25  0.0  0.0      0     0 ?        S<   Nov27   0:00 [ata_sff]\n",
      "root        26  0.0  0.0      0     0 ?        S<   Nov27   0:00 [md]\n",
      "root        27  0.0  0.0      0     0 ?        S<   Nov27   0:00 [devfreq_wq]\n",
      "root        28  0.0  0.0      0     0 ?        S<   Nov27   0:00 [watchdogd]\n",
      "root        32  0.0  0.0      0     0 ?        S    Nov27   0:00 [kswapd0]\n",
      "root        33  0.0  0.0      0     0 ?        S<   Nov27   0:00 [vmstat]\n",
      "root        34  0.0  0.0      0     0 ?        S    Nov27   0:00 [ecryptfs-kthrea]\n",
      "root        73  0.0  0.0      0     0 ?        S<   Nov27   0:00 [kthrotld]\n",
      "root        74  0.0  0.0      0     0 ?        S<   Nov27   0:00 [acpi_thermal_pm]\n",
      "root        75  0.0  0.0      0     0 ?        S<   Nov27   0:00 [bioset]\n",
      "root        76  0.0  0.0      0     0 ?        S<   Nov27   0:00 [bioset]\n",
      "root        77  0.0  0.0      0     0 ?        S<   Nov27   0:00 [bioset]\n",
      "root        78  0.0  0.0      0     0 ?        S<   Nov27   0:00 [bioset]\n",
      "root        79  0.0  0.0      0     0 ?        S<   Nov27   0:00 [bioset]\n",
      "root        80  0.0  0.0      0     0 ?        S<   Nov27   0:00 [bioset]\n",
      "root        81  0.0  0.0      0     0 ?        S<   Nov27   0:00 [bioset]\n",
      "root        82  0.0  0.0      0     0 ?        S<   Nov27   0:00 [bioset]\n",
      "root        83  0.0  0.0      0     0 ?        S    Nov27   0:00 [scsi_eh_0]\n",
      "root        84  0.0  0.0      0     0 ?        S<   Nov27   0:00 [scsi_tmf_0]\n",
      "root        85  0.0  0.0      0     0 ?        S    Nov27   0:00 [scsi_eh_1]\n",
      "root        86  0.0  0.0      0     0 ?        S<   Nov27   0:00 [scsi_tmf_1]\n",
      "root        92  0.0  0.0      0     0 ?        S<   Nov27   0:00 [ipv6_addrconf]\n",
      "root       113  0.0  0.0      0     0 ?        S<   Nov27   0:00 [deferwq]\n",
      "root       114  0.0  0.0      0     0 ?        S<   Nov27   0:00 [charger_manager]\n",
      "root       115  0.0  0.0      0     0 ?        S<   Nov27   0:00 [bioset]\n",
      "root       160  0.0  0.0      0     0 ?        S<   Nov27   0:00 [kpsmoused]\n",
      "root       167  0.0  0.0      0     0 ?        S    Nov27   0:00 [scsi_eh_2]\n",
      "root       168  0.0  0.0      0     0 ?        S<   Nov27   0:00 [scsi_tmf_2]\n",
      "root       169  0.0  0.0      0     0 ?        S<   Nov27   0:00 [bioset]\n",
      "root       190  0.0  0.0      0     0 ?        S<   Nov27   0:00 [kworker/0:1H]\n",
      "root       192  0.0  0.0      0     0 ?        S    Nov27   0:01 [jbd2/sda1-8]\n",
      "root       193  0.0  0.0      0     0 ?        S<   Nov27   0:00 [ext4-rsv-conver]\n",
      "root       232  0.0  0.3  49608 13380 ?        Ss   Nov27   0:01 /lib/systemd/systemd-journald\n",
      "root       234  0.0  0.0      0     0 ?        S    Nov27   0:00 [kauditd]\n",
      "root       255  0.0  0.1  45772  4616 ?        Ss   Nov27   0:01 /lib/systemd/systemd-udevd\n",
      "root       327  0.0  0.0      0     0 ?        S<   Nov27   0:00 [iprt-VBoxWQueue]\n",
      "root       426  0.0  0.0      0     0 ?        S<   Nov27   0:00 [ttm_swap]\n",
      "root       604  0.0  0.0   4384  1284 ?        Ss   Nov27   0:01 /usr/sbin/acpid\n",
      "root       618  0.0  0.2 420528  9260 ?        Ssl  Nov27   0:00 /usr/sbin/ModemManager\n",
      "whoopsie   619  0.0  0.3 455680 13288 ?        Ssl  Nov27   0:00 /usr/bin/whoopsie -f\n",
      "message+   637  0.0  0.1  44588  5376 ?        Ss   Nov27   0:06 /usr/bin/dbus-daemon --system --address=systemd: --nofork --nopidfile --systemd-activation\n",
      "root       689  0.0  0.4 400860 17508 ?        Ssl  Nov27   0:00 /usr/sbin/NetworkManager --no-daemon\n",
      "root       691  0.0  0.0  31100  3168 ?        Ss   Nov27   0:00 /usr/sbin/cron -f\n",
      "root       692  0.0  0.1  44412  4812 ?        Ss   Nov27   0:00 /lib/systemd/systemd-logind\n",
      "syslog     693  0.0  0.0 256404  3432 ?        Ssl  Nov27   0:00 /usr/sbin/rsyslogd -n\n",
      "avahi      694  0.0  0.0  45136  3652 ?        Ss   Nov27   0:00 avahi-daemon: running [khyaathipython.local]\n",
      "root       695  0.0  0.2 293988  8356 ?        Ssl  Nov27   0:00 /usr/lib/accountsservice/accounts-daemon\n",
      "root       699  0.0  0.0  30088  1652 ?        Ss   Nov27   0:00 /sbin/cgmanager -m name=systemd\n",
      "root       701  0.0  0.4 207780 17804 ?        Ssl  Nov27   0:00 /usr/lib/snapd/snapd\n",
      "root       714  0.0  0.2 304636 11192 ?        Ssl  Nov27   0:00 /usr/lib/policykit-1/polkitd --no-debug\n",
      "avahi      719  0.0  0.0  45008   352 ?        S    Nov27   0:00 avahi-daemon: chroot helper\n",
      "systemd+   844  0.0  0.0  47552  4028 ?        Ss   Nov27   0:00 /lib/systemd/systemd-resolved\n",
      "root       850  0.0  0.0 248720  2200 ?        Sl   Nov27   0:07 /usr/sbin/VBoxService\n",
      "root       859  0.0  0.1  67820  5376 ?        Ss   Nov27   0:00 /usr/sbin/sshd -D\n",
      "root       904  0.0  0.2 303372  8620 ?        SLsl Nov27   0:00 /usr/sbin/lightdm\n",
      "root       915  2.3  2.9 409596 120884 tty7    Ss+  Nov27  19:48 /usr/lib/xorg/Xorg -core :0 -seat seat0 -auth /var/run/lightdm/root/:0 -nolisten tcp vt7 -novtswitch\n",
      "root       920  0.0  0.0  16060  1832 tty1     Ss+  Nov27   0:00 /sbin/agetty --noclear tty1 linux\n",
      "postgres   935  0.0  0.6 296984 24448 ?        S    Nov27   0:00 /usr/lib/postgresql/9.5/bin/postgres -D /var/lib/postgresql/9.5/main -c config_file=/etc/postgresql/9.5/main/postgresql.conf\n",
      "nobody     946  0.0  0.1  53084  4076 ?        S    Nov27   0:00 /usr/sbin/dnsmasq --no-resolv --keep-in-foreground --no-hosts --bind-interfaces --pid-file=/var/run/NetworkManager/dnsmasq.pid --listen-address=127.0.1.1 --cache-size=0 --conf-file=/dev/null --proxy-dnssec --enable-dbus=org.freedesktop.NetworkManager.dnsmasq --conf-dir=/etc/NetworkManager/dnsmasq.d\n",
      "postgres  1019  0.0  0.1 297112  6932 ?        Ss   Nov27   0:00 postgres: 9.5/main: checkpointer process   \n",
      "postgres  1020  0.0  0.1 296984  5728 ?        Ss   Nov27   0:00 postgres: 9.5/main: writer process   \n",
      "postgres  1021  0.0  0.2 296984  8840 ?        Ss   Nov27   0:00 postgres: 9.5/main: wal writer process   \n",
      "postgres  1022  0.0  0.1 297360  6828 ?        Ss   Nov27   0:00 postgres: 9.5/main: autovacuum launcher process   \n",
      "postgres  1023  0.0  0.1 152064  4404 ?        Ss   Nov27   0:00 postgres: 9.5/main: stats collector process   \n",
      "snmp      1367  0.0  0.1  59620  7772 ?        S    Nov27   0:10 /usr/sbin/snmpd -Lsd -Lf /dev/null -u snmp -g snmp -I -smux mteTrigger mteTriggerConf -p /run/snmpd.pid\n",
      "root      1369  0.0  0.3 702120 14392 ?        Sl   Nov27   0:24 /opt/teamviewer/tv_bin/teamviewerd -d\n",
      "root      1405  0.0  0.1  71576  4872 ?        Ss   Nov27   0:01 /usr/sbin/apache2 -k start\n",
      "root      1567  0.0  0.3 322156 12228 ?        Ssl  Nov27   0:00 /usr/lib/packagekit/packagekitd\n",
      "root      1684  0.0  0.2 354176 10348 ?        Ssl  Nov27   0:00 /usr/lib/upower/upowerd\n",
      "rtkit     1745  0.0  0.0 183760  3008 ?        SNsl Nov27   0:00 /usr/lib/rtkit/rtkit-daemon\n",
      "colord    1756  0.0  0.3 323920 16104 ?        Ssl  Nov27   0:00 /usr/lib/colord/colord\n",
      "root      1763  0.0  0.2 245696  8852 ?        Sl   Nov27   0:00 lightdm --session-child 12 19\n",
      "khyaath+  1791  0.0  0.1  63084  6896 ?        Ss   Nov27   0:00 /lib/systemd/systemd --user\n",
      "khyaath+  1795  0.0  0.0  89260  2340 ?        S    Nov27   0:00 (sd-pam)\n",
      "khyaath+  1820  0.0  0.1  44244  5152 ?        Ss   Nov27   0:06 /usr/bin/dbus-daemon --session --address=systemd: --nofork --nopidfile --systemd-activation\n",
      "khyaath+  1845  0.0  0.1 283588  6608 ?        Ssl  Nov27   0:00 /usr/lib/gvfs/gvfsd\n",
      "khyaath+  1850  0.0  0.1 428864  7516 ?        Sl   Nov27   0:00 /usr/lib/gvfs/gvfsd-fuse /run/user/1000/gvfs -f -o big_writes\n",
      "khyaath+  1858  0.0  0.1 187676  5328 ?        Sl   Nov27   0:00 /usr/lib/dconf/dconf-service\n",
      "khyaath+  1894  0.0  0.2 214356  8396 ?        Sl   Nov27   0:00 /usr/bin/gnome-keyring-daemon --daemonize --login\n",
      "khyaath+  1897  0.0  0.1  47100  5076 ?        Ss   Nov27   0:10 /sbin/upstart --user\n",
      "khyaath+  1938  0.0  0.1  82260  5364 ?        S    Nov27   0:18 /usr/bin/xbrlapi -q\n",
      "khyaath+  1983  0.0  0.0  49720   896 ?        S    Nov27   0:01 /usr/bin/VBoxClient --checkhostversion\n",
      "khyaath+  1985  0.0  0.0  49720   924 ?        S    Nov27   0:01 /usr/bin/VBoxClient --clipboard\n",
      "khyaath+  1990  0.0  0.0  49720   380 ?        S    Nov27   0:00 /usr/bin/VBoxClient --display\n",
      "khyaath+  1991  0.0  0.0  49856  2920 ?        S    Nov27   0:00 /usr/bin/VBoxClient --display\n",
      "khyaath+  2001  0.0  0.0  49720   896 ?        S    Nov27   0:01 /usr/bin/VBoxClient --seamless\n",
      "khyaath+  2012  0.0  0.0  49720   860 ?        S    Nov27   0:01 /usr/bin/VBoxClient --draganddrop\n",
      "khyaath+  2017  0.0  0.8 493324 34688 ?        Sl   Nov27   0:01 /usr/lib/x86_64-linux-gnu/notify-osd\n",
      "khyaath+  2040  0.0  0.0  33084  2232 ?        S    Nov27   0:01 upstart-udev-bridge --daemon --user\n",
      "khyaath+  2057  0.0  0.0   7280   752 ?        Ss   Nov27   0:00 sleep infinity\n",
      "khyaath+  2063  0.0  0.0   4492   708 ?        Ss   Nov27   0:00 /bin/sh -e /proc/self/fd/9\n",
      "khyaath+  2067  0.0  0.2 160344  9764 ?        Ssl  Nov27   0:00 /usr/lib/x86_64-linux-gnu/hud/window-stack-bridge\n",
      "khyaath+  2071  0.0  0.4 518704 17004 ?        Sl   Nov27   0:00 /usr/lib/x86_64-linux-gnu/url-dispatcher/url-dispatcher\n",
      "khyaath+  2088  0.0  0.6 449816 27296 ?        Ssl  Nov27   0:08 /usr/lib/x86_64-linux-gnu/bamf/bamfdaemon\n",
      "khyaath+  2095  0.0  0.0  33140  1780 ?        S    Nov27   0:04 upstart-dbus-bridge --daemon --session --user --bus-name session\n",
      "khyaath+  2096  0.0  0.0  33140  1804 ?        S    Nov27   0:01 upstart-dbus-bridge --daemon --system --user --bus-name system\n",
      "khyaath+  2116  0.0  0.0  41776  1768 ?        S    Nov27   0:01 upstart-file-bridge --daemon --user\n",
      "khyaath+  2185  0.0  0.8 1004312 32892 ?       Ssl  Nov27   0:05 /usr/lib/unity-settings-daemon/unity-settings-daemon\n",
      "khyaath+  2204  0.1  0.4 374172 17376 ?        Rsl  Nov27   1:00 /usr/bin/ibus-daemon --daemonize --xim --address unix:tmpdir=/tmp/ibus\n",
      "khyaath+  2208  0.0  0.3 647964 16020 ?        Ssl  Nov27   0:00 /usr/lib/gnome-session/gnome-session-binary --session=ubuntu\n",
      "khyaath+  2252  0.0  0.2 286400  8216 ?        Sl   Nov27   0:00 /usr/lib/ibus/ibus-dconf\n",
      "khyaath+  2253  0.0  0.8 480444 32728 ?        Sl   Nov27   0:15 /usr/lib/ibus/ibus-ui-gtk3\n",
      "khyaath+  2265  0.0  0.5 356528 22960 ?        Sl   Nov27   0:00 /usr/lib/ibus/ibus-x11 --kill-daemon\n",
      "khyaath+  2303 11.9  9.0 1369628 365880 ?      Ssl  Nov27 102:25 /usr/bin/compiz\n",
      "khyaath+  2321  0.0  1.2 657260 48912 ?        Ssl  Nov27   0:09 /usr/lib/x86_64-linux-gnu/unity/unity-panel-service\n",
      "khyaath+  2333  0.0  0.1 210528  7944 ?        Sl   Nov27   0:12 /usr/lib/ibus/ibus-engine-simple\n",
      "khyaath+  2340  0.0  0.2 566288 11672 ?        S<l  Nov27   0:00 /usr/bin/pulseaudio --start --log-target=syslog\n",
      "khyaath+  2367  0.0  0.7 674312 31712 ?        Sl   Nov27   0:01 nm-applet\n",
      "khyaath+  2373  0.0  0.5 436444 20776 ?        Sl   Nov27   0:00 /usr/lib/policykit-1-gnome/polkit-gnome-authentication-agent-1\n",
      "khyaath+  2375  0.0  0.2 377140  9372 ?        Ssl  Nov27   0:00 /usr/lib/x86_64-linux-gnu/indicator-messages/indicator-messages-service\n",
      "khyaath+  2379  0.0  0.1 357992  7864 ?        Ssl  Nov27   0:00 /usr/lib/x86_64-linux-gnu/indicator-bluetooth/indicator-bluetooth-service\n",
      "khyaath+  2382  0.0  0.5 581784 22088 ?        Sl   Nov27   0:00 /usr/lib/unity-settings-daemon/unity-fallback-mount-helper\n",
      "khyaath+  2383  0.0  0.1 362368  8080 ?        Ssl  Nov27   0:00 /usr/lib/x86_64-linux-gnu/indicator-power/indicator-power-service\n",
      "khyaath+  2386  0.0  0.8 923576 32944 ?        Ssl  Nov27   0:00 /usr/lib/x86_64-linux-gnu/indicator-datetime/indicator-datetime-service\n",
      "khyaath+  2389  0.0  0.6 665888 26664 ?        Ssl  Nov27   0:01 /usr/lib/x86_64-linux-gnu/indicator-keyboard/indicator-keyboard-service --use-gtk\n",
      "khyaath+  2390  0.0  0.3 682872 12664 ?        Ssl  Nov27   0:00 /usr/lib/x86_64-linux-gnu/indicator-sound/indicator-sound-service\n",
      "khyaath+  2393  0.0  0.2 645292  8988 ?        Ssl  Nov27   0:00 /usr/lib/x86_64-linux-gnu/indicator-session/indicator-session-service\n",
      "khyaath+  2404  0.0  0.3 481192 13296 ?        Ssl  Nov27   0:00 /usr/lib/x86_64-linux-gnu/indicator-application/indicator-application-service\n",
      "root      2422  0.0  0.1 260976  4808 ?        Sl   Nov27   0:00 /usr/lib/x86_64-linux-gnu/unity-greeter-session-broadcast/unity-greeter-session-broadcast-service\n",
      "khyaath+  2426  0.0  2.2 989536 90416 ?        Sl   Nov27   0:06 /usr/bin/gnome-software --gapplication-service\n",
      "khyaath+  2427  0.0  0.8 412116 33348 ?        Ssl  Nov27   0:13 /usr/lib/x86_64-linux-gnu/hud/hud-service\n",
      "khyaath+  2441  0.0  1.5 1023160 60788 ?       Sl   Nov27   0:26 nautilus -n\n",
      "khyaath+  2442  0.0  0.6 554460 24996 ?        Ssl  Nov27   0:00 /usr/lib/x86_64-linux-gnu/indicator-printers/indicator-printers-service\n",
      "khyaath+  2448  0.0  0.6 861712 25284 ?        Ssl  Nov27   0:00 /usr/lib/evolution/evolution-source-registry\n",
      "khyaath+  2469  0.0  0.2 362600  8556 ?        Ssl  Nov27   0:00 /usr/lib/at-spi2-core/at-spi-bus-launcher --launch-immediately\n",
      "khyaath+  2470  0.0  0.0   7280   688 ?        Ss   Nov27   0:00 sleep infinity\n",
      "khyaath+  2476  0.0  0.0  43120  3964 ?        S    Nov27   0:01 /usr/bin/dbus-daemon --config-file=/usr/share/defaults/at-spi2/accessibility.conf --nofork --print-address 3\n",
      "khyaath+  2496  0.0  0.1 213960  7592 ?        Sl   Nov27   0:03 /usr/lib/at-spi2-core/at-spi2-registryd --use-gnome-session\n",
      "khyaath+  2501  0.0  0.8 852312 33620 ?        Ssl  Nov27   0:00 /usr/lib/evolution/evolution-calendar-factory\n",
      "khyaath+  2515  0.0  0.2 377156  9776 ?        Ssl  Nov27   0:00 /usr/lib/gvfs/gvfs-udisks2-volume-monitor\n",
      "root      2518  0.0  0.2 389316 10484 ?        Ssl  Nov27   0:00 /usr/lib/udisks2/udisksd --no-debug\n",
      "khyaath+  2531  0.0  0.6 803904 28212 ?        Sl   Nov27   0:00 /usr/lib/evolution/evolution-calendar-factory-subprocess --factory contacts --bus-name org.gnome.evolution.dataserver.Subprocess.Backend.Calendarx2501x2 --own-path /org/gnome/evolution/dataserver/Subprocess/Backend/Calendar/2501/2\n",
      "khyaath+  2533  0.0  0.1 278532  5380 ?        Ssl  Nov27   0:00 /usr/lib/gvfs/gvfs-gphoto2-volume-monitor\n",
      "khyaath+  2537  0.0  0.1 266420  5328 ?        Ssl  Nov27   0:00 /usr/lib/gvfs/gvfs-goa-volume-monitor\n",
      "khyaath+  2541  0.0  0.2 412720  9676 ?        Ssl  Nov27   0:00 /usr/lib/gvfs/gvfs-afc-volume-monitor\n",
      "khyaath+  2550  0.0  0.1 266332  4876 ?        Ssl  Nov27   0:00 /usr/lib/gvfs/gvfs-mtp-volume-monitor\n",
      "khyaath+  2567  0.0  0.5 784728 21204 ?        Sl   Nov27   0:00 /usr/lib/evolution/evolution-calendar-factory-subprocess --factory local --bus-name org.gnome.evolution.dataserver.Subprocess.Backend.Calendarx2501x3 --own-path /org/gnome/evolution/dataserver/Subprocess/Backend/Calendar/2501/3\n",
      "khyaath+  2568  0.0  0.5 716400 22156 ?        Ssl  Nov27   0:00 /usr/lib/evolution/evolution-addressbook-factory\n",
      "khyaath+  2583  0.0  0.5 802396 22152 ?        Sl   Nov27   0:00 /usr/lib/evolution/evolution-addressbook-factory-subprocess --factory local --bus-name org.gnome.evolution.dataserver.Subprocess.Backend.AddressBookx2568x2 --own-path /org/gnome/evolution/dataserver/Subprocess/Backend/AddressBook/2568/2\n",
      "khyaath+  2600  0.0  0.2 373104  9344 ?        Sl   Nov27   0:00 /usr/lib/gvfs/gvfsd-trash --spawner :1.6 /org/gtk/gvfs/exec_spaw/0\n",
      "khyaath+  2654  0.0  0.1 193308  6148 ?        Ssl  Nov27   0:00 /usr/lib/gvfs/gvfsd-metadata\n",
      "khyaath+  2670  0.0  0.4 429252 17204 ?        Sl   Nov27   0:02 zeitgeist-datahub\n",
      "khyaath+  2676  0.0  0.0   4492   772 ?        S    Nov27   0:00 /bin/sh -c /usr/lib/x86_64-linux-gnu/zeitgeist/zeitgeist-maybe-vacuum; /usr/bin/zeitgeist-daemon\n",
      "khyaath+  2680  0.0  0.2 368288 10956 ?        Sl   Nov27   0:00 /usr/bin/zeitgeist-daemon\n",
      "khyaath+  2688  0.0  0.7 342532 30380 ?        Sl   Nov27   0:01 /usr/lib/x86_64-linux-gnu/zeitgeist-fts\n",
      "khyaath+  2851  0.0  0.6 610316 26368 ?        Sl   Nov27   0:01 update-notifier\n",
      "khyaath+  2924  0.0  0.2 422872  9952 ?        Sl   Nov27   0:00 /usr/lib/gvfs/gvfsd-http --spawner :1.6 /org/gtk/gvfs/exec_spaw/1\n",
      "khyaath+  2963  0.0  0.1  68160  5600 ?        S    Nov27   0:00 /usr/lib/x86_64-linux-gnu/gconf/gconfd-2\n",
      "khyaath+  3283  0.0  0.2 450436  8900 ?        Sl   Nov27   0:00 /usr/lib/x86_64-linux-gnu/deja-dup/deja-dup-monitor\n",
      "khyaath+  4902  0.0  0.4 668568 19568 ?        Sl   Nov27   0:00 /usr/lib/x86_64-linux-gnu/unity-scope-home/unity-scope-home\n",
      "khyaath+  4913  0.0  0.5 584172 24112 ?        Sl   Nov27   0:01 /usr/bin/unity-scope-loader applications/applications.scope applications/scopes.scope commands.scope\n",
      "khyaath+  4915  0.0  0.3 713868 15780 ?        Sl   Nov27   0:00 /usr/lib/x86_64-linux-gnu/unity-lens-files/unity-files-daemon\n",
      "khyaath+  8834  0.0  0.2 446916  8628 ?        Sl   05:19   0:00 /usr/lib/gvfs/gvfsd-network --spawner :1.6 /org/gtk/gvfs/exec_spaw/2\n",
      "khyaath+  8864  0.0  0.1 376920  7000 ?        Sl   05:19   0:00 /usr/lib/gvfs/gvfsd-dnssd --spawner :1.6 /org/gtk/gvfs/exec_spaw/6\n",
      "khyaath+  9493  0.0  1.1 635008 47156 ?        Ssl  Nov27   0:03 /home/khyaathi-python/anaconda2/bin/python -m ipykernel_launcher -f /run/user/1000/jupyter/kernel-3a3d3708-ab94-4532-8b7d-34c1ba5b5aaa.json\n",
      "khyaath+ 11831  0.0  0.1  22704  5448 pts/18   Ss   05:55   0:00 bash\n",
      "khyaath+ 12040  0.3  4.4 1031932 181940 ?      Sl   05:58   0:34 /usr/bin/mono /usr/lib/pinta/Pinta.exe\n",
      "khyaath+ 12629  0.0  1.1 635600 48024 ?        Ssl  Nov27   0:03 /home/khyaathi-python/anaconda2/bin/python -m ipykernel_launcher -f /run/user/1000/jupyter/kernel-5f03a49a-a4f2-44d3-9a91-106da7d3e4b6.json\n",
      "root     15911  0.0  0.0  16108  3744 ?        S    06:56   0:00 /sbin/dhclient -d -q -sf /usr/lib/NetworkManager/nm-dhcp-helper -pf /var/run/dhclient-enp0s3.pid -lf /var/lib/NetworkManager/dhclient-95f3ca14-4e16-3f87-8f42-7af863a75f0d-enp0s3.lease -cf /var/lib/NetworkManager/dhclient-enp0s3.conf enp0s3\n",
      "www-data 18387  0.0  0.1 360768  5892 ?        Sl   07:35   0:00 /usr/sbin/apache2 -k start\n",
      "www-data 18388  0.0  0.1 360800  5892 ?        Sl   07:35   0:00 /usr/sbin/apache2 -k start\n",
      "root     18448  0.0  0.1  95768  7844 ?        Ss   07:35   0:00 /usr/sbin/cupsd -l\n",
      "root     18451  0.0  0.2 282220 10260 ?        Ssl  07:35   0:00 /usr/sbin/cups-browsed\n",
      "khyaath+ 18913  5.4  9.8 2153628 398700 ?      Rl   07:41   4:32 /usr/lib/firefox/firefox\n",
      "root     20490  0.0  0.0      0     0 ?        S    08:05   0:00 [kworker/0:1]\n",
      "khyaath+ 20788  0.2  1.5 360444 64480 pts/18   Sl+  08:10   0:08 /home/khyaathi-python/anaconda2/bin/python /home/khyaathi-python/anaconda2/bin/ipython notebook\n",
      "khyaath+ 20838  0.0  1.1 635108 44892 ?        Ssl  08:11   0:02 /home/khyaathi-python/anaconda2/bin/python -m ipykernel_launcher -f /run/user/1000/jupyter/kernel-4207061c-99d6-40e9-b775-c99803fd8087.json\n",
      "root     21424  0.0  0.0      0     0 ?        S    08:21   0:00 [kworker/u2:1]\n",
      "khyaath+ 22491  0.0  1.1 635004 47276 ?        Ssl  00:01   0:03 /home/khyaathi-python/anaconda2/bin/python -m ipykernel_launcher -f /run/user/1000/jupyter/kernel-8d2ac1b0-c263-4900-a824-afd74d88a5ed.json\n",
      "root     23027  0.0  0.0      0     0 ?        S    08:51   0:00 [kworker/u2:2]\n",
      "khyaath+ 23291  0.4  1.1 635232 48140 ?        Ssl  08:56   0:02 /home/khyaathi-python/anaconda2/bin/python -m ipykernel_launcher -f /run/user/1000/jupyter/kernel-a5e3083e-988c-4f27-8329-e10823c0d8c8.json\n",
      "root     23383  0.0  0.0      0     0 ?        S    08:57   0:00 [kworker/0:2]\n",
      "khyaath+ 23725  0.0  0.0  37604  3400 ?        R    09:03   0:00 ps -aux\n",
      "khyaath+ 28812  0.0  0.9 743144 39548 ?        Ssl  01:48   0:10 /usr/lib/gnome-terminal/gnome-terminal-server\n",
      "khyaath+ 28821  0.0  0.1  22704  5452 pts/10   Ss+  01:48   0:00 bash\n",
      "\n"
     ]
    }
   ],
   "source": [
    "from subprocess import check_output\n",
    "res = check_output([\"ps\",\"-aux\"])\n",
    "print res"
   ]
  },
  {
   "cell_type": "code",
   "execution_count": 18,
   "metadata": {},
   "outputs": [
    {
     "name": "stdout",
     "output_type": "stream",
     "text": [
      "USER       PID %CPU %MEM    VSZ   RSS TTY      STAT START   TIME COMMAND\n",
      "root         1  0.0  0.1 137384  7408 ?        Ss   Nov27   0:02 /sbin/init splash\n",
      "root         2  0.0  0.0      0     0 ?        S    Nov27   0:00 [kthreadd]\n",
      "root         3  0.0  0.0      0     0 ?        S    Nov27   0:01 [ksoftirqd/0]\n",
      "root         5  0.0  0.0      0     0 ?        S<   Nov27   0:00 [kworker/0:0H]\n",
      "root         7  0.0  0.0      0     0 ?        S    Nov27   0:11 [rcu_sched]\n",
      "root         8  0.0  0.0      0     0 ?        S    Nov27   0:00 [rcu_bh]\n",
      "root         9  0.0  0.0      0     0 ?        S    Nov27   0:00 [migration/0]\n",
      "root        10  0.0  0.0      0     0 ?        S<   Nov27   0:00 [lru-add-drain]\n",
      "root        11  0.0  0.0      0     0 ?        S    Nov27   0:00 [watchdog/0]\n",
      "root        12  0.0  0.0      0     0 ?        S    Nov27   0:00 [cpuhp/0]\n",
      "root        13  0.0  0.0      0     0 ?        S    Nov27   0:00 [kdevtmpfs]\n",
      "root        14  0.0  0.0      0     0 ?        S<   Nov27   0:00 [netns]\n",
      "root        15  0.0  0.0      0     0 ?        S    Nov27   0:00 [khungtaskd]\n",
      "root        16  0.0  0.0      0     0 ?        S    Nov27   0:00 [oom_reaper]\n",
      "root        17  0.0  0.0      0     0 ?        S<   Nov27   0:00 [writeback]\n",
      "root        18  0.0  0.0      0     0 ?        S    Nov27   0:00 [kcompactd0]\n",
      "root        19  0.0  0.0      0     0 ?        SN   Nov27   0:00 [ksmd]\n",
      "root        20  0.0  0.0      0     0 ?        SN   Nov27   0:04 [khugepaged]\n",
      "root        21  0.0  0.0      0     0 ?        S<   Nov27   0:00 [crypto]\n",
      "root        22  0.0  0.0      0     0 ?        S<   Nov27   0:00 [kintegrityd]\n",
      "root        23  0.0  0.0      0     0 ?        S<   Nov27   0:00 [bioset]\n",
      "root        24  0.0  0.0      0     0 ?        S<   Nov27   0:00 [kblockd]\n",
      "root        25  0.0  0.0      0     0 ?        S<   Nov27   0:00 [ata_sff]\n",
      "root        26  0.0  0.0      0     0 ?        S<   Nov27   0:00 [md]\n",
      "root        27  0.0  0.0      0     0 ?        S<   Nov27   0:00 [devfreq_wq]\n",
      "root        28  0.0  0.0      0     0 ?        S<   Nov27   0:00 [watchdogd]\n",
      "root        32  0.0  0.0      0     0 ?        S    Nov27   0:00 [kswapd0]\n",
      "root        33  0.0  0.0      0     0 ?        S<   Nov27   0:00 [vmstat]\n",
      "root        34  0.0  0.0      0     0 ?        S    Nov27   0:00 [ecryptfs-kthrea]\n",
      "root        73  0.0  0.0      0     0 ?        S<   Nov27   0:00 [kthrotld]\n",
      "root        74  0.0  0.0      0     0 ?        S<   Nov27   0:00 [acpi_thermal_pm]\n",
      "root        75  0.0  0.0      0     0 ?        S<   Nov27   0:00 [bioset]\n",
      "root        76  0.0  0.0      0     0 ?        S<   Nov27   0:00 [bioset]\n",
      "root        77  0.0  0.0      0     0 ?        S<   Nov27   0:00 [bioset]\n",
      "root        78  0.0  0.0      0     0 ?        S<   Nov27   0:00 [bioset]\n",
      "root        79  0.0  0.0      0     0 ?        S<   Nov27   0:00 [bioset]\n",
      "root        80  0.0  0.0      0     0 ?        S<   Nov27   0:00 [bioset]\n",
      "root        81  0.0  0.0      0     0 ?        S<   Nov27   0:00 [bioset]\n",
      "root        82  0.0  0.0      0     0 ?        S<   Nov27   0:00 [bioset]\n",
      "root        83  0.0  0.0      0     0 ?        S    Nov27   0:00 [scsi_eh_0]\n",
      "root        84  0.0  0.0      0     0 ?        S<   Nov27   0:00 [scsi_tmf_0]\n",
      "root        85  0.0  0.0      0     0 ?        S    Nov27   0:00 [scsi_eh_1]\n",
      "root        86  0.0  0.0      0     0 ?        S<   Nov27   0:00 [scsi_tmf_1]\n",
      "root        92  0.0  0.0      0     0 ?        S<   Nov27   0:00 [ipv6_addrconf]\n",
      "root       113  0.0  0.0      0     0 ?        S<   Nov27   0:00 [deferwq]\n",
      "root       114  0.0  0.0      0     0 ?        S<   Nov27   0:00 [charger_manager]\n",
      "root       115  0.0  0.0      0     0 ?        S<   Nov27   0:00 [bioset]\n",
      "root       160  0.0  0.0      0     0 ?        S<   Nov27   0:00 [kpsmoused]\n",
      "root       167  0.0  0.0      0     0 ?        S    Nov27   0:00 [scsi_eh_2]\n",
      "root       168  0.0  0.0      0     0 ?        S<   Nov27   0:00 [scsi_tmf_2]\n",
      "root       169  0.0  0.0      0     0 ?        S<   Nov27   0:00 [bioset]\n",
      "root       190  0.0  0.0      0     0 ?        S<   Nov27   0:00 [kworker/0:1H]\n",
      "root       192  0.0  0.0      0     0 ?        S    Nov27   0:01 [jbd2/sda1-8]\n",
      "root       193  0.0  0.0      0     0 ?        S<   Nov27   0:00 [ext4-rsv-conver]\n",
      "root       232  0.0  0.3  49608 13380 ?        Ss   Nov27   0:01 /lib/systemd/systemd-journald\n",
      "root       234  0.0  0.0      0     0 ?        S    Nov27   0:00 [kauditd]\n",
      "root       255  0.0  0.1  45772  4616 ?        Ss   Nov27   0:01 /lib/systemd/systemd-udevd\n",
      "root       327  0.0  0.0      0     0 ?        S<   Nov27   0:00 [iprt-VBoxWQueue]\n",
      "root       426  0.0  0.0      0     0 ?        S<   Nov27   0:00 [ttm_swap]\n",
      "root       604  0.0  0.0   4384  1284 ?        Ss   Nov27   0:01 /usr/sbin/acpid\n",
      "root       618  0.0  0.2 420528  9260 ?        Ssl  Nov27   0:00 /usr/sbin/ModemManager\n",
      "whoopsie   619  0.0  0.3 455680 13288 ?        Ssl  Nov27   0:00 /usr/bin/whoopsie -f\n",
      "message+   637  0.0  0.1  44588  5376 ?        Ss   Nov27   0:06 /usr/bin/dbus-daemon --system --address=systemd: --nofork --nopidfile --systemd-activation\n",
      "root       689  0.0  0.4 400860 17508 ?        Ssl  Nov27   0:00 /usr/sbin/NetworkManager --no-daemon\n",
      "root       691  0.0  0.0  31100  3168 ?        Ss   Nov27   0:00 /usr/sbin/cron -f\n",
      "root       692  0.0  0.1  44412  4812 ?        Ss   Nov27   0:00 /lib/systemd/systemd-logind\n",
      "syslog     693  0.0  0.0 256404  3432 ?        Ssl  Nov27   0:00 /usr/sbin/rsyslogd -n\n",
      "avahi      694  0.0  0.0  45136  3652 ?        Ss   Nov27   0:00 avahi-daemon: running [khyaathipython.local]\n",
      "root       695  0.0  0.2 293988  8356 ?        Ssl  Nov27   0:00 /usr/lib/accountsservice/accounts-daemon\n",
      "root       699  0.0  0.0  30088  1652 ?        Ss   Nov27   0:00 /sbin/cgmanager -m name=systemd\n",
      "root       701  0.0  0.4 207780 17804 ?        Ssl  Nov27   0:00 /usr/lib/snapd/snapd\n",
      "root       714  0.0  0.2 304636 11192 ?        Ssl  Nov27   0:00 /usr/lib/policykit-1/polkitd --no-debug\n",
      "avahi      719  0.0  0.0  45008   352 ?        S    Nov27   0:00 avahi-daemon: chroot helper\n",
      "systemd+   844  0.0  0.0  47552  4028 ?        Ss   Nov27   0:00 /lib/systemd/systemd-resolved\n",
      "root       850  0.0  0.0 248720  2200 ?        Sl   Nov27   0:07 /usr/sbin/VBoxService\n",
      "root       859  0.0  0.1  67820  5376 ?        Ss   Nov27   0:00 /usr/sbin/sshd -D\n",
      "root       904  0.0  0.2 303372  8620 ?        SLsl Nov27   0:00 /usr/sbin/lightdm\n",
      "root       915  2.3  2.9 409596 120884 tty7    Ss+  Nov27  19:50 /usr/lib/xorg/Xorg -core :0 -seat seat0 -auth /var/run/lightdm/root/:0 -nolisten tcp vt7 -novtswitch\n",
      "root       920  0.0  0.0  16060  1832 tty1     Ss+  Nov27   0:00 /sbin/agetty --noclear tty1 linux\n",
      "postgres   935  0.0  0.6 296984 24448 ?        S    Nov27   0:00 /usr/lib/postgresql/9.5/bin/postgres -D /var/lib/postgresql/9.5/main -c config_file=/etc/postgresql/9.5/main/postgresql.conf\n",
      "nobody     946  0.0  0.1  53084  4076 ?        S    Nov27   0:00 /usr/sbin/dnsmasq --no-resolv --keep-in-foreground --no-hosts --bind-interfaces --pid-file=/var/run/NetworkManager/dnsmasq.pid --listen-address=127.0.1.1 --cache-size=0 --conf-file=/dev/null --proxy-dnssec --enable-dbus=org.freedesktop.NetworkManager.dnsmasq --conf-dir=/etc/NetworkManager/dnsmasq.d\n",
      "postgres  1019  0.0  0.1 297112  6932 ?        Ss   Nov27   0:00 postgres: 9.5/main: checkpointer process   \n",
      "postgres  1020  0.0  0.1 296984  5728 ?        Ss   Nov27   0:00 postgres: 9.5/main: writer process   \n",
      "postgres  1021  0.0  0.2 296984  8840 ?        Ss   Nov27   0:00 postgres: 9.5/main: wal writer process   \n",
      "postgres  1022  0.0  0.1 297360  6828 ?        Ss   Nov27   0:00 postgres: 9.5/main: autovacuum launcher process   \n",
      "postgres  1023  0.0  0.1 152064  4404 ?        Ss   Nov27   0:00 postgres: 9.5/main: stats collector process   \n",
      "snmp      1367  0.0  0.1  59620  7772 ?        S    Nov27   0:10 /usr/sbin/snmpd -Lsd -Lf /dev/null -u snmp -g snmp -I -smux mteTrigger mteTriggerConf -p /run/snmpd.pid\n",
      "root      1369  0.0  0.3 702120 14392 ?        Sl   Nov27   0:24 /opt/teamviewer/tv_bin/teamviewerd -d\n",
      "root      1405  0.0  0.1  71576  4872 ?        Ss   Nov27   0:01 /usr/sbin/apache2 -k start\n",
      "root      1567  0.0  0.3 322156 12228 ?        Ssl  Nov27   0:00 /usr/lib/packagekit/packagekitd\n",
      "root      1684  0.0  0.2 354176 10348 ?        Ssl  Nov27   0:00 /usr/lib/upower/upowerd\n",
      "rtkit     1745  0.0  0.0 183760  3008 ?        SNsl Nov27   0:00 /usr/lib/rtkit/rtkit-daemon\n",
      "colord    1756  0.0  0.3 323920 16104 ?        Ssl  Nov27   0:00 /usr/lib/colord/colord\n",
      "root      1763  0.0  0.2 245696  8852 ?        Sl   Nov27   0:00 lightdm --session-child 12 19\n",
      "khyaath+  1791  0.0  0.1  63084  6896 ?        Ss   Nov27   0:00 /lib/systemd/systemd --user\n",
      "khyaath+  1795  0.0  0.0  89260  2340 ?        S    Nov27   0:00 (sd-pam)\n",
      "khyaath+  1820  0.0  0.1  44244  5152 ?        Ss   Nov27   0:06 /usr/bin/dbus-daemon --session --address=systemd: --nofork --nopidfile --systemd-activation\n",
      "khyaath+  1845  0.0  0.1 283588  6608 ?        Ssl  Nov27   0:00 /usr/lib/gvfs/gvfsd\n",
      "khyaath+  1850  0.0  0.1 428864  7516 ?        Sl   Nov27   0:00 /usr/lib/gvfs/gvfsd-fuse /run/user/1000/gvfs -f -o big_writes\n",
      "khyaath+  1858  0.0  0.1 187676  5328 ?        Sl   Nov27   0:00 /usr/lib/dconf/dconf-service\n",
      "khyaath+  1894  0.0  0.2 214356  8396 ?        Sl   Nov27   0:00 /usr/bin/gnome-keyring-daemon --daemonize --login\n",
      "khyaath+  1897  0.0  0.1  47100  5076 ?        Ss   Nov27   0:10 /sbin/upstart --user\n",
      "khyaath+  1938  0.0  0.1  82260  5364 ?        S    Nov27   0:18 /usr/bin/xbrlapi -q\n",
      "khyaath+  1983  0.0  0.0  49720   896 ?        S    Nov27   0:01 /usr/bin/VBoxClient --checkhostversion\n",
      "khyaath+  1985  0.0  0.0  49720   924 ?        S    Nov27   0:01 /usr/bin/VBoxClient --clipboard\n",
      "khyaath+  1990  0.0  0.0  49720   380 ?        S    Nov27   0:00 /usr/bin/VBoxClient --display\n",
      "khyaath+  1991  0.0  0.0  49856  2920 ?        S    Nov27   0:00 /usr/bin/VBoxClient --display\n",
      "khyaath+  2001  0.0  0.0  49720   896 ?        S    Nov27   0:01 /usr/bin/VBoxClient --seamless\n",
      "khyaath+  2012  0.0  0.0  49720   860 ?        S    Nov27   0:01 /usr/bin/VBoxClient --draganddrop\n",
      "khyaath+  2017  0.0  0.8 493324 34688 ?        Sl   Nov27   0:01 /usr/lib/x86_64-linux-gnu/notify-osd\n",
      "khyaath+  2040  0.0  0.0  33084  2232 ?        S    Nov27   0:01 upstart-udev-bridge --daemon --user\n",
      "khyaath+  2057  0.0  0.0   7280   752 ?        Ss   Nov27   0:00 sleep infinity\n",
      "khyaath+  2063  0.0  0.0   4492   708 ?        Ss   Nov27   0:00 /bin/sh -e /proc/self/fd/9\n",
      "khyaath+  2067  0.0  0.2 160344  9764 ?        Ssl  Nov27   0:00 /usr/lib/x86_64-linux-gnu/hud/window-stack-bridge\n",
      "khyaath+  2071  0.0  0.4 518704 17004 ?        Sl   Nov27   0:00 /usr/lib/x86_64-linux-gnu/url-dispatcher/url-dispatcher\n",
      "khyaath+  2088  0.0  0.6 449816 27296 ?        Ssl  Nov27   0:08 /usr/lib/x86_64-linux-gnu/bamf/bamfdaemon\n",
      "khyaath+  2095  0.0  0.0  33140  1780 ?        S    Nov27   0:04 upstart-dbus-bridge --daemon --session --user --bus-name session\n",
      "khyaath+  2096  0.0  0.0  33140  1804 ?        S    Nov27   0:01 upstart-dbus-bridge --daemon --system --user --bus-name system\n",
      "khyaath+  2116  0.0  0.0  41776  1768 ?        S    Nov27   0:01 upstart-file-bridge --daemon --user\n",
      "khyaath+  2185  0.0  0.8 1004312 32892 ?       Ssl  Nov27   0:05 /usr/lib/unity-settings-daemon/unity-settings-daemon\n",
      "khyaath+  2204  0.1  0.4 374172 17376 ?        Rsl  Nov27   1:00 /usr/bin/ibus-daemon --daemonize --xim --address unix:tmpdir=/tmp/ibus\n",
      "khyaath+  2208  0.0  0.3 647964 16020 ?        Ssl  Nov27   0:00 /usr/lib/gnome-session/gnome-session-binary --session=ubuntu\n",
      "khyaath+  2252  0.0  0.2 286400  8216 ?        Sl   Nov27   0:00 /usr/lib/ibus/ibus-dconf\n",
      "khyaath+  2253  0.0  0.8 480444 32732 ?        Sl   Nov27   0:15 /usr/lib/ibus/ibus-ui-gtk3\n",
      "khyaath+  2265  0.0  0.5 356528 22960 ?        Sl   Nov27   0:00 /usr/lib/ibus/ibus-x11 --kill-daemon\n",
      "khyaath+  2303 11.9  9.0 1369628 365880 ?      Rsl  Nov27 102:33 /usr/bin/compiz\n",
      "khyaath+  2321  0.0  1.2 657260 48912 ?        Ssl  Nov27   0:09 /usr/lib/x86_64-linux-gnu/unity/unity-panel-service\n",
      "khyaath+  2333  0.0  0.1 210528  7944 ?        Sl   Nov27   0:12 /usr/lib/ibus/ibus-engine-simple\n",
      "khyaath+  2340  0.0  0.2 566288 11672 ?        S<l  Nov27   0:00 /usr/bin/pulseaudio --start --log-target=syslog\n",
      "khyaath+  2367  0.0  0.7 674312 31712 ?        Sl   Nov27   0:01 nm-applet\n",
      "khyaath+  2373  0.0  0.5 436444 20776 ?        Sl   Nov27   0:00 /usr/lib/policykit-1-gnome/polkit-gnome-authentication-agent-1\n",
      "khyaath+  2375  0.0  0.2 377140  9372 ?        Ssl  Nov27   0:00 /usr/lib/x86_64-linux-gnu/indicator-messages/indicator-messages-service\n",
      "khyaath+  2379  0.0  0.1 357992  7864 ?        Ssl  Nov27   0:00 /usr/lib/x86_64-linux-gnu/indicator-bluetooth/indicator-bluetooth-service\n",
      "khyaath+  2382  0.0  0.5 581784 22088 ?        Sl   Nov27   0:00 /usr/lib/unity-settings-daemon/unity-fallback-mount-helper\n",
      "khyaath+  2383  0.0  0.1 362368  8080 ?        Ssl  Nov27   0:00 /usr/lib/x86_64-linux-gnu/indicator-power/indicator-power-service\n",
      "khyaath+  2386  0.0  0.8 923576 32944 ?        Ssl  Nov27   0:00 /usr/lib/x86_64-linux-gnu/indicator-datetime/indicator-datetime-service\n",
      "khyaath+  2389  0.0  0.6 665888 26664 ?        Ssl  Nov27   0:01 /usr/lib/x86_64-linux-gnu/indicator-keyboard/indicator-keyboard-service --use-gtk\n",
      "khyaath+  2390  0.0  0.3 682872 12664 ?        Ssl  Nov27   0:00 /usr/lib/x86_64-linux-gnu/indicator-sound/indicator-sound-service\n",
      "khyaath+  2393  0.0  0.2 645292  8988 ?        Ssl  Nov27   0:00 /usr/lib/x86_64-linux-gnu/indicator-session/indicator-session-service\n",
      "khyaath+  2404  0.0  0.3 481192 13296 ?        Ssl  Nov27   0:00 /usr/lib/x86_64-linux-gnu/indicator-application/indicator-application-service\n",
      "root      2422  0.0  0.1 260976  4808 ?        Sl   Nov27   0:00 /usr/lib/x86_64-linux-gnu/unity-greeter-session-broadcast/unity-greeter-session-broadcast-service\n",
      "khyaath+  2426  0.0  2.2 989536 90416 ?        Sl   Nov27   0:06 /usr/bin/gnome-software --gapplication-service\n",
      "khyaath+  2427  0.0  0.8 412116 33348 ?        Ssl  Nov27   0:13 /usr/lib/x86_64-linux-gnu/hud/hud-service\n",
      "khyaath+  2441  0.0  1.5 1023160 60788 ?       Sl   Nov27   0:26 nautilus -n\n",
      "khyaath+  2442  0.0  0.6 554460 24996 ?        Ssl  Nov27   0:00 /usr/lib/x86_64-linux-gnu/indicator-printers/indicator-printers-service\n",
      "khyaath+  2448  0.0  0.6 861712 25284 ?        Ssl  Nov27   0:00 /usr/lib/evolution/evolution-source-registry\n",
      "khyaath+  2469  0.0  0.2 362600  8556 ?        Ssl  Nov27   0:00 /usr/lib/at-spi2-core/at-spi-bus-launcher --launch-immediately\n",
      "khyaath+  2470  0.0  0.0   7280   688 ?        Ss   Nov27   0:00 sleep infinity\n",
      "khyaath+  2476  0.0  0.0  43120  3964 ?        S    Nov27   0:01 /usr/bin/dbus-daemon --config-file=/usr/share/defaults/at-spi2/accessibility.conf --nofork --print-address 3\n",
      "khyaath+  2496  0.0  0.1 213960  7592 ?        Sl   Nov27   0:03 /usr/lib/at-spi2-core/at-spi2-registryd --use-gnome-session\n",
      "khyaath+  2501  0.0  0.8 852312 33620 ?        Ssl  Nov27   0:00 /usr/lib/evolution/evolution-calendar-factory\n",
      "khyaath+  2515  0.0  0.2 377156  9776 ?        Ssl  Nov27   0:00 /usr/lib/gvfs/gvfs-udisks2-volume-monitor\n",
      "root      2518  0.0  0.2 389316 10484 ?        Ssl  Nov27   0:00 /usr/lib/udisks2/udisksd --no-debug\n",
      "khyaath+  2531  0.0  0.6 803904 28212 ?        Sl   Nov27   0:00 /usr/lib/evolution/evolution-calendar-factory-subprocess --factory contacts --bus-name org.gnome.evolution.dataserver.Subprocess.Backend.Calendarx2501x2 --own-path /org/gnome/evolution/dataserver/Subprocess/Backend/Calendar/2501/2\n",
      "khyaath+  2533  0.0  0.1 278532  5380 ?        Ssl  Nov27   0:00 /usr/lib/gvfs/gvfs-gphoto2-volume-monitor\n",
      "khyaath+  2537  0.0  0.1 266420  5328 ?        Ssl  Nov27   0:00 /usr/lib/gvfs/gvfs-goa-volume-monitor\n",
      "khyaath+  2541  0.0  0.2 412720  9676 ?        Ssl  Nov27   0:00 /usr/lib/gvfs/gvfs-afc-volume-monitor\n",
      "khyaath+  2550  0.0  0.1 266332  4876 ?        Ssl  Nov27   0:00 /usr/lib/gvfs/gvfs-mtp-volume-monitor\n",
      "khyaath+  2567  0.0  0.5 784728 21204 ?        Sl   Nov27   0:00 /usr/lib/evolution/evolution-calendar-factory-subprocess --factory local --bus-name org.gnome.evolution.dataserver.Subprocess.Backend.Calendarx2501x3 --own-path /org/gnome/evolution/dataserver/Subprocess/Backend/Calendar/2501/3\n",
      "khyaath+  2568  0.0  0.5 716400 22156 ?        Ssl  Nov27   0:00 /usr/lib/evolution/evolution-addressbook-factory\n",
      "khyaath+  2583  0.0  0.5 802396 22152 ?        Sl   Nov27   0:00 /usr/lib/evolution/evolution-addressbook-factory-subprocess --factory local --bus-name org.gnome.evolution.dataserver.Subprocess.Backend.AddressBookx2568x2 --own-path /org/gnome/evolution/dataserver/Subprocess/Backend/AddressBook/2568/2\n",
      "khyaath+  2600  0.0  0.2 373104  9344 ?        Sl   Nov27   0:00 /usr/lib/gvfs/gvfsd-trash --spawner :1.6 /org/gtk/gvfs/exec_spaw/0\n",
      "khyaath+  2654  0.0  0.1 193308  6148 ?        Ssl  Nov27   0:00 /usr/lib/gvfs/gvfsd-metadata\n",
      "khyaath+  2670  0.0  0.4 429252 17204 ?        Sl   Nov27   0:02 zeitgeist-datahub\n",
      "khyaath+  2676  0.0  0.0   4492   772 ?        S    Nov27   0:00 /bin/sh -c /usr/lib/x86_64-linux-gnu/zeitgeist/zeitgeist-maybe-vacuum; /usr/bin/zeitgeist-daemon\n",
      "khyaath+  2680  0.0  0.2 368288 10956 ?        Sl   Nov27   0:00 /usr/bin/zeitgeist-daemon\n",
      "khyaath+  2688  0.0  0.7 342532 30380 ?        Sl   Nov27   0:01 /usr/lib/x86_64-linux-gnu/zeitgeist-fts\n",
      "khyaath+  2851  0.0  0.6 610316 26368 ?        Sl   Nov27   0:01 update-notifier\n",
      "khyaath+  2924  0.0  0.2 422872  9952 ?        Sl   Nov27   0:00 /usr/lib/gvfs/gvfsd-http --spawner :1.6 /org/gtk/gvfs/exec_spaw/1\n",
      "khyaath+  2963  0.0  0.1  68160  5600 ?        S    Nov27   0:00 /usr/lib/x86_64-linux-gnu/gconf/gconfd-2\n",
      "khyaath+  3283  0.0  0.2 450436  8900 ?        Sl   Nov27   0:00 /usr/lib/x86_64-linux-gnu/deja-dup/deja-dup-monitor\n",
      "khyaath+  4902  0.0  0.4 668568 19568 ?        Sl   Nov27   0:00 /usr/lib/x86_64-linux-gnu/unity-scope-home/unity-scope-home\n",
      "khyaath+  4913  0.0  0.5 584172 24112 ?        Sl   Nov27   0:01 /usr/bin/unity-scope-loader applications/applications.scope applications/scopes.scope commands.scope\n",
      "khyaath+  4915  0.0  0.3 713868 15780 ?        Sl   Nov27   0:00 /usr/lib/x86_64-linux-gnu/unity-lens-files/unity-files-daemon\n",
      "khyaath+  8834  0.0  0.2 446916  8628 ?        Sl   05:19   0:00 /usr/lib/gvfs/gvfsd-network --spawner :1.6 /org/gtk/gvfs/exec_spaw/2\n",
      "khyaath+  8864  0.0  0.1 376920  7000 ?        Sl   05:19   0:00 /usr/lib/gvfs/gvfsd-dnssd --spawner :1.6 /org/gtk/gvfs/exec_spaw/6\n",
      "khyaath+  9493  0.0  1.1 635008 47156 ?        Ssl  Nov27   0:03 /home/khyaathi-python/anaconda2/bin/python -m ipykernel_launcher -f /run/user/1000/jupyter/kernel-3a3d3708-ab94-4532-8b7d-34c1ba5b5aaa.json\n",
      "khyaath+ 11831  0.0  0.1  22704  5448 pts/18   Ss   05:55   0:00 bash\n",
      "khyaath+ 12040  0.3  4.4 1031932 181940 ?      Sl   05:58   0:34 /usr/bin/mono /usr/lib/pinta/Pinta.exe\n",
      "khyaath+ 12629  0.0  1.1 635600 48024 ?        Ssl  Nov27   0:03 /home/khyaathi-python/anaconda2/bin/python -m ipykernel_launcher -f /run/user/1000/jupyter/kernel-5f03a49a-a4f2-44d3-9a91-106da7d3e4b6.json\n",
      "root     15911  0.0  0.0  16108  3744 ?        S    06:56   0:00 /sbin/dhclient -d -q -sf /usr/lib/NetworkManager/nm-dhcp-helper -pf /var/run/dhclient-enp0s3.pid -lf /var/lib/NetworkManager/dhclient-95f3ca14-4e16-3f87-8f42-7af863a75f0d-enp0s3.lease -cf /var/lib/NetworkManager/dhclient-enp0s3.conf enp0s3\n",
      "www-data 18387  0.0  0.1 360768  5892 ?        Sl   07:35   0:00 /usr/sbin/apache2 -k start\n",
      "www-data 18388  0.0  0.1 360800  5892 ?        Sl   07:35   0:00 /usr/sbin/apache2 -k start\n",
      "root     18448  0.0  0.1  95768  7844 ?        Ss   07:35   0:00 /usr/sbin/cupsd -l\n",
      "root     18451  0.0  0.2 282220 10260 ?        Ssl  07:35   0:00 /usr/sbin/cups-browsed\n",
      "khyaath+ 18913  5.5  9.9 2153628 401336 ?      Rl   07:41   4:38 /usr/lib/firefox/firefox\n",
      "root     20490  0.0  0.0      0     0 ?        S    08:05   0:00 [kworker/0:1]\n",
      "khyaath+ 20788  0.2  1.5 360444 64672 pts/18   Sl+  08:10   0:08 /home/khyaathi-python/anaconda2/bin/python /home/khyaathi-python/anaconda2/bin/ipython notebook\n",
      "khyaath+ 20838  0.0  1.1 635108 44892 ?        Ssl  08:11   0:02 /home/khyaathi-python/anaconda2/bin/python -m ipykernel_launcher -f /run/user/1000/jupyter/kernel-4207061c-99d6-40e9-b775-c99803fd8087.json\n",
      "root     21424  0.0  0.0      0     0 ?        S    08:21   0:00 [kworker/u2:1]\n",
      "khyaath+ 22491  0.0  1.1 635004 47276 ?        Ssl  00:01   0:03 /home/khyaathi-python/anaconda2/bin/python -m ipykernel_launcher -f /run/user/1000/jupyter/kernel-8d2ac1b0-c263-4900-a824-afd74d88a5ed.json\n",
      "root     23027  0.0  0.0      0     0 ?        S    08:51   0:00 [kworker/u2:2]\n",
      "khyaath+ 23291  0.4  1.1 635384 48188 ?        Ssl  08:56   0:02 /home/khyaathi-python/anaconda2/bin/python -m ipykernel_launcher -f /run/user/1000/jupyter/kernel-a5e3083e-988c-4f27-8329-e10823c0d8c8.json\n",
      "root     23383  0.0  0.0      0     0 ?        S    08:57   0:00 [kworker/0:2]\n",
      "khyaath+ 23756  0.0  0.0  37604  3396 ?        R    09:04   0:00 ps -aux\n",
      "khyaath+ 28812  0.0  0.9 743144 39548 ?        Ssl  01:48   0:10 /usr/lib/gnome-terminal/gnome-terminal-server\n",
      "khyaath+ 28821  0.0  0.1  22704  5452 pts/10   Ss+  01:48   0:00 bash\n"
     ]
    }
   ],
   "source": [
    "from subprocess import check_output\n",
    "res = check_output([\"ps\",\"-aux\"])\n",
    "for row in res.splitlines():\n",
    "    print row"
   ]
  },
  {
   "cell_type": "code",
   "execution_count": 19,
   "metadata": {},
   "outputs": [
    {
     "name": "stdout",
     "output_type": "stream",
     "text": [
      "khyaath+ 12040  0.3  4.4 1031932 181940 ?      Sl   05:58   0:34 /usr/bin/mono /usr/lib/pinta/Pinta.exe\n"
     ]
    }
   ],
   "source": [
    "from subprocess import check_output\n",
    "res = check_output([\"ps\",\"-aux\"])\n",
    "for row in res.splitlines():\n",
    "    if \"pinta\" in row.lower():\n",
    "        print row"
   ]
  },
  {
   "cell_type": "code",
   "execution_count": 20,
   "metadata": {},
   "outputs": [
    {
     "name": "stdout",
     "output_type": "stream",
     "text": [
      "['khyaath+', '12040', '0.3', '4.4', '1031932', '181940', '?', 'Sl', '05:58', '0:34', '/usr/bin/mono', '/usr/lib/pinta/Pinta.exe']\n"
     ]
    }
   ],
   "source": [
    "from subprocess import check_output\n",
    "res = check_output([\"ps\",\"-aux\"])\n",
    "for row in res.splitlines():\n",
    "    if \"pinta\" in row.lower():\n",
    "        print row.split()\n",
    "        break"
   ]
  },
  {
   "cell_type": "code",
   "execution_count": 21,
   "metadata": {},
   "outputs": [
    {
     "name": "stdout",
     "output_type": "stream",
     "text": [
      "12040\n"
     ]
    }
   ],
   "source": [
    "from subprocess import check_output\n",
    "res = check_output([\"ps\",\"-aux\"])\n",
    "for row in res.splitlines():\n",
    "    if \"pinta\" in row.lower():\n",
    "        print row.split()[1]\n",
    "        break"
   ]
  },
  {
   "cell_type": "code",
   "execution_count": 22,
   "metadata": {
    "collapsed": true
   },
   "outputs": [],
   "source": [
    "from subprocess import check_output\n",
    "res = check_output([\"ps\",\"-aux\"])\n",
    "for row in res.splitlines():\n",
    "    if \"pinta\" in row.lower():\n",
    "        pid = row.split()[1]\n",
    "        os.system(\"kill -9 %s\"%pid)"
   ]
  },
  {
   "cell_type": "code",
   "execution_count": 23,
   "metadata": {},
   "outputs": [
    {
     "name": "stdout",
     "output_type": "stream",
     "text": [
      "Enter a process name to kill:sublime\n"
     ]
    }
   ],
   "source": [
    "from subprocess import check_output\n",
    "res = check_output([\"ps\",\"-aux\"])\n",
    "process = raw_input(\"Enter a process name to kill:\")\n",
    "for row in res.splitlines():\n",
    "    if process.lower() in row.lower():\n",
    "        pid = row.split()[1]\n",
    "        os.system(\"kill -9 %s\"%pid)"
   ]
  },
  {
   "cell_type": "code",
   "execution_count": 24,
   "metadata": {},
   "outputs": [
    {
     "name": "stdout",
     "output_type": "stream",
     "text": [
      "Enter a process name to kill:pinta\n"
     ]
    }
   ],
   "source": [
    "from subprocess import check_output\n",
    "res = check_output([\"ps\",\"-aux\"])\n",
    "process = raw_input(\"Enter a process name to kill:\")\n",
    "for row in res.splitlines():\n",
    "    if process.lower() in row.lower():\n",
    "        pid = row.split()[1]\n",
    "        os.system(\"kill -9 %s\"%pid)"
   ]
  },
  {
   "cell_type": "code",
   "execution_count": 1,
   "metadata": {
    "collapsed": true
   },
   "outputs": [],
   "source": [
    "from github import Github\n",
    "username=\"gs9783@gmail.com\"\n",
    "password=\"samba1234\"\n",
    "g=Github(username, password)"
   ]
  },
  {
   "cell_type": "code",
   "execution_count": 2,
   "metadata": {},
   "outputs": [
    {
     "data": {
      "text/plain": [
       "<github.MainClass.Github at 0x7f967cc94290>"
      ]
     },
     "execution_count": 2,
     "metadata": {},
     "output_type": "execute_result"
    }
   ],
   "source": [
    "g"
   ]
  },
  {
   "cell_type": "code",
   "execution_count": 3,
   "metadata": {},
   "outputs": [
    {
     "data": {
      "text/plain": [
       "<github.PaginatedList.PaginatedList instance at 0x7f967c5edd40>"
      ]
     },
     "execution_count": 3,
     "metadata": {},
     "output_type": "execute_result"
    }
   ],
   "source": [
    "g.get_repos()"
   ]
  },
  {
   "cell_type": "code",
   "execution_count": 5,
   "metadata": {
    "collapsed": true
   },
   "outputs": [],
   "source": [
    "user = g.get_user()"
   ]
  },
  {
   "cell_type": "code",
   "execution_count": 6,
   "metadata": {},
   "outputs": [
    {
     "data": {
      "text/plain": [
       "AuthenticatedUser(login=None)"
      ]
     },
     "execution_count": 6,
     "metadata": {},
     "output_type": "execute_result"
    }
   ],
   "source": [
    "user"
   ]
  },
  {
   "cell_type": "code",
   "execution_count": 7,
   "metadata": {
    "collapsed": true
   },
   "outputs": [],
   "source": [
    "user.create_repo?"
   ]
  },
  {
   "cell_type": "code",
   "execution_count": 8,
   "metadata": {},
   "outputs": [
    {
     "data": {
      "text/plain": [
       "Repository(full_name=\"uday1834/batch51\")"
      ]
     },
     "execution_count": 8,
     "metadata": {},
     "output_type": "execute_result"
    }
   ],
   "source": [
    "user.create_repo(\"batch51\")"
   ]
  },
  {
   "cell_type": "code",
   "execution_count": 9,
   "metadata": {},
   "outputs": [
    {
     "name": "stdout",
     "output_type": "stream",
     "text": [
      "Repository(full_name=\"khyaathi/batch51\")\n",
      "Repository(full_name=\"khyaathi/batch51_1\")\n",
      "Repository(full_name=\"khyaathiinstitute/batch44\")\n",
      "Repository(full_name=\"khyaathiinstitute/batch44_auto\")\n",
      "Repository(full_name=\"khyaathiinstitute/batch44_repo2\")\n",
      "Repository(full_name=\"khyaathiinstitute/batch46\")\n",
      "Repository(full_name=\"khyaathiinstitute/batch48\")\n",
      "Repository(full_name=\"khyaathiinstitute/newrepo\")\n",
      "Repository(full_name=\"tcloud123/batch44_repo1\")\n",
      "Repository(full_name=\"tcloud123/batch48\")\n",
      "Repository(full_name=\"tcloud123/newrepo\")\n",
      "Repository(full_name=\"tcloud123/repo411\")\n",
      "Repository(full_name=\"uday1834/batch48\")\n",
      "Repository(full_name=\"uday1834/batch51\")\n"
     ]
    }
   ],
   "source": [
    "for repo in user.get_repos():\n",
    "    print repo"
   ]
  },
  {
   "cell_type": "code",
   "execution_count": 10,
   "metadata": {
    "collapsed": true
   },
   "outputs": [],
   "source": [
    "repo.delete()"
   ]
  },
  {
   "cell_type": "code",
   "execution_count": 11,
   "metadata": {},
   "outputs": [
    {
     "name": "stdout",
     "output_type": "stream",
     "text": [
      "None\n",
      "None\n",
      "None\n",
      "None\n",
      "None\n",
      "None\n",
      "None\n",
      "None\n",
      "None\n",
      "None\n",
      "None\n",
      "None\n",
      "None\n"
     ]
    }
   ],
   "source": [
    "for repo in user.get_repos():\n",
    "    print repo.delete()"
   ]
  },
  {
   "cell_type": "code",
   "execution_count": null,
   "metadata": {
    "collapsed": true
   },
   "outputs": [],
   "source": []
  }
 ],
 "metadata": {
  "kernelspec": {
   "display_name": "Python 2",
   "language": "python",
   "name": "python2"
  },
  "language_info": {
   "codemirror_mode": {
    "name": "ipython",
    "version": 2
   },
   "file_extension": ".py",
   "mimetype": "text/x-python",
   "name": "python",
   "nbconvert_exporter": "python",
   "pygments_lexer": "ipython2",
   "version": "2.7.14"
  }
 },
 "nbformat": 4,
 "nbformat_minor": 2
}
