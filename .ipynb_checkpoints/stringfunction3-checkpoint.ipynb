{
 "cells": [
  {
   "cell_type": "code",
   "execution_count": 1,
   "metadata": {},
   "outputs": [
    {
     "name": "stdout",
     "output_type": "stream",
     "text": [
      "#$user#$@name$#\n"
     ]
    }
   ],
   "source": [
    "user_name=\"@#$user#$@name$#@\"\n",
    "print user_name.strip(\"@\")"
   ]
  },
  {
   "cell_type": "code",
   "execution_count": 2,
   "metadata": {},
   "outputs": [
    {
     "name": "stdout",
     "output_type": "stream",
     "text": [
      "$user#$@name$\n"
     ]
    }
   ],
   "source": [
    "user_name=\"@#$user#$@name$#@\"\n",
    "print user_name.strip(\"@#\")"
   ]
  },
  {
   "cell_type": "code",
   "execution_count": 3,
   "metadata": {},
   "outputs": [
    {
     "name": "stdout",
     "output_type": "stream",
     "text": [
      "user#$@name\n"
     ]
    }
   ],
   "source": [
    "user_name=\"@#$user#$@name$#@\"\n",
    "print user_name.strip(\"@$#\")"
   ]
  },
  {
   "cell_type": "code",
   "execution_count": 4,
   "metadata": {},
   "outputs": [
    {
     "name": "stdout",
     "output_type": "stream",
     "text": [
      " @#$user#$@name$#@ \n"
     ]
    }
   ],
   "source": [
    "user_name=\" @#$user#$@name$#@ \"\n",
    "print user_name.strip(\"@$#\")print \"123\".zfill(4)\n",
    "print \"12\".zfill(4)\n",
    "print \"12\".zfill(4)\n",
    "print \"1234\".zfill(4)"
   ]
  },
  {
   "cell_type": "code",
   "execution_count": 5,
   "metadata": {},
   "outputs": [
    {
     "name": "stdout",
     "output_type": "stream",
     "text": [
      "@#$user#$@name$#@\n"
     ]
    }
   ],
   "source": [
    "user_name=\" @#$user#$@name$#@ \"\n",
    "print user_name.strip()"
   ]
  },
  {
   "cell_type": "code",
   "execution_count": 6,
   "metadata": {},
   "outputs": [
    {
     "data": {
      "text/plain": [
       "'user      name'"
      ]
     },
     "execution_count": 6,
     "metadata": {},
     "output_type": "execute_result"
    }
   ],
   "source": [
    "s=\"    user      name       \"\n",
    "s.strip()"
   ]
  },
  {
   "cell_type": "code",
   "execution_count": 7,
   "metadata": {},
   "outputs": [
    {
     "name": "stdout",
     "output_type": "stream",
     "text": [
      "user#$@name\n",
      "user#$@name$#@\n",
      "@#$user#$@name\n"
     ]
    }
   ],
   "source": [
    "user_name=\"@#$user#$@name$#@\"\n",
    "print user_name.strip(\"@#$\")\n",
    "print user_name.lstrip(\"@#$\")\n",
    "print user_name.rstrip(\"@#$\")"
   ]
  },
  {
   "cell_type": "code",
   "execution_count": 8,
   "metadata": {},
   "outputs": [
    {
     "name": "stdout",
     "output_type": "stream",
     "text": [
      "('jayaram', ';', 'vedhanvesh;anil kumar;dhanush;shiva')\n"
     ]
    }
   ],
   "source": [
    "s=\"jayaram;vedhanvesh;anil kumar;dhanush;shiva\"\n",
    "print s.partition(\";\")"
   ]
  },
  {
   "cell_type": "code",
   "execution_count": 9,
   "metadata": {},
   "outputs": [
    {
     "name": "stdout",
     "output_type": "stream",
     "text": [
      "('jayaram', ';', 'vedhanvesh;anil kumar;dhanush;shiva')\n",
      "('jayaram;vedhanvesh;anil kumar;dhanush', ';', 'shiva')\n"
     ]
    }
   ],
   "source": [
    "s=\"jayaram;vedhanvesh;anil kumar;dhanush;shiva\"\n",
    "print s.partition(\";\")\n",
    "print s.rpartition(\";\")"
   ]
  },
  {
   "cell_type": "code",
   "execution_count": 10,
   "metadata": {},
   "outputs": [
    {
     "name": "stdout",
     "output_type": "stream",
     "text": [
      "('jayaram', ';', 'vedhanvesh;anil kumar;dhanush;shiva')\n",
      "('jayaram;vedhanvesh;anil kumar;dhanush', ';', 'shiva')\n",
      "['jayaram', 'vedhanvesh', 'anil kumar', 'dhanush', 'shiva']\n"
     ]
    }
   ],
   "source": [
    "s=\"jayaram;vedhanvesh;anil kumar;dhanush;shiva\"\n",
    "print s.partition(\";\")\n",
    "print s.rpartition(\";\")\n",
    "print s.split(';')"
   ]
  },
  {
   "cell_type": "code",
   "execution_count": 11,
   "metadata": {},
   "outputs": [
    {
     "name": "stdout",
     "output_type": "stream",
     "text": [
      "['jayaram', 'vedhanvesh', 'anil kumar', 'dhanush;shiva']\n"
     ]
    }
   ],
   "source": [
    "s=\"jayaram;vedhanvesh;anil kumar;dhanush;shiva\"\n",
    "print s.split(';',3)"
   ]
  },
  {
   "cell_type": "code",
   "execution_count": 12,
   "metadata": {},
   "outputs": [
    {
     "name": "stdout",
     "output_type": "stream",
     "text": [
      "['jayaram', 'vedhanvesh', 'anil kumar;dhanush;shiva']\n"
     ]
    }
   ],
   "source": [
    "s=\"jayaram;vedhanvesh;anil kumar;dhanush;shiva\"\n",
    "print s.split(';',2)"
   ]
  },
  {
   "cell_type": "code",
   "execution_count": 13,
   "metadata": {},
   "outputs": [
    {
     "name": "stdout",
     "output_type": "stream",
     "text": [
      "['jayaram', 'vedhanvesh', 'anil kumar;dhanush;shiva']\n",
      "['jayaram;vedhanvesh;anil kumar', 'dhanush', 'shiva']\n"
     ]
    }
   ],
   "source": [
    "s=\"jayaram;vedhanvesh;anil kumar;dhanush;shiva\"\n",
    "print s.split(';',2)\n",
    "print s.rsplit(';',2)"
   ]
  },
  {
   "cell_type": "code",
   "execution_count": 14,
   "metadata": {},
   "outputs": [
    {
     "name": "stdout",
     "output_type": "stream",
     "text": [
      "['jayaram', 'vedhanvesh', 'anil kumar', 'dhanush', 'shiva']\n",
      "['jayaram', 'vedhanvesh', 'anil kumar', 'dhanush', 'shiva']\n"
     ]
    }
   ],
   "source": [
    "s=\"jayaram;vedhanvesh;anil kumar;dhanush;shiva\"\n",
    "print s.split(';')\n",
    "print s.rsplit(';')"
   ]
  },
  {
   "cell_type": "code",
   "execution_count": 15,
   "metadata": {},
   "outputs": [
    {
     "name": "stdout",
     "output_type": "stream",
     "text": [
      "j\n"
     ]
    }
   ],
   "source": [
    "s=\"jayaram;vedhanvesh;anil kumar;dhanush;shiva\"\n",
    "for i in s:\n",
    "    print i\n",
    "    break"
   ]
  },
  {
   "cell_type": "code",
   "execution_count": 17,
   "metadata": {},
   "outputs": [
    {
     "name": "stdout",
     "output_type": "stream",
     "text": [
      "jayaram\n"
     ]
    }
   ],
   "source": [
    "s=\"jayaram;vedhanvesh;anil kumar;dhanush;shiva\"\n",
    "for i in s.split(\";\"):\n",
    "    print i\n",
    "    break"
   ]
  },
  {
   "cell_type": "code",
   "execution_count": 18,
   "metadata": {},
   "outputs": [
    {
     "name": "stdout",
     "output_type": "stream",
     "text": [
      "jayaram\n",
      "vedhanvesh\n",
      "anil kumar\n",
      "dhanush\n",
      "shiva\n"
     ]
    }
   ],
   "source": [
    "s=\"jayaram;vedhanvesh;anil kumar;dhanush;shiva\"\n",
    "for i in s.split(\";\"):\n",
    "    print i"
   ]
  },
  {
   "cell_type": "code",
   "execution_count": 19,
   "metadata": {},
   "outputs": [
    {
     "name": "stdout",
     "output_type": "stream",
     "text": [
      "jayaram\n",
      ";\n",
      "vedhanvesh;anil kumar;dhanush;shiva\n"
     ]
    }
   ],
   "source": [
    "s=\"jayaram;vedhanvesh;anil kumar;dhanush;shiva\"\n",
    "for i in s.partition(\";\"):\n",
    "    print i"
   ]
  },
  {
   "cell_type": "code",
   "execution_count": 20,
   "metadata": {},
   "outputs": [
    {
     "name": "stdout",
     "output_type": "stream",
     "text": [
      "['jayaram,vedhanvesh,anil', 'kumar,dhanush,shiva']\n"
     ]
    }
   ],
   "source": [
    "s=\"jayaram,vedhanvesh,anil kumar,dhanush,shiva\"\n",
    "print s.split()"
   ]
  },
  {
   "cell_type": "code",
   "execution_count": 21,
   "metadata": {},
   "outputs": [
    {
     "name": "stdout",
     "output_type": "stream",
     "text": [
      "['jayaram', 'vedhanvesh', 'anil kumar', 'dhanush', 'shiva']\n"
     ]
    }
   ],
   "source": [
    "s=\"jayaram,vedhanvesh,anil kumar,dhanush,shiva\"\n",
    "print s.split(\",\")"
   ]
  },
  {
   "cell_type": "code",
   "execution_count": 22,
   "metadata": {},
   "outputs": [
    {
     "name": "stdout",
     "output_type": "stream",
     "text": [
      "['j', 'a', 'y', 'a', 'r', 'a', 'm', ',', 'v', 'e', 'd', 'h', 'a', 'n', 'v', 'e', 's', 'h', ',', 'a', 'n', 'i', 'l', ' ', 'k', 'u', 'm', 'a', 'r', ',', 'd', 'h', 'a', 'n', 'u', 's', 'h', ',', 's', 'h', 'i', 'v', 'a']\n"
     ]
    }
   ],
   "source": [
    "s=\"jayaram,vedhanvesh,anil kumar,dhanush,shiva\"\n",
    "print list(s)"
   ]
  },
  {
   "cell_type": "code",
   "execution_count": 23,
   "metadata": {},
   "outputs": [
    {
     "ename": "ValueError",
     "evalue": "empty separator",
     "output_type": "error",
     "traceback": [
      "\u001b[0;31m---------------------------------------------------------------------------\u001b[0m",
      "\u001b[0;31mValueError\u001b[0m                                Traceback (most recent call last)",
      "\u001b[0;32m<ipython-input-23-df9f94c29295>\u001b[0m in \u001b[0;36m<module>\u001b[0;34m()\u001b[0m\n\u001b[1;32m      1\u001b[0m \u001b[0ms\u001b[0m\u001b[0;34m=\u001b[0m\u001b[0;34m\"jayaram,vedhanvesh,anil kumar,dhanush,shiva\"\u001b[0m\u001b[0;34m\u001b[0m\u001b[0m\n\u001b[0;32m----> 2\u001b[0;31m \u001b[0;32mprint\u001b[0m \u001b[0ms\u001b[0m\u001b[0;34m.\u001b[0m\u001b[0msplit\u001b[0m\u001b[0;34m(\u001b[0m\u001b[0;34m\"\"\u001b[0m\u001b[0;34m)\u001b[0m\u001b[0;34m\u001b[0m\u001b[0m\n\u001b[0m",
      "\u001b[0;31mValueError\u001b[0m: empty separator"
     ]
    }
   ],
   "source": [
    "s=\"jayaram,vedhanvesh,anil kumar,dhanush,shiva\"\n",
    "print s.split(\"\")"
   ]
  },
  {
   "cell_type": "code",
   "execution_count": 24,
   "metadata": {},
   "outputs": [
    {
     "name": "stdout",
     "output_type": "stream",
     "text": [
      "['jayaram', 'vedhanvesh', 'anil kumar', 'dhanush', 'shiva']\n"
     ]
    }
   ],
   "source": [
    "s=\"jayaram\\nvedhanvesh\\nanil kumar\\ndhanush\\nshiva\"\n",
    "print s.splitlines()"
   ]
  },
  {
   "cell_type": "code",
   "execution_count": 26,
   "metadata": {},
   "outputs": [
    {
     "name": "stdout",
     "output_type": "stream",
     "text": [
      "['jayaram\\n', 'vedhanvesh\\n', 'anil kumar\\n', 'dhanush\\n', 'shiva']\n"
     ]
    }
   ],
   "source": [
    "s=\"jayaram\\nvedhanvesh\\nanil kumar\\ndhanush\\nshiva\"\n",
    "print s.splitlines(True)"
   ]
  },
  {
   "cell_type": "code",
   "execution_count": 28,
   "metadata": {},
   "outputs": [
    {
     "name": "stdout",
     "output_type": "stream",
     "text": [
      "['jayaram', 'vedhanvesh', 'anil kumar\\ndhanush\\nshiva']\n"
     ]
    }
   ],
   "source": [
    "s=\"jayaram\\nvedhanvesh\\nanil kumar\\ndhanush\\nshiva\"\n",
    "print s.split(\"\\n\",2)"
   ]
  },
  {
   "cell_type": "code",
   "execution_count": 29,
   "metadata": {},
   "outputs": [
    {
     "name": "stdout",
     "output_type": "stream",
     "text": [
      "123\n",
      "12\n",
      "12\n",
      "1234\n"
     ]
    }
   ],
   "source": [
    "print \"123\"\n",
    "print \"12\"\n",
    "print \"12\"\n",
    "print \"1234\""
   ]
  },
  {
   "cell_type": "code",
   "execution_count": 30,
   "metadata": {},
   "outputs": [
    {
     "name": "stdout",
     "output_type": "stream",
     "text": [
      "0123\n",
      "0012\n",
      "0012\n",
      "1234\n"
     ]
    }
   ],
   "source": [
    "print \"123\".zfill(4)\n",
    "print \"12\".zfill(4)\n",
    "print \"12\".zfill(4)\n",
    "print \"1234\".zfill(4)"
   ]
  },
  {
   "cell_type": "code",
   "execution_count": 31,
   "metadata": {},
   "outputs": [
    {
     "name": "stdout",
     "output_type": "stream",
     "text": [
      " 123\n",
      "  12\n",
      "  12\n",
      "1234\n"
     ]
    }
   ],
   "source": [
    "print \"123\".rjust(4)\n",
    "print \"12\".rjust(4)\n",
    "print \"12\".rjust(4)\n",
    "print \"1234\".rjust(4)"
   ]
  },
  {
   "cell_type": "code",
   "execution_count": 33,
   "metadata": {},
   "outputs": [
    {
     "name": "stdout",
     "output_type": "stream",
     "text": [
      "0123\n",
      "0012\n",
      "0012\n",
      "1234\n"
     ]
    }
   ],
   "source": [
    "print \"123\".rjust(4,'0')\n",
    "print \"12\".rjust(4,'0')\n",
    "print \"12\".rjust(4,'0')\n",
    "print \"1234\".rjust(4,'0')"
   ]
  },
  {
   "cell_type": "code",
   "execution_count": null,
   "metadata": {
    "collapsed": true
   },
   "outputs": [],
   "source": []
  }
 ],
 "metadata": {
  "kernelspec": {
   "display_name": "Python 2",
   "language": "python",
   "name": "python2"
  },
  "language_info": {
   "codemirror_mode": {
    "name": "ipython",
    "version": 2
   },
   "file_extension": ".py",
   "mimetype": "text/x-python",
   "name": "python",
   "nbconvert_exporter": "python",
   "pygments_lexer": "ipython2",
   "version": "2.7.14"
  }
 },
 "nbformat": 4,
 "nbformat_minor": 2
}
