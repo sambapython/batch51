{
 "cells": [
  {
   "cell_type": "code",
   "execution_count": 2,
   "metadata": {},
   "outputs": [
    {
     "name": "stdout",
     "output_type": "stream",
     "text": [
      "30\n",
      "200\n",
      "-10\n",
      "0\n"
     ]
    }
   ],
   "source": [
    "def fun1(a,b):\n",
    "    return a+b\n",
    "def fun2(a,b):\n",
    "    return a*b\n",
    "def fun3(a,b):\n",
    "    return a-b\n",
    "def fun4(a,b):\n",
    "    return a/b\n",
    "print fun1(10,20)\n",
    "print fun2(10,20)\n",
    "print fun3(10,20)\n",
    "print fun4(10,20)"
   ]
  },
  {
   "cell_type": "code",
   "execution_count": null,
   "metadata": {
    "collapsed": true
   },
   "outputs": [],
   "source": [
    "def fun1(a,b):\n",
    "    x=234\n",
    "    return a+b\n",
    "def fun2(a,b):\n",
    "    return a*b\n",
    "def fun3(a,b):\n",
    "    return a-b\n",
    "def fun4(a,b):\n",
    "    return a/b\n",
    "print fun1(10,20)\n",
    "print fun2()\n",
    "print fun3()\n",
    "print fun4()"
   ]
  },
  {
   "cell_type": "code",
   "execution_count": 3,
   "metadata": {
    "collapsed": true
   },
   "outputs": [],
   "source": [
    "a=10\n",
    "b=20"
   ]
  },
  {
   "cell_type": "code",
   "execution_count": 4,
   "metadata": {},
   "outputs": [
    {
     "data": {
      "text/plain": [
       "30"
      ]
     },
     "execution_count": 4,
     "metadata": {},
     "output_type": "execute_result"
    }
   ],
   "source": [
    "a+b"
   ]
  },
  {
   "cell_type": "code",
   "execution_count": 5,
   "metadata": {},
   "outputs": [
    {
     "data": {
      "text/plain": [
       "'str1str2'"
      ]
     },
     "execution_count": 5,
     "metadata": {},
     "output_type": "execute_result"
    }
   ],
   "source": [
    "s=\"str1\"\n",
    "s1=\"str2\"\n",
    "s+s1"
   ]
  },
  {
   "cell_type": "code",
   "execution_count": null,
   "metadata": {
    "collapsed": true
   },
   "outputs": [],
   "source": [
    "a=emp()\n",
    "b=emp()\n",
    "a+b"
   ]
  },
  {
   "cell_type": "code",
   "execution_count": 6,
   "metadata": {},
   "outputs": [
    {
     "name": "stdout",
     "output_type": "stream",
     "text": [
      "this is class\n"
     ]
    }
   ],
   "source": [
    "def fun():\n",
    "    print \"this is fun\"\n",
    "class Emp:\n",
    "    print \"this is class\"\n",
    "    "
   ]
  },
  {
   "cell_type": "code",
   "execution_count": 7,
   "metadata": {
    "collapsed": true
   },
   "outputs": [],
   "source": [
    "class Emp:\n",
    "    company_name=\"Khyaathi\"\n",
    "    company_address=\"maithrivanam\"\n"
   ]
  },
  {
   "cell_type": "code",
   "execution_count": 8,
   "metadata": {},
   "outputs": [
    {
     "name": "stdout",
     "output_type": "stream",
     "text": [
      "Khyaathi\n",
      "maithrivanam\n"
     ]
    }
   ],
   "source": [
    "class Emp:\n",
    "    company_name=\"Khyaathi\"\n",
    "    company_address=\"maithrivanam\"\n",
    "    print company_name\n",
    "    print company_address"
   ]
  },
  {
   "cell_type": "code",
   "execution_count": 9,
   "metadata": {},
   "outputs": [
    {
     "ename": "NameError",
     "evalue": "name 'company_name' is not defined",
     "output_type": "error",
     "traceback": [
      "\u001b[0;31m---------------------------------------------------------------------------\u001b[0m",
      "\u001b[0;31mNameError\u001b[0m                                 Traceback (most recent call last)",
      "\u001b[0;32m<ipython-input-9-68db7d4fb56b>\u001b[0m in \u001b[0;36m<module>\u001b[0;34m()\u001b[0m\n\u001b[1;32m      2\u001b[0m     \u001b[0mcompany_name\u001b[0m\u001b[0;34m=\u001b[0m\u001b[0;34m\"Khyaathi\"\u001b[0m\u001b[0;34m\u001b[0m\u001b[0m\n\u001b[1;32m      3\u001b[0m     \u001b[0mcompany_address\u001b[0m\u001b[0;34m=\u001b[0m\u001b[0;34m\"maithrivanam\"\u001b[0m\u001b[0;34m\u001b[0m\u001b[0m\n\u001b[0;32m----> 4\u001b[0;31m \u001b[0;32mprint\u001b[0m \u001b[0mcompany_name\u001b[0m\u001b[0;34m\u001b[0m\u001b[0m\n\u001b[0m\u001b[1;32m      5\u001b[0m \u001b[0;32mprint\u001b[0m \u001b[0mcompany_address\u001b[0m\u001b[0;34m\u001b[0m\u001b[0m\n",
      "\u001b[0;31mNameError\u001b[0m: name 'company_name' is not defined"
     ]
    }
   ],
   "source": [
    "class Emp:\n",
    "    company_name=\"Khyaathi\"\n",
    "    company_address=\"maithrivanam\"\n",
    "print company_name\n",
    "print company_address"
   ]
  },
  {
   "cell_type": "code",
   "execution_count": 10,
   "metadata": {},
   "outputs": [
    {
     "name": "stdout",
     "output_type": "stream",
     "text": [
      "Khyaathi\n",
      "maithrivanam\n"
     ]
    }
   ],
   "source": [
    "class Emp:\n",
    "    company_name=\"Khyaathi\"\n",
    "    company_address=\"maithrivanam\"\n",
    "print Emp.company_name\n",
    "print Emp.company_address"
   ]
  },
  {
   "cell_type": "code",
   "execution_count": 11,
   "metadata": {},
   "outputs": [
    {
     "name": "stdout",
     "output_type": "stream",
     "text": [
      "Khyaathi\n",
      "maithrivanam\n"
     ]
    },
    {
     "ename": "TypeError",
     "evalue": "unbound method fun() must be called with Emp instance as first argument (got int instance instead)",
     "output_type": "error",
     "traceback": [
      "\u001b[0;31m---------------------------------------------------------------------------\u001b[0m",
      "\u001b[0;31mTypeError\u001b[0m                                 Traceback (most recent call last)",
      "\u001b[0;32m<ipython-input-11-c78bd1173de2>\u001b[0m in \u001b[0;36m<module>\u001b[0;34m()\u001b[0m\n\u001b[1;32m      6\u001b[0m \u001b[0;32mprint\u001b[0m \u001b[0mEmp\u001b[0m\u001b[0;34m.\u001b[0m\u001b[0mcompany_name\u001b[0m\u001b[0;34m\u001b[0m\u001b[0m\n\u001b[1;32m      7\u001b[0m \u001b[0;32mprint\u001b[0m \u001b[0mEmp\u001b[0m\u001b[0;34m.\u001b[0m\u001b[0mcompany_address\u001b[0m\u001b[0;34m\u001b[0m\u001b[0m\n\u001b[0;32m----> 8\u001b[0;31m \u001b[0mEmp\u001b[0m\u001b[0;34m.\u001b[0m\u001b[0mfun\u001b[0m\u001b[0;34m(\u001b[0m\u001b[0;36m10\u001b[0m\u001b[0;34m)\u001b[0m\u001b[0;34m\u001b[0m\u001b[0m\n\u001b[0m",
      "\u001b[0;31mTypeError\u001b[0m: unbound method fun() must be called with Emp instance as first argument (got int instance instead)"
     ]
    }
   ],
   "source": [
    "class Emp:\n",
    "    company_name=\"Khyaathi\"\n",
    "    company_address=\"maithrivanam\"\n",
    "    def fun(a):\n",
    "        print a\n",
    "print Emp.company_name\n",
    "print Emp.company_address\n",
    "Emp.fun(10)"
   ]
  },
  {
   "cell_type": "code",
   "execution_count": 12,
   "metadata": {},
   "outputs": [
    {
     "data": {
      "text/plain": [
       "0"
      ]
     },
     "execution_count": 12,
     "metadata": {},
     "output_type": "execute_result"
    }
   ],
   "source": [
    "import os\n",
    "os.system(\"mkdir folder1\")"
   ]
  },
  {
   "cell_type": "code",
   "execution_count": 13,
   "metadata": {},
   "outputs": [
    {
     "data": {
      "text/plain": [
       "0"
      ]
     },
     "execution_count": 13,
     "metadata": {},
     "output_type": "execute_result"
    }
   ],
   "source": [
    "os.system(\"ps -aux\")"
   ]
  },
  {
   "cell_type": "code",
   "execution_count": 15,
   "metadata": {},
   "outputs": [
    {
     "data": {
      "text/plain": [
       "'USER       PID %CPU %MEM    VSZ   RSS TTY      STAT START   TIME COMMAND\\nroot         1  0.0  0.1 137384  7408 ?        Ss   06:23   0:01 /sbin/init splash\\nroot         2  0.0  0.0      0     0 ?        S    06:23   0:00 [kthreadd]\\nroot         3  0.0  0.0      0     0 ?        S    06:23   0:00 [ksoftirqd/0]\\nroot         5  0.0  0.0      0     0 ?        S<   06:23   0:00 [kworker/0:0H]\\nroot         7  0.0  0.0      0     0 ?        S    06:23   0:02 [rcu_sched]\\nroot         8  0.0  0.0      0     0 ?        S    06:23   0:00 [rcu_bh]\\nroot         9  0.0  0.0      0     0 ?        S    06:23   0:00 [migration/0]\\nroot        10  0.0  0.0      0     0 ?        S<   06:23   0:00 [lru-add-drain]\\nroot        11  0.0  0.0      0     0 ?        S    06:23   0:00 [watchdog/0]\\nroot        12  0.0  0.0      0     0 ?        S    06:23   0:00 [cpuhp/0]\\nroot        13  0.0  0.0      0     0 ?        S    06:23   0:00 [kdevtmpfs]\\nroot        14  0.0  0.0      0     0 ?        S<   06:23   0:00 [netns]\\nroot        15  0.0  0.0      0     0 ?        S    06:23   0:00 [khungtaskd]\\nroot        16  0.0  0.0      0     0 ?        S    06:23   0:00 [oom_reaper]\\nroot        17  0.0  0.0      0     0 ?        S<   06:23   0:00 [writeback]\\nroot        18  0.0  0.0      0     0 ?        S    06:23   0:00 [kcompactd0]\\nroot        19  0.0  0.0      0     0 ?        SN   06:23   0:00 [ksmd]\\nroot        20  0.0  0.0      0     0 ?        SN   06:23   0:02 [khugepaged]\\nroot        21  0.0  0.0      0     0 ?        S<   06:23   0:00 [crypto]\\nroot        22  0.0  0.0      0     0 ?        S<   06:23   0:00 [kintegrityd]\\nroot        23  0.0  0.0      0     0 ?        S<   06:23   0:00 [bioset]\\nroot        24  0.0  0.0      0     0 ?        S<   06:23   0:00 [kblockd]\\nroot        25  0.0  0.0      0     0 ?        S<   06:23   0:00 [ata_sff]\\nroot        26  0.0  0.0      0     0 ?        S<   06:23   0:00 [md]\\nroot        27  0.0  0.0      0     0 ?        S<   06:23   0:00 [devfreq_wq]\\nroot        28  0.0  0.0      0     0 ?        S<   06:23   0:00 [watchdogd]\\nroot        32  0.0  0.0      0     0 ?        S    06:23   0:00 [kswapd0]\\nroot        33  0.0  0.0      0     0 ?        S<   06:23   0:00 [vmstat]\\nroot        34  0.0  0.0      0     0 ?        S    06:23   0:00 [ecryptfs-kthrea]\\nroot        73  0.0  0.0      0     0 ?        S<   06:23   0:00 [kthrotld]\\nroot        74  0.0  0.0      0     0 ?        S<   06:23   0:00 [acpi_thermal_pm]\\nroot        75  0.0  0.0      0     0 ?        S<   06:23   0:00 [bioset]\\nroot        76  0.0  0.0      0     0 ?        S<   06:23   0:00 [bioset]\\nroot        77  0.0  0.0      0     0 ?        S<   06:23   0:00 [bioset]\\nroot        78  0.0  0.0      0     0 ?        S<   06:23   0:00 [bioset]\\nroot        79  0.0  0.0      0     0 ?        S<   06:23   0:00 [bioset]\\nroot        80  0.0  0.0      0     0 ?        S<   06:23   0:00 [bioset]\\nroot        81  0.0  0.0      0     0 ?        S<   06:23   0:00 [bioset]\\nroot        82  0.0  0.0      0     0 ?        S<   06:23   0:00 [bioset]\\nroot        83  0.0  0.0      0     0 ?        S    06:23   0:00 [scsi_eh_0]\\nroot        84  0.0  0.0      0     0 ?        S<   06:23   0:00 [scsi_tmf_0]\\nroot        85  0.0  0.0      0     0 ?        S    06:23   0:00 [scsi_eh_1]\\nroot        86  0.0  0.0      0     0 ?        S<   06:23   0:00 [scsi_tmf_1]\\nroot        92  0.0  0.0      0     0 ?        S<   06:23   0:00 [ipv6_addrconf]\\nroot       113  0.0  0.0      0     0 ?        S<   06:23   0:00 [deferwq]\\nroot       114  0.0  0.0      0     0 ?        S<   06:23   0:00 [charger_manager]\\nroot       115  0.0  0.0      0     0 ?        S<   06:23   0:00 [bioset]\\nroot       160  0.0  0.0      0     0 ?        S<   06:23   0:00 [kpsmoused]\\nroot       167  0.0  0.0      0     0 ?        S    06:23   0:00 [scsi_eh_2]\\nroot       168  0.0  0.0      0     0 ?        S<   06:23   0:00 [scsi_tmf_2]\\nroot       169  0.0  0.0      0     0 ?        S<   06:23   0:00 [bioset]\\nroot       190  0.0  0.0      0     0 ?        S<   06:23   0:00 [kworker/0:1H]\\nroot       192  0.0  0.0      0     0 ?        S    06:23   0:00 [jbd2/sda1-8]\\nroot       193  0.0  0.0      0     0 ?        S<   06:23   0:00 [ext4-rsv-conver]\\nroot       232  0.0  0.1  41084  5872 ?        Ss   06:23   0:00 /lib/systemd/systemd-journald\\nroot       234  0.0  0.0      0     0 ?        S    06:23   0:00 [kauditd]\\nroot       255  0.0  0.1  45772  4616 ?        Ss   06:23   0:00 /lib/systemd/systemd-udevd\\nroot       327  0.0  0.0      0     0 ?        S<   06:23   0:00 [iprt-VBoxWQueue]\\nroot       426  0.0  0.0      0     0 ?        S<   06:23   0:00 [ttm_swap]\\nroot       604  0.0  0.0   4384  1284 ?        Ss   06:23   0:00 /usr/sbin/acpid\\nroot       618  0.0  0.2 420528  9260 ?        Ssl  06:23   0:00 /usr/sbin/ModemManager\\nwhoopsie   619  0.0  0.3 390144 13272 ?        Ssl  06:23   0:00 /usr/bin/whoopsie -f\\nmessage+   637  0.0  0.1  44576  5340 ?        Ss   06:23   0:01 /usr/bin/dbus-daemon --system --address=systemd: --nofork --nopidfile --systemd-activation\\nroot       689  0.0  0.4 400860 17356 ?        Ssl  06:23   0:00 /usr/sbin/NetworkManager --no-daemon\\nroot       691  0.0  0.0  31100  3168 ?        Ss   06:23   0:00 /usr/sbin/cron -f\\nroot       692  0.0  0.1  44412  4812 ?        Ss   06:23   0:00 /lib/systemd/systemd-logind\\nsyslog     693  0.0  0.0 256404  3432 ?        Ssl  06:23   0:00 /usr/sbin/rsyslogd -n\\navahi      694  0.0  0.0  45008  3300 ?        Ss   06:23   0:00 avahi-daemon: running [khyaathipython.local]\\nroot       695  0.0  0.2 293988  8356 ?        Ssl  06:23   0:00 /usr/lib/accountsservice/accounts-daemon\\nroot       699  0.0  0.0  30088  1652 ?        Ss   06:23   0:00 /sbin/cgmanager -m name=systemd\\nroot       701  0.0  0.4 207780 17804 ?        Ssl  06:23   0:00 /usr/lib/snapd/snapd\\nroot       714  0.0  0.2 304636 11192 ?        Ssl  06:23   0:00 /usr/lib/policykit-1/polkitd --no-debug\\navahi      719  0.0  0.0  45008   352 ?        S    06:23   0:00 avahi-daemon: chroot helper\\nsystemd+   844  0.0  0.0  47552  4028 ?        Ss   06:23   0:00 /lib/systemd/systemd-resolved\\nroot       850  0.0  0.0 248720  2200 ?        Sl   06:23   0:01 /usr/sbin/VBoxService\\nroot       859  0.0  0.1  67820  5476 ?        Ss   06:23   0:00 /usr/sbin/sshd -D\\nroot       904  0.0  0.2 303372  8620 ?        SLsl 06:23   0:00 /usr/sbin/lightdm\\nroot       915  2.2  3.0 439908 124604 tty7    Ss+  06:23   4:08 /usr/lib/xorg/Xorg -core :0 -seat seat0 -auth /var/run/lightdm/root/:0 -nolisten tcp vt7 -novtswitch\\nroot       920  0.0  0.0  16060  1832 tty1     Ss+  06:23   0:00 /sbin/agetty --noclear tty1 linux\\npostgres   935  0.0  0.6 296984 24448 ?        S    06:23   0:00 /usr/lib/postgresql/9.5/bin/postgres -D /var/lib/postgresql/9.5/main -c config_file=/etc/postgresql/9.5/main/postgresql.conf\\nnobody     946  0.0  0.1  53084  4076 ?        S    06:23   0:00 /usr/sbin/dnsmasq --no-resolv --keep-in-foreground --no-hosts --bind-interfaces --pid-file=/var/run/NetworkManager/dnsmasq.pid --listen-address=127.0.1.1 --cache-size=0 --conf-file=/dev/null --proxy-dnssec --enable-dbus=org.freedesktop.NetworkManager.dnsmasq --conf-dir=/etc/NetworkManager/dnsmasq.d\\npostgres  1019  0.0  0.1 297112  6932 ?        Ss   06:23   0:00 postgres: 9.5/main: checkpointer process   \\npostgres  1020  0.0  0.1 296984  5728 ?        Ss   06:23   0:00 postgres: 9.5/main: writer process   \\npostgres  1021  0.0  0.2 296984  8840 ?        Ss   06:23   0:00 postgres: 9.5/main: wal writer process   \\npostgres  1022  0.0  0.1 297360  6828 ?        Ss   06:23   0:00 postgres: 9.5/main: autovacuum launcher process   \\npostgres  1023  0.0  0.1 152064  4404 ?        Ss   06:23   0:00 postgres: 9.5/main: stats collector process   \\nsnmp      1367  0.0  0.1  59620  7772 ?        S    06:23   0:02 /usr/sbin/snmpd -Lsd -Lf /dev/null -u snmp -g snmp -I -smux mteTrigger mteTriggerConf -p /run/snmpd.pid\\nroot      1369  0.0  0.3 702120 14392 ?        Sl   06:23   0:05 /opt/teamviewer/tv_bin/teamviewerd -d\\nroot      1405  0.0  0.1  71576  4868 ?        Ss   06:23   0:00 /usr/sbin/apache2 -k start\\nroot      1567  0.0  0.3 322156 12228 ?        Ssl  06:23   0:00 /usr/lib/packagekit/packagekitd\\nroot      1684  0.0  0.2 354176 10348 ?        Ssl  06:23   0:00 /usr/lib/upower/upowerd\\nrtkit     1745  0.0  0.0 183760  3008 ?        SNsl 06:23   0:00 /usr/lib/rtkit/rtkit-daemon\\ncolord    1756  0.0  0.3 323920 16088 ?        Ssl  06:23   0:00 /usr/lib/colord/colord\\nroot      1763  0.0  0.2 245696  8852 ?        Sl   06:23   0:00 lightdm --session-child 12 19\\nkhyaath+  1791  0.0  0.1  63084  6896 ?        Ss   06:24   0:00 /lib/systemd/systemd --user\\nkhyaath+  1795  0.0  0.0  89260  2340 ?        S    06:24   0:00 (sd-pam)\\nkhyaath+  1820  0.0  0.1  44216  5120 ?        Ss   06:24   0:02 /usr/bin/dbus-daemon --session --address=systemd: --nofork --nopidfile --systemd-activation\\nkhyaath+  1845  0.0  0.1 283588  6528 ?        Ssl  06:24   0:00 /usr/lib/gvfs/gvfsd\\nkhyaath+  1850  0.0  0.1 428864  7516 ?        Sl   06:24   0:00 /usr/lib/gvfs/gvfsd-fuse /run/user/1000/gvfs -f -o big_writes\\nkhyaath+  1858  0.0  0.1 187676  5328 ?        Sl   06:24   0:00 /usr/lib/dconf/dconf-service\\nkhyaath+  1894  0.0  0.2 214356  8396 ?        Sl   06:24   0:00 /usr/bin/gnome-keyring-daemon --daemonize --login\\nkhyaath+  1897  0.0  0.1  47100  5076 ?        Ss   06:24   0:03 /sbin/upstart --user\\nkhyaath+  1938  0.0  0.1  82260  5364 ?        S    06:24   0:04 /usr/bin/xbrlapi -q\\nkhyaath+  1983  0.0  0.0  49720   896 ?        S    06:24   0:00 /usr/bin/VBoxClient --checkhostversion\\nkhyaath+  1985  0.0  0.0  49720   924 ?        S    06:24   0:00 /usr/bin/VBoxClient --clipboard\\nkhyaath+  1990  0.0  0.0  49720   380 ?        S    06:24   0:00 /usr/bin/VBoxClient --display\\nkhyaath+  1991  0.0  0.0  49856  2920 ?        S    06:24   0:00 /usr/bin/VBoxClient --display\\nkhyaath+  2001  0.0  0.0  49720   896 ?        S    06:24   0:00 /usr/bin/VBoxClient --seamless\\nkhyaath+  2012  0.0  0.0  49720   860 ?        S    06:24   0:00 /usr/bin/VBoxClient --draganddrop\\nkhyaath+  2017  0.0  0.7 450556 30720 ?        Sl   06:24   0:00 /usr/lib/x86_64-linux-gnu/notify-osd\\nkhyaath+  2040  0.0  0.0  33084   284 ?        S    06:24   0:00 upstart-udev-bridge --daemon --user\\nkhyaath+  2057  0.0  0.0   7280   752 ?        Ss   06:24   0:00 sleep infinity\\nkhyaath+  2063  0.0  0.0   4492   708 ?        Ss   06:24   0:00 /bin/sh -e /proc/self/fd/9\\nkhyaath+  2067  0.0  0.2 160344  9764 ?        Ssl  06:24   0:00 /usr/lib/x86_64-linux-gnu/hud/window-stack-bridge\\nkhyaath+  2071  0.0  0.4 518704 17004 ?        Sl   06:24   0:00 /usr/lib/x86_64-linux-gnu/url-dispatcher/url-dispatcher\\nkhyaath+  2088  0.0  0.6 449660 27180 ?        Ssl  06:24   0:02 /usr/lib/x86_64-linux-gnu/bamf/bamfdaemon\\nkhyaath+  2095  0.0  0.0  33140  1780 ?        S    06:24   0:01 upstart-dbus-bridge --daemon --session --user --bus-name session\\nkhyaath+  2096  0.0  0.0  33008   316 ?        S    06:24   0:00 upstart-dbus-bridge --daemon --system --user --bus-name system\\nkhyaath+  2116  0.0  0.0  41776  1768 ?        S    06:24   0:00 upstart-file-bridge --daemon --user\\nkhyaath+  2185  0.0  0.8 1004312 32912 ?       Ssl  06:24   0:01 /usr/lib/unity-settings-daemon/unity-settings-daemon\\nkhyaath+  2204  0.1  0.2 369400 11332 ?        Ssl  06:24   0:12 /usr/bin/ibus-daemon --daemonize --xim --address unix:tmpdir=/tmp/ibus\\nkhyaath+  2208  0.0  0.3 647964 16012 ?        Ssl  06:24   0:00 /usr/lib/gnome-session/gnome-session-binary --session=ubuntu\\nkhyaath+  2252  0.0  0.2 286400  8212 ?        Sl   06:24   0:00 /usr/lib/ibus/ibus-dconf\\nkhyaath+  2253  0.0  0.7 478140 30388 ?        Sl   06:24   0:04 /usr/lib/ibus/ibus-ui-gtk3\\nkhyaath+  2265  0.0  0.5 356528 22960 ?        Sl   06:24   0:00 /usr/lib/ibus/ibus-x11 --kill-daemon\\nkhyaath+  2303 11.4  8.1 1336796 329904 ?      Ssl  06:24  21:19 /usr/bin/compiz\\nkhyaath+  2321  0.0  1.0 651784 42584 ?        Ssl  06:24   0:02 /usr/lib/x86_64-linux-gnu/unity/unity-panel-service\\nkhyaath+  2333  0.0  0.1 210528  7944 ?        Sl   06:24   0:02 /usr/lib/ibus/ibus-engine-simple\\nkhyaath+  2340  0.0  0.2 566288 11444 ?        S<l  06:24   0:00 /usr/bin/pulseaudio --start --log-target=syslog\\nkhyaath+  2367  0.0  0.7 674180 30196 ?        Sl   06:24   0:00 nm-applet\\nkhyaath+  2373  0.0  0.5 436444 20776 ?        Sl   06:24   0:00 /usr/lib/policykit-1-gnome/polkit-gnome-authentication-agent-1\\nkhyaath+  2375  0.0  0.2 377140  9372 ?        Ssl  06:24   0:00 /usr/lib/x86_64-linux-gnu/indicator-messages/indicator-messages-service\\nkhyaath+  2379  0.0  0.1 357992  7864 ?        Ssl  06:24   0:00 /usr/lib/x86_64-linux-gnu/indicator-bluetooth/indicator-bluetooth-service\\nkhyaath+  2382  0.0  0.5 581784 22088 ?        Sl   06:24   0:00 /usr/lib/unity-settings-daemon/unity-fallback-mount-helper\\nkhyaath+  2383  0.0  0.1 362368  8080 ?        Ssl  06:24   0:00 /usr/lib/x86_64-linux-gnu/indicator-power/indicator-power-service\\nkhyaath+  2386  0.0  0.8 923576 32928 ?        Ssl  06:24   0:00 /usr/lib/x86_64-linux-gnu/indicator-datetime/indicator-datetime-service\\nkhyaath+  2389  0.0  0.6 665888 26664 ?        Ssl  06:24   0:00 /usr/lib/x86_64-linux-gnu/indicator-keyboard/indicator-keyboard-service --use-gtk\\nkhyaath+  2390  0.0  0.3 682872 12664 ?        Ssl  06:24   0:00 /usr/lib/x86_64-linux-gnu/indicator-sound/indicator-sound-service\\nkhyaath+  2393  0.0  0.2 645292  8988 ?        Ssl  06:24   0:00 /usr/lib/x86_64-linux-gnu/indicator-session/indicator-session-service\\nkhyaath+  2404  0.0  0.3 481192 13296 ?        Ssl  06:24   0:00 /usr/lib/x86_64-linux-gnu/indicator-application/indicator-application-service\\nroot      2422  0.0  0.1 260976  4808 ?        Sl   06:24   0:00 /usr/lib/x86_64-linux-gnu/unity-greeter-session-broadcast/unity-greeter-session-broadcast-service\\nkhyaath+  2426  0.0  2.2 989536 90416 ?        Sl   06:24   0:04 /usr/bin/gnome-software --gapplication-service\\nkhyaath+  2427  0.0  0.7 411184 31104 ?        Ssl  06:24   0:02 /usr/lib/x86_64-linux-gnu/hud/hud-service\\nkhyaath+  2441  0.1  1.3 1010232 55744 ?       Sl   06:24   0:13 nautilus -n\\nkhyaath+  2442  0.0  0.6 554460 24996 ?        Ssl  06:24   0:00 /usr/lib/x86_64-linux-gnu/indicator-printers/indicator-printers-service\\nkhyaath+  2448  0.0  0.6 861712 25284 ?        Ssl  06:24   0:00 /usr/lib/evolution/evolution-source-registry\\nkhyaath+  2469  0.0  0.2 362600  8556 ?        Ssl  06:24   0:00 /usr/lib/at-spi2-core/at-spi-bus-launcher --launch-immediately\\nkhyaath+  2470  0.0  0.0   7280   688 ?        Ss   06:24   0:00 sleep infinity\\nkhyaath+  2476  0.0  0.0  43120  3964 ?        S    06:24   0:00 /usr/bin/dbus-daemon --config-file=/usr/share/defaults/at-spi2/accessibility.conf --nofork --print-address 3\\nkhyaath+  2496  0.0  0.1 213960  7592 ?        Sl   06:24   0:00 /usr/lib/at-spi2-core/at-spi2-registryd --use-gnome-session\\nkhyaath+  2501  0.0  0.8 852312 33620 ?        Ssl  06:24   0:00 /usr/lib/evolution/evolution-calendar-factory\\nkhyaath+  2515  0.0  0.2 377156  9776 ?        Ssl  06:24   0:00 /usr/lib/gvfs/gvfs-udisks2-volume-monitor\\nroot      2518  0.0  0.2 389316 10484 ?        Ssl  06:24   0:00 /usr/lib/udisks2/udisksd --no-debug\\nkhyaath+  2531  0.0  0.6 803904 28212 ?        Sl   06:24   0:00 /usr/lib/evolution/evolution-calendar-factory-subprocess --factory contacts --bus-name org.gnome.evolution.dataserver.Subprocess.Backend.Calendarx2501x2 --own-path /org/gnome/evolution/dataserver/Subprocess/Backend/Calendar/2501/2\\nkhyaath+  2533  0.0  0.1 278532  5380 ?        Ssl  06:24   0:00 /usr/lib/gvfs/gvfs-gphoto2-volume-monitor\\nkhyaath+  2537  0.0  0.1 266420  5328 ?        Ssl  06:24   0:00 /usr/lib/gvfs/gvfs-goa-volume-monitor\\nkhyaath+  2541  0.0  0.2 412720  9676 ?        Ssl  06:24   0:00 /usr/lib/gvfs/gvfs-afc-volume-monitor\\nkhyaath+  2550  0.0  0.1 266332  4876 ?        Ssl  06:24   0:00 /usr/lib/gvfs/gvfs-mtp-volume-monitor\\nkhyaath+  2567  0.0  0.5 784728 21204 ?        Sl   06:24   0:00 /usr/lib/evolution/evolution-calendar-factory-subprocess --factory local --bus-name org.gnome.evolution.dataserver.Subprocess.Backend.Calendarx2501x3 --own-path /org/gnome/evolution/dataserver/Subprocess/Backend/Calendar/2501/3\\nkhyaath+  2568  0.0  0.5 716400 22156 ?        Ssl  06:24   0:00 /usr/lib/evolution/evolution-addressbook-factory\\nkhyaath+  2583  0.0  0.5 802396 22152 ?        Sl   06:24   0:00 /usr/lib/evolution/evolution-addressbook-factory-subprocess --factory local --bus-name org.gnome.evolution.dataserver.Subprocess.Backend.AddressBookx2568x2 --own-path /org/gnome/evolution/dataserver/Subprocess/Backend/AddressBook/2568/2\\nkhyaath+  2600  0.0  0.2 372976  9264 ?        Sl   06:24   0:00 /usr/lib/gvfs/gvfsd-trash --spawner :1.6 /org/gtk/gvfs/exec_spaw/0\\nkhyaath+  2654  0.0  0.1 193308  6084 ?        Ssl  06:24   0:00 /usr/lib/gvfs/gvfsd-metadata\\nkhyaath+  2670  0.0  0.4 429276 17208 ?        Sl   06:24   0:00 zeitgeist-datahub\\nkhyaath+  2676  0.0  0.0   4492   772 ?        S    06:24   0:00 /bin/sh -c /usr/lib/x86_64-linux-gnu/zeitgeist/zeitgeist-maybe-vacuum; /usr/bin/zeitgeist-daemon\\nkhyaath+  2680  0.0  0.2 368288 10892 ?        Sl   06:24   0:00 /usr/bin/zeitgeist-daemon\\nkhyaath+  2688  0.0  0.7 341860 29988 ?        Sl   06:24   0:01 /usr/lib/x86_64-linux-gnu/zeitgeist-fts\\nkhyaath+  2745  0.0  0.9 741832 37764 ?        Ssl  06:24   0:02 /usr/lib/gnome-terminal/gnome-terminal-server\\nkhyaath+  2851  0.0  0.6 610316 26368 ?        Sl   06:25   0:00 update-notifier\\nkhyaath+  2924  0.0  0.2 422872  9952 ?        Sl   06:25   0:00 /usr/lib/gvfs/gvfsd-http --spawner :1.6 /org/gtk/gvfs/exec_spaw/1\\nkhyaath+  2963  0.0  0.1  68160  5600 ?        S    06:25   0:00 /usr/lib/x86_64-linux-gnu/gconf/gconfd-2\\nkhyaath+  3283  0.0  0.2 450436  8900 ?        Sl   06:26   0:00 /usr/lib/x86_64-linux-gnu/deja-dup/deja-dup-monitor\\nroot      3573  0.0  0.1  95784  7788 ?        Ss   06:28   0:00 /usr/sbin/cupsd -l\\nroot      3574  0.0  0.2 282220 10144 ?        Ssl  06:28   0:00 /usr/sbin/cups-browsed\\nlp        3577  0.0  0.1  81652  5884 ?        S    06:28   0:00 /usr/lib/cups/notifier/dbus dbus://\\nwww-data  3613  0.0  0.1 360736  5892 ?        Sl   06:28   0:01 /usr/sbin/apache2 -k start\\nwww-data  3614  0.0  0.1 360736  5892 ?        Sl   06:28   0:01 /usr/sbin/apache2 -k start\\nkhyaath+  4273  0.0  0.1  22688  5476 pts/6    Ss   06:38   0:00 bash\\nkhyaath+  4902  0.0  0.4 668568 19568 ?        Sl   06:48   0:00 /usr/lib/x86_64-linux-gnu/unity-scope-home/unity-scope-home\\nkhyaath+  4913  0.0  0.5 584172 24112 ?        Sl   06:48   0:00 /usr/bin/unity-scope-loader applications/applications.scope applications/scopes.scope commands.scope\\nkhyaath+  4915  0.0  0.3 713868 15800 ?        Sl   06:48   0:00 /usr/lib/x86_64-linux-gnu/unity-lens-files/unity-files-daemon\\nroot      8370  0.0  0.0      0     0 ?        S    07:49   0:00 [kworker/0:2]\\nroot      8383  0.0  0.0  16108  3728 ?        S    07:49   0:00 /sbin/dhclient -d -q -sf /usr/lib/NetworkManager/nm-dhcp-helper -pf /var/run/dhclient-enp0s3.pid -lf /var/lib/NetworkManager/dhclient-95f3ca14-4e16-3f87-8f42-7af863a75f0d-enp0s3.lease -cf /var/lib/NetworkManager/dhclient-enp0s3.conf enp0s3\\nkhyaath+  9366  0.2  1.5 360308 64680 pts/6    Sl+  08:02   0:10 /home/khyaathi-python/anaconda2/bin/python /home/khyaathi-python/anaconda2/bin/ipython notebook\\nkhyaath+  9382  5.8 10.2 2187516 415540 ?      Rl   08:02   5:07 /usr/lib/firefox/firefox http://localhost:8888/tree?token=c7568efc266de75da04a78a6adf75470e725a35f808d8d21\\nkhyaath+  9493  0.0  1.1 635008 47156 ?        Ssl  08:03   0:02 /home/khyaathi-python/anaconda2/bin/python -m ipykernel_launcher -f /run/user/1000/jupyter/kernel-3a3d3708-ab94-4532-8b7d-34c1ba5b5aaa.json\\nkhyaath+ 10162  0.3  1.5 922440 61004 ?        Ssl  08:15   0:14 /opt/sublime_text/sublime_text\\nkhyaath+ 10176  0.0  0.4 120240 19020 ?        Sl   08:15   0:00 /opt/sublime_text/plugin_host 10162\\nroot     10199  0.0  0.0      0     0 ?        S    08:15   0:00 [kworker/u2:1]\\nkhyaath+ 10230  0.0  0.1  22704  5484 pts/1    Ss+  08:16   0:00 bash\\nkhyaath+ 12629  0.1  1.1 635240 47764 ?        Ssl  08:56   0:02 /home/khyaathi-python/anaconda2/bin/python -m ipykernel_launcher -f /run/user/1000/jupyter/kernel-5f03a49a-a4f2-44d3-9a91-106da7d3e4b6.json\\nroot     12704  0.0  0.0      0     0 ?        S    08:58   0:00 [kworker/u2:2]\\nroot     13598  0.0  0.0      0     0 ?        S    09:15   0:00 [kworker/0:0]\\nkhyaath+ 14102  3.2  3.4 1003052 139904 ?      Sl   09:24   0:11 /usr/bin/mono /usr/lib/pinta/Pinta.exe\\nroot     14283  0.0  0.0      0     0 ?        S    09:26   0:00 [kworker/u2:0]\\nkhyaath+ 14473  0.0  0.0  37604  3392 ?        R    09:30   0:00 ps -aux\\n'"
      ]
     },
     "execution_count": 15,
     "metadata": {},
     "output_type": "execute_result"
    }
   ],
   "source": [
    "from subprocess import check_output\n",
    "check_output(\"ps -aux\".split())"
   ]
  },
  {
   "cell_type": "code",
   "execution_count": 1,
   "metadata": {
    "collapsed": true
   },
   "outputs": [],
   "source": [
    "class Emp:\n",
    "    company_name=\"Khyaathi\"\n",
    "    company_address=\"maithrivanam\"\n",
    "    def fun(a):\n",
    "        print a\n",
    "        print \"this is fun\""
   ]
  },
  {
   "cell_type": "code",
   "execution_count": 2,
   "metadata": {},
   "outputs": [
    {
     "ename": "TypeError",
     "evalue": "unbound method fun() must be called with Emp instance as first argument (got int instance instead)",
     "output_type": "error",
     "traceback": [
      "\u001b[0;31m---------------------------------------------------------------------------\u001b[0m",
      "\u001b[0;31mTypeError\u001b[0m                                 Traceback (most recent call last)",
      "\u001b[0;32m<ipython-input-2-43bcc27d85e4>\u001b[0m in \u001b[0;36m<module>\u001b[0;34m()\u001b[0m\n\u001b[1;32m      5\u001b[0m         \u001b[0;32mprint\u001b[0m \u001b[0ma\u001b[0m\u001b[0;34m\u001b[0m\u001b[0m\n\u001b[1;32m      6\u001b[0m         \u001b[0;32mprint\u001b[0m \u001b[0;34m\"this is fun\"\u001b[0m\u001b[0;34m\u001b[0m\u001b[0m\n\u001b[0;32m----> 7\u001b[0;31m \u001b[0mEmp\u001b[0m\u001b[0;34m.\u001b[0m\u001b[0mfun\u001b[0m\u001b[0;34m(\u001b[0m\u001b[0;36m20\u001b[0m\u001b[0;34m)\u001b[0m\u001b[0;34m\u001b[0m\u001b[0m\n\u001b[0m",
      "\u001b[0;31mTypeError\u001b[0m: unbound method fun() must be called with Emp instance as first argument (got int instance instead)"
     ]
    }
   ],
   "source": [
    "class Emp:\n",
    "    company_name=\"Khyaathi\"\n",
    "    company_address=\"maithrivanam\"\n",
    "    def fun(a):\n",
    "        print a\n",
    "        print \"this is fun\"\n",
    "Emp.fun(20)"
   ]
  },
  {
   "cell_type": "code",
   "execution_count": 3,
   "metadata": {},
   "outputs": [
    {
     "ename": "TypeError",
     "evalue": "unbound method fun() must be called with Emp instance as first argument (got int instance instead)",
     "output_type": "error",
     "traceback": [
      "\u001b[0;31m---------------------------------------------------------------------------\u001b[0m",
      "\u001b[0;31mTypeError\u001b[0m                                 Traceback (most recent call last)",
      "\u001b[0;32m<ipython-input-3-2c03eefb6a7c>\u001b[0m in \u001b[0;36m<module>\u001b[0;34m()\u001b[0m\n\u001b[1;32m      6\u001b[0m         \u001b[0;32mprint\u001b[0m \u001b[0;34m\"b=\"\u001b[0m\u001b[0;34m,\u001b[0m\u001b[0mb\u001b[0m\u001b[0;34m\u001b[0m\u001b[0m\n\u001b[1;32m      7\u001b[0m         \u001b[0;32mprint\u001b[0m \u001b[0;34m\"this is fun\"\u001b[0m\u001b[0;34m\u001b[0m\u001b[0m\n\u001b[0;32m----> 8\u001b[0;31m \u001b[0mEmp\u001b[0m\u001b[0;34m.\u001b[0m\u001b[0mfun\u001b[0m\u001b[0;34m(\u001b[0m\u001b[0;36m20\u001b[0m\u001b[0;34m,\u001b[0m\u001b[0;36m30\u001b[0m\u001b[0;34m)\u001b[0m\u001b[0;34m\u001b[0m\u001b[0m\n\u001b[0m",
      "\u001b[0;31mTypeError\u001b[0m: unbound method fun() must be called with Emp instance as first argument (got int instance instead)"
     ]
    }
   ],
   "source": [
    "class Emp:\n",
    "    company_name=\"Khyaathi\"\n",
    "    company_address=\"maithrivanam\"\n",
    "    def fun(a,b):\n",
    "        print \"a=\",a\n",
    "        print \"b=\",b\n",
    "        print \"this is fun\"\n",
    "Emp.fun(20,30)"
   ]
  },
  {
   "cell_type": "code",
   "execution_count": 4,
   "metadata": {},
   "outputs": [
    {
     "name": "stdout",
     "output_type": "stream",
     "text": [
      "a= <__main__.Emp instance at 0x7f1fa447e3b0>\n",
      "b= 30\n",
      "this is fun\n"
     ]
    }
   ],
   "source": [
    "class Emp:\n",
    "    company_name=\"Khyaathi\"\n",
    "    company_address=\"maithrivanam\"\n",
    "    def fun(a,b):\n",
    "        print \"a=\",a\n",
    "        print \"b=\",b\n",
    "        print \"this is fun\"\n",
    "anil = Emp() # Emp() data object,  anil instance\n",
    "Emp.fun(anil,30)"
   ]
  },
  {
   "cell_type": "code",
   "execution_count": 5,
   "metadata": {},
   "outputs": [
    {
     "name": "stdout",
     "output_type": "stream",
     "text": [
      "a= <__main__.Emp instance at 0x7f1fa447eab8>\n",
      "b= 30\n",
      "this is fun\n",
      "maithrivanam\n",
      "Khyaathi\n",
      "maithrivanam\n",
      "Khyaathi\n",
      "a= <__main__.Emp instance at 0x7f1fa447eab8>\n",
      "b= 30\n",
      "this is fun\n"
     ]
    }
   ],
   "source": [
    "class Emp:\n",
    "    company_name=\"Khyaathi\"\n",
    "    company_address=\"maithrivanam\"\n",
    "    def fun(a,b):\n",
    "        print \"a=\",a\n",
    "        print \"b=\",b\n",
    "        print \"this is fun\"\n",
    "anil = Emp() # Emp() data object,  anil instance\n",
    "Emp.fun(anil,30)\n",
    "print Emp.company_address\n",
    "print Emp.company_name\n",
    "print anil.company_address\n",
    "print anil.company_name\n",
    "anil.fun(30)"
   ]
  },
  {
   "cell_type": "code",
   "execution_count": 6,
   "metadata": {},
   "outputs": [
    {
     "name": "stdout",
     "output_type": "stream",
     "text": [
      "maithrivanam\n",
      "Khyaathi\n",
      "a= <__main__.Emp instance at 0x7f1fa44077e8>\n",
      "b= 30\n",
      "this is fun\n"
     ]
    }
   ],
   "source": [
    "class Emp:\n",
    "    company_name=\"Khyaathi\"\n",
    "    company_address=\"maithrivanam\"\n",
    "    def fun(a,b):\n",
    "        print \"a=\",a\n",
    "        print \"b=\",b\n",
    "        print \"this is fun\"\n",
    "anil = Emp() # Emp() data object,  anil instance\n",
    "print anil.company_address\n",
    "print anil.company_name\n",
    "anil.fun(30)"
   ]
  },
  {
   "cell_type": "code",
   "execution_count": 7,
   "metadata": {},
   "outputs": [
    {
     "name": "stdout",
     "output_type": "stream",
     "text": [
      "maithrivanam\n",
      "Khyaathi\n"
     ]
    },
    {
     "ename": "TypeError",
     "evalue": "fun() takes exactly 2 arguments (3 given)",
     "output_type": "error",
     "traceback": [
      "\u001b[0;31m---------------------------------------------------------------------------\u001b[0m",
      "\u001b[0;31mTypeError\u001b[0m                                 Traceback (most recent call last)",
      "\u001b[0;32m<ipython-input-7-f4d61480eaec>\u001b[0m in \u001b[0;36m<module>\u001b[0;34m()\u001b[0m\n\u001b[1;32m      9\u001b[0m \u001b[0;32mprint\u001b[0m \u001b[0manil\u001b[0m\u001b[0;34m.\u001b[0m\u001b[0mcompany_address\u001b[0m\u001b[0;34m\u001b[0m\u001b[0m\n\u001b[1;32m     10\u001b[0m \u001b[0;32mprint\u001b[0m \u001b[0manil\u001b[0m\u001b[0;34m.\u001b[0m\u001b[0mcompany_name\u001b[0m\u001b[0;34m\u001b[0m\u001b[0m\n\u001b[0;32m---> 11\u001b[0;31m \u001b[0manil\u001b[0m\u001b[0;34m.\u001b[0m\u001b[0mfun\u001b[0m\u001b[0;34m(\u001b[0m\u001b[0manil\u001b[0m\u001b[0;34m,\u001b[0m\u001b[0;36m30\u001b[0m\u001b[0;34m)\u001b[0m\u001b[0;34m\u001b[0m\u001b[0m\n\u001b[0m",
      "\u001b[0;31mTypeError\u001b[0m: fun() takes exactly 2 arguments (3 given)"
     ]
    }
   ],
   "source": [
    "class Emp:\n",
    "    company_name=\"Khyaathi\"\n",
    "    company_address=\"maithrivanam\"\n",
    "    def fun(a,b):\n",
    "        print \"a=\",a\n",
    "        print \"b=\",b\n",
    "        print \"this is fun\"\n",
    "anil = Emp() # Emp() data object,  anil instance\n",
    "print anil.company_address\n",
    "print anil.company_name\n",
    "anil.fun(anil,30)"
   ]
  },
  {
   "cell_type": "code",
   "execution_count": 8,
   "metadata": {},
   "outputs": [
    {
     "name": "stdout",
     "output_type": "stream",
     "text": [
      "maithrivanam\n",
      "Khyaathi\n",
      "a= <__main__.Emp instance at 0x7f1fa4407dd0>\n",
      "b= 30\n",
      "this is fun\n"
     ]
    }
   ],
   "source": [
    "class Emp:\n",
    "    company_name=\"Khyaathi\"\n",
    "    company_address=\"maithrivanam\"\n",
    "    def fun(a,b):\n",
    "        print \"a=\",a\n",
    "        print \"b=\",b\n",
    "        print \"this is fun\"\n",
    "anil = Emp() # Emp() data object,  anil instance\n",
    "print anil.company_address\n",
    "print anil.company_name\n",
    "anil.fun(30)\n",
    "#Emp.fun(anil,30)"
   ]
  },
  {
   "cell_type": "code",
   "execution_count": null,
   "metadata": {
    "collapsed": true
   },
   "outputs": [],
   "source": [
    "class Emp:\n",
    "    company_name=\"Khyaathi\"\n",
    "    company_address=\"maithrivanam\"\n",
    "    def fun(a,b):\n",
    "        print \"a=\",a\n",
    "        print \"b=\",b\n",
    "        print \"this is fun\"\n",
    "anil = Emp() # Emp() data object,  anil instance\n",
    "print anil.company_address\n",
    "print anil.company_name\n",
    "anil.fun(30)\n",
    "#Emp.fun(anil,30)"
   ]
  },
  {
   "cell_type": "code",
   "execution_count": 9,
   "metadata": {},
   "outputs": [
    {
     "name": "stdout",
     "output_type": "stream",
     "text": [
      "maithrivanam\n",
      "Khyaathi\n",
      "a= <__main__.Emp instance at 0x7f1fa4407f38>\n",
      "b= 30\n",
      "this is fun\n"
     ]
    }
   ],
   "source": [
    "class Emp:\n",
    "    company_name=\"Khyaathi\"\n",
    "    company_address=\"maithrivanam\"\n",
    "    def fun(self, b):\n",
    "        print \"a=\",self\n",
    "        print \"b=\",b\n",
    "        print \"this is fun\"\n",
    "anil = Emp() # Emp() data object,  anil instance\n",
    "print anil.company_address\n",
    "print anil.company_name\n",
    "anil.fun(30)\n",
    "#Emp.fun(anil,30)"
   ]
  },
  {
   "cell_type": "code",
   "execution_count": 10,
   "metadata": {},
   "outputs": [
    {
     "name": "stdout",
     "output_type": "stream",
     "text": [
      "maithrivanam\n",
      "Khyaathi\n"
     ]
    },
    {
     "ename": "TypeError",
     "evalue": "fun() takes exactly 1 argument (2 given)",
     "output_type": "error",
     "traceback": [
      "\u001b[0;31m---------------------------------------------------------------------------\u001b[0m",
      "\u001b[0;31mTypeError\u001b[0m                                 Traceback (most recent call last)",
      "\u001b[0;32m<ipython-input-10-49f6524510e6>\u001b[0m in \u001b[0;36m<module>\u001b[0;34m()\u001b[0m\n\u001b[1;32m      9\u001b[0m \u001b[0;32mprint\u001b[0m \u001b[0manil\u001b[0m\u001b[0;34m.\u001b[0m\u001b[0mcompany_address\u001b[0m\u001b[0;34m\u001b[0m\u001b[0m\n\u001b[1;32m     10\u001b[0m \u001b[0;32mprint\u001b[0m \u001b[0manil\u001b[0m\u001b[0;34m.\u001b[0m\u001b[0mcompany_name\u001b[0m\u001b[0;34m\u001b[0m\u001b[0m\n\u001b[0;32m---> 11\u001b[0;31m \u001b[0manil\u001b[0m\u001b[0;34m.\u001b[0m\u001b[0mfun\u001b[0m\u001b[0;34m(\u001b[0m\u001b[0;36m30\u001b[0m\u001b[0;34m)\u001b[0m\u001b[0;34m\u001b[0m\u001b[0m\n\u001b[0m\u001b[1;32m     12\u001b[0m \u001b[0;31m#Emp.fun(anil,30)\u001b[0m\u001b[0;34m\u001b[0m\u001b[0;34m\u001b[0m\u001b[0m\n",
      "\u001b[0;31mTypeError\u001b[0m: fun() takes exactly 1 argument (2 given)"
     ]
    }
   ],
   "source": [
    "class Emp:\n",
    "    company_name=\"Khyaathi\"\n",
    "    company_address=\"maithrivanam\"\n",
    "    def fun(b):\n",
    "        print \"a=\",self\n",
    "        print \"b=\",b\n",
    "        print \"this is fun\"\n",
    "anil = Emp() # Emp() data object,  anil instance\n",
    "print anil.company_address\n",
    "print anil.company_name\n",
    "anil.fun(30)\n",
    "#Emp.fun(anil,30)"
   ]
  },
  {
   "cell_type": "code",
   "execution_count": 12,
   "metadata": {},
   "outputs": [
    {
     "name": "stdout",
     "output_type": "stream",
     "text": [
      " maithrivanam\n",
      "Khyaathi\n",
      "b= <__main__.Emp instance at 0x7f1fa4387170>\n",
      "this is fun\n"
     ]
    }
   ],
   "source": [
    "class Emp:\n",
    "    company_name=\"Khyaathi\"\n",
    "    company_address=\"maithrivanam\"\n",
    "    def fun(b):\n",
    "        print \"b=\",b\n",
    "        print \"this is fun\"\n",
    "anil = Emp() # Emp() data object,  anil instance\n",
    "print anil.company_address\n",
    "print anil.company_name\n",
    "anil.fun()\n",
    "#Emp.fun(anil,30)"
   ]
  },
  {
   "cell_type": "code",
   "execution_count": 13,
   "metadata": {},
   "outputs": [
    {
     "name": "stdout",
     "output_type": "stream",
     "text": [
      "maithrivanam\n",
      "Khyaathi\n",
      "b= <__main__.Emp instance at 0x7f1fa43874d0>\n",
      "this is fun\n"
     ]
    }
   ],
   "source": [
    "class Emp: # Emp is class object\n",
    "    company_name=\"Khyaathi\"\n",
    "    company_address=\"maithrivanam\"\n",
    "    def fun(self): # fun is method\n",
    "        print \"b=\",self\n",
    "        print \"this is fun\"\n",
    "anil = Emp() # Emp() data object,  anil instance\n",
    "print anil.company_address\n",
    "print anil.company_name\n",
    "anil.fun()\n",
    "#Emp.fun(anil,30)"
   ]
  },
  {
   "cell_type": "code",
   "execution_count": 14,
   "metadata": {},
   "outputs": [
    {
     "name": "stdout",
     "output_type": "stream",
     "text": [
      "this s salary calculation\n",
      "this is leave cal\n",
      "this is credits calculation\n",
      "this s salary calculation\n",
      "this is leave cal\n",
      "this is credits calculation\n"
     ]
    }
   ],
   "source": [
    "# write a class Emp, sample methods sal_cal, leave_cal, credits_cal. call these methods using an instance and\n",
    "# class object of EMP.\n",
    "class Emp:\n",
    "    def sal_cal(self):\n",
    "        print \"this s salary calculation\"\n",
    "    def leave_cal(self):\n",
    "        print \"this is leave cal\"\n",
    "    def credits_cal(self):\n",
    "        print \"this is credits calculation\"\n",
    "jay=Emp()\n",
    "# using class object\n",
    "Emp.sal_cal(jay)\n",
    "Emp.leave_cal(jay)\n",
    "Emp.credits_cal(jay)\n",
    "# using an instance\n",
    "jay.sal_cal()\n",
    "jay.leave_cal()\n",
    "jay.credits_cal()"
   ]
  },
  {
   "cell_type": "code",
   "execution_count": 15,
   "metadata": {
    "collapsed": true
   },
   "outputs": [],
   "source": [
    "class Emp:\n",
    "    def sal_cal(self):\n",
    "        print \"this s salary calculation\"\n",
    "    def leave_cal(self):\n",
    "        print \"this is leave cal\"\n",
    "    def credits_cal(self):\n",
    "        print \"this is credits calculation\"\n",
    "jay=Emp()\n",
    "vedha=Emp()\n",
    "sai=Emp()\n",
    "dhana=Emp()\n"
   ]
  },
  {
   "cell_type": "code",
   "execution_count": 16,
   "metadata": {},
   "outputs": [
    {
     "name": "stdout",
     "output_type": "stream",
     "text": [
      "Vedhanvesh\n",
      "Jayaram\n"
     ]
    }
   ],
   "source": [
    "class Emp:\n",
    "    company_name=\"Khyaathi\"# company_name is a class attribute\n",
    "    def get(self):\n",
    "        pass\n",
    "jay=Emp()\n",
    "jay.name=\"Jayaram\"\n",
    "jay.address=\"anjaneyanagar\"\n",
    "jay.id=6973\n",
    "vedha = Emp()\n",
    "vedha.name=\"Vedhanvesh\"\n",
    "vedha.address=\"anjaneyanagar\"\n",
    "vedha.id=6974\n",
    "print vedha.name\n",
    "print jay.name"
   ]
  },
  {
   "cell_type": "code",
   "execution_count": 17,
   "metadata": {},
   "outputs": [
    {
     "name": "stdout",
     "output_type": "stream",
     "text": [
      "Vedhanvesh\n",
      "Jayaram\n",
      "Khyaathi\n",
      "Khyaathi\n"
     ]
    }
   ],
   "source": [
    "class Emp:\n",
    "    company_name=\"Khyaathi\"# company_name is a class attribute\n",
    "    def get(self):\n",
    "        pass\n",
    "jay=Emp()\n",
    "jay.name=\"Jayaram\"\n",
    "jay.address=\"anjaneyanagar\"\n",
    "jay.id=6973\n",
    "vedha = Emp()\n",
    "vedha.name=\"Vedhanvesh\"\n",
    "vedha.address=\"anjaneyanagar\"\n",
    "vedha.id=6974\n",
    "print vedha.name\n",
    "print jay.name\n",
    "print vedha.company_name\n",
    "print jay.company_name"
   ]
  },
  {
   "cell_type": "code",
   "execution_count": 18,
   "metadata": {},
   "outputs": [
    {
     "name": "stdout",
     "output_type": "stream",
     "text": [
      "Vedhanvesh\n",
      "Jayaram\n",
      "Khyaathi\n",
      "Khyaathi\n"
     ]
    },
    {
     "ename": "AttributeError",
     "evalue": "class Emp has no attribute 'name'",
     "output_type": "error",
     "traceback": [
      "\u001b[0;31m---------------------------------------------------------------------------\u001b[0m",
      "\u001b[0;31mAttributeError\u001b[0m                            Traceback (most recent call last)",
      "\u001b[0;32m<ipython-input-18-a2491a88352a>\u001b[0m in \u001b[0;36m<module>\u001b[0;34m()\u001b[0m\n\u001b[1;32m     15\u001b[0m \u001b[0;32mprint\u001b[0m \u001b[0mvedha\u001b[0m\u001b[0;34m.\u001b[0m\u001b[0mcompany_name\u001b[0m\u001b[0;34m\u001b[0m\u001b[0m\n\u001b[1;32m     16\u001b[0m \u001b[0;32mprint\u001b[0m \u001b[0mjay\u001b[0m\u001b[0;34m.\u001b[0m\u001b[0mcompany_name\u001b[0m\u001b[0;34m\u001b[0m\u001b[0m\n\u001b[0;32m---> 17\u001b[0;31m \u001b[0;32mprint\u001b[0m \u001b[0mEmp\u001b[0m\u001b[0;34m.\u001b[0m\u001b[0mname\u001b[0m\u001b[0;34m\u001b[0m\u001b[0m\n\u001b[0m",
      "\u001b[0;31mAttributeError\u001b[0m: class Emp has no attribute 'name'"
     ]
    }
   ],
   "source": [
    "class Emp:\n",
    "    company_name=\"Khyaathi\"# company_name is a class attribute\n",
    "    def get(self):\n",
    "        pass\n",
    "jay=Emp()\n",
    "jay.name=\"Jayaram\"\n",
    "jay.address=\"anjaneyanagar\"\n",
    "jay.id=6973\n",
    "vedha = Emp()\n",
    "vedha.name=\"Vedhanvesh\"\n",
    "vedha.address=\"anjaneyanagar\"\n",
    "vedha.id=6974\n",
    "print vedha.name\n",
    "print jay.name\n",
    "print vedha.company_name\n",
    "print jay.company_name\n",
    "print Emp.name"
   ]
  },
  {
   "cell_type": "code",
   "execution_count": 19,
   "metadata": {},
   "outputs": [
    {
     "name": "stdout",
     "output_type": "stream",
     "text": [
      "Vedhanvesh\n",
      "Jayaram\n",
      "Khyaathi\n",
      "Khyaathi\n"
     ]
    },
    {
     "ename": "AttributeError",
     "evalue": "class Emp has no attribute 'vedha'",
     "output_type": "error",
     "traceback": [
      "\u001b[0;31m---------------------------------------------------------------------------\u001b[0m",
      "\u001b[0;31mAttributeError\u001b[0m                            Traceback (most recent call last)",
      "\u001b[0;32m<ipython-input-19-3c69af9441cf>\u001b[0m in \u001b[0;36m<module>\u001b[0;34m()\u001b[0m\n\u001b[1;32m     15\u001b[0m \u001b[0;32mprint\u001b[0m \u001b[0mvedha\u001b[0m\u001b[0;34m.\u001b[0m\u001b[0mcompany_name\u001b[0m\u001b[0;34m\u001b[0m\u001b[0m\n\u001b[1;32m     16\u001b[0m \u001b[0;32mprint\u001b[0m \u001b[0mjay\u001b[0m\u001b[0;34m.\u001b[0m\u001b[0mcompany_name\u001b[0m\u001b[0;34m\u001b[0m\u001b[0m\n\u001b[0;32m---> 17\u001b[0;31m \u001b[0;32mprint\u001b[0m \u001b[0mEmp\u001b[0m\u001b[0;34m.\u001b[0m\u001b[0mvedha\u001b[0m\u001b[0;34m.\u001b[0m\u001b[0mname\u001b[0m\u001b[0;34m\u001b[0m\u001b[0m\n\u001b[0m",
      "\u001b[0;31mAttributeError\u001b[0m: class Emp has no attribute 'vedha'"
     ]
    }
   ],
   "source": [
    "class Emp:\n",
    "    company_name=\"Khyaathi\"# company_name is a class attribute\n",
    "    def get(self):\n",
    "        pass\n",
    "jay=Emp()\n",
    "jay.name=\"Jayaram\"\n",
    "jay.address=\"anjaneyanagar\"\n",
    "jay.id=6973\n",
    "vedha = Emp()\n",
    "vedha.name=\"Vedhanvesh\"\n",
    "vedha.address=\"anjaneyanagar\"\n",
    "vedha.id=6974\n",
    "print vedha.name\n",
    "print jay.name\n",
    "print vedha.company_name\n",
    "print jay.company_name\n",
    "print Emp.vedha.name"
   ]
  },
  {
   "cell_type": "code",
   "execution_count": null,
   "metadata": {
    "collapsed": true
   },
   "outputs": [],
   "source": [
    "# define a class, add some class attributes, create some instances, add some instace attributes.\n",
    "# access instance attributes using an instance\n",
    "# can you access class attributes using an instance?\n",
    "# access class attributes using an instance\n",
    "# can you access instance attributes using class object?\n",
    "\n",
    "# take product as a class define discount percentage as a class attribute.\n",
    "#name cost quality version os as a instance attributes. \n",
    "# delivercharge calculation and cost calculation as a methods. \n",
    "# create apple laptops, iphones, androidmobiles as an instances\n",
    "# call methods using instances and class object\n",
    "\n",
    "class Vehicle: # vehicle is a class object\n",
    "    comapany=\"Honda MOTORS\"\n",
    "    # comapnay is class attribute\n",
    "    def cost_cal(self): # cost_cal is a method\n",
    "        print \"this is cost price calculation\"\n",
    "honda_cb_unicorn=Vehicle()\n",
    "honda_cb_unicorn.cc=150\n",
    "honda_cb_unicorn.mailage=60\n",
    "honda_cb_unicorn.num_gears=5\n",
    "honda_cb_unicorn.num_tyres=2\n",
    "# mailage, num_gears, num_tyres, cc are the instance attributes\n",
    "honda_cb_unicorn.cost_cal() # calling method using instance\n",
    "Vehicle.cost_cal(honda_cb_unicorn)# calling method using class object\n"
   ]
  }
 ],
 "metadata": {
  "kernelspec": {
   "display_name": "Python 2",
   "language": "python",
   "name": "python2"
  },
  "language_info": {
   "codemirror_mode": {
    "name": "ipython",
    "version": 2
   },
   "file_extension": ".py",
   "mimetype": "text/x-python",
   "name": "python",
   "nbconvert_exporter": "python",
   "pygments_lexer": "ipython2",
   "version": "2.7.14"
  }
 },
 "nbformat": 4,
 "nbformat_minor": 2
}
