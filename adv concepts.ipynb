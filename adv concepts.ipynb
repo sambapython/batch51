{
 "cells": [
  {
   "cell_type": "code",
   "execution_count": 1,
   "metadata": {},
   "outputs": [
    {
     "name": "stdout",
     "output_type": "stream",
     "text": [
      "st1\n",
      "res= 10\n"
     ]
    }
   ],
   "source": [
    "def fun():\n",
    "    print \"st1\"\n",
    "    return 10\n",
    "    print \"st2\"\n",
    "    return 20\n",
    "    print \"st3\"\n",
    "    return 30\n",
    "res=fun()\n",
    "print \"res=\",res"
   ]
  },
  {
   "cell_type": "code",
   "execution_count": 2,
   "metadata": {},
   "outputs": [
    {
     "name": "stdout",
     "output_type": "stream",
     "text": [
      "res= <generator object fun at 0x7f84c2fa3280>\n"
     ]
    }
   ],
   "source": [
    "def fun():\n",
    "    a=1000\n",
    "    print \"st1\"\n",
    "    yield 10\n",
    "    print \"st2\"\n",
    "    yield 20\n",
    "    print \"st3\"\n",
    "    yield 30\n",
    "res=fun()\n",
    "print \"res=\",res"
   ]
  },
  {
   "cell_type": "code",
   "execution_count": 3,
   "metadata": {},
   "outputs": [
    {
     "name": "stdout",
     "output_type": "stream",
     "text": [
      "res= <generator object fun at 0x7f84c2fa35f0>\n",
      "st1\n",
      "r1= 10\n"
     ]
    }
   ],
   "source": [
    "def fun():\n",
    "    a=1000\n",
    "    print \"st1\"\n",
    "    yield 10\n",
    "    print \"st2\"\n",
    "    yield 20\n",
    "    print \"st3\"\n",
    "    yield 30\n",
    "res=fun()\n",
    "print \"res=\",res\n",
    "r1=res.next()\n",
    "print \"r1=\",r1"
   ]
  },
  {
   "cell_type": "code",
   "execution_count": 4,
   "metadata": {},
   "outputs": [
    {
     "name": "stdout",
     "output_type": "stream",
     "text": [
      "res= <generator object fun at 0x7f84c2fa3640>\n",
      "st1\n",
      "r1= 10\n",
      "st2\n",
      "r2= 20\n"
     ]
    }
   ],
   "source": [
    "def fun():\n",
    "    a=1000\n",
    "    print \"st1\"\n",
    "    yield 10\n",
    "    print \"st2\"\n",
    "    yield 20\n",
    "    print \"st3\"\n",
    "    yield 30\n",
    "res=fun()\n",
    "print \"res=\",res\n",
    "r1=res.next()\n",
    "print \"r1=\",r1\n",
    "r2=res.next()\n",
    "print \"r2=\",r2"
   ]
  },
  {
   "cell_type": "code",
   "execution_count": 5,
   "metadata": {},
   "outputs": [
    {
     "name": "stdout",
     "output_type": "stream",
     "text": [
      "res= <generator object fun at 0x7f84c2fa3410>\n",
      "st1\n",
      "r1= 10\n",
      "st2\n",
      "r2= 20\n",
      "st3\n",
      "r3= 30\n"
     ]
    }
   ],
   "source": [
    "def fun():\n",
    "    a=1000\n",
    "    print \"st1\"\n",
    "    yield 10\n",
    "    print \"st2\"\n",
    "    yield 20\n",
    "    print \"st3\"\n",
    "    yield 30\n",
    "res=fun()\n",
    "print \"res=\",res\n",
    "r1=res.next()\n",
    "print \"r1=\",r1\n",
    "r2=res.next()\n",
    "print \"r2=\",r2\n",
    "r3=res.next()\n",
    "print \"r3=\",r3"
   ]
  },
  {
   "cell_type": "code",
   "execution_count": 6,
   "metadata": {},
   "outputs": [
    {
     "name": "stdout",
     "output_type": "stream",
     "text": [
      "res= <generator object fun at 0x7f84c2fa34b0>\n",
      "st1\n",
      "r1= 10\n",
      "st2\n",
      "r2= 20\n",
      "st3\n",
      "r3= 30\n"
     ]
    },
    {
     "ename": "StopIteration",
     "evalue": "",
     "output_type": "error",
     "traceback": [
      "\u001b[0;31m---------------------------------------------------------------------------\u001b[0m",
      "\u001b[0;31mStopIteration\u001b[0m                             Traceback (most recent call last)",
      "\u001b[0;32m<ipython-input-6-ce09497b850e>\u001b[0m in \u001b[0;36m<module>\u001b[0;34m()\u001b[0m\n\u001b[1;32m     15\u001b[0m \u001b[0mr3\u001b[0m\u001b[0;34m=\u001b[0m\u001b[0mres\u001b[0m\u001b[0;34m.\u001b[0m\u001b[0mnext\u001b[0m\u001b[0;34m(\u001b[0m\u001b[0;34m)\u001b[0m\u001b[0;34m\u001b[0m\u001b[0m\n\u001b[1;32m     16\u001b[0m \u001b[0;32mprint\u001b[0m \u001b[0;34m\"r3=\"\u001b[0m\u001b[0;34m,\u001b[0m\u001b[0mr3\u001b[0m\u001b[0;34m\u001b[0m\u001b[0m\n\u001b[0;32m---> 17\u001b[0;31m \u001b[0mr4\u001b[0m\u001b[0;34m=\u001b[0m\u001b[0mres\u001b[0m\u001b[0;34m.\u001b[0m\u001b[0mnext\u001b[0m\u001b[0;34m(\u001b[0m\u001b[0;34m)\u001b[0m\u001b[0;34m\u001b[0m\u001b[0m\n\u001b[0m\u001b[1;32m     18\u001b[0m \u001b[0;32mprint\u001b[0m \u001b[0;34m\"r4=\"\u001b[0m\u001b[0;34m,\u001b[0m\u001b[0mr4\u001b[0m\u001b[0;34m\u001b[0m\u001b[0m\n",
      "\u001b[0;31mStopIteration\u001b[0m: "
     ]
    }
   ],
   "source": [
    "def fun():\n",
    "    a=1000\n",
    "    print \"st1\"\n",
    "    yield 10\n",
    "    print \"st2\"\n",
    "    yield 20\n",
    "    print \"st3\"\n",
    "    yield 30\n",
    "res=fun()\n",
    "print \"res=\",res\n",
    "r1=res.next()\n",
    "print \"r1=\",r1\n",
    "r2=res.next()\n",
    "print \"r2=\",r2\n",
    "r3=res.next()\n",
    "print \"r3=\",r3\n",
    "r4=res.next()\n",
    "print \"r4=\",r4"
   ]
  },
  {
   "cell_type": "code",
   "execution_count": 7,
   "metadata": {},
   "outputs": [
    {
     "data": {
      "text/plain": [
       "[0, 1, 2, 3, 4, 5, 6, 7, 8, 9]"
      ]
     },
     "execution_count": 7,
     "metadata": {},
     "output_type": "execute_result"
    }
   ],
   "source": [
    "range(10)"
   ]
  },
  {
   "cell_type": "code",
   "execution_count": 8,
   "metadata": {},
   "outputs": [
    {
     "data": {
      "text/plain": [
       "xrange(10)"
      ]
     },
     "execution_count": 8,
     "metadata": {},
     "output_type": "execute_result"
    }
   ],
   "source": [
    "xrange(10)"
   ]
  },
  {
   "cell_type": "code",
   "execution_count": 9,
   "metadata": {},
   "outputs": [
    {
     "name": "stdout",
     "output_type": "stream",
     "text": [
      "[0, 1, 2, 3, 4, 5, 6, 7, 8, 9]\n"
     ]
    }
   ],
   "source": [
    "def own_range(n):\n",
    "    i=0\n",
    "    l=[]\n",
    "    while i<n:\n",
    "        l.append(i)\n",
    "        i=i+1\n",
    "    return l\n",
    "print own_range(10)\n",
    "        "
   ]
  },
  {
   "cell_type": "code",
   "execution_count": 10,
   "metadata": {},
   "outputs": [
    {
     "data": {
      "text/plain": [
       "xrange(10000)"
      ]
     },
     "execution_count": 10,
     "metadata": {},
     "output_type": "execute_result"
    }
   ],
   "source": [
    "xrange(10000)"
   ]
  },
  {
   "cell_type": "code",
   "execution_count": 11,
   "metadata": {},
   "outputs": [
    {
     "name": "stdout",
     "output_type": "stream",
     "text": [
      "<generator object own_range at 0x7f84c2713780>\n"
     ]
    }
   ],
   "source": [
    "def own_range(n):\n",
    "    i=0\n",
    "    while i<n:\n",
    "        yield i\n",
    "        i=i+1\n",
    "print own_range(10)\n",
    "        "
   ]
  },
  {
   "cell_type": "code",
   "execution_count": 12,
   "metadata": {},
   "outputs": [
    {
     "name": "stdout",
     "output_type": "stream",
     "text": [
      "0\n"
     ]
    }
   ],
   "source": [
    "def own_range(n):\n",
    "    i=0\n",
    "    while i<n:\n",
    "        yield i\n",
    "        i=i+1\n",
    "res = own_range(10)\n",
    "print res.next()"
   ]
  },
  {
   "cell_type": "code",
   "execution_count": 13,
   "metadata": {},
   "outputs": [
    {
     "data": {
      "text/plain": [
       "1"
      ]
     },
     "execution_count": 13,
     "metadata": {},
     "output_type": "execute_result"
    }
   ],
   "source": [
    "res.next()"
   ]
  },
  {
   "cell_type": "code",
   "execution_count": 14,
   "metadata": {},
   "outputs": [
    {
     "name": "stdout",
     "output_type": "stream",
     "text": [
      "0\n",
      "1\n",
      "2\n",
      "3\n",
      "4\n",
      "5\n",
      "6\n",
      "7\n",
      "8\n",
      "9\n"
     ]
    }
   ],
   "source": [
    "def own_range(n):\n",
    "    i=0\n",
    "    while i<n:\n",
    "        yield i\n",
    "        i=i+1\n",
    "res = own_range(10)\n",
    "for i in res:\n",
    "    print i"
   ]
  },
  {
   "cell_type": "code",
   "execution_count": 15,
   "metadata": {},
   "outputs": [
    {
     "ename": "StopIteration",
     "evalue": "",
     "output_type": "error",
     "traceback": [
      "\u001b[0;31m---------------------------------------------------------------------------\u001b[0m",
      "\u001b[0;31mStopIteration\u001b[0m                             Traceback (most recent call last)",
      "\u001b[0;32m<ipython-input-15-8e1f066f8add>\u001b[0m in \u001b[0;36m<module>\u001b[0;34m()\u001b[0m\n\u001b[0;32m----> 1\u001b[0;31m \u001b[0mres\u001b[0m\u001b[0;34m.\u001b[0m\u001b[0mnext\u001b[0m\u001b[0;34m(\u001b[0m\u001b[0;34m)\u001b[0m\u001b[0;34m\u001b[0m\u001b[0m\n\u001b[0m",
      "\u001b[0;31mStopIteration\u001b[0m: "
     ]
    }
   ],
   "source": [
    "res.next()"
   ]
  },
  {
   "cell_type": "code",
   "execution_count": 16,
   "metadata": {},
   "outputs": [
    {
     "name": "stdout",
     "output_type": "stream",
     "text": [
      "Enter number:12\n",
      "this is even\n"
     ]
    }
   ],
   "source": [
    "n=float(raw_input(\"Enter number:\"))\n",
    "if n%2==0:\n",
    "    print \"this is even\"\n",
    "else:\n",
    "    print \"this is odd\"\n",
    "    "
   ]
  },
  {
   "cell_type": "code",
   "execution_count": 17,
   "metadata": {},
   "outputs": [
    {
     "name": "stdout",
     "output_type": "stream",
     "text": [
      "Enter number:12\n",
      "EVEN\n"
     ]
    }
   ],
   "source": [
    "n=float(raw_input(\"Enter number:\"))\n",
    "res = \"EVEN\" if n%2==0 else \"ODD\"\n",
    "print res"
   ]
  },
  {
   "cell_type": "code",
   "execution_count": 18,
   "metadata": {},
   "outputs": [
    {
     "name": "stdout",
     "output_type": "stream",
     "text": [
      "Enter number:13\n",
      "ODD\n"
     ]
    }
   ],
   "source": [
    "n=float(raw_input(\"Enter number:\"))\n",
    "res = \"EVEN\" if n%2==0 else \"ODD\"\n",
    "print res"
   ]
  },
  {
   "cell_type": "code",
   "execution_count": 19,
   "metadata": {},
   "outputs": [
    {
     "name": "stdout",
     "output_type": "stream",
     "text": [
      "Enter number:12\n",
      "+VE\n"
     ]
    }
   ],
   "source": [
    "# for positive or negative\n",
    "n=float(raw_input(\"Enter number:\"))\n",
    "res = \"+VE\" if n>0 else \"-VE\"\n",
    "print res"
   ]
  },
  {
   "cell_type": "code",
   "execution_count": 20,
   "metadata": {},
   "outputs": [
    {
     "name": "stdout",
     "output_type": "stream",
     "text": [
      "+\n",
      "-\n",
      "+\n",
      "+\n",
      "-\n",
      "+\n"
     ]
    }
   ],
   "source": [
    "# for positive or negative\n",
    "l=[10,-20,34,56,-98,35]\n",
    "#l=[\"+\",\"-\",\"+\",\"+\",\"-\",\"+\"]\n",
    "for i in l:\n",
    "    if i>0:\n",
    "        print \"+\"\n",
    "    else:\n",
    "        print \"-\""
   ]
  },
  {
   "cell_type": "code",
   "execution_count": 21,
   "metadata": {},
   "outputs": [
    {
     "name": "stdout",
     "output_type": "stream",
     "text": [
      "['+', '-', '+', '+', '-', '+']\n"
     ]
    }
   ],
   "source": [
    "# for positive or negative\n",
    "l=[10,-20,34,56,-98,35]\n",
    "#l=[\"+\",\"-\",\"+\",\"+\",\"-\",\"+\"]\n",
    "res=[]\n",
    "for i in l:\n",
    "    if i>0:\n",
    "        res.append(\"+\")\n",
    "    else:\n",
    "        res.append(\"-\")\n",
    "print res"
   ]
  },
  {
   "cell_type": "code",
   "execution_count": 22,
   "metadata": {},
   "outputs": [
    {
     "name": "stdout",
     "output_type": "stream",
     "text": [
      "['+', '-', '+', '+', '-', '+']\n"
     ]
    }
   ],
   "source": [
    "# for positive or negative\n",
    "l=[10,-20,34,56,-98,35]\n",
    "#l=[\"+\",\"-\",\"+\",\"+\",\"-\",\"+\"]\n",
    "res=[]\n",
    "for i in l:\n",
    "    res.append(\"+\") if i>0 else res.append(\"-\")\n",
    "print res"
   ]
  },
  {
   "cell_type": "code",
   "execution_count": 23,
   "metadata": {},
   "outputs": [
    {
     "name": "stdout",
     "output_type": "stream",
     "text": [
      "20\n",
      "-10\n",
      "44\n",
      "66\n",
      "-88\n",
      "45\n"
     ]
    }
   ],
   "source": [
    "l=[10,-20,34,56,-98,35]\n",
    "for i in l:\n",
    "    print i+10"
   ]
  },
  {
   "cell_type": "code",
   "execution_count": 24,
   "metadata": {},
   "outputs": [
    {
     "name": "stdout",
     "output_type": "stream",
     "text": [
      "[20, -10, 44, 66, -88, 45]\n"
     ]
    }
   ],
   "source": [
    "l=[10,-20,34,56,-98,35]\n",
    "res=[]\n",
    "for i in l:\n",
    "    res.append(i+10)\n",
    "print res"
   ]
  },
  {
   "cell_type": "code",
   "execution_count": 25,
   "metadata": {},
   "outputs": [
    {
     "name": "stdout",
     "output_type": "stream",
     "text": [
      "[20, -10, 44, 66, -88, 45]\n"
     ]
    }
   ],
   "source": [
    "l=[10,-20,34,56,-98,35]\n",
    "res= [i+10 for i in l]\n",
    "print res"
   ]
  },
  {
   "cell_type": "code",
   "execution_count": 26,
   "metadata": {},
   "outputs": [
    {
     "ename": "SyntaxError",
     "evalue": "invalid syntax (<ipython-input-26-7c5474ac99ae>, line 2)",
     "output_type": "error",
     "traceback": [
      "\u001b[0;36m  File \u001b[0;32m\"<ipython-input-26-7c5474ac99ae>\"\u001b[0;36m, line \u001b[0;32m2\u001b[0m\n\u001b[0;31m    res= [for i in l i+10]\u001b[0m\n\u001b[0m            ^\u001b[0m\n\u001b[0;31mSyntaxError\u001b[0m\u001b[0;31m:\u001b[0m invalid syntax\n"
     ]
    }
   ],
   "source": [
    "l=[10,-20,34,56,-98,35]\n",
    "res= [for i in l i+10]\n",
    "print res"
   ]
  },
  {
   "cell_type": "code",
   "execution_count": 27,
   "metadata": {},
   "outputs": [
    {
     "name": "stdout",
     "output_type": "stream",
     "text": [
      "[20, -30, 44, 66, -108, 45]\n"
     ]
    }
   ],
   "source": [
    "l=[10,-20,34,56,-98,35]\n",
    "res= [i+10 if i>0 else i-10 for i in l]\n",
    "print res"
   ]
  },
  {
   "cell_type": "code",
   "execution_count": 28,
   "metadata": {},
   "outputs": [
    {
     "name": "stdout",
     "output_type": "stream",
     "text": [
      "['+', '-', '+', '+', '-', '+']\n"
     ]
    }
   ],
   "source": [
    "l=[10,-20,34,56,-98,35]\n",
    "res= [\"+\" if i>0 else \"-\" for i in l]\n",
    "print res"
   ]
  },
  {
   "cell_type": "code",
   "execution_count": 29,
   "metadata": {},
   "outputs": [
    {
     "name": "stdout",
     "output_type": "stream",
     "text": [
      "10\n",
      "34\n",
      "56\n"
     ]
    }
   ],
   "source": [
    "l=[10,21,35,34,56,97,35]\n",
    "#[\"even\",\"odd\",\"odd\",\"even\",\"even\",\"odd\",\"odd\"]\n",
    "l=[10,21,35,34,56,97,35]\n",
    "for i in l:\n",
    "    if i%2==0:\n",
    "        print i"
   ]
  },
  {
   "cell_type": "code",
   "execution_count": 30,
   "metadata": {},
   "outputs": [
    {
     "name": "stdout",
     "output_type": "stream",
     "text": [
      "[10, 34, 56]\n"
     ]
    }
   ],
   "source": [
    "l=[10,21,35,34,56,97,35]\n",
    "#[\"even\",\"odd\",\"odd\",\"even\",\"even\",\"odd\",\"odd\"]\n",
    "l=[10,21,35,34,56,97,35]\n",
    "res=[]\n",
    "for i in l:\n",
    "    if i%2==0:\n",
    "        res.append(i)\n",
    "print res"
   ]
  },
  {
   "cell_type": "code",
   "execution_count": 31,
   "metadata": {},
   "outputs": [
    {
     "name": "stdout",
     "output_type": "stream",
     "text": [
      "[10, 21, 35, 34, 56, 97, 35]\n"
     ]
    }
   ],
   "source": [
    "l=[10,21,35,34,56,97,35]\n",
    "print [i for i in l]"
   ]
  },
  {
   "cell_type": "code",
   "execution_count": 32,
   "metadata": {},
   "outputs": [
    {
     "name": "stdout",
     "output_type": "stream",
     "text": [
      "[10, 34, 56]\n"
     ]
    }
   ],
   "source": [
    "l=[10,21,35,34,56,97,35]\n",
    "print [i for i in l if i%2==0]"
   ]
  },
  {
   "cell_type": "code",
   "execution_count": 33,
   "metadata": {},
   "outputs": [
    {
     "ename": "SyntaxError",
     "evalue": "invalid syntax (<ipython-input-33-501600ad52ab>, line 2)",
     "output_type": "error",
     "traceback": [
      "\u001b[0;36m  File \u001b[0;32m\"<ipython-input-33-501600ad52ab>\"\u001b[0;36m, line \u001b[0;32m2\u001b[0m\n\u001b[0;31m    print [i if i%2==0 for i in l]\u001b[0m\n\u001b[0m                         ^\u001b[0m\n\u001b[0;31mSyntaxError\u001b[0m\u001b[0;31m:\u001b[0m invalid syntax\n"
     ]
    }
   ],
   "source": [
    "l=[10,21,35,34,56,97,35]\n",
    "print [i if i%2==0 for i in l]"
   ]
  },
  {
   "cell_type": "code",
   "execution_count": 34,
   "metadata": {},
   "outputs": [
    {
     "name": "stdout",
     "output_type": "stream",
     "text": [
      "[10, 35, 34, 97, 35]\n"
     ]
    }
   ],
   "source": [
    "# remove all negative values, if it is a positive decide whether it is even or odd\n",
    "l=[10,-21,35,34,-56,97,35]\n",
    "print [i for i in l if i>0]"
   ]
  },
  {
   "cell_type": "code",
   "execution_count": 35,
   "metadata": {},
   "outputs": [
    {
     "name": "stdout",
     "output_type": "stream",
     "text": [
      "['Even', 'ODD', 'Even', 'ODD', 'ODD']\n"
     ]
    }
   ],
   "source": [
    "# remove all negative values, if it is a positive decide whether it is even or odd\n",
    "l=[10,-21,35,34,-56,97,35]\n",
    "print [\"Even\" if i%2==0 else \"ODD\" for i in l if i>0]"
   ]
  },
  {
   "cell_type": "code",
   "execution_count": 36,
   "metadata": {},
   "outputs": [
    {
     "name": "stdout",
     "output_type": "stream",
     "text": [
      "EVEN\n",
      "ODD\n",
      "ODD\n",
      "EVEN\n",
      "EVEN\n",
      "ODD\n",
      "ODD\n"
     ]
    }
   ],
   "source": [
    "def fun(n):\n",
    "    if n%2==0:\n",
    "        return \"EVEN\"\n",
    "    else:\n",
    "        return \"ODD\"\n",
    "l=[10,-21,35,34,-56,97,35]\n",
    "for i in l:\n",
    "    print fun(i)"
   ]
  },
  {
   "cell_type": "code",
   "execution_count": 37,
   "metadata": {},
   "outputs": [
    {
     "name": "stdout",
     "output_type": "stream",
     "text": [
      "['EVEN', 'ODD', 'ODD', 'EVEN', 'EVEN', 'ODD', 'ODD']\n"
     ]
    }
   ],
   "source": [
    "def fun(n):\n",
    "    if n%2==0:\n",
    "        return \"EVEN\"\n",
    "    else:\n",
    "        return \"ODD\"\n",
    "l=[10,-21,35,34,-56,97,35]\n",
    "print [fun(i) for i in l]"
   ]
  },
  {
   "cell_type": "code",
   "execution_count": 38,
   "metadata": {},
   "outputs": [
    {
     "name": "stdout",
     "output_type": "stream",
     "text": [
      "['EVEN', 'ODD', 'ODD', 'EVEN', 'EVEN', 'ODD', 'ODD']\n",
      "['EVEN', 'ODD', 'ODD', 'EVEN', 'EVEN', 'ODD', 'ODD']\n"
     ]
    }
   ],
   "source": [
    "def fun(n):\n",
    "    if n%2==0:\n",
    "        return \"EVEN\"\n",
    "    else:\n",
    "        return \"ODD\"\n",
    "l=[10,-21,35,34,-56,97,35]\n",
    "print [fun(i) for i in l]\n",
    "print map(fun,l)"
   ]
  },
  {
   "cell_type": "code",
   "execution_count": null,
   "metadata": {
    "collapsed": true
   },
   "outputs": [],
   "source": []
  }
 ],
 "metadata": {
  "kernelspec": {
   "display_name": "Python 2",
   "language": "python",
   "name": "python2"
  },
  "language_info": {
   "codemirror_mode": {
    "name": "ipython",
    "version": 2
   },
   "file_extension": ".py",
   "mimetype": "text/x-python",
   "name": "python",
   "nbconvert_exporter": "python",
   "pygments_lexer": "ipython2",
   "version": "2.7.14"
  }
 },
 "nbformat": 4,
 "nbformat_minor": 2
}
