{
 "cells": [
  {
   "cell_type": "code",
   "execution_count": 1,
   "metadata": {},
   "outputs": [
    {
     "name": "stdout",
     "output_type": "stream",
     "text": [
      "st1\n",
      "st2\n",
      "st3\n"
     ]
    }
   ],
   "source": [
    "print \"st1\"\n",
    "print \"st2\"\n",
    "print \"st3\""
   ]
  },
  {
   "cell_type": "code",
   "execution_count": 3,
   "metadata": {
    "collapsed": true
   },
   "outputs": [],
   "source": [
    "a=10\n",
    "b=20\n",
    "c=a+b\n",
    "d=a-b"
   ]
  },
  {
   "cell_type": "code",
   "execution_count": 5,
   "metadata": {},
   "outputs": [
    {
     "name": "stdout",
     "output_type": "stream",
     "text": [
      "a is big\n",
      "b is big\n"
     ]
    }
   ],
   "source": [
    "a=10\n",
    "b=20\n",
    "print \"a is big\"\n",
    "print \"b is big\""
   ]
  },
  {
   "cell_type": "code",
   "execution_count": 6,
   "metadata": {},
   "outputs": [
    {
     "name": "stdout",
     "output_type": "stream",
     "text": [
      "a is big\n",
      "b is big\n"
     ]
    }
   ],
   "source": [
    "a=100\n",
    "b=20\n",
    "print \"a is big\"\n",
    "print \"b is big\""
   ]
  },
  {
   "cell_type": "code",
   "execution_count": 7,
   "metadata": {},
   "outputs": [
    {
     "data": {
      "text/plain": [
       "False"
      ]
     },
     "execution_count": 7,
     "metadata": {},
     "output_type": "execute_result"
    }
   ],
   "source": [
    "# boolean expression\n",
    "10>20"
   ]
  },
  {
   "cell_type": "code",
   "execution_count": 8,
   "metadata": {},
   "outputs": [
    {
     "data": {
      "text/plain": [
       "False"
      ]
     },
     "execution_count": 8,
     "metadata": {},
     "output_type": "execute_result"
    }
   ],
   "source": [
    "10>20 and 30>20"
   ]
  },
  {
   "cell_type": "code",
   "execution_count": 9,
   "metadata": {},
   "outputs": [
    {
     "data": {
      "text/plain": [
       "True"
      ]
     },
     "execution_count": 9,
     "metadata": {},
     "output_type": "execute_result"
    }
   ],
   "source": [
    "10<20 or 20>30"
   ]
  },
  {
   "cell_type": "code",
   "execution_count": 10,
   "metadata": {},
   "outputs": [
    {
     "data": {
      "text/plain": [
       "True"
      ]
     },
     "execution_count": 10,
     "metadata": {},
     "output_type": "execute_result"
    }
   ],
   "source": [
    "bool(1)"
   ]
  },
  {
   "cell_type": "code",
   "execution_count": 11,
   "metadata": {},
   "outputs": [
    {
     "data": {
      "text/plain": [
       "False"
      ]
     },
     "execution_count": 11,
     "metadata": {},
     "output_type": "execute_result"
    }
   ],
   "source": [
    "bool(0)"
   ]
  },
  {
   "cell_type": "code",
   "execution_count": 12,
   "metadata": {},
   "outputs": [
    {
     "data": {
      "text/plain": [
       "True"
      ]
     },
     "execution_count": 12,
     "metadata": {},
     "output_type": "execute_result"
    }
   ],
   "source": [
    "bool(10)"
   ]
  },
  {
   "cell_type": "code",
   "execution_count": 13,
   "metadata": {},
   "outputs": [
    {
     "data": {
      "text/plain": [
       "True"
      ]
     },
     "execution_count": 13,
     "metadata": {},
     "output_type": "execute_result"
    }
   ],
   "source": [
    "bool(-10)"
   ]
  },
  {
   "cell_type": "code",
   "execution_count": 14,
   "metadata": {},
   "outputs": [
    {
     "data": {
      "text/plain": [
       "True"
      ]
     },
     "execution_count": 14,
     "metadata": {},
     "output_type": "execute_result"
    }
   ],
   "source": [
    "bool(0.00001)"
   ]
  },
  {
   "cell_type": "code",
   "execution_count": 15,
   "metadata": {},
   "outputs": [
    {
     "data": {
      "text/plain": [
       "False"
      ]
     },
     "execution_count": 15,
     "metadata": {},
     "output_type": "execute_result"
    }
   ],
   "source": [
    "bool(0.0)"
   ]
  },
  {
   "cell_type": "code",
   "execution_count": 16,
   "metadata": {},
   "outputs": [
    {
     "data": {
      "text/plain": [
       "True"
      ]
     },
     "execution_count": 16,
     "metadata": {},
     "output_type": "execute_result"
    }
   ],
   "source": [
    "bool(1+2j)"
   ]
  },
  {
   "cell_type": "code",
   "execution_count": 17,
   "metadata": {},
   "outputs": [
    {
     "data": {
      "text/plain": [
       "False"
      ]
     },
     "execution_count": 17,
     "metadata": {},
     "output_type": "execute_result"
    }
   ],
   "source": [
    "bool(0+0j)"
   ]
  },
  {
   "cell_type": "code",
   "execution_count": 18,
   "metadata": {},
   "outputs": [
    {
     "data": {
      "text/plain": [
       "False"
      ]
     },
     "execution_count": 18,
     "metadata": {},
     "output_type": "execute_result"
    }
   ],
   "source": [
    "bool(1000*0)"
   ]
  },
  {
   "cell_type": "code",
   "execution_count": 19,
   "metadata": {},
   "outputs": [
    {
     "data": {
      "text/plain": [
       "True"
      ]
     },
     "execution_count": 19,
     "metadata": {},
     "output_type": "execute_result"
    }
   ],
   "source": [
    "bool([10,20,0])"
   ]
  },
  {
   "cell_type": "code",
   "execution_count": 20,
   "metadata": {},
   "outputs": [
    {
     "data": {
      "text/plain": [
       "False"
      ]
     },
     "execution_count": 20,
     "metadata": {},
     "output_type": "execute_result"
    }
   ],
   "source": [
    "bool([])"
   ]
  },
  {
   "cell_type": "code",
   "execution_count": 21,
   "metadata": {},
   "outputs": [
    {
     "data": {
      "text/plain": [
       "True"
      ]
     },
     "execution_count": 21,
     "metadata": {},
     "output_type": "execute_result"
    }
   ],
   "source": [
    "bool([0])"
   ]
  },
  {
   "cell_type": "code",
   "execution_count": 22,
   "metadata": {},
   "outputs": [
    {
     "data": {
      "text/plain": [
       "True"
      ]
     },
     "execution_count": 22,
     "metadata": {},
     "output_type": "execute_result"
    }
   ],
   "source": [
    "bool(\"pytoh\")"
   ]
  },
  {
   "cell_type": "code",
   "execution_count": 23,
   "metadata": {},
   "outputs": [
    {
     "data": {
      "text/plain": [
       "False"
      ]
     },
     "execution_count": 23,
     "metadata": {},
     "output_type": "execute_result"
    }
   ],
   "source": [
    "bool(\"\")"
   ]
  },
  {
   "cell_type": "code",
   "execution_count": 24,
   "metadata": {},
   "outputs": [
    {
     "data": {
      "text/plain": [
       "True"
      ]
     },
     "execution_count": 24,
     "metadata": {},
     "output_type": "execute_result"
    }
   ],
   "source": [
    "bool(\"0\")"
   ]
  },
  {
   "cell_type": "code",
   "execution_count": 25,
   "metadata": {},
   "outputs": [
    {
     "data": {
      "text/plain": [
       "True"
      ]
     },
     "execution_count": 25,
     "metadata": {},
     "output_type": "execute_result"
    }
   ],
   "source": [
    "bool({1:2,3:4})"
   ]
  },
  {
   "cell_type": "code",
   "execution_count": 26,
   "metadata": {},
   "outputs": [
    {
     "data": {
      "text/plain": [
       "False"
      ]
     },
     "execution_count": 26,
     "metadata": {},
     "output_type": "execute_result"
    }
   ],
   "source": [
    "bool({})"
   ]
  },
  {
   "cell_type": "code",
   "execution_count": 27,
   "metadata": {},
   "outputs": [
    {
     "data": {
      "text/plain": [
       "False"
      ]
     },
     "execution_count": 27,
     "metadata": {},
     "output_type": "execute_result"
    }
   ],
   "source": [
    "bool(())"
   ]
  },
  {
   "cell_type": "code",
   "execution_count": 28,
   "metadata": {},
   "outputs": [
    {
     "data": {
      "text/plain": [
       "True"
      ]
     },
     "execution_count": 28,
     "metadata": {},
     "output_type": "execute_result"
    }
   ],
   "source": [
    "bool((0,))"
   ]
  },
  {
   "cell_type": "code",
   "execution_count": 29,
   "metadata": {},
   "outputs": [
    {
     "data": {
      "text/plain": [
       "False"
      ]
     },
     "execution_count": 29,
     "metadata": {},
     "output_type": "execute_result"
    }
   ],
   "source": [
    "bool([])"
   ]
  },
  {
   "cell_type": "code",
   "execution_count": 30,
   "metadata": {},
   "outputs": [
    {
     "data": {
      "text/plain": [
       "True"
      ]
     },
     "execution_count": 30,
     "metadata": {},
     "output_type": "execute_result"
    }
   ],
   "source": [
    "bool(True)"
   ]
  },
  {
   "cell_type": "code",
   "execution_count": 31,
   "metadata": {},
   "outputs": [
    {
     "name": "stdout",
     "output_type": "stream",
     "text": [
      "a is big\n",
      "thank you\n"
     ]
    }
   ],
   "source": [
    "a=100\n",
    "b=20\n",
    "if True:\n",
    "    print \"a is big\"\n",
    "else:\n",
    "    print \"b is big\"\n",
    "print \"thank you\""
   ]
  },
  {
   "cell_type": "code",
   "execution_count": 32,
   "metadata": {},
   "outputs": [
    {
     "name": "stdout",
     "output_type": "stream",
     "text": [
      "a is big\n",
      "thank you\n"
     ]
    }
   ],
   "source": [
    "a=100\n",
    "b=2000000\n",
    "if True:\n",
    "    print \"a is big\"\n",
    "else:\n",
    "    print \"b is big\"\n",
    "print \"thank you\""
   ]
  },
  {
   "cell_type": "code",
   "execution_count": 33,
   "metadata": {},
   "outputs": [
    {
     "name": "stdout",
     "output_type": "stream",
     "text": [
      "b is big\n",
      "thank you\n"
     ]
    }
   ],
   "source": [
    "a=100\n",
    "b=2000000\n",
    "if False:\n",
    "    print \"a is big\"\n",
    "else:\n",
    "    print \"b is big\"\n",
    "print \"thank you\""
   ]
  },
  {
   "cell_type": "code",
   "execution_count": 34,
   "metadata": {},
   "outputs": [
    {
     "name": "stdout",
     "output_type": "stream",
     "text": [
      "b is big\n",
      "thank you\n"
     ]
    }
   ],
   "source": [
    "a=100\n",
    "b=2\n",
    "if False:\n",
    "    print \"a is big\"\n",
    "else:\n",
    "    print \"b is big\"\n",
    "print \"thank you\""
   ]
  },
  {
   "cell_type": "code",
   "execution_count": 35,
   "metadata": {},
   "outputs": [
    {
     "name": "stdout",
     "output_type": "stream",
     "text": [
      "a is big\n",
      "thank you\n"
     ]
    }
   ],
   "source": [
    "a=100\n",
    "b=2\n",
    "if a>b:\n",
    "    print \"a is big\"\n",
    "else:\n",
    "    print \"b is big\"\n",
    "print \"thank you\""
   ]
  },
  {
   "cell_type": "code",
   "execution_count": 36,
   "metadata": {},
   "outputs": [
    {
     "name": "stdout",
     "output_type": "stream",
     "text": [
      "b is big\n",
      "thank you\n"
     ]
    }
   ],
   "source": [
    "a=100\n",
    "b=200\n",
    "if a>b:\n",
    "    print \"a is big\"\n",
    "else:\n",
    "    print \"b is big\"\n",
    "print \"thank you\""
   ]
  },
  {
   "cell_type": "code",
   "execution_count": 37,
   "metadata": {},
   "outputs": [
    {
     "name": "stdout",
     "output_type": "stream",
     "text": [
      "a is big\n",
      "thank you\n"
     ]
    }
   ],
   "source": [
    "a=100\n",
    "b=200\n",
    "if a<b:\n",
    "    print \"a is big\"\n",
    "else:\n",
    "    print \"b is big\"\n",
    "print \"thank you\""
   ]
  },
  {
   "cell_type": "code",
   "execution_count": 38,
   "metadata": {},
   "outputs": [
    {
     "data": {
      "text/plain": [
       "7"
      ]
     },
     "execution_count": 38,
     "metadata": {},
     "output_type": "execute_result"
    }
   ],
   "source": [
    "s=\"pytthon\"\n",
    "len(s)"
   ]
  },
  {
   "cell_type": "code",
   "execution_count": 39,
   "metadata": {},
   "outputs": [
    {
     "data": {
      "text/plain": [
       "0"
      ]
     },
     "execution_count": 39,
     "metadata": {},
     "output_type": "execute_result"
    }
   ],
   "source": [
    "len(\"\")"
   ]
  },
  {
   "cell_type": "code",
   "execution_count": 40,
   "metadata": {},
   "outputs": [
    {
     "name": "stdout",
     "output_type": "stream",
     "text": [
      "Enter a string:python\n",
      "python 6\n"
     ]
    }
   ],
   "source": [
    "s=raw_input(\"Enter a string:\")\n",
    "print s, len(s)"
   ]
  },
  {
   "cell_type": "code",
   "execution_count": 41,
   "metadata": {},
   "outputs": [
    {
     "name": "stdout",
     "output_type": "stream",
     "text": [
      "Enter a string:\n",
      " 0\n"
     ]
    }
   ],
   "source": [
    "s=raw_input(\"Enter a string:\")\n",
    "print s, len(s)"
   ]
  },
  {
   "cell_type": "code",
   "execution_count": 42,
   "metadata": {},
   "outputs": [
    {
     "name": "stdout",
     "output_type": "stream",
     "text": [
      "Enter a string:python\n",
      "python 6\n",
      "thank you\n"
     ]
    }
   ],
   "source": [
    "s=raw_input(\"Enter a string:\")\n",
    "if len(s)==0:\n",
    "    print \"invalid string\"\n",
    "    print \"thank you\"\n",
    "else:\n",
    "    print s,len(s)\n",
    "    print \"thank you\"\n",
    "    "
   ]
  },
  {
   "cell_type": "code",
   "execution_count": 43,
   "metadata": {},
   "outputs": [
    {
     "name": "stdout",
     "output_type": "stream",
     "text": [
      "Enter a string:\n",
      "invalid string\n",
      "thank you\n"
     ]
    }
   ],
   "source": [
    "s=raw_input(\"Enter a string:\")\n",
    "if len(s)==0:\n",
    "    print \"invalid string\"\n",
    "    print \"thank you\"\n",
    "else:\n",
    "    print s,len(s)\n",
    "    print \"thank you\"\n",
    "    "
   ]
  },
  {
   "cell_type": "code",
   "execution_count": 44,
   "metadata": {},
   "outputs": [
    {
     "name": "stdout",
     "output_type": "stream",
     "text": [
      "Enter a string:yui\n",
      "yui 3\n",
      "thank you\n"
     ]
    }
   ],
   "source": [
    "s=raw_input(\"Enter a string:\")\n",
    "if len(s)==0:\n",
    "    print \"invalid string\"\n",
    "else:\n",
    "    print s,len(s)\n",
    "    \n",
    "print \"thank you\"\n",
    "    "
   ]
  },
  {
   "cell_type": "code",
   "execution_count": 45,
   "metadata": {},
   "outputs": [
    {
     "name": "stdout",
     "output_type": "stream",
     "text": [
      "Enter a string:\n",
      "invalid string\n",
      "thank you\n"
     ]
    }
   ],
   "source": [
    "s=raw_input(\"Enter a string:\")\n",
    "if len(s)==0:\n",
    "    print \"invalid string\"\n",
    "else:\n",
    "    print s,len(s)\n",
    "    \n",
    "print \"thank you\"\n",
    "    "
   ]
  },
  {
   "cell_type": "code",
   "execution_count": 46,
   "metadata": {},
   "outputs": [
    {
     "name": "stdout",
     "output_type": "stream",
     "text": [
      "Enter a string:dfgfdgh\n",
      "dfgfdgh 7\n",
      "thank you\n"
     ]
    }
   ],
   "source": [
    "s=raw_input(\"Enter a string:\")\n",
    "len_s = len(s)\n",
    "if len_s==0:\n",
    "    print \"invalid string\"\n",
    "else:\n",
    "    print s,len_s\n",
    "print \"thank you\"\n",
    "    "
   ]
  },
  {
   "cell_type": "code",
   "execution_count": 47,
   "metadata": {},
   "outputs": [
    {
     "name": "stdout",
     "output_type": "stream",
     "text": [
      "Enter a string:\n",
      "invalid string\n",
      "thank you\n"
     ]
    }
   ],
   "source": [
    "s=raw_input(\"Enter a string:\")\n",
    "len_s = len(s)\n",
    "if len_s==0:\n",
    "    print \"invalid string\"\n",
    "else:\n",
    "    print s,len_s\n",
    "print \"thank you\"\n",
    "    "
   ]
  },
  {
   "cell_type": "code",
   "execution_count": 48,
   "metadata": {},
   "outputs": [
    {
     "name": "stdout",
     "output_type": "stream",
     "text": [
      "Enter a string:sdfgs\n",
      "False\n",
      "sdfgs 5\n",
      "thank you\n"
     ]
    }
   ],
   "source": [
    "s=raw_input(\"Enter a string:\")\n",
    "len_s = len(s)\n",
    "print bool(len_s==0)\n",
    "if len_s==0:\n",
    "    print \"invalid string\"\n",
    "else:\n",
    "    print s,len_s\n",
    "print \"thank you\""
   ]
  },
  {
   "cell_type": "code",
   "execution_count": 49,
   "metadata": {},
   "outputs": [
    {
     "name": "stdout",
     "output_type": "stream",
     "text": [
      "Enter a string:pyerojter\n",
      "invalid string\n",
      "thank you\n"
     ]
    }
   ],
   "source": [
    "s=raw_input(\"Enter a string:\")\n",
    "if bool(s):\n",
    "    print \"invalid string\"\n",
    "else:\n",
    "    print s\n",
    "print \"thank you\""
   ]
  },
  {
   "cell_type": "code",
   "execution_count": 50,
   "metadata": {},
   "outputs": [
    {
     "name": "stdout",
     "output_type": "stream",
     "text": [
      "Enter a string:pytpoejrm\n",
      "pytpoejrm\n",
      "thank you\n"
     ]
    }
   ],
   "source": [
    "s=raw_input(\"Enter a string:\")\n",
    "if bool(s):\n",
    "    print s\n",
    "else:\n",
    "    print \"invalid string\"\n",
    "print \"thank you\""
   ]
  },
  {
   "cell_type": "code",
   "execution_count": 51,
   "metadata": {},
   "outputs": [
    {
     "name": "stdout",
     "output_type": "stream",
     "text": [
      "Enter a string:\n",
      "invalid string\n",
      "thank you\n"
     ]
    }
   ],
   "source": [
    "s=raw_input(\"Enter a string:\")\n",
    "if bool(s):\n",
    "    print s\n",
    "else:\n",
    "    print \"invalid string\"\n",
    "print \"thank you\""
   ]
  },
  {
   "cell_type": "code",
   "execution_count": 52,
   "metadata": {},
   "outputs": [
    {
     "name": "stdout",
     "output_type": "stream",
     "text": [
      "Enter a string:python\n",
      "python\n",
      "thank you\n"
     ]
    }
   ],
   "source": [
    "s=raw_input(\"Enter a string:\")\n",
    "if s:\n",
    "    print s\n",
    "else:\n",
    "    print \"invalid string\"\n",
    "print \"thank you\""
   ]
  },
  {
   "cell_type": "code",
   "execution_count": 53,
   "metadata": {},
   "outputs": [
    {
     "name": "stdout",
     "output_type": "stream",
     "text": [
      "Enter a string:\n",
      "invalid string\n",
      "thank you\n"
     ]
    }
   ],
   "source": [
    "s=raw_input(\"Enter a string:\")\n",
    "if s:\n",
    "    print s\n",
    "else:\n",
    "    print \"invalid string\"\n",
    "print \"thank you\""
   ]
  },
  {
   "cell_type": "code",
   "execution_count": 54,
   "metadata": {},
   "outputs": [
    {
     "name": "stdout",
     "output_type": "stream",
     "text": [
      "invalid string\n",
      "thank you\n"
     ]
    }
   ],
   "source": [
    "if \"\":\n",
    "    print \"given some string\"\n",
    "else:\n",
    "    print \"invalid string\"\n",
    "print \"thank you\""
   ]
  },
  {
   "cell_type": "code",
   "execution_count": 55,
   "metadata": {},
   "outputs": [
    {
     "name": "stdout",
     "output_type": "stream",
     "text": [
      "given some string\n",
      "thank you\n"
     ]
    }
   ],
   "source": [
    "if \"sdsdf\":\n",
    "    print \"given some string\"\n",
    "else:\n",
    "    print \"invalid string\"\n",
    "print \"thank you\""
   ]
  },
  {
   "cell_type": "code",
   "execution_count": 56,
   "metadata": {},
   "outputs": [
    {
     "name": "stdout",
     "output_type": "stream",
     "text": [
      "invalid data\n",
      "thank you\n"
     ]
    }
   ],
   "source": [
    "if 0:\n",
    "    print \"given some value\"\n",
    "else:\n",
    "    print \"invalid data\"\n",
    "print \"thank you\""
   ]
  },
  {
   "cell_type": "code",
   "execution_count": 57,
   "metadata": {},
   "outputs": [
    {
     "name": "stdout",
     "output_type": "stream",
     "text": [
      "given some value\n",
      "thank you\n"
     ]
    }
   ],
   "source": [
    "if 10:\n",
    "    print \"given some value\"\n",
    "else:\n",
    "    print \"invalid data\"\n",
    "print \"thank you\""
   ]
  },
  {
   "cell_type": "code",
   "execution_count": 58,
   "metadata": {},
   "outputs": [
    {
     "name": "stdout",
     "output_type": "stream",
     "text": [
      "given some value\n",
      "thank you\n"
     ]
    }
   ],
   "source": [
    "if [10,20,30]:\n",
    "    print \"given some value\"\n",
    "else:\n",
    "    print \"invalid data\"\n",
    "print \"thank you\""
   ]
  },
  {
   "cell_type": "code",
   "execution_count": 59,
   "metadata": {},
   "outputs": [
    {
     "name": "stdout",
     "output_type": "stream",
     "text": [
      "Enter a string:python\n",
      "if block started\n",
      "python\n",
      "if block ended\n",
      "thank you\n"
     ]
    }
   ],
   "source": [
    "s=raw_input(\"Enter a string:\")\n",
    "if s:\n",
    "    print \"if block started\"\n",
    "    print s\n",
    "    print \"if block ended\"\n",
    "else:\n",
    "    print \"else block started\"\n",
    "    print \"invalid string\"\n",
    "    print \"else block ended\"\n",
    "print \"thank you\""
   ]
  },
  {
   "cell_type": "code",
   "execution_count": 60,
   "metadata": {},
   "outputs": [
    {
     "name": "stdout",
     "output_type": "stream",
     "text": [
      "Enter a string:dfghdg\n",
      "if block started\n",
      "dfghdg\n",
      "if block ended\n",
      "thank you\n"
     ]
    }
   ],
   "source": [
    "s=raw_input(\"Enter a string:\")\n",
    "if s:\n",
    "    print \"if block started\"\n",
    "    print s\n",
    "    print \"if block ended\"\n",
    "\n",
    "print \"thank you\""
   ]
  },
  {
   "cell_type": "code",
   "execution_count": 61,
   "metadata": {},
   "outputs": [
    {
     "name": "stdout",
     "output_type": "stream",
     "text": [
      "Enter a string:\n",
      "thank you\n"
     ]
    }
   ],
   "source": [
    "s=raw_input(\"Enter a string:\")\n",
    "if s:\n",
    "    print \"if block started\"\n",
    "    print s\n",
    "    print \"if block ended\"\n",
    "\n",
    "print \"thank you\""
   ]
  },
  {
   "cell_type": "code",
   "execution_count": 62,
   "metadata": {},
   "outputs": [
    {
     "name": "stdout",
     "output_type": "stream",
     "text": [
      "Enter a string:sdfsd\n",
      "if block started\n",
      "sdfsd\n",
      "if block ended\n",
      "thank you\n"
     ]
    }
   ],
   "source": [
    "s=raw_input(\"Enter a string:\")\n",
    "if s:\n",
    " print \"if block started\"\n",
    " print s\n",
    " print \"if block ended\"\n",
    "else:\n",
    "    print \"else block started\"\n",
    "    print \"invalid string\"\n",
    "    print \"else block ended\"\n",
    "print \"thank you\""
   ]
  },
  {
   "cell_type": "code",
   "execution_count": 63,
   "metadata": {},
   "outputs": [
    {
     "ename": "IndentationError",
     "evalue": "unexpected indent (<ipython-input-63-037ce621f07c>, line 4)",
     "output_type": "error",
     "traceback": [
      "\u001b[0;36m  File \u001b[0;32m\"<ipython-input-63-037ce621f07c>\"\u001b[0;36m, line \u001b[0;32m4\u001b[0m\n\u001b[0;31m    print s\u001b[0m\n\u001b[0m    ^\u001b[0m\n\u001b[0;31mIndentationError\u001b[0m\u001b[0;31m:\u001b[0m unexpected indent\n"
     ]
    }
   ],
   "source": [
    "s=raw_input(\"Enter a string:\")\n",
    "if s:\n",
    " print \"if block started\"\n",
    "    print s\n",
    "    print \"if block ended\"\n",
    "else:\n",
    "    print \"else block started\"\n",
    "    print \"invalid string\"\n",
    "    print \"else block ended\"\n",
    "print \"thank you\""
   ]
  },
  {
   "cell_type": "code",
   "execution_count": 64,
   "metadata": {},
   "outputs": [
    {
     "ename": "SyntaxError",
     "evalue": "invalid syntax (<ipython-input-64-7c46a5f77051>, line 6)",
     "output_type": "error",
     "traceback": [
      "\u001b[0;36m  File \u001b[0;32m\"<ipython-input-64-7c46a5f77051>\"\u001b[0;36m, line \u001b[0;32m6\u001b[0m\n\u001b[0;31m    else:\u001b[0m\n\u001b[0m       ^\u001b[0m\n\u001b[0;31mSyntaxError\u001b[0m\u001b[0;31m:\u001b[0m invalid syntax\n"
     ]
    }
   ],
   "source": [
    "s=raw_input(\"Enter a string:\")\n",
    "if s:\n",
    "    print \"if block started\"\n",
    "    print s\n",
    "    \n",
    "print \"if block ended\"\n",
    "\n",
    "else:\n",
    "    print \"else block started\"\n",
    "    print \"invalid string\"\n",
    "    print \"else block ended\"\n",
    "print \"thank you\""
   ]
  },
  {
   "cell_type": "code",
   "execution_count": null,
   "metadata": {
    "collapsed": true
   },
   "outputs": [],
   "source": []
  }
 ],
 "metadata": {
  "kernelspec": {
   "display_name": "Python 2",
   "language": "python",
   "name": "python2"
  },
  "language_info": {
   "codemirror_mode": {
    "name": "ipython",
    "version": 2
   },
   "file_extension": ".py",
   "mimetype": "text/x-python",
   "name": "python",
   "nbconvert_exporter": "python",
   "pygments_lexer": "ipython2",
   "version": "2.7.14"
  }
 },
 "nbformat": 4,
 "nbformat_minor": 2
}
