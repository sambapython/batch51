{
 "cells": [
  {
   "cell_type": "code",
   "execution_count": 1,
   "metadata": {},
   "outputs": [
    {
     "name": "stdout",
     "output_type": "stream",
     "text": [
      "program started\n",
      "other statements in program\n",
      "program ended.\n"
     ]
    }
   ],
   "source": [
    "print \"program started\"\n",
    "def fun():\n",
    "    print \"fun started\"\n",
    "    print \"this is fun\"\n",
    "    print \"fun ended\"\n",
    "print \"other statements in program\"\n",
    "print \"program ended.\""
   ]
  },
  {
   "cell_type": "code",
   "execution_count": 2,
   "metadata": {},
   "outputs": [
    {
     "name": "stdout",
     "output_type": "stream",
     "text": [
      "program started\n",
      "other statements in program\n",
      "fun started\n",
      "this is fun\n",
      "fun ended\n",
      "program ended.\n"
     ]
    }
   ],
   "source": [
    "print \"program started\"\n",
    "def fun():\n",
    "    print \"fun started\"\n",
    "    print \"this is fun\"\n",
    "    print \"fun ended\"\n",
    "print \"other statements in program\"\n",
    "fun()\n",
    "print \"program ended.\""
   ]
  },
  {
   "cell_type": "code",
   "execution_count": 1,
   "metadata": {},
   "outputs": [
    {
     "name": "stdout",
     "output_type": "stream",
     "text": [
      "program started\n",
      "other statements in program\n",
      "this is fun\n",
      "program ended.\n",
      "this is fun\n",
      "this is fun\n"
     ]
    }
   ],
   "source": [
    "print \"program started\"\n",
    "def fun():\n",
    "    \n",
    "    print \"this is fun\"\n",
    "    \n",
    "print \"other statements in program\"\n",
    "fun()\n",
    "print \"program ended.\"\n",
    "fun()\n",
    "fun()\n"
   ]
  },
  {
   "cell_type": "code",
   "execution_count": 2,
   "metadata": {
    "collapsed": true
   },
   "outputs": [],
   "source": [
    "a=1000\n",
    "b=a"
   ]
  },
  {
   "cell_type": "code",
   "execution_count": 3,
   "metadata": {},
   "outputs": [
    {
     "name": "stdout",
     "output_type": "stream",
     "text": [
      "1000\n"
     ]
    }
   ],
   "source": [
    "print b"
   ]
  },
  {
   "cell_type": "code",
   "execution_count": 4,
   "metadata": {},
   "outputs": [
    {
     "name": "stdout",
     "output_type": "stream",
     "text": [
      "this is fun\n"
     ]
    }
   ],
   "source": [
    "def fun():\n",
    "    print \"this is fun\"\n",
    "fun()\n",
    "    "
   ]
  },
  {
   "cell_type": "code",
   "execution_count": 5,
   "metadata": {},
   "outputs": [
    {
     "name": "stdout",
     "output_type": "stream",
     "text": [
      "this is fun\n",
      "this is fun\n",
      "this is fun\n",
      "this is fun\n"
     ]
    }
   ],
   "source": [
    "def fun():\n",
    "    print \"this is fun\"\n",
    "fun()\n",
    "fun()\n",
    "fun()\n",
    "fun()"
   ]
  },
  {
   "cell_type": "code",
   "execution_count": 6,
   "metadata": {},
   "outputs": [
    {
     "name": "stdout",
     "output_type": "stream",
     "text": [
      "this is fun\n",
      "a=1000\n",
      "b=2000\n"
     ]
    }
   ],
   "source": [
    "def fun(a,b):\n",
    "    print \"this is fun\"\n",
    "    print \"a=%s\"%a\n",
    "    print \"b=%s\"%b\n",
    "fun(1000,2000)"
   ]
  },
  {
   "cell_type": "code",
   "execution_count": 7,
   "metadata": {},
   "outputs": [
    {
     "name": "stdout",
     "output_type": "stream",
     "text": [
      "a=1000, b=2000\n",
      "c=3000, d=-1000\n"
     ]
    }
   ],
   "source": [
    "def fun(a,b):\n",
    "    print \"a=%s, b=%s\"%(a,b)\n",
    "    c=a+b\n",
    "    d=a-b\n",
    "    print \"c=%s, d=%s\"%(c,d)\n",
    "fun(1000,2000)"
   ]
  },
  {
   "cell_type": "code",
   "execution_count": 8,
   "metadata": {},
   "outputs": [
    {
     "ename": "TypeError",
     "evalue": "fun() takes exactly 2 arguments (1 given)",
     "output_type": "error",
     "traceback": [
      "\u001b[0;31m---------------------------------------------------------------------------\u001b[0m",
      "\u001b[0;31mTypeError\u001b[0m                                 Traceback (most recent call last)",
      "\u001b[0;32m<ipython-input-8-7b42a36e9966>\u001b[0m in \u001b[0;36m<module>\u001b[0;34m()\u001b[0m\n\u001b[1;32m      4\u001b[0m     \u001b[0md\u001b[0m\u001b[0;34m=\u001b[0m\u001b[0ma\u001b[0m\u001b[0;34m-\u001b[0m\u001b[0mb\u001b[0m\u001b[0;34m\u001b[0m\u001b[0m\n\u001b[1;32m      5\u001b[0m     \u001b[0;32mprint\u001b[0m \u001b[0;34m\"c=%s, d=%s\"\u001b[0m\u001b[0;34m%\u001b[0m\u001b[0;34m(\u001b[0m\u001b[0mc\u001b[0m\u001b[0;34m,\u001b[0m\u001b[0md\u001b[0m\u001b[0;34m)\u001b[0m\u001b[0;34m\u001b[0m\u001b[0m\n\u001b[0;32m----> 6\u001b[0;31m \u001b[0mfun\u001b[0m\u001b[0;34m(\u001b[0m\u001b[0;36m1000\u001b[0m\u001b[0;34m)\u001b[0m\u001b[0;34m\u001b[0m\u001b[0m\n\u001b[0m",
      "\u001b[0;31mTypeError\u001b[0m: fun() takes exactly 2 arguments (1 given)"
     ]
    }
   ],
   "source": [
    "def fun(a,b):\n",
    "    print \"a=%s, b=%s\"%(a,b)\n",
    "    c=a+b\n",
    "    d=a-b\n",
    "    print \"c=%s, d=%s\"%(c,d)\n",
    "fun(1000)"
   ]
  },
  {
   "cell_type": "code",
   "execution_count": 9,
   "metadata": {},
   "outputs": [
    {
     "name": "stdout",
     "output_type": "stream",
     "text": [
      "10+20=30\n",
      "1000+2000=3000\n",
      "1.2+3.4=4.6\n",
      "123.4+45=168.4\n"
     ]
    }
   ],
   "source": [
    "def fun(a,b):\n",
    "    print \"%s+%s=%s\" % (a,b,a+b)\n",
    "fun(10,20)\n",
    "fun(1000,2000)\n",
    "fun(1.2,3.4)\n",
    "fun(123.4,45)"
   ]
  },
  {
   "cell_type": "code",
   "execution_count": 12,
   "metadata": {},
   "outputs": [
    {
     "name": "stdout",
     "output_type": "stream",
     "text": [
      "10+20=30\n",
      "10+20+30=60\n"
     ]
    }
   ],
   "source": [
    "def fun2(a,b):\n",
    "    print \"%s+%s=%s\" % (a,b,a+b)\n",
    "def fun3(a,b,c):\n",
    "    print \"%s+%s+%s=%s\" % (a,b,c,a+b+c)\n",
    "fun2(10,20)\n",
    "fun3(10,20,30)\n",
    "    "
   ]
  },
  {
   "cell_type": "code",
   "execution_count": 13,
   "metadata": {},
   "outputs": [
    {
     "ename": "TypeError",
     "evalue": "fun() takes exactly 5 arguments (1 given)",
     "output_type": "error",
     "traceback": [
      "\u001b[0;31m---------------------------------------------------------------------------\u001b[0m",
      "\u001b[0;31mTypeError\u001b[0m                                 Traceback (most recent call last)",
      "\u001b[0;32m<ipython-input-13-e9ce6b719a5f>\u001b[0m in \u001b[0;36m<module>\u001b[0;34m()\u001b[0m\n\u001b[1;32m      1\u001b[0m \u001b[0;32mdef\u001b[0m \u001b[0mfun\u001b[0m\u001b[0;34m(\u001b[0m\u001b[0ma\u001b[0m\u001b[0;34m,\u001b[0m\u001b[0mb\u001b[0m\u001b[0;34m,\u001b[0m\u001b[0mc\u001b[0m\u001b[0;34m,\u001b[0m\u001b[0md\u001b[0m\u001b[0;34m,\u001b[0m\u001b[0me\u001b[0m\u001b[0;34m)\u001b[0m\u001b[0;34m:\u001b[0m\u001b[0;34m\u001b[0m\u001b[0m\n\u001b[1;32m      2\u001b[0m     \u001b[0;32mprint\u001b[0m \u001b[0;34m\"%s+%s+%s+%s+%s=%s\"\u001b[0m \u001b[0;34m%\u001b[0m \u001b[0;34m(\u001b[0m\u001b[0ma\u001b[0m\u001b[0;34m,\u001b[0m\u001b[0mb\u001b[0m\u001b[0;34m,\u001b[0m\u001b[0mc\u001b[0m\u001b[0;34m,\u001b[0m\u001b[0md\u001b[0m\u001b[0;34m,\u001b[0m\u001b[0me\u001b[0m\u001b[0;34m,\u001b[0m\u001b[0ma\u001b[0m\u001b[0;34m+\u001b[0m\u001b[0mb\u001b[0m\u001b[0;34m+\u001b[0m\u001b[0mc\u001b[0m\u001b[0;34m+\u001b[0m\u001b[0md\u001b[0m\u001b[0;34m+\u001b[0m\u001b[0me\u001b[0m\u001b[0;34m)\u001b[0m\u001b[0;34m\u001b[0m\u001b[0m\n\u001b[0;32m----> 3\u001b[0;31m \u001b[0mfun\u001b[0m\u001b[0;34m(\u001b[0m\u001b[0;36m10\u001b[0m\u001b[0;34m)\u001b[0m\u001b[0;34m\u001b[0m\u001b[0m\n\u001b[0m\u001b[1;32m      4\u001b[0m \u001b[0mfun\u001b[0m\u001b[0;34m(\u001b[0m\u001b[0;36m10\u001b[0m\u001b[0;34m,\u001b[0m\u001b[0;36m20\u001b[0m\u001b[0;34m)\u001b[0m\u001b[0;34m\u001b[0m\u001b[0m\n\u001b[1;32m      5\u001b[0m \u001b[0mfun\u001b[0m\u001b[0;34m(\u001b[0m\u001b[0;36m10\u001b[0m\u001b[0;34m,\u001b[0m\u001b[0;36m20\u001b[0m\u001b[0;34m,\u001b[0m\u001b[0;36m30\u001b[0m\u001b[0;34m)\u001b[0m\u001b[0;34m\u001b[0m\u001b[0m\n",
      "\u001b[0;31mTypeError\u001b[0m: fun() takes exactly 5 arguments (1 given)"
     ]
    }
   ],
   "source": [
    "def fun(a,b,c,d,e):\n",
    "    print \"%s+%s+%s+%s+%s=%s\" % (a,b,c,d,e,a+b+c+d+e)\n",
    "fun(10)\n",
    "fun(10,20)\n",
    "fun(10,20,30)\n",
    "fun(10,20,30,40)\n",
    "fun(10,20,30,40,50)"
   ]
  },
  {
   "cell_type": "code",
   "execution_count": 14,
   "metadata": {},
   "outputs": [
    {
     "name": "stdout",
     "output_type": "stream",
     "text": [
      "10+20+30+40+50=150\n"
     ]
    },
    {
     "ename": "TypeError",
     "evalue": "fun() takes exactly 5 arguments (1 given)",
     "output_type": "error",
     "traceback": [
      "\u001b[0;31m---------------------------------------------------------------------------\u001b[0m",
      "\u001b[0;31mTypeError\u001b[0m                                 Traceback (most recent call last)",
      "\u001b[0;32m<ipython-input-14-f78f4fb9f3e1>\u001b[0m in \u001b[0;36m<module>\u001b[0;34m()\u001b[0m\n\u001b[1;32m      2\u001b[0m     \u001b[0;32mprint\u001b[0m \u001b[0;34m\"%s+%s+%s+%s+%s=%s\"\u001b[0m \u001b[0;34m%\u001b[0m \u001b[0;34m(\u001b[0m\u001b[0ma\u001b[0m\u001b[0;34m,\u001b[0m\u001b[0mb\u001b[0m\u001b[0;34m,\u001b[0m\u001b[0mc\u001b[0m\u001b[0;34m,\u001b[0m\u001b[0md\u001b[0m\u001b[0;34m,\u001b[0m\u001b[0me\u001b[0m\u001b[0;34m,\u001b[0m\u001b[0ma\u001b[0m\u001b[0;34m+\u001b[0m\u001b[0mb\u001b[0m\u001b[0;34m+\u001b[0m\u001b[0mc\u001b[0m\u001b[0;34m+\u001b[0m\u001b[0md\u001b[0m\u001b[0;34m+\u001b[0m\u001b[0me\u001b[0m\u001b[0;34m)\u001b[0m\u001b[0;34m\u001b[0m\u001b[0m\n\u001b[1;32m      3\u001b[0m \u001b[0mfun\u001b[0m\u001b[0;34m(\u001b[0m\u001b[0;36m10\u001b[0m\u001b[0;34m,\u001b[0m\u001b[0;36m20\u001b[0m\u001b[0;34m,\u001b[0m\u001b[0;36m30\u001b[0m\u001b[0;34m,\u001b[0m\u001b[0;36m40\u001b[0m\u001b[0;34m,\u001b[0m\u001b[0;36m50\u001b[0m\u001b[0;34m)\u001b[0m\u001b[0;34m\u001b[0m\u001b[0m\n\u001b[0;32m----> 4\u001b[0;31m \u001b[0mfun\u001b[0m\u001b[0;34m(\u001b[0m\u001b[0;36m10\u001b[0m\u001b[0;34m)\u001b[0m\u001b[0;34m\u001b[0m\u001b[0m\n\u001b[0m\u001b[1;32m      5\u001b[0m \u001b[0mfun\u001b[0m\u001b[0;34m(\u001b[0m\u001b[0;36m10\u001b[0m\u001b[0;34m,\u001b[0m\u001b[0;36m20\u001b[0m\u001b[0;34m)\u001b[0m\u001b[0;34m\u001b[0m\u001b[0m\n\u001b[1;32m      6\u001b[0m \u001b[0mfun\u001b[0m\u001b[0;34m(\u001b[0m\u001b[0;36m10\u001b[0m\u001b[0;34m,\u001b[0m\u001b[0;36m20\u001b[0m\u001b[0;34m,\u001b[0m\u001b[0;36m30\u001b[0m\u001b[0;34m)\u001b[0m\u001b[0;34m\u001b[0m\u001b[0m\n",
      "\u001b[0;31mTypeError\u001b[0m: fun() takes exactly 5 arguments (1 given)"
     ]
    }
   ],
   "source": [
    "def fun(a,b,c,d,e):\n",
    "    print \"%s+%s+%s+%s+%s=%s\" % (a,b,c,d,e,a+b+c+d+e)\n",
    "fun(10,20,30,40,50)\n",
    "fun(10)\n",
    "fun(10,20)\n",
    "fun(10,20,30)\n",
    "fun(10,20,30,40)\n",
    "fun(10,20,30,40,50)"
   ]
  },
  {
   "cell_type": "code",
   "execution_count": 15,
   "metadata": {},
   "outputs": [
    {
     "name": "stdout",
     "output_type": "stream",
     "text": [
      "100+200+300+400+500=1500\n",
      "10+0+0+0+0=10\n",
      "10+20+0+0+0=30\n",
      "10+20+30+0+0=60\n",
      "10+20+30+40+0=100\n",
      "10+20+30+40+50=150\n"
     ]
    }
   ],
   "source": [
    "# default arguments\n",
    "def fun(a,b=0,c=0,d=0,e=0):\n",
    "    \"\"\"\n",
    "    add the given elements\n",
    "    mandatory: a\n",
    "    optional params: b,c,d,e\n",
    "    type: a,b,c,d,e: int, float\n",
    "    \"\"\"\n",
    "    print \"%s+%s+%s+%s+%s=%s\" % (a,b,c,d,e,a+b+c+d+e)\n",
    "fun(100,200,300,400,500)\n",
    "fun(10)\n",
    "fun(10,20)\n",
    "fun(10,20,30)\n",
    "fun(10,20,30,40)\n",
    "fun(10,20,30,40,50)"
   ]
  },
  {
   "cell_type": "code",
   "execution_count": 16,
   "metadata": {},
   "outputs": [
    {
     "ename": "TypeError",
     "evalue": "fun() takes at least 1 argument (0 given)",
     "output_type": "error",
     "traceback": [
      "\u001b[0;31m---------------------------------------------------------------------------\u001b[0m",
      "\u001b[0;31mTypeError\u001b[0m                                 Traceback (most recent call last)",
      "\u001b[0;32m<ipython-input-16-aa196f4f2942>\u001b[0m in \u001b[0;36m<module>\u001b[0;34m()\u001b[0m\n\u001b[1;32m      2\u001b[0m \u001b[0;32mdef\u001b[0m \u001b[0mfun\u001b[0m\u001b[0;34m(\u001b[0m\u001b[0ma\u001b[0m\u001b[0;34m,\u001b[0m\u001b[0mb\u001b[0m\u001b[0;34m=\u001b[0m\u001b[0;36m0\u001b[0m\u001b[0;34m,\u001b[0m\u001b[0mc\u001b[0m\u001b[0;34m=\u001b[0m\u001b[0;36m0\u001b[0m\u001b[0;34m,\u001b[0m\u001b[0md\u001b[0m\u001b[0;34m=\u001b[0m\u001b[0;36m0\u001b[0m\u001b[0;34m,\u001b[0m\u001b[0me\u001b[0m\u001b[0;34m=\u001b[0m\u001b[0;36m0\u001b[0m\u001b[0;34m)\u001b[0m\u001b[0;34m:\u001b[0m\u001b[0;34m\u001b[0m\u001b[0m\n\u001b[1;32m      3\u001b[0m     \u001b[0;32mprint\u001b[0m \u001b[0;34m\"%s+%s+%s+%s+%s=%s\"\u001b[0m \u001b[0;34m%\u001b[0m \u001b[0;34m(\u001b[0m\u001b[0ma\u001b[0m\u001b[0;34m,\u001b[0m\u001b[0mb\u001b[0m\u001b[0;34m,\u001b[0m\u001b[0mc\u001b[0m\u001b[0;34m,\u001b[0m\u001b[0md\u001b[0m\u001b[0;34m,\u001b[0m\u001b[0me\u001b[0m\u001b[0;34m,\u001b[0m\u001b[0ma\u001b[0m\u001b[0;34m+\u001b[0m\u001b[0mb\u001b[0m\u001b[0;34m+\u001b[0m\u001b[0mc\u001b[0m\u001b[0;34m+\u001b[0m\u001b[0md\u001b[0m\u001b[0;34m+\u001b[0m\u001b[0me\u001b[0m\u001b[0;34m)\u001b[0m\u001b[0;34m\u001b[0m\u001b[0m\n\u001b[0;32m----> 4\u001b[0;31m \u001b[0mfun\u001b[0m\u001b[0;34m(\u001b[0m\u001b[0;34m)\u001b[0m\u001b[0;34m\u001b[0m\u001b[0m\n\u001b[0m",
      "\u001b[0;31mTypeError\u001b[0m: fun() takes at least 1 argument (0 given)"
     ]
    }
   ],
   "source": [
    "# default arguments\n",
    "def fun(a,b=0,c=0,d=0,e=0):\n",
    "    print \"%s+%s+%s+%s+%s=%s\" % (a,b,c,d,e,a+b+c+d+e)\n",
    "fun()"
   ]
  },
  {
   "cell_type": "code",
   "execution_count": 17,
   "metadata": {},
   "outputs": [
    {
     "name": "stdout",
     "output_type": "stream",
     "text": [
      "0+0+0+0+0=0\n"
     ]
    }
   ],
   "source": [
    "# default arguments\n",
    "def fun(a=0,b=0,c=0,d=0,e=0):\n",
    "    print \"%s+%s+%s+%s+%s=%s\" % (a,b,c,d,e,a+b+c+d+e)\n",
    "fun()"
   ]
  },
  {
   "cell_type": "code",
   "execution_count": 18,
   "metadata": {},
   "outputs": [
    {
     "data": {
      "text/plain": [
       "600"
      ]
     },
     "execution_count": 18,
     "metadata": {},
     "output_type": "execute_result"
    }
   ],
   "source": [
    "\n",
    "20*30"
   ]
  },
  {
   "cell_type": "code",
   "execution_count": 19,
   "metadata": {},
   "outputs": [
    {
     "ename": "TypeError",
     "evalue": "cannot concatenate 'str' and 'int' objects",
     "output_type": "error",
     "traceback": [
      "\u001b[0;31m---------------------------------------------------------------------------\u001b[0m",
      "\u001b[0;31mTypeError\u001b[0m                                 Traceback (most recent call last)",
      "\u001b[0;32m<ipython-input-19-fe4e7ca4cd90>\u001b[0m in \u001b[0;36m<module>\u001b[0;34m()\u001b[0m\n\u001b[0;32m----> 1\u001b[0;31m \u001b[0;34m\"python\"\u001b[0m\u001b[0;34m+\u001b[0m\u001b[0;36m2\u001b[0m\u001b[0;34m\u001b[0m\u001b[0m\n\u001b[0m",
      "\u001b[0;31mTypeError\u001b[0m: cannot concatenate 'str' and 'int' objects"
     ]
    }
   ],
   "source": [
    "\"python\"+2"
   ]
  },
  {
   "cell_type": "code",
   "execution_count": 20,
   "metadata": {},
   "outputs": [
    {
     "data": {
      "text/plain": [
       "'pythonpythonpythonpythonpythonpythonpythonpythonpythonpythonpythonpythonpythonpythonpythonpythonpythonpythonpythonpython'"
      ]
     },
     "execution_count": 20,
     "metadata": {},
     "output_type": "execute_result"
    }
   ],
   "source": [
    "\"python\"*20"
   ]
  },
  {
   "cell_type": "code",
   "execution_count": 21,
   "metadata": {},
   "outputs": [
    {
     "ename": "TypeError",
     "evalue": "fun() takes at least 2 arguments (1 given)",
     "output_type": "error",
     "traceback": [
      "\u001b[0;31m---------------------------------------------------------------------------\u001b[0m",
      "\u001b[0;31mTypeError\u001b[0m                                 Traceback (most recent call last)",
      "\u001b[0;32m<ipython-input-21-f2a98f45081d>\u001b[0m in \u001b[0;36m<module>\u001b[0;34m()\u001b[0m\n\u001b[1;32m      2\u001b[0m \u001b[0;32mdef\u001b[0m \u001b[0mfun\u001b[0m\u001b[0;34m(\u001b[0m\u001b[0ma\u001b[0m\u001b[0;34m,\u001b[0m\u001b[0mb\u001b[0m\u001b[0;34m,\u001b[0m\u001b[0mc\u001b[0m\u001b[0;34m=\u001b[0m\u001b[0;36m1\u001b[0m\u001b[0;34m,\u001b[0m\u001b[0md\u001b[0m\u001b[0;34m=\u001b[0m\u001b[0;36m1\u001b[0m\u001b[0;34m,\u001b[0m\u001b[0me\u001b[0m\u001b[0;34m=\u001b[0m\u001b[0;36m1\u001b[0m\u001b[0;34m,\u001b[0m\u001b[0mf\u001b[0m\u001b[0;34m=\u001b[0m\u001b[0;36m1\u001b[0m\u001b[0;34m)\u001b[0m\u001b[0;34m:\u001b[0m\u001b[0;34m\u001b[0m\u001b[0m\n\u001b[1;32m      3\u001b[0m     \u001b[0;32mprint\u001b[0m \u001b[0;34m\"%s*%s*%s*%s*%s*%s=%s\"\u001b[0m\u001b[0;34m%\u001b[0m\u001b[0;34m(\u001b[0m\u001b[0ma\u001b[0m\u001b[0;34m,\u001b[0m\u001b[0mb\u001b[0m\u001b[0;34m,\u001b[0m\u001b[0mc\u001b[0m\u001b[0;34m,\u001b[0m\u001b[0md\u001b[0m\u001b[0;34m,\u001b[0m\u001b[0me\u001b[0m\u001b[0;34m,\u001b[0m\u001b[0mf\u001b[0m\u001b[0;34m,\u001b[0m\u001b[0ma\u001b[0m\u001b[0;34m*\u001b[0m\u001b[0mb\u001b[0m\u001b[0;34m*\u001b[0m\u001b[0mc\u001b[0m\u001b[0;34m*\u001b[0m\u001b[0md\u001b[0m\u001b[0;34m*\u001b[0m\u001b[0me\u001b[0m\u001b[0;34m*\u001b[0m\u001b[0mf\u001b[0m\u001b[0;34m)\u001b[0m\u001b[0;34m\u001b[0m\u001b[0m\n\u001b[0;32m----> 4\u001b[0;31m \u001b[0mfun\u001b[0m\u001b[0;34m(\u001b[0m\u001b[0;36m10\u001b[0m\u001b[0;34m)\u001b[0m\u001b[0;34m\u001b[0m\u001b[0m\n\u001b[0m",
      "\u001b[0;31mTypeError\u001b[0m: fun() takes at least 2 arguments (1 given)"
     ]
    }
   ],
   "source": [
    "# wAP to do multiplication: Note: minimu 2 arguments, maximum: 6 arguments\n",
    "def fun(a,b,c=1,d=1,e=1,f=1):\n",
    "    print \"%s*%s*%s*%s*%s*%s=%s\"%(a,b,c,d,e,f,a*b*c*d*e*f)\n",
    "fun(10)"
   ]
  },
  {
   "cell_type": "code",
   "execution_count": 22,
   "metadata": {},
   "outputs": [
    {
     "name": "stdout",
     "output_type": "stream",
     "text": [
      "10*20*1*1*1*1=200\n"
     ]
    }
   ],
   "source": [
    "# wAP to do multiplication: Note: minimu 2 arguments, maximum: 6 arguments\n",
    "def fun(a,b,c=1,d=1,e=1,f=1):\n",
    "    print \"%s*%s*%s*%s*%s*%s=%s\"%(a,b,c,d,e,f,a*b*c*d*e*f)\n",
    "fun(10,20)"
   ]
  },
  {
   "cell_type": "code",
   "execution_count": 23,
   "metadata": {},
   "outputs": [
    {
     "name": "stdout",
     "output_type": "stream",
     "text": [
      "10*20*30*1*1*1=6000\n",
      "10*20*30*40*1*1=240000\n",
      "10*20*30*40*50*1=12000000\n",
      "10*20*30*40*50*60=720000000\n"
     ]
    }
   ],
   "source": [
    "# wAP to do multiplication: Note: minimu 2 arguments, maximum: 6 arguments\n",
    "def fun(a,b,c=1,d=1,e=1,f=1):\n",
    "    print \"%s*%s*%s*%s*%s*%s=%s\"%(a,b,c,d,e,f,a*b*c*d*e*f)\n",
    "fun(10,20,30)\n",
    "fun(10,20,30,40)\n",
    "fun(10,20,30,40,50)\n",
    "fun(10,20,30,40,50,60)"
   ]
  },
  {
   "cell_type": "code",
   "execution_count": 24,
   "metadata": {},
   "outputs": [
    {
     "name": "stdout",
     "output_type": "stream",
     "text": [
      "10*20*30*1*1*1=6000\n",
      "10*20*30*40*1*1=240000\n",
      "10*20*30*40*50*1=12000000\n",
      "10*20*30*40*50*60=720000000\n"
     ]
    },
    {
     "ename": "TypeError",
     "evalue": "fun() takes at most 6 arguments (7 given)",
     "output_type": "error",
     "traceback": [
      "\u001b[0;31m---------------------------------------------------------------------------\u001b[0m",
      "\u001b[0;31mTypeError\u001b[0m                                 Traceback (most recent call last)",
      "\u001b[0;32m<ipython-input-24-2e70daccb71c>\u001b[0m in \u001b[0;36m<module>\u001b[0;34m()\u001b[0m\n\u001b[1;32m      6\u001b[0m \u001b[0mfun\u001b[0m\u001b[0;34m(\u001b[0m\u001b[0;36m10\u001b[0m\u001b[0;34m,\u001b[0m\u001b[0;36m20\u001b[0m\u001b[0;34m,\u001b[0m\u001b[0;36m30\u001b[0m\u001b[0;34m,\u001b[0m\u001b[0;36m40\u001b[0m\u001b[0;34m,\u001b[0m\u001b[0;36m50\u001b[0m\u001b[0;34m)\u001b[0m\u001b[0;34m\u001b[0m\u001b[0m\n\u001b[1;32m      7\u001b[0m \u001b[0mfun\u001b[0m\u001b[0;34m(\u001b[0m\u001b[0;36m10\u001b[0m\u001b[0;34m,\u001b[0m\u001b[0;36m20\u001b[0m\u001b[0;34m,\u001b[0m\u001b[0;36m30\u001b[0m\u001b[0;34m,\u001b[0m\u001b[0;36m40\u001b[0m\u001b[0;34m,\u001b[0m\u001b[0;36m50\u001b[0m\u001b[0;34m,\u001b[0m\u001b[0;36m60\u001b[0m\u001b[0;34m)\u001b[0m\u001b[0;34m\u001b[0m\u001b[0m\n\u001b[0;32m----> 8\u001b[0;31m \u001b[0mfun\u001b[0m\u001b[0;34m(\u001b[0m\u001b[0;36m10\u001b[0m\u001b[0;34m,\u001b[0m\u001b[0;36m20\u001b[0m\u001b[0;34m,\u001b[0m\u001b[0;36m30\u001b[0m\u001b[0;34m,\u001b[0m\u001b[0;36m40\u001b[0m\u001b[0;34m,\u001b[0m\u001b[0;36m50\u001b[0m\u001b[0;34m,\u001b[0m\u001b[0;36m60\u001b[0m\u001b[0;34m,\u001b[0m\u001b[0;36m70\u001b[0m\u001b[0;34m)\u001b[0m\u001b[0;34m\u001b[0m\u001b[0m\n\u001b[0m",
      "\u001b[0;31mTypeError\u001b[0m: fun() takes at most 6 arguments (7 given)"
     ]
    }
   ],
   "source": [
    "# wAP to do multiplication: Note: minimu 2 arguments, maximum: 6 arguments\n",
    "def fun(a,b,c=1,d=1,e=1,f=1):\n",
    "    print \"%s*%s*%s*%s*%s*%s=%s\"%(a,b,c,d,e,f,a*b*c*d*e*f)\n",
    "fun(10,20,30)\n",
    "fun(10,20,30,40)\n",
    "fun(10,20,30,40,50)\n",
    "fun(10,20,30,40,50,60)\n",
    "fun(10,20,30,40,50,60,70)"
   ]
  },
  {
   "cell_type": "code",
   "execution_count": 27,
   "metadata": {},
   "outputs": [
    {
     "name": "stdout",
     "output_type": "stream",
     "text": [
      "\n",
      "    Name: anil\n",
      "    Date of birth: 1989-jan-8\n",
      "    date of join: 2018-10-27\n",
      "    pan: sdwewq321\n",
      "    passport: None\n",
      "    Adhar: None\n",
      "    mariatal status: s\n",
      "    \n"
     ]
    }
   ],
   "source": [
    "def reg_person(name,doj,dob,pan,passport=None, adhar=None, marital_status=\"s\"):\n",
    "    print \"\"\"\n",
    "    Name: %s\n",
    "    Date of birth: %s\n",
    "    date of join: %s\n",
    "    pan: %s\n",
    "    passport: %s\n",
    "    Adhar: %s\n",
    "    mariatal status: %s\n",
    "    \"\"\"%(name, dob, doj, pan, passport, adhar, marital_status)\n",
    "reg_person(\"anil\",\"2018-10-27\",\"1989-jan-8\",\"sdwewq321\")"
   ]
  },
  {
   "cell_type": "code",
   "execution_count": 28,
   "metadata": {},
   "outputs": [
    {
     "ename": "SyntaxError",
     "evalue": "EOL while scanning string literal (<ipython-input-28-6596c1f52aca>, line 2)",
     "output_type": "error",
     "traceback": [
      "\u001b[0;36m  File \u001b[0;32m\"<ipython-input-28-6596c1f52aca>\"\u001b[0;36m, line \u001b[0;32m2\u001b[0m\n\u001b[0;31m    print \"\u001b[0m\n\u001b[0m          ^\u001b[0m\n\u001b[0;31mSyntaxError\u001b[0m\u001b[0;31m:\u001b[0m EOL while scanning string literal\n"
     ]
    }
   ],
   "source": [
    "def reg_person(name,doj,dob,pan,passport=None, adhar=None, marital_status=\"s\"):\n",
    "    print \"\n",
    "    Name: %s\n",
    "    Date of birth: %s\n",
    "    date of join: %s\n",
    "    pan: %s\n",
    "    passport: %s\n",
    "    Adhar: %s\n",
    "    mariatal status: %s\n",
    "    \"%(name, dob, doj, pan, passport, adhar, marital_status)\n",
    "reg_person(\"anil\",\"2018-10-27\",\"1989-jan-8\",\"sdwewq321\")"
   ]
  },
  {
   "cell_type": "code",
   "execution_count": 29,
   "metadata": {},
   "outputs": [
    {
     "name": "stdout",
     "output_type": "stream",
     "text": [
      "    Name: anil\n",
      "    Date of birth: 1989-jan-8\n",
      "    date of join: 2018-10-27\n",
      "    pan: sdwewq321\n",
      "    passport: None\n",
      "    Adhar: None\n",
      "    mariatal status: s\n",
      "    \n"
     ]
    }
   ],
   "source": [
    "def reg_person(name,doj,dob,pan,passport=None, adhar=None, marital_status=\"s\"):\n",
    "    print \"\\\n",
    "    Name: %s\\n\\\n",
    "    Date of birth: %s\\n\\\n",
    "    date of join: %s\\n\\\n",
    "    pan: %s\\n\\\n",
    "    passport: %s\\n\\\n",
    "    Adhar: %s\\n\\\n",
    "    mariatal status: %s\\n\\\n",
    "    \"%(name, dob, doj, pan, passport, adhar, marital_status)\n",
    "reg_person(\"anil\",\"2018-10-27\",\"1989-jan-8\",\"sdwewq321\")"
   ]
  },
  {
   "cell_type": "code",
   "execution_count": 30,
   "metadata": {},
   "outputs": [
    {
     "name": "stdout",
     "output_type": "stream",
     "text": [
      "\n",
      "    Name: anil\n",
      "    Date of birth: 1989-jan-8\n",
      "    date of join: 2018-10-27\n",
      "    pan: sdwewq321\n",
      "    passport: None\n",
      "    Adhar: None\n",
      "    mariatal status: s\n",
      "    \n",
      "\n",
      "    Name: jay\n",
      "    Date of birth: 1990-jan-8\n",
      "    date of join: 2018-10-26\n",
      "    pan: sdwewq322\n",
      "    passport: passport1\n",
      "    Adhar: None\n",
      "    mariatal status: s\n",
      "    \n"
     ]
    }
   ],
   "source": [
    "def reg_person(name,doj,dob,pan,passport=None, adhar=None, marital_status=\"s\"):\n",
    "    print \"\"\"\n",
    "    Name: %s\n",
    "    Date of birth: %s\n",
    "    date of join: %s\n",
    "    pan: %s\n",
    "    passport: %s\n",
    "    Adhar: %s\n",
    "    mariatal status: %s\n",
    "    \"\"\"%(name, dob, doj, pan, passport, adhar, marital_status)\n",
    "reg_person(\"anil\",\"2018-10-27\",\"1989-jan-8\",\"sdwewq321\")\n",
    "reg_person(\"jay\",\"2018-10-26\",\"1990-jan-8\",\"sdwewq322\",\"passport1\")"
   ]
  },
  {
   "cell_type": "code",
   "execution_count": 31,
   "metadata": {},
   "outputs": [
    {
     "name": "stdout",
     "output_type": "stream",
     "text": [
      "\n",
      "    Name: anil\n",
      "    Date of birth: 1989-jan-8\n",
      "    date of join: 2018-10-27\n",
      "    pan: sdwewq321\n",
      "    passport: None\n",
      "    Adhar: None\n",
      "    mariatal status: s\n",
      "    \n",
      "\n",
      "    Name: jay\n",
      "    Date of birth: 1990-jan-8\n",
      "    date of join: 2018-10-26\n",
      "    pan: sdwewq322\n",
      "    passport: passport1\n",
      "    Adhar: None\n",
      "    mariatal status: s\n",
      "    \n",
      "\n",
      "    Name: vedha\n",
      "    Date of birth: 1991-jan-8\n",
      "    date of join: 2018-10-28\n",
      "    pan: sdwewq323\n",
      "    passport: M\n",
      "    Adhar: None\n",
      "    mariatal status: s\n",
      "    \n"
     ]
    }
   ],
   "source": [
    "def reg_person(name,doj,dob,pan,passport=None, adhar=None, marital_status=\"s\"):\n",
    "    print \"\"\"\n",
    "    Name: %s\n",
    "    Date of birth: %s\n",
    "    date of join: %s\n",
    "    pan: %s\n",
    "    passport: %s\n",
    "    Adhar: %s\n",
    "    mariatal status: %s\n",
    "    \"\"\"%(name, dob, doj, pan, passport, adhar, marital_status)\n",
    "reg_person(\"anil\",\"2018-10-27\",\"1989-jan-8\",\"sdwewq321\")\n",
    "reg_person(\"jay\",\"2018-10-26\",\"1990-jan-8\",\"sdwewq322\",\"passport1\")\n",
    "reg_person(\"vedha\",\"2018-10-28\",\"1991-jan-8\",\"sdwewq323\",\"M\")"
   ]
  },
  {
   "cell_type": "code",
   "execution_count": 32,
   "metadata": {},
   "outputs": [
    {
     "name": "stdout",
     "output_type": "stream",
     "text": [
      "\n",
      "    Name: anil\n",
      "    Date of birth: 1989-jan-8\n",
      "    date of join: 2018-10-27\n",
      "    pan: sdwewq321\n",
      "    passport: None\n",
      "    Adhar: None\n",
      "    mariatal status: s\n",
      "    \n",
      "\n",
      "    Name: jay\n",
      "    Date of birth: 1990-jan-8\n",
      "    date of join: 2018-10-26\n",
      "    pan: sdwewq322\n",
      "    passport: passport1\n",
      "    Adhar: None\n",
      "    mariatal status: s\n",
      "    \n",
      "\n",
      "    Name: vedha\n",
      "    Date of birth: 1991-jan-8\n",
      "    date of join: 2018-10-28\n",
      "    pan: sdwewq323\n",
      "    passport: None\n",
      "    Adhar: None\n",
      "    mariatal status: M\n",
      "    \n"
     ]
    }
   ],
   "source": [
    "def reg_person(name,doj,dob,pan,passport=None, adhar=None, marital_status=\"s\"):\n",
    "    print \"\"\"\n",
    "    Name: %s\n",
    "    Date of birth: %s\n",
    "    date of join: %s\n",
    "    pan: %s\n",
    "    passport: %s\n",
    "    Adhar: %s\n",
    "    mariatal status: %s\n",
    "    \"\"\"%(name, dob, doj, pan, passport, adhar, marital_status)\n",
    "reg_person(\"anil\",\"2018-10-27\",\"1989-jan-8\",\"sdwewq321\")\n",
    "reg_person(\"jay\",\"2018-10-26\",\"1990-jan-8\",\"sdwewq322\",\"passport1\")\n",
    "reg_person(\"vedha\",\"2018-10-28\",\"1991-jan-8\",\"sdwewq323\",None,None,\"M\")"
   ]
  },
  {
   "cell_type": "code",
   "execution_count": 33,
   "metadata": {
    "collapsed": true
   },
   "outputs": [],
   "source": [
    "import pandas as pd"
   ]
  },
  {
   "cell_type": "code",
   "execution_count": 34,
   "metadata": {
    "collapsed": true
   },
   "outputs": [],
   "source": [
    "pd.read_csv?"
   ]
  },
  {
   "cell_type": "code",
   "execution_count": 35,
   "metadata": {},
   "outputs": [
    {
     "name": "stdout",
     "output_type": "stream",
     "text": [
      "\n",
      "    Name: anil\n",
      "    Date of birth: 1989-jan-8\n",
      "    date of join: 2018-10-27\n",
      "    pan: sdwewq321\n",
      "    passport: None\n",
      "    Adhar: None\n",
      "    mariatal status: s\n",
      "    \n",
      "\n",
      "    Name: jay\n",
      "    Date of birth: 1990-jan-8\n",
      "    date of join: 2018-10-26\n",
      "    pan: sdwewq322\n",
      "    passport: passport1\n",
      "    Adhar: None\n",
      "    mariatal status: s\n",
      "    \n",
      "\n",
      "    Name: vedha\n",
      "    Date of birth: 1991-jan-8\n",
      "    date of join: 2018-10-28\n",
      "    pan: sdwewq323\n",
      "    passport: None\n",
      "    Adhar: None\n",
      "    mariatal status: M\n",
      "    \n"
     ]
    }
   ],
   "source": [
    "def reg_person(name,doj,dob,pan,passport=None, adhar=None, marital_status=\"s\"):\n",
    "    print \"\"\"\n",
    "    Name: %s\n",
    "    Date of birth: %s\n",
    "    date of join: %s\n",
    "    pan: %s\n",
    "    passport: %s\n",
    "    Adhar: %s\n",
    "    mariatal status: %s\n",
    "    \"\"\"%(name, dob, doj, pan, passport, adhar, marital_status)\n",
    "reg_person(\"anil\",\"2018-10-27\",\"1989-jan-8\",\"sdwewq321\")\n",
    "reg_person(\"jay\",\"2018-10-26\",\"1990-jan-8\",\"sdwewq322\",\"passport1\")\n",
    "reg_person(\"vedha\",\"2018-10-28\",\"1991-jan-8\",\"sdwewq323\",None,None,\"M\")"
   ]
  },
  {
   "cell_type": "code",
   "execution_count": 36,
   "metadata": {},
   "outputs": [
    {
     "name": "stdout",
     "output_type": "stream",
     "text": [
      "\n",
      "    Name: anil\n",
      "    Date of birth: 1989-jan-8\n",
      "    date of join: 2018-10-27\n",
      "    pan: sdwewq321\n",
      "    passport: None\n",
      "    Adhar: None\n",
      "    mariatal status: s\n",
      "    \n",
      "\n",
      "    Name: jay\n",
      "    Date of birth: 1990-jan-8\n",
      "    date of join: 2018-10-26\n",
      "    pan: sdwewq322\n",
      "    passport: passport1\n",
      "    Adhar: None\n",
      "    mariatal status: s\n",
      "    \n",
      "\n",
      "    Name: vedha\n",
      "    Date of birth: 1991-jan-8\n",
      "    date of join: 2018-10-28\n",
      "    pan: sdwewq323\n",
      "    passport: None\n",
      "    Adhar: None\n",
      "    mariatal status: M\n",
      "    \n"
     ]
    }
   ],
   "source": [
    "def reg_person(name,doj,dob,pan,passport=None, adhar=None, marital_status=\"s\"):\n",
    "    print \"\"\"\n",
    "    Name: %s\n",
    "    Date of birth: %s\n",
    "    date of join: %s\n",
    "    pan: %s\n",
    "    passport: %s\n",
    "    Adhar: %s\n",
    "    mariatal status: %s\n",
    "    \"\"\"%(name, dob, doj, pan, passport, adhar, marital_status)\n",
    "reg_person(\"anil\",\"2018-10-27\",\"1989-jan-8\",\"sdwewq321\")\n",
    "reg_person(\"jay\",\"2018-10-26\",\"1990-jan-8\",\"sdwewq322\",\"passport1\")\n",
    "reg_person(\"vedha\",\"2018-10-28\",\"1991-jan-8\",\"sdwewq323\",marital_status=\"M\")"
   ]
  },
  {
   "cell_type": "code",
   "execution_count": 37,
   "metadata": {},
   "outputs": [
    {
     "name": "stdout",
     "output_type": "stream",
     "text": [
      "\n",
      "    Name: anil\n",
      "    Date of birth: 1989-jan-8\n",
      "    date of join: 2018-10-27\n",
      "    pan: sdwewq321\n",
      "    passport: None\n",
      "    Adhar: None\n",
      "    mariatal status: s\n",
      "    \n",
      "\n",
      "    Name: jay\n",
      "    Date of birth: 1990-jan-8\n",
      "    date of join: 2018-10-26\n",
      "    pan: sdwewq322\n",
      "    passport: passport1\n",
      "    Adhar: None\n",
      "    mariatal status: s\n",
      "    \n",
      "\n",
      "    Name: vedha\n",
      "    Date of birth: 1991-jan-8\n",
      "    date of join: 2018-10-28\n",
      "    pan: sdwewq323\n",
      "    passport: None\n",
      "    Adhar: None\n",
      "    mariatal status: M\n",
      "    \n",
      "\n",
      "    Name: sai\n",
      "    Date of birth: 1989-01-01\n",
      "    date of join: 2018-01-01\n",
      "    pan: dsafsdfs\n",
      "    passport: None\n",
      "    Adhar: adhar1234\n",
      "    mariatal status: s\n",
      "    \n"
     ]
    }
   ],
   "source": [
    "def reg_person(name,doj,dob,pan,passport=None, adhar=None, marital_status=\"s\"):\n",
    "    print \"\"\"\n",
    "    Name: %s\n",
    "    Date of birth: %s\n",
    "    date of join: %s\n",
    "    pan: %s\n",
    "    passport: %s\n",
    "    Adhar: %s\n",
    "    mariatal status: %s\n",
    "    \"\"\"%(name, dob, doj, pan, passport, adhar, marital_status)\n",
    "reg_person(\"anil\",\"2018-10-27\",\"1989-jan-8\",\"sdwewq321\")\n",
    "reg_person(\"jay\",\"2018-10-26\",\"1990-jan-8\",\"sdwewq322\",\"passport1\")\n",
    "reg_person(\"vedha\",\"2018-10-28\",\"1991-jan-8\",\"sdwewq323\",marital_status=\"M\")\n",
    "reg_person(doj=\"2018-01-01\",\n",
    "           dob=\"1989-01-01\",\n",
    "           name=\"sai\",\n",
    "           pan=\"dsafsdfs\",\n",
    "           adhar=\"adhar1234\")\n",
    "# keyword arguments:  need this concept to over come the problem in positional arguments."
   ]
  },
  {
   "cell_type": "code",
   "execution_count": 1,
   "metadata": {},
   "outputs": [
    {
     "ename": "NameError",
     "evalue": "name 'a' is not defined",
     "output_type": "error",
     "traceback": [
      "\u001b[0;31m---------------------------------------------------------------------------\u001b[0m",
      "\u001b[0;31mNameError\u001b[0m                                 Traceback (most recent call last)",
      "\u001b[0;32m<ipython-input-1-2fec7bb402a6>\u001b[0m in \u001b[0;36m<module>\u001b[0;34m()\u001b[0m\n\u001b[1;32m      2\u001b[0m     \u001b[0mc\u001b[0m\u001b[0;34m=\u001b[0m\u001b[0ma\u001b[0m\u001b[0;34m+\u001b[0m\u001b[0mb\u001b[0m\u001b[0;34m\u001b[0m\u001b[0m\n\u001b[1;32m      3\u001b[0m \u001b[0mfun\u001b[0m\u001b[0;34m(\u001b[0m\u001b[0;36m10\u001b[0m\u001b[0;34m,\u001b[0m\u001b[0;36m20\u001b[0m\u001b[0;34m)\u001b[0m\u001b[0;34m\u001b[0m\u001b[0m\n\u001b[0;32m----> 4\u001b[0;31m \u001b[0;32mprint\u001b[0m \u001b[0;34m\"a=%s, b=%s\"\u001b[0m\u001b[0;34m%\u001b[0m\u001b[0;34m(\u001b[0m\u001b[0ma\u001b[0m\u001b[0;34m,\u001b[0m\u001b[0mb\u001b[0m\u001b[0;34m)\u001b[0m\u001b[0;34m\u001b[0m\u001b[0m\n\u001b[0m",
      "\u001b[0;31mNameError\u001b[0m: name 'a' is not defined"
     ]
    }
   ],
   "source": [
    "def fun(a,b):\n",
    "    c=a+b\n",
    "fun(10,20)\n",
    "print \"a=%s, b=%s\"%(a,b)"
   ]
  },
  {
   "cell_type": "code",
   "execution_count": 2,
   "metadata": {},
   "outputs": [
    {
     "ename": "NameError",
     "evalue": "name 'c' is not defined",
     "output_type": "error",
     "traceback": [
      "\u001b[0;31m---------------------------------------------------------------------------\u001b[0m",
      "\u001b[0;31mNameError\u001b[0m                                 Traceback (most recent call last)",
      "\u001b[0;32m<ipython-input-2-4018235c295e>\u001b[0m in \u001b[0;36m<module>\u001b[0;34m()\u001b[0m\n\u001b[1;32m      2\u001b[0m     \u001b[0mc\u001b[0m\u001b[0;34m=\u001b[0m\u001b[0ma\u001b[0m\u001b[0;34m+\u001b[0m\u001b[0mb\u001b[0m\u001b[0;34m\u001b[0m\u001b[0m\n\u001b[1;32m      3\u001b[0m \u001b[0mfun\u001b[0m\u001b[0;34m(\u001b[0m\u001b[0;36m10\u001b[0m\u001b[0;34m,\u001b[0m\u001b[0;36m20\u001b[0m\u001b[0;34m)\u001b[0m\u001b[0;34m\u001b[0m\u001b[0m\n\u001b[0;32m----> 4\u001b[0;31m \u001b[0;32mprint\u001b[0m \u001b[0mc\u001b[0m\u001b[0;34m\u001b[0m\u001b[0m\n\u001b[0m\u001b[1;32m      5\u001b[0m \u001b[0;32mprint\u001b[0m \u001b[0;34m\"a=%s, b=%s\"\u001b[0m\u001b[0;34m%\u001b[0m\u001b[0;34m(\u001b[0m\u001b[0ma\u001b[0m\u001b[0;34m,\u001b[0m\u001b[0mb\u001b[0m\u001b[0;34m)\u001b[0m\u001b[0;34m\u001b[0m\u001b[0m\n",
      "\u001b[0;31mNameError\u001b[0m: name 'c' is not defined"
     ]
    }
   ],
   "source": [
    "def fun(a,b):\n",
    "    c=a+b\n",
    "fun(10,20)\n",
    "print c\n",
    "print \"a=%s, b=%s\"%(a,b)"
   ]
  },
  {
   "cell_type": "code",
   "execution_count": 4,
   "metadata": {},
   "outputs": [
    {
     "name": "stdout",
     "output_type": "stream",
     "text": [
      "p= 2000\n",
      "p after function call: 2000\n"
     ]
    },
    {
     "ename": "NameError",
     "evalue": "name 'c' is not defined",
     "output_type": "error",
     "traceback": [
      "\u001b[0;31m---------------------------------------------------------------------------\u001b[0m",
      "\u001b[0;31mNameError\u001b[0m                                 Traceback (most recent call last)",
      "\u001b[0;32m<ipython-input-4-77e4e66332c9>\u001b[0m in \u001b[0;36m<module>\u001b[0;34m()\u001b[0m\n\u001b[1;32m      5\u001b[0m \u001b[0mfun\u001b[0m\u001b[0;34m(\u001b[0m\u001b[0;36m10\u001b[0m\u001b[0;34m,\u001b[0m\u001b[0;36m20\u001b[0m\u001b[0;34m)\u001b[0m\u001b[0;34m\u001b[0m\u001b[0m\n\u001b[1;32m      6\u001b[0m \u001b[0;32mprint\u001b[0m \u001b[0;34m\"p after function call:\"\u001b[0m\u001b[0;34m,\u001b[0m\u001b[0mp\u001b[0m\u001b[0;34m\u001b[0m\u001b[0m\n\u001b[0;32m----> 7\u001b[0;31m \u001b[0;32mprint\u001b[0m \u001b[0mc\u001b[0m\u001b[0;34m\u001b[0m\u001b[0m\n\u001b[0m\u001b[1;32m      8\u001b[0m \u001b[0;32mprint\u001b[0m \u001b[0;34m\"a=%s, b=%s\"\u001b[0m\u001b[0;34m%\u001b[0m\u001b[0;34m(\u001b[0m\u001b[0ma\u001b[0m\u001b[0;34m,\u001b[0m\u001b[0mb\u001b[0m\u001b[0;34m)\u001b[0m\u001b[0;34m\u001b[0m\u001b[0m\n",
      "\u001b[0;31mNameError\u001b[0m: name 'c' is not defined"
     ]
    }
   ],
   "source": [
    "p=2000\n",
    "def fun(a,b):\n",
    "    print \"p=\",p\n",
    "    c=a+b\n",
    "fun(10,20)\n",
    "print \"p after function call:\",p\n",
    "print c\n",
    "print \"a=%s, b=%s\"%(a,b)\n"
   ]
  },
  {
   "cell_type": "code",
   "execution_count": 5,
   "metadata": {},
   "outputs": [
    {
     "name": "stdout",
     "output_type": "stream",
     "text": [
      "a=10, b=20\n",
      "p= 2000\n",
      "c=30\n",
      "p after function call: 2000\n"
     ]
    },
    {
     "ename": "NameError",
     "evalue": "name 'c' is not defined",
     "output_type": "error",
     "traceback": [
      "\u001b[0;31m---------------------------------------------------------------------------\u001b[0m",
      "\u001b[0;31mNameError\u001b[0m                                 Traceback (most recent call last)",
      "\u001b[0;32m<ipython-input-5-4c17472fc834>\u001b[0m in \u001b[0;36m<module>\u001b[0;34m()\u001b[0m\n\u001b[1;32m      7\u001b[0m \u001b[0mfun\u001b[0m\u001b[0;34m(\u001b[0m\u001b[0;36m10\u001b[0m\u001b[0;34m,\u001b[0m\u001b[0;36m20\u001b[0m\u001b[0;34m)\u001b[0m\u001b[0;34m\u001b[0m\u001b[0m\n\u001b[1;32m      8\u001b[0m \u001b[0;32mprint\u001b[0m \u001b[0;34m\"p after function call:\"\u001b[0m\u001b[0;34m,\u001b[0m\u001b[0mp\u001b[0m\u001b[0;34m\u001b[0m\u001b[0m\n\u001b[0;32m----> 9\u001b[0;31m \u001b[0;32mprint\u001b[0m \u001b[0mc\u001b[0m\u001b[0;34m\u001b[0m\u001b[0m\n\u001b[0m\u001b[1;32m     10\u001b[0m \u001b[0;32mprint\u001b[0m \u001b[0;34m\"a=%s, b=%s\"\u001b[0m\u001b[0;34m%\u001b[0m\u001b[0;34m(\u001b[0m\u001b[0ma\u001b[0m\u001b[0;34m,\u001b[0m\u001b[0mb\u001b[0m\u001b[0;34m)\u001b[0m\u001b[0;34m\u001b[0m\u001b[0m\n",
      "\u001b[0;31mNameError\u001b[0m: name 'c' is not defined"
     ]
    }
   ],
   "source": [
    "p=2000\n",
    "def fun(a,b):\n",
    "    print \"a=%s, b=%s\"%(a,b)\n",
    "    print \"p=\",p\n",
    "    c=a+b\n",
    "    print \"c=%s\"%c\n",
    "fun(10,20)\n",
    "print \"p after function call:\",p\n",
    "print c\n",
    "print \"a=%s, b=%s\"%(a,b)\n"
   ]
  },
  {
   "cell_type": "code",
   "execution_count": 6,
   "metadata": {
    "collapsed": true
   },
   "outputs": [],
   "source": [
    "a=1000"
   ]
  },
  {
   "cell_type": "code",
   "execution_count": 7,
   "metadata": {},
   "outputs": [
    {
     "name": "stdout",
     "output_type": "stream",
     "text": [
      "before fun def: a=1000, b=2000, c=3000\n",
      "inside fun: a=10, b=20, c=30\n",
      "p=3000\n",
      "after fun call a=1000, b=2000, c=3000\n"
     ]
    }
   ],
   "source": [
    "a=1000\n",
    "b=2000\n",
    "c=a+b\n",
    "print \"before fun def: a=%s, b=%s, c=%s\"%(a,b,c)\n",
    "p=3000\n",
    "def fun(a,b):\n",
    "    c=a+b\n",
    "    print \"inside fun: a=%s, b=%s, c=%s\"%(a,b,c)\n",
    "    print \"p=%s\"%p\n",
    "fun(10,20)\n",
    "print \"after fun call a=%s, b=%s, c=%s\"%(a,b,c) "
   ]
  },
  {
   "cell_type": "code",
   "execution_count": 8,
   "metadata": {},
   "outputs": [
    {
     "name": "stdout",
     "output_type": "stream",
     "text": [
      "fun1= <function fun1 at 0x7f1aa084b9b0>\n"
     ]
    }
   ],
   "source": [
    "def fun1():\n",
    "    print \"this is fun1\"\n",
    "print \"fun1=\",fun1"
   ]
  },
  {
   "cell_type": "code",
   "execution_count": 9,
   "metadata": {},
   "outputs": [
    {
     "name": "stdout",
     "output_type": "stream",
     "text": [
      "<function fun1 at 0x7f1aa084b938>\n",
      "<type 'function'>\n"
     ]
    }
   ],
   "source": [
    "def fun1():\n",
    "    print \"this is fun1\"\n",
    "print fun1\n",
    "print type(fun1)"
   ]
  },
  {
   "cell_type": "code",
   "execution_count": 10,
   "metadata": {},
   "outputs": [
    {
     "name": "stdout",
     "output_type": "stream",
     "text": [
      "<function fun1 at 0x7f1aa084b7d0>\n",
      "<type 'function'>\n",
      "139752338929616\n"
     ]
    }
   ],
   "source": [
    "def fun1():\n",
    "    print \"this is fun1\"\n",
    "print fun1\n",
    "print type(fun1)\n",
    "print id(fun1)"
   ]
  },
  {
   "cell_type": "code",
   "execution_count": 11,
   "metadata": {},
   "outputs": [
    {
     "name": "stdout",
     "output_type": "stream",
     "text": [
      "f= <function fun1 at 0x7f1aa084b848>\n"
     ]
    }
   ],
   "source": [
    "def fun1():\n",
    "    print \"this is fun1\"\n",
    "f=fun1\n",
    "print \"f=\",f"
   ]
  },
  {
   "cell_type": "code",
   "execution_count": 12,
   "metadata": {},
   "outputs": [
    {
     "name": "stdout",
     "output_type": "stream",
     "text": [
      "this is fun1\n"
     ]
    }
   ],
   "source": [
    "def fun1():\n",
    "    print \"this is fun1\"\n",
    "fun1()"
   ]
  },
  {
   "cell_type": "code",
   "execution_count": 13,
   "metadata": {},
   "outputs": [
    {
     "name": "stdout",
     "output_type": "stream",
     "text": [
      "this is fun1\n"
     ]
    }
   ],
   "source": [
    "def fun1():\n",
    "    print \"this is fun1\"\n",
    "f=fun1\n",
    "f()"
   ]
  },
  {
   "cell_type": "code",
   "execution_count": 14,
   "metadata": {},
   "outputs": [
    {
     "name": "stdout",
     "output_type": "stream",
     "text": [
      "program started\n",
      "this is fun1\n",
      "res= None\n",
      "thank you!!\n"
     ]
    }
   ],
   "source": [
    "print \"program started\"\n",
    "def fun1(a,b):\n",
    "    print \"this is fun1\"\n",
    "    c=a+b\n",
    "res=fun1(10,20)\n",
    "print \"res=\",res\n",
    "print \"thank you!!\""
   ]
  },
  {
   "cell_type": "code",
   "execution_count": 15,
   "metadata": {},
   "outputs": [
    {
     "name": "stdout",
     "output_type": "stream",
     "text": [
      "program started\n",
      "this is fun1\n",
      "res= None\n",
      "thank you!!\n"
     ]
    }
   ],
   "source": [
    "print \"program started\"\n",
    "def fun1(a,b):\n",
    "    print \"this is fun1\"\n",
    "    c=a+b\n",
    "    d=a-b\n",
    "    e=a*b\n",
    "    f=a/b\n",
    "    \n",
    "res=fun1(10,20)\n",
    "print \"res=\",res\n",
    "print \"thank you!!\""
   ]
  },
  {
   "cell_type": "code",
   "execution_count": 16,
   "metadata": {},
   "outputs": [
    {
     "name": "stdout",
     "output_type": "stream",
     "text": [
      "program started\n",
      "this is fun1\n",
      "res= dummy_value\n",
      "thank you!!\n"
     ]
    }
   ],
   "source": [
    "print \"program started\"\n",
    "def fun1(a,b):\n",
    "    print \"this is fun1\"\n",
    "    c=a+b\n",
    "    d=a-b\n",
    "    e=a*b\n",
    "    f=a/b\n",
    "    return \"dummy_value\"\n",
    "res=fun1(10,20)\n",
    "print \"res=\",res\n",
    "print \"thank you!!\""
   ]
  },
  {
   "cell_type": "code",
   "execution_count": 17,
   "metadata": {},
   "outputs": [
    {
     "name": "stdout",
     "output_type": "stream",
     "text": [
      "program started\n",
      "this is fun1\n",
      "res= 30\n",
      "thank you!!\n"
     ]
    }
   ],
   "source": [
    "print \"program started\"\n",
    "def fun1(a,b):\n",
    "    print \"this is fun1\"\n",
    "    c=a+b\n",
    "    d=a-b\n",
    "    e=a*b\n",
    "    f=a/b\n",
    "    return c\n",
    "res=fun1(10,20)\n",
    "print \"res=\",res\n",
    "print \"thank you!!\""
   ]
  },
  {
   "cell_type": "code",
   "execution_count": 18,
   "metadata": {},
   "outputs": [
    {
     "name": "stdout",
     "output_type": "stream",
     "text": [
      "program started\n",
      "this is fun1\n",
      "res= -10\n",
      "thank you!!\n"
     ]
    }
   ],
   "source": [
    "print \"program started\"\n",
    "def fun1(a,b):\n",
    "    print \"this is fun1\"\n",
    "    c=a+b\n",
    "    d=a-b\n",
    "    e=a*b\n",
    "    f=a/b\n",
    "    return d\n",
    "res=fun1(10,20)\n",
    "print \"res=\",res\n",
    "print \"thank you!!\""
   ]
  },
  {
   "cell_type": "code",
   "execution_count": 19,
   "metadata": {},
   "outputs": [
    {
     "name": "stdout",
     "output_type": "stream",
     "text": [
      "program started\n",
      "this is fun1\n",
      "res= 30\n",
      "thank you!!\n"
     ]
    }
   ],
   "source": [
    "print \"program started\"\n",
    "def fun1(a,b):\n",
    "    print \"this is fun1\"\n",
    "    c=a+b\n",
    "    d=a-b\n",
    "    e=a*b\n",
    "    f=a/ba\n",
    "    return c\n",
    "    print \"after returning c\" \n",
    "    return d\n",
    "res=fun1(10,20)\n",
    "print \"res=\",res\n",
    "print \"thank you!!\""
   ]
  },
  {
   "cell_type": "code",
   "execution_count": 21,
   "metadata": {},
   "outputs": [
    {
     "name": "stdout",
     "output_type": "stream",
     "text": [
      "program started\n",
      "this is fun1\n",
      "res= (30, -10)\n",
      "thank you!!\n"
     ]
    }
   ],
   "source": [
    "print \"program started\"\n",
    "def fun1(a,b):\n",
    "    print \"this is fun1\"\n",
    "    c=a+b\n",
    "    d=a-b\n",
    "    e=a*b\n",
    "    f=a/b\n",
    "    return c,d\n",
    "res=fun1(10,20)\n",
    "print \"res=\",res\n",
    "print \"thank you!!\""
   ]
  },
  {
   "cell_type": "code",
   "execution_count": 22,
   "metadata": {},
   "outputs": [
    {
     "name": "stdout",
     "output_type": "stream",
     "text": [
      "program started\n",
      "this is fun1\n",
      "res= (30, -10, 200, 0)\n",
      "thank you!!\n"
     ]
    }
   ],
   "source": [
    "print \"program started\"\n",
    "def fun1(a,b):\n",
    "    print \"this is fun1\"\n",
    "    c=a+b\n",
    "    d=a-b\n",
    "    e=a*b\n",
    "    f=a/b\n",
    "    return c,d,e,f\n",
    "res=fun1(10,20)\n",
    "print \"res=\",res\n",
    "print \"thank you!!\""
   ]
  },
  {
   "cell_type": "code",
   "execution_count": 23,
   "metadata": {},
   "outputs": [
    {
     "name": "stdout",
     "output_type": "stream",
     "text": [
      "program started\n",
      "res= this is fun1\n",
      "thank you!!\n"
     ]
    }
   ],
   "source": [
    "print \"program started\"\n",
    "def fun1(a,b):\n",
    "    c=a+b\n",
    "    d=a-b\n",
    "    e=a*b\n",
    "    f=a/b\n",
    "    return \"this is fun1\"\n",
    "res=fun1(10,20)\n",
    "print \"res=\",res\n",
    "print \"thank you!!\""
   ]
  },
  {
   "cell_type": "code",
   "execution_count": 24,
   "metadata": {},
   "outputs": [
    {
     "name": "stdout",
     "output_type": "stream",
     "text": [
      "program started\n",
      "this is fun1\n",
      "res= None\n",
      "thank you!!\n"
     ]
    }
   ],
   "source": [
    "print \"program started\"\n",
    "def fun1(a,b):\n",
    "    c=a+b\n",
    "    d=a-b\n",
    "    e=a*b\n",
    "    f=a/b\n",
    "    print \"this is fun1\"\n",
    "res=fun1(10,20)\n",
    "print \"res=\",res\n",
    "print \"thank you!!\""
   ]
  },
  {
   "cell_type": "code",
   "execution_count": null,
   "metadata": {
    "collapsed": true
   },
   "outputs": [],
   "source": []
  }
 ],
 "metadata": {
  "kernelspec": {
   "display_name": "Python 2",
   "language": "python",
   "name": "python2"
  },
  "language_info": {
   "codemirror_mode": {
    "name": "ipython",
    "version": 2
   },
   "file_extension": ".py",
   "mimetype": "text/x-python",
   "name": "python",
   "nbconvert_exporter": "python",
   "pygments_lexer": "ipython2",
   "version": "2.7.14"
  }
 },
 "nbformat": 4,
 "nbformat_minor": 2
}
