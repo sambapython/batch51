{
 "cells": [
  {
   "cell_type": "code",
   "execution_count": 1,
   "metadata": {},
   "outputs": [
    {
     "name": "stdout",
     "output_type": "stream",
     "text": [
      "Enter number:10\n",
      "1\n",
      "2\n",
      "3\n",
      "4\n",
      "5\n",
      "6\n",
      "7\n",
      "8\n",
      "9\n",
      "10\n"
     ]
    }
   ],
   "source": [
    "n=int(raw_input(\"Enter number:\"))\n",
    "for i in range(1,n+1):\n",
    "    print i"
   ]
  },
  {
   "cell_type": "code",
   "execution_count": 2,
   "metadata": {},
   "outputs": [
    {
     "name": "stdout",
     "output_type": "stream",
     "text": [
      "Enter number:25\n",
      "3\n"
     ]
    }
   ],
   "source": [
    "n=int(raw_input(\"Enter number:\"))\n",
    "fact_count=0\n",
    "for i in range(1,n+1):\n",
    "    if n%i==0:\n",
    "        fact_count = fact_count+1\n",
    "print fact_count"
   ]
  },
  {
   "cell_type": "code",
   "execution_count": 3,
   "metadata": {},
   "outputs": [
    {
     "name": "stdout",
     "output_type": "stream",
     "text": [
      "Enter number:13\n",
      "2\n"
     ]
    }
   ],
   "source": [
    "n=int(raw_input(\"Enter number:\"))\n",
    "fact_count=0\n",
    "for i in range(1,n+1):\n",
    "    if n%i==0:\n",
    "        fact_count = fact_count+1\n",
    "print fact_count"
   ]
  },
  {
   "cell_type": "code",
   "execution_count": 4,
   "metadata": {},
   "outputs": [
    {
     "name": "stdout",
     "output_type": "stream",
     "text": [
      "Enter number:12\n",
      "it's NOT a prime number\n"
     ]
    }
   ],
   "source": [
    "n=int(raw_input(\"Enter number:\"))\n",
    "fact_count=0\n",
    "for i in range(1,n+1):\n",
    "    if n%i==0:\n",
    "        fact_count = fact_count+1\n",
    "if fact_count==2:\n",
    "    print \"it's a prime number\"\n",
    "else:\n",
    "    print \"it's NOT a prime number\""
   ]
  },
  {
   "cell_type": "code",
   "execution_count": 5,
   "metadata": {},
   "outputs": [
    {
     "name": "stdout",
     "output_type": "stream",
     "text": [
      "Enter number:35\n",
      "it's NOT a prime number\n"
     ]
    }
   ],
   "source": [
    "n=int(raw_input(\"Enter number:\"))\n",
    "fact_count=0\n",
    "for i in range(1,n+1):\n",
    "    if n%i==0:\n",
    "        fact_count = fact_count+1\n",
    "if fact_count==2:\n",
    "    print \"it's a prime number\"\n",
    "else:\n",
    "    print \"it's NOT a prime number\""
   ]
  },
  {
   "cell_type": "code",
   "execution_count": 6,
   "metadata": {},
   "outputs": [
    {
     "name": "stdout",
     "output_type": "stream",
     "text": [
      "Enter number:13\n",
      "it's a prime number\n"
     ]
    }
   ],
   "source": [
    "n=int(raw_input(\"Enter number:\"))\n",
    "fact_count=0\n",
    "for i in range(1,n+1):\n",
    "    if n%i==0:\n",
    "        fact_count = fact_count+1\n",
    "if fact_count==2:\n",
    "    print \"it's a prime number\"\n",
    "else:\n",
    "    print \"it's NOT a prime number\""
   ]
  },
  {
   "cell_type": "code",
   "execution_count": 7,
   "metadata": {},
   "outputs": [
    {
     "name": "stdout",
     "output_type": "stream",
     "text": [
      "Enter number:25\n",
      "1\n",
      "2\n",
      "3\n",
      "4\n",
      "5\n",
      "6\n",
      "7\n",
      "8\n",
      "9\n",
      "10\n",
      "11\n",
      "12\n",
      "13\n",
      "14\n",
      "15\n",
      "16\n",
      "17\n",
      "18\n",
      "19\n",
      "20\n",
      "21\n",
      "22\n",
      "23\n",
      "24\n",
      "25\n",
      "it's NOT a prime number\n"
     ]
    }
   ],
   "source": [
    "n=int(raw_input(\"Enter number:\"))\n",
    "fact_count=0\n",
    "for i in range(1,n+1):\n",
    "    print i\n",
    "    if n%i==0:\n",
    "        fact_count = fact_count+1\n",
    "if fact_count==2:\n",
    "    print \"it's a prime number\"\n",
    "else:\n",
    "    print \"it's NOT a prime number\""
   ]
  },
  {
   "cell_type": "code",
   "execution_count": 8,
   "metadata": {},
   "outputs": [
    {
     "name": "stdout",
     "output_type": "stream",
     "text": [
      "Enter number:12\n",
      "2\n",
      "it's NOT a prime number\n"
     ]
    }
   ],
   "source": [
    "n=int(raw_input(\"Enter number:\"))\n",
    "fact_count=0\n",
    "for i in range(2,n):\n",
    "    print i\n",
    "    if n%i==0:\n",
    "        fact_count = fact_count+1\n",
    "        break\n",
    "if fact_count==0:\n",
    "    print \"it's a prime number\"\n",
    "else:\n",
    "    print \"it's NOT a prime number\""
   ]
  },
  {
   "cell_type": "code",
   "execution_count": 9,
   "metadata": {},
   "outputs": [
    {
     "name": "stdout",
     "output_type": "stream",
     "text": [
      "Enter number:13\n",
      "2\n",
      "3\n",
      "4\n",
      "5\n",
      "6\n",
      "7\n",
      "8\n",
      "9\n",
      "10\n",
      "11\n",
      "12\n",
      "it's a prime number\n"
     ]
    }
   ],
   "source": [
    "n=int(raw_input(\"Enter number:\"))\n",
    "fact_count=0\n",
    "for i in range(2,n):\n",
    "    print i\n",
    "    if n%i==0:\n",
    "        fact_count = fact_count+1\n",
    "        break\n",
    "if fact_count==0:\n",
    "    print \"it's a prime number\"\n",
    "else:\n",
    "    print \"it's NOT a prime number\""
   ]
  },
  {
   "cell_type": "code",
   "execution_count": 10,
   "metadata": {},
   "outputs": [
    {
     "name": "stdout",
     "output_type": "stream",
     "text": [
      "Enter number:13\n",
      "2\n",
      "3\n",
      "4\n",
      "5\n",
      "it's a prime number\n"
     ]
    }
   ],
   "source": [
    "n=int(raw_input(\"Enter number:\"))\n",
    "fact_count=0\n",
    "for i in range(2,n/2):\n",
    "    print i\n",
    "    if n%i==0:\n",
    "        fact_count = fact_count+1\n",
    "        break\n",
    "if fact_count==0:\n",
    "    print \"it's a prime number\"\n",
    "else:\n",
    "    print \"it's NOT a prime number\""
   ]
  },
  {
   "cell_type": "code",
   "execution_count": 11,
   "metadata": {},
   "outputs": [
    {
     "name": "stdout",
     "output_type": "stream",
     "text": [
      "Enter number:2\n",
      "it's a prime number\n"
     ]
    }
   ],
   "source": [
    "n=int(raw_input(\"Enter number:\"))\n",
    "fact_count=0\n",
    "for i in range(2,n/2):\n",
    "    print i\n",
    "    if n%i==0:\n",
    "        fact_count = fact_count+1\n",
    "        break\n",
    "if fact_count==0:\n",
    "    print \"it's a prime number\"\n",
    "else:\n",
    "    print \"it's NOT a prime number\""
   ]
  },
  {
   "cell_type": "code",
   "execution_count": 12,
   "metadata": {},
   "outputs": [
    {
     "name": "stdout",
     "output_type": "stream",
     "text": [
      "Enter number:1\n",
      "it's a prime number\n"
     ]
    }
   ],
   "source": [
    "n=int(raw_input(\"Enter number:\"))\n",
    "fact_count=0\n",
    "for i in range(2,n/2):\n",
    "    print i\n",
    "    if n%i==0:\n",
    "        fact_count = fact_count+1\n",
    "        break\n",
    "if fact_count==0:\n",
    "    print \"it's a prime number\"\n",
    "else:\n",
    "    print \"it's NOT a prime number\""
   ]
  },
  {
   "cell_type": "code",
   "execution_count": 13,
   "metadata": {},
   "outputs": [
    {
     "name": "stdout",
     "output_type": "stream",
     "text": [
      "0\n",
      "1\n",
      "2\n",
      "3\n",
      "4\n",
      "5\n",
      "6\n",
      "7\n",
      "8\n",
      "9\n",
      "this is else\n"
     ]
    }
   ],
   "source": [
    "for i in range(10):\n",
    "    print i\n",
    "else:\n",
    "    print \"this is else\""
   ]
  },
  {
   "cell_type": "code",
   "execution_count": 14,
   "metadata": {},
   "outputs": [
    {
     "name": "stdout",
     "output_type": "stream",
     "text": [
      "0\n",
      "1\n",
      "2\n",
      "3\n",
      "4\n",
      "5\n",
      "6\n",
      "7\n",
      "8\n",
      "9\n",
      "this is else\n"
     ]
    }
   ],
   "source": [
    "for i in [0,1,2,3,4,5,6,7,8,9]:\n",
    "    print i\n",
    "    if i==12:\n",
    "        break\n",
    "else:\n",
    "    print \"this is else\""
   ]
  },
  {
   "cell_type": "code",
   "execution_count": 15,
   "metadata": {},
   "outputs": [
    {
     "name": "stdout",
     "output_type": "stream",
     "text": [
      "0\n",
      "1\n",
      "2\n",
      "3\n",
      "4\n",
      "5\n",
      "6\n",
      "7\n",
      "8\n",
      "9\n"
     ]
    }
   ],
   "source": [
    "for i in [0,1,2,3,4,5,6,7,8,9]:\n",
    "    print i\n",
    "    if i==9:\n",
    "        break\n",
    "else:\n",
    "    print \"this is else\""
   ]
  },
  {
   "cell_type": "code",
   "execution_count": 16,
   "metadata": {},
   "outputs": [
    {
     "name": "stdout",
     "output_type": "stream",
     "text": [
      "0\n",
      "1\n",
      "2\n",
      "3\n",
      "4\n",
      "5\n"
     ]
    }
   ],
   "source": [
    "for i in [0,1,2,3,4,5,6,7,8,9]:\n",
    "    print i\n",
    "    if i==5:\n",
    "        break\n",
    "else:\n",
    "    print \"this is else\""
   ]
  },
  {
   "cell_type": "code",
   "execution_count": 17,
   "metadata": {},
   "outputs": [
    {
     "name": "stdout",
     "output_type": "stream",
     "text": [
      "Enter number:12\n",
      "2\n",
      "it's not a prime number\n"
     ]
    }
   ],
   "source": [
    "n=int(raw_input(\"Enter number:\"))\n",
    "for i in range(2,n/2):\n",
    "    print i\n",
    "    if n%i==0:\n",
    "        print \"it's not a prime number\"\n",
    "        break\n",
    "else:\n",
    "    print \"not a prime\""
   ]
  },
  {
   "cell_type": "code",
   "execution_count": 19,
   "metadata": {},
   "outputs": [
    {
     "name": "stdout",
     "output_type": "stream",
     "text": [
      "Enter number:13\n",
      "2\n",
      "3\n",
      "4\n",
      "5\n",
      "it's a prime\n"
     ]
    }
   ],
   "source": [
    "n=int(raw_input(\"Enter number:\"))\n",
    "for i in range(2,n/2):\n",
    "    print i\n",
    "    if n%i==0:\n",
    "        print \"it's not a prime number\"\n",
    "        break\n",
    "else:\n",
    "    print \"it's a prime\""
   ]
  },
  {
   "cell_type": "code",
   "execution_count": null,
   "metadata": {
    "collapsed": true
   },
   "outputs": [],
   "source": [
    "# [10,20,30,40,50,60,70]\n",
    "# 12\n",
    "\"\"\"\n",
    "10==12\n",
    "20==12\n",
    "30==12\n",
    "40==12\n",
    "50==12\n",
    "60==12\n",
    "70==12\n",
    "element not found.\n",
    "# 20\n",
    "10==20\n",
    "20==20: element found\n",
    "\n",
    "\"\"\""
   ]
  },
  {
   "cell_type": "code",
   "execution_count": null,
   "metadata": {
    "collapsed": true
   },
   "outputs": [],
   "source": [
    "n = raw_input(\"enter number:\")\n",
    "n = int(n)\n",
    "i=2\n",
    "while i<=n:\n",
    "    if n==2 :\n",
    "        print 'prime'\n",
    "        break\n",
    "    elif n%i ==0:\n",
    "        print i\n",
    "        print 'not prime'\n",
    "        break\n",
    "    else:\n",
    "        i+=1\n",
    "        if i == n-1:\n",
    "            print 'prime'\n",
    "            break"
   ]
  },
  {
   "cell_type": "code",
   "execution_count": 20,
   "metadata": {},
   "outputs": [
    {
     "name": "stdout",
     "output_type": "stream",
     "text": [
      "10\n",
      "20\n",
      "30\n",
      "40\n",
      "50\n",
      "60\n",
      "70\n"
     ]
    }
   ],
   "source": [
    "# [10,20,30,40,50,60,70]\n",
    "for i in [10,20,30,40,50,60,70]:\n",
    "    print i"
   ]
  },
  {
   "cell_type": "code",
   "execution_count": 21,
   "metadata": {},
   "outputs": [
    {
     "name": "stdout",
     "output_type": "stream",
     "text": [
      "Enter a numner:12\n",
      "10==12\n",
      "20==12\n",
      "30==12\n",
      "40==12\n",
      "50==12\n",
      "60==12\n",
      "70==12\n"
     ]
    }
   ],
   "source": [
    "# [10,20,30,40,50,60,70]\n",
    "n=int(raw_input(\"Enter a numner:\"))\n",
    "for i in [10,20,30,40,50,60,70]:\n",
    "    print \"%s==%s\"%(i,n)"
   ]
  },
  {
   "cell_type": "code",
   "execution_count": 22,
   "metadata": {},
   "outputs": [
    {
     "name": "stdout",
     "output_type": "stream",
     "text": [
      "Enter a numner:12\n",
      "10==12\n",
      "20==12\n",
      "30==12\n",
      "40==12\n",
      "50==12\n",
      "60==12\n",
      "70==12\n",
      "element not found\n"
     ]
    }
   ],
   "source": [
    "# [10,20,30,40,50,60,70]\n",
    "n=int(raw_input(\"Enter a numner:\"))\n",
    "for i in [10,20,30,40,50,60,70]:\n",
    "    print \"%s==%s\"%(i,n)\n",
    "    if i==n:\n",
    "        print \"element found\"\n",
    "        break\n",
    "else:\n",
    "    print \"element not found\""
   ]
  },
  {
   "cell_type": "code",
   "execution_count": 23,
   "metadata": {},
   "outputs": [
    {
     "name": "stdout",
     "output_type": "stream",
     "text": [
      "Enter a numner:20\n",
      "10==20\n",
      "20==20\n",
      "element found\n"
     ]
    }
   ],
   "source": [
    "# [10,20,30,40,50,60,70]\n",
    "n=int(raw_input(\"Enter a numner:\"))\n",
    "for i in [10,20,30,40,50,60,70]:\n",
    "    print \"%s==%s\"%(i,n)\n",
    "    if i==n:\n",
    "        print \"element found\"\n",
    "        break\n",
    "else:\n",
    "    print \"element not found\""
   ]
  },
  {
   "cell_type": "code",
   "execution_count": 24,
   "metadata": {},
   "outputs": [
    {
     "name": "stdout",
     "output_type": "stream",
     "text": [
      "Enter a numner:apple\n"
     ]
    },
    {
     "ename": "ValueError",
     "evalue": "invalid literal for int() with base 10: 'apple'",
     "output_type": "error",
     "traceback": [
      "\u001b[0;31m---------------------------------------------------------------------------\u001b[0m",
      "\u001b[0;31mValueError\u001b[0m                                Traceback (most recent call last)",
      "\u001b[0;32m<ipython-input-24-1642e90c713d>\u001b[0m in \u001b[0;36m<module>\u001b[0;34m()\u001b[0m\n\u001b[1;32m      1\u001b[0m \u001b[0;31m# [10,20,30,40,50,60,70]\u001b[0m\u001b[0;34m\u001b[0m\u001b[0;34m\u001b[0m\u001b[0m\n\u001b[0;32m----> 2\u001b[0;31m \u001b[0mn\u001b[0m\u001b[0;34m=\u001b[0m\u001b[0mint\u001b[0m\u001b[0;34m(\u001b[0m\u001b[0mraw_input\u001b[0m\u001b[0;34m(\u001b[0m\u001b[0;34m\"Enter a numner:\"\u001b[0m\u001b[0;34m)\u001b[0m\u001b[0;34m)\u001b[0m\u001b[0;34m\u001b[0m\u001b[0m\n\u001b[0m\u001b[1;32m      3\u001b[0m \u001b[0;32mfor\u001b[0m \u001b[0mi\u001b[0m \u001b[0;32min\u001b[0m \u001b[0;34m[\u001b[0m\u001b[0;34m\"apple\"\u001b[0m\u001b[0;34m,\u001b[0m\u001b[0;34m\"orange\"\u001b[0m\u001b[0;34m,\u001b[0m\u001b[0;34m\"banana\"\u001b[0m\u001b[0;34m,\u001b[0m\u001b[0;34m\"\"\u001b[0m\u001b[0;34m]\u001b[0m\u001b[0;34m:\u001b[0m\u001b[0;34m\u001b[0m\u001b[0m\n\u001b[1;32m      4\u001b[0m     \u001b[0;32mprint\u001b[0m \u001b[0;34m\"%s==%s\"\u001b[0m\u001b[0;34m%\u001b[0m\u001b[0;34m(\u001b[0m\u001b[0mi\u001b[0m\u001b[0;34m,\u001b[0m\u001b[0mn\u001b[0m\u001b[0;34m)\u001b[0m\u001b[0;34m\u001b[0m\u001b[0m\n\u001b[1;32m      5\u001b[0m     \u001b[0;32mif\u001b[0m \u001b[0mi\u001b[0m\u001b[0;34m==\u001b[0m\u001b[0mn\u001b[0m\u001b[0;34m:\u001b[0m\u001b[0;34m\u001b[0m\u001b[0m\n",
      "\u001b[0;31mValueError\u001b[0m: invalid literal for int() with base 10: 'apple'"
     ]
    }
   ],
   "source": [
    "# [10,20,30,40,50,60,70]\n",
    "n=int(raw_input(\"Enter a numner:\"))\n",
    "for i in [\"apple\",\"orange\",\"banana\",\"\"]:\n",
    "    print \"%s==%s\"%(i,n)\n",
    "    if i==n:\n",
    "        print \"element found\"\n",
    "        break\n",
    "else:\n",
    "    print \"element not found\""
   ]
  },
  {
   "cell_type": "code",
   "execution_count": 25,
   "metadata": {},
   "outputs": [
    {
     "name": "stdout",
     "output_type": "stream",
     "text": [
      "Enter a numner:mango\n",
      "apple==mango\n",
      "orange==mango\n",
      "banana==mango\n",
      "mango==mango\n",
      "element found\n"
     ]
    }
   ],
   "source": [
    "# [10,20,30,40,50,60,70]\n",
    "n=raw_input(\"Enter a numner:\")\n",
    "for i in [\"apple\",\"orange\",\"banana\",\"mango\"]:\n",
    "    print \"%s==%s\"%(i,n)\n",
    "    if i==n:\n",
    "        print \"element found\"\n",
    "        break\n",
    "else:\n",
    "    print \"element not found\""
   ]
  },
  {
   "cell_type": "code",
   "execution_count": null,
   "metadata": {
    "collapsed": true
   },
   "outputs": [],
   "source": [
    "# [10,20,30,40,50,60,70]\n",
    "n=raw_input(\"Enter a numner:\")\n",
    "for i in [\"apple\",\"orange\",\"banana\",\"mango\"]:\n",
    "    print \"%s==%s\"%(i,n)\n",
    "    if i==n:\n",
    "        print \"element found\"\n",
    "        break\n",
    "else:\n",
    "    print \"element not found\""
   ]
  },
  {
   "cell_type": "code",
   "execution_count": 26,
   "metadata": {},
   "outputs": [
    {
     "data": {
      "text/plain": [
       "True"
      ]
     },
     "execution_count": 26,
     "metadata": {},
     "output_type": "execute_result"
    }
   ],
   "source": [
    "\"apple\" in [\"apple\",\"orange\",\"banana\",\"mango\"]"
   ]
  },
  {
   "cell_type": "code",
   "execution_count": 27,
   "metadata": {},
   "outputs": [
    {
     "data": {
      "text/plain": [
       "False"
      ]
     },
     "execution_count": 27,
     "metadata": {},
     "output_type": "execute_result"
    }
   ],
   "source": [
    "\"gua\" in [\"apple\",\"orange\",\"banana\",\"mango\"]"
   ]
  },
  {
   "cell_type": "code",
   "execution_count": 28,
   "metadata": {},
   "outputs": [
    {
     "name": "stdout",
     "output_type": "stream",
     "text": [
      "enter number:13\n",
      "prime\n"
     ]
    }
   ],
   "source": [
    "n = raw_input(\"enter number:\")\n",
    "n = int(n)\n",
    "i=2\n",
    "if n==2:\n",
    "        print 'prime'\n",
    "else:\n",
    "    while i<=n:\n",
    "        if n%i ==0:\n",
    "            print i\n",
    "            print 'not prime'\n",
    "            break\n",
    "        else:\n",
    "            i+=1\n",
    "            if i == n-1:\n",
    "                print 'prime'\n",
    "                break"
   ]
  },
  {
   "cell_type": "code",
   "execution_count": 29,
   "metadata": {},
   "outputs": [
    {
     "name": "stdout",
     "output_type": "stream",
     "text": [
      "enter number:12\n",
      "2\n",
      "not prime\n"
     ]
    }
   ],
   "source": [
    "n = raw_input(\"enter number:\")\n",
    "n = int(n)\n",
    "i=2\n",
    "if n==2:\n",
    "        print 'prime'\n",
    "else:\n",
    "    while i<=n:\n",
    "        if n%i ==0:\n",
    "            print i\n",
    "            print 'not prime'\n",
    "            break\n",
    "        else:\n",
    "            i+=1\n",
    "            if i == n-1:\n",
    "                print 'prime'\n",
    "                break"
   ]
  },
  {
   "cell_type": "code",
   "execution_count": 30,
   "metadata": {},
   "outputs": [
    {
     "name": "stdout",
     "output_type": "stream",
     "text": [
      "enter number:25\n",
      "5\n",
      "not prime\n"
     ]
    }
   ],
   "source": [
    "n = raw_input(\"enter number:\")\n",
    "n = int(n)\n",
    "i=2\n",
    "if n==2:\n",
    "        print 'prime'\n",
    "else:\n",
    "    while i<=n:\n",
    "        if n%i ==0:\n",
    "            print i\n",
    "            print 'not prime'\n",
    "            break\n",
    "        else:\n",
    "            i+=1\n",
    "            if i == n-1:\n",
    "                print 'prime'\n",
    "                break"
   ]
  },
  {
   "cell_type": "code",
   "execution_count": 31,
   "metadata": {},
   "outputs": [
    {
     "name": "stdout",
     "output_type": "stream",
     "text": [
      "enter number:1\n"
     ]
    }
   ],
   "source": [
    "n = raw_input(\"enter number:\")\n",
    "n = int(n)\n",
    "i=2\n",
    "if n==2:\n",
    "        print 'prime'\n",
    "else:\n",
    "    while i<=n:\n",
    "        if n%i ==0:\n",
    "            print i\n",
    "            print 'not prime'\n",
    "            break\n",
    "        else:\n",
    "            i+=1\n",
    "            if i == n-1:\n",
    "                print 'prime'\n",
    "                break"
   ]
  },
  {
   "cell_type": "code",
   "execution_count": 32,
   "metadata": {},
   "outputs": [
    {
     "name": "stdout",
     "output_type": "stream",
     "text": [
      "Enter number:1\n",
      "it's a prime\n"
     ]
    }
   ],
   "source": [
    "n=int(raw_input(\"Enter number:\"))\n",
    "for i in range(2,n/2):\n",
    "    print i\n",
    "    if n%i==0:\n",
    "        print \"it's not a prime number\"\n",
    "        break\n",
    "else:\n",
    "    print \"it's a prime\""
   ]
  },
  {
   "cell_type": "code",
   "execution_count": 33,
   "metadata": {},
   "outputs": [
    {
     "name": "stdout",
     "output_type": "stream",
     "text": [
      "Enter number:2\n",
      "it's a prime\n"
     ]
    }
   ],
   "source": [
    "n=int(raw_input(\"Enter number:\"))\n",
    "for i in range(2,n/2):\n",
    "    print i\n",
    "    if n%i==0:\n",
    "        print \"it's not a prime number\"\n",
    "        break\n",
    "else:\n",
    "    print \"it's a prime\""
   ]
  },
  {
   "cell_type": "code",
   "execution_count": 34,
   "metadata": {},
   "outputs": [
    {
     "name": "stdout",
     "output_type": "stream",
     "text": [
      "Enter number:-12\n",
      "not a prime\n"
     ]
    }
   ],
   "source": [
    "n=int(raw_input(\"Enter number:\"))\n",
    "if n==2:\n",
    "    print \"prime\"\n",
    "elif n<2:\n",
    "    print \"not a prime\"\n",
    "else:\n",
    "    for i in range(2,n/2):\n",
    "        print i\n",
    "        if n%i==0:\n",
    "            print \"it's not a prime number\"\n",
    "            break\n",
    "    else:\n",
    "        print \"it's a prime\""
   ]
  },
  {
   "cell_type": "code",
   "execution_count": null,
   "metadata": {
    "collapsed": true
   },
   "outputs": [],
   "source": []
  }
 ],
 "metadata": {
  "kernelspec": {
   "display_name": "Python 2",
   "language": "python",
   "name": "python2"
  },
  "language_info": {
   "codemirror_mode": {
    "name": "ipython",
    "version": 2
   },
   "file_extension": ".py",
   "mimetype": "text/x-python",
   "name": "python",
   "nbconvert_exporter": "python",
   "pygments_lexer": "ipython2",
   "version": "2.7.14"
  }
 },
 "nbformat": 4,
 "nbformat_minor": 2
}
