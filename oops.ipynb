{
 "cells": [
  {
   "cell_type": "code",
   "execution_count": 2,
   "metadata": {},
   "outputs": [
    {
     "name": "stdout",
     "output_type": "stream",
     "text": [
      "30\n",
      "200\n",
      "-10\n",
      "0\n"
     ]
    }
   ],
   "source": [
    "def fun1(a,b):\n",
    "    return a+b\n",
    "def fun2(a,b):\n",
    "    return a*b\n",
    "def fun3(a,b):\n",
    "    return a-b\n",
    "def fun4(a,b):\n",
    "    return a/b\n",
    "print fun1(10,20)\n",
    "print fun2(10,20)\n",
    "print fun3(10,20)\n",
    "print fun4(10,20)"
   ]
  },
  {
   "cell_type": "code",
   "execution_count": null,
   "metadata": {
    "collapsed": true
   },
   "outputs": [],
   "source": [
    "def fun1(a,b):\n",
    "    x=234\n",
    "    return a+b\n",
    "def fun2(a,b):\n",
    "    return a*b\n",
    "def fun3(a,b):\n",
    "    return a-b\n",
    "def fun4(a,b):\n",
    "    return a/b\n",
    "print fun1(10,20)\n",
    "print fun2()\n",
    "print fun3()\n",
    "print fun4()"
   ]
  },
  {
   "cell_type": "code",
   "execution_count": 3,
   "metadata": {
    "collapsed": true
   },
   "outputs": [],
   "source": [
    "a=10\n",
    "b=20"
   ]
  },
  {
   "cell_type": "code",
   "execution_count": 4,
   "metadata": {},
   "outputs": [
    {
     "data": {
      "text/plain": [
       "30"
      ]
     },
     "execution_count": 4,
     "metadata": {},
     "output_type": "execute_result"
    }
   ],
   "source": [
    "a+b"
   ]
  },
  {
   "cell_type": "code",
   "execution_count": 5,
   "metadata": {},
   "outputs": [
    {
     "data": {
      "text/plain": [
       "'str1str2'"
      ]
     },
     "execution_count": 5,
     "metadata": {},
     "output_type": "execute_result"
    }
   ],
   "source": [
    "s=\"str1\"\n",
    "s1=\"str2\"\n",
    "s+s1"
   ]
  },
  {
   "cell_type": "code",
   "execution_count": null,
   "metadata": {
    "collapsed": true
   },
   "outputs": [],
   "source": [
    "a=emp()\n",
    "b=emp()\n",
    "a+b"
   ]
  },
  {
   "cell_type": "code",
   "execution_count": 6,
   "metadata": {},
   "outputs": [
    {
     "name": "stdout",
     "output_type": "stream",
     "text": [
      "this is class\n"
     ]
    }
   ],
   "source": [
    "def fun():\n",
    "    print \"this is fun\"\n",
    "class Emp:\n",
    "    print \"this is class\"\n",
    "    "
   ]
  },
  {
   "cell_type": "code",
   "execution_count": 7,
   "metadata": {
    "collapsed": true
   },
   "outputs": [],
   "source": [
    "class Emp:\n",
    "    company_name=\"Khyaathi\"\n",
    "    company_address=\"maithrivanam\"\n"
   ]
  },
  {
   "cell_type": "code",
   "execution_count": 8,
   "metadata": {},
   "outputs": [
    {
     "name": "stdout",
     "output_type": "stream",
     "text": [
      "Khyaathi\n",
      "maithrivanam\n"
     ]
    }
   ],
   "source": [
    "class Emp:\n",
    "    company_name=\"Khyaathi\"\n",
    "    company_address=\"maithrivanam\"\n",
    "    print company_name\n",
    "    print company_address"
   ]
  },
  {
   "cell_type": "code",
   "execution_count": 9,
   "metadata": {},
   "outputs": [
    {
     "ename": "NameError",
     "evalue": "name 'company_name' is not defined",
     "output_type": "error",
     "traceback": [
      "\u001b[0;31m---------------------------------------------------------------------------\u001b[0m",
      "\u001b[0;31mNameError\u001b[0m                                 Traceback (most recent call last)",
      "\u001b[0;32m<ipython-input-9-68db7d4fb56b>\u001b[0m in \u001b[0;36m<module>\u001b[0;34m()\u001b[0m\n\u001b[1;32m      2\u001b[0m     \u001b[0mcompany_name\u001b[0m\u001b[0;34m=\u001b[0m\u001b[0;34m\"Khyaathi\"\u001b[0m\u001b[0;34m\u001b[0m\u001b[0m\n\u001b[1;32m      3\u001b[0m     \u001b[0mcompany_address\u001b[0m\u001b[0;34m=\u001b[0m\u001b[0;34m\"maithrivanam\"\u001b[0m\u001b[0;34m\u001b[0m\u001b[0m\n\u001b[0;32m----> 4\u001b[0;31m \u001b[0;32mprint\u001b[0m \u001b[0mcompany_name\u001b[0m\u001b[0;34m\u001b[0m\u001b[0m\n\u001b[0m\u001b[1;32m      5\u001b[0m \u001b[0;32mprint\u001b[0m \u001b[0mcompany_address\u001b[0m\u001b[0;34m\u001b[0m\u001b[0m\n",
      "\u001b[0;31mNameError\u001b[0m: name 'company_name' is not defined"
     ]
    }
   ],
   "source": [
    "class Emp:\n",
    "    company_name=\"Khyaathi\"\n",
    "    company_address=\"maithrivanam\"\n",
    "print company_name\n",
    "print company_address"
   ]
  },
  {
   "cell_type": "code",
   "execution_count": 10,
   "metadata": {},
   "outputs": [
    {
     "name": "stdout",
     "output_type": "stream",
     "text": [
      "Khyaathi\n",
      "maithrivanam\n"
     ]
    }
   ],
   "source": [
    "class Emp:\n",
    "    company_name=\"Khyaathi\"\n",
    "    company_address=\"maithrivanam\"\n",
    "print Emp.company_name\n",
    "print Emp.company_address"
   ]
  },
  {
   "cell_type": "code",
   "execution_count": 11,
   "metadata": {},
   "outputs": [
    {
     "name": "stdout",
     "output_type": "stream",
     "text": [
      "Khyaathi\n",
      "maithrivanam\n"
     ]
    },
    {
     "ename": "TypeError",
     "evalue": "unbound method fun() must be called with Emp instance as first argument (got int instance instead)",
     "output_type": "error",
     "traceback": [
      "\u001b[0;31m---------------------------------------------------------------------------\u001b[0m",
      "\u001b[0;31mTypeError\u001b[0m                                 Traceback (most recent call last)",
      "\u001b[0;32m<ipython-input-11-c78bd1173de2>\u001b[0m in \u001b[0;36m<module>\u001b[0;34m()\u001b[0m\n\u001b[1;32m      6\u001b[0m \u001b[0;32mprint\u001b[0m \u001b[0mEmp\u001b[0m\u001b[0;34m.\u001b[0m\u001b[0mcompany_name\u001b[0m\u001b[0;34m\u001b[0m\u001b[0m\n\u001b[1;32m      7\u001b[0m \u001b[0;32mprint\u001b[0m \u001b[0mEmp\u001b[0m\u001b[0;34m.\u001b[0m\u001b[0mcompany_address\u001b[0m\u001b[0;34m\u001b[0m\u001b[0m\n\u001b[0;32m----> 8\u001b[0;31m \u001b[0mEmp\u001b[0m\u001b[0;34m.\u001b[0m\u001b[0mfun\u001b[0m\u001b[0;34m(\u001b[0m\u001b[0;36m10\u001b[0m\u001b[0;34m)\u001b[0m\u001b[0;34m\u001b[0m\u001b[0m\n\u001b[0m",
      "\u001b[0;31mTypeError\u001b[0m: unbound method fun() must be called with Emp instance as first argument (got int instance instead)"
     ]
    }
   ],
   "source": [
    "class Emp:\n",
    "    company_name=\"Khyaathi\"\n",
    "    company_address=\"maithrivanam\"\n",
    "    def fun(a):\n",
    "        print a\n",
    "print Emp.company_name\n",
    "print Emp.company_address\n",
    "Emp.fun(10)"
   ]
  },
  {
   "cell_type": "code",
   "execution_count": 12,
   "metadata": {},
   "outputs": [
    {
     "data": {
      "text/plain": [
       "0"
      ]
     },
     "execution_count": 12,
     "metadata": {},
     "output_type": "execute_result"
    }
   ],
   "source": [
    "import os\n",
    "os.system(\"mkdir folder1\")"
   ]
  },
  {
   "cell_type": "code",
   "execution_count": 13,
   "metadata": {},
   "outputs": [
    {
     "data": {
      "text/plain": [
       "0"
      ]
     },
     "execution_count": 13,
     "metadata": {},
     "output_type": "execute_result"
    }
   ],
   "source": [
    "os.system(\"ps -aux\")"
   ]
  },
  {
   "cell_type": "code",
   "execution_count": 15,
   "metadata": {},
   "outputs": [
    {
     "data": {
      "text/plain": [
       "'USER       PID %CPU %MEM    VSZ   RSS TTY      STAT START   TIME COMMAND\\nroot         1  0.0  0.1 137384  7408 ?        Ss   06:23   0:01 /sbin/init splash\\nroot         2  0.0  0.0      0     0 ?        S    06:23   0:00 [kthreadd]\\nroot         3  0.0  0.0      0     0 ?        S    06:23   0:00 [ksoftirqd/0]\\nroot         5  0.0  0.0      0     0 ?        S<   06:23   0:00 [kworker/0:0H]\\nroot         7  0.0  0.0      0     0 ?        S    06:23   0:02 [rcu_sched]\\nroot         8  0.0  0.0      0     0 ?        S    06:23   0:00 [rcu_bh]\\nroot         9  0.0  0.0      0     0 ?        S    06:23   0:00 [migration/0]\\nroot        10  0.0  0.0      0     0 ?        S<   06:23   0:00 [lru-add-drain]\\nroot        11  0.0  0.0      0     0 ?        S    06:23   0:00 [watchdog/0]\\nroot        12  0.0  0.0      0     0 ?        S    06:23   0:00 [cpuhp/0]\\nroot        13  0.0  0.0      0     0 ?        S    06:23   0:00 [kdevtmpfs]\\nroot        14  0.0  0.0      0     0 ?        S<   06:23   0:00 [netns]\\nroot        15  0.0  0.0      0     0 ?        S    06:23   0:00 [khungtaskd]\\nroot        16  0.0  0.0      0     0 ?        S    06:23   0:00 [oom_reaper]\\nroot        17  0.0  0.0      0     0 ?        S<   06:23   0:00 [writeback]\\nroot        18  0.0  0.0      0     0 ?        S    06:23   0:00 [kcompactd0]\\nroot        19  0.0  0.0      0     0 ?        SN   06:23   0:00 [ksmd]\\nroot        20  0.0  0.0      0     0 ?        SN   06:23   0:02 [khugepaged]\\nroot        21  0.0  0.0      0     0 ?        S<   06:23   0:00 [crypto]\\nroot        22  0.0  0.0      0     0 ?        S<   06:23   0:00 [kintegrityd]\\nroot        23  0.0  0.0      0     0 ?        S<   06:23   0:00 [bioset]\\nroot        24  0.0  0.0      0     0 ?        S<   06:23   0:00 [kblockd]\\nroot        25  0.0  0.0      0     0 ?        S<   06:23   0:00 [ata_sff]\\nroot        26  0.0  0.0      0     0 ?        S<   06:23   0:00 [md]\\nroot        27  0.0  0.0      0     0 ?        S<   06:23   0:00 [devfreq_wq]\\nroot        28  0.0  0.0      0     0 ?        S<   06:23   0:00 [watchdogd]\\nroot        32  0.0  0.0      0     0 ?        S    06:23   0:00 [kswapd0]\\nroot        33  0.0  0.0      0     0 ?        S<   06:23   0:00 [vmstat]\\nroot        34  0.0  0.0      0     0 ?        S    06:23   0:00 [ecryptfs-kthrea]\\nroot        73  0.0  0.0      0     0 ?        S<   06:23   0:00 [kthrotld]\\nroot        74  0.0  0.0      0     0 ?        S<   06:23   0:00 [acpi_thermal_pm]\\nroot        75  0.0  0.0      0     0 ?        S<   06:23   0:00 [bioset]\\nroot        76  0.0  0.0      0     0 ?        S<   06:23   0:00 [bioset]\\nroot        77  0.0  0.0      0     0 ?        S<   06:23   0:00 [bioset]\\nroot        78  0.0  0.0      0     0 ?        S<   06:23   0:00 [bioset]\\nroot        79  0.0  0.0      0     0 ?        S<   06:23   0:00 [bioset]\\nroot        80  0.0  0.0      0     0 ?        S<   06:23   0:00 [bioset]\\nroot        81  0.0  0.0      0     0 ?        S<   06:23   0:00 [bioset]\\nroot        82  0.0  0.0      0     0 ?        S<   06:23   0:00 [bioset]\\nroot        83  0.0  0.0      0     0 ?        S    06:23   0:00 [scsi_eh_0]\\nroot        84  0.0  0.0      0     0 ?        S<   06:23   0:00 [scsi_tmf_0]\\nroot        85  0.0  0.0      0     0 ?        S    06:23   0:00 [scsi_eh_1]\\nroot        86  0.0  0.0      0     0 ?        S<   06:23   0:00 [scsi_tmf_1]\\nroot        92  0.0  0.0      0     0 ?        S<   06:23   0:00 [ipv6_addrconf]\\nroot       113  0.0  0.0      0     0 ?        S<   06:23   0:00 [deferwq]\\nroot       114  0.0  0.0      0     0 ?        S<   06:23   0:00 [charger_manager]\\nroot       115  0.0  0.0      0     0 ?        S<   06:23   0:00 [bioset]\\nroot       160  0.0  0.0      0     0 ?        S<   06:23   0:00 [kpsmoused]\\nroot       167  0.0  0.0      0     0 ?        S    06:23   0:00 [scsi_eh_2]\\nroot       168  0.0  0.0      0     0 ?        S<   06:23   0:00 [scsi_tmf_2]\\nroot       169  0.0  0.0      0     0 ?        S<   06:23   0:00 [bioset]\\nroot       190  0.0  0.0      0     0 ?        S<   06:23   0:00 [kworker/0:1H]\\nroot       192  0.0  0.0      0     0 ?        S    06:23   0:00 [jbd2/sda1-8]\\nroot       193  0.0  0.0      0     0 ?        S<   06:23   0:00 [ext4-rsv-conver]\\nroot       232  0.0  0.1  41084  5872 ?        Ss   06:23   0:00 /lib/systemd/systemd-journald\\nroot       234  0.0  0.0      0     0 ?        S    06:23   0:00 [kauditd]\\nroot       255  0.0  0.1  45772  4616 ?        Ss   06:23   0:00 /lib/systemd/systemd-udevd\\nroot       327  0.0  0.0      0     0 ?        S<   06:23   0:00 [iprt-VBoxWQueue]\\nroot       426  0.0  0.0      0     0 ?        S<   06:23   0:00 [ttm_swap]\\nroot       604  0.0  0.0   4384  1284 ?        Ss   06:23   0:00 /usr/sbin/acpid\\nroot       618  0.0  0.2 420528  9260 ?        Ssl  06:23   0:00 /usr/sbin/ModemManager\\nwhoopsie   619  0.0  0.3 390144 13272 ?        Ssl  06:23   0:00 /usr/bin/whoopsie -f\\nmessage+   637  0.0  0.1  44576  5340 ?        Ss   06:23   0:01 /usr/bin/dbus-daemon --system --address=systemd: --nofork --nopidfile --systemd-activation\\nroot       689  0.0  0.4 400860 17356 ?        Ssl  06:23   0:00 /usr/sbin/NetworkManager --no-daemon\\nroot       691  0.0  0.0  31100  3168 ?        Ss   06:23   0:00 /usr/sbin/cron -f\\nroot       692  0.0  0.1  44412  4812 ?        Ss   06:23   0:00 /lib/systemd/systemd-logind\\nsyslog     693  0.0  0.0 256404  3432 ?        Ssl  06:23   0:00 /usr/sbin/rsyslogd -n\\navahi      694  0.0  0.0  45008  3300 ?        Ss   06:23   0:00 avahi-daemon: running [khyaathipython.local]\\nroot       695  0.0  0.2 293988  8356 ?        Ssl  06:23   0:00 /usr/lib/accountsservice/accounts-daemon\\nroot       699  0.0  0.0  30088  1652 ?        Ss   06:23   0:00 /sbin/cgmanager -m name=systemd\\nroot       701  0.0  0.4 207780 17804 ?        Ssl  06:23   0:00 /usr/lib/snapd/snapd\\nroot       714  0.0  0.2 304636 11192 ?        Ssl  06:23   0:00 /usr/lib/policykit-1/polkitd --no-debug\\navahi      719  0.0  0.0  45008   352 ?        S    06:23   0:00 avahi-daemon: chroot helper\\nsystemd+   844  0.0  0.0  47552  4028 ?        Ss   06:23   0:00 /lib/systemd/systemd-resolved\\nroot       850  0.0  0.0 248720  2200 ?        Sl   06:23   0:01 /usr/sbin/VBoxService\\nroot       859  0.0  0.1  67820  5476 ?        Ss   06:23   0:00 /usr/sbin/sshd -D\\nroot       904  0.0  0.2 303372  8620 ?        SLsl 06:23   0:00 /usr/sbin/lightdm\\nroot       915  2.2  3.0 439908 124604 tty7    Ss+  06:23   4:08 /usr/lib/xorg/Xorg -core :0 -seat seat0 -auth /var/run/lightdm/root/:0 -nolisten tcp vt7 -novtswitch\\nroot       920  0.0  0.0  16060  1832 tty1     Ss+  06:23   0:00 /sbin/agetty --noclear tty1 linux\\npostgres   935  0.0  0.6 296984 24448 ?        S    06:23   0:00 /usr/lib/postgresql/9.5/bin/postgres -D /var/lib/postgresql/9.5/main -c config_file=/etc/postgresql/9.5/main/postgresql.conf\\nnobody     946  0.0  0.1  53084  4076 ?        S    06:23   0:00 /usr/sbin/dnsmasq --no-resolv --keep-in-foreground --no-hosts --bind-interfaces --pid-file=/var/run/NetworkManager/dnsmasq.pid --listen-address=127.0.1.1 --cache-size=0 --conf-file=/dev/null --proxy-dnssec --enable-dbus=org.freedesktop.NetworkManager.dnsmasq --conf-dir=/etc/NetworkManager/dnsmasq.d\\npostgres  1019  0.0  0.1 297112  6932 ?        Ss   06:23   0:00 postgres: 9.5/main: checkpointer process   \\npostgres  1020  0.0  0.1 296984  5728 ?        Ss   06:23   0:00 postgres: 9.5/main: writer process   \\npostgres  1021  0.0  0.2 296984  8840 ?        Ss   06:23   0:00 postgres: 9.5/main: wal writer process   \\npostgres  1022  0.0  0.1 297360  6828 ?        Ss   06:23   0:00 postgres: 9.5/main: autovacuum launcher process   \\npostgres  1023  0.0  0.1 152064  4404 ?        Ss   06:23   0:00 postgres: 9.5/main: stats collector process   \\nsnmp      1367  0.0  0.1  59620  7772 ?        S    06:23   0:02 /usr/sbin/snmpd -Lsd -Lf /dev/null -u snmp -g snmp -I -smux mteTrigger mteTriggerConf -p /run/snmpd.pid\\nroot      1369  0.0  0.3 702120 14392 ?        Sl   06:23   0:05 /opt/teamviewer/tv_bin/teamviewerd -d\\nroot      1405  0.0  0.1  71576  4868 ?        Ss   06:23   0:00 /usr/sbin/apache2 -k start\\nroot      1567  0.0  0.3 322156 12228 ?        Ssl  06:23   0:00 /usr/lib/packagekit/packagekitd\\nroot      1684  0.0  0.2 354176 10348 ?        Ssl  06:23   0:00 /usr/lib/upower/upowerd\\nrtkit     1745  0.0  0.0 183760  3008 ?        SNsl 06:23   0:00 /usr/lib/rtkit/rtkit-daemon\\ncolord    1756  0.0  0.3 323920 16088 ?        Ssl  06:23   0:00 /usr/lib/colord/colord\\nroot      1763  0.0  0.2 245696  8852 ?        Sl   06:23   0:00 lightdm --session-child 12 19\\nkhyaath+  1791  0.0  0.1  63084  6896 ?        Ss   06:24   0:00 /lib/systemd/systemd --user\\nkhyaath+  1795  0.0  0.0  89260  2340 ?        S    06:24   0:00 (sd-pam)\\nkhyaath+  1820  0.0  0.1  44216  5120 ?        Ss   06:24   0:02 /usr/bin/dbus-daemon --session --address=systemd: --nofork --nopidfile --systemd-activation\\nkhyaath+  1845  0.0  0.1 283588  6528 ?        Ssl  06:24   0:00 /usr/lib/gvfs/gvfsd\\nkhyaath+  1850  0.0  0.1 428864  7516 ?        Sl   06:24   0:00 /usr/lib/gvfs/gvfsd-fuse /run/user/1000/gvfs -f -o big_writes\\nkhyaath+  1858  0.0  0.1 187676  5328 ?        Sl   06:24   0:00 /usr/lib/dconf/dconf-service\\nkhyaath+  1894  0.0  0.2 214356  8396 ?        Sl   06:24   0:00 /usr/bin/gnome-keyring-daemon --daemonize --login\\nkhyaath+  1897  0.0  0.1  47100  5076 ?        Ss   06:24   0:03 /sbin/upstart --user\\nkhyaath+  1938  0.0  0.1  82260  5364 ?        S    06:24   0:04 /usr/bin/xbrlapi -q\\nkhyaath+  1983  0.0  0.0  49720   896 ?        S    06:24   0:00 /usr/bin/VBoxClient --checkhostversion\\nkhyaath+  1985  0.0  0.0  49720   924 ?        S    06:24   0:00 /usr/bin/VBoxClient --clipboard\\nkhyaath+  1990  0.0  0.0  49720   380 ?        S    06:24   0:00 /usr/bin/VBoxClient --display\\nkhyaath+  1991  0.0  0.0  49856  2920 ?        S    06:24   0:00 /usr/bin/VBoxClient --display\\nkhyaath+  2001  0.0  0.0  49720   896 ?        S    06:24   0:00 /usr/bin/VBoxClient --seamless\\nkhyaath+  2012  0.0  0.0  49720   860 ?        S    06:24   0:00 /usr/bin/VBoxClient --draganddrop\\nkhyaath+  2017  0.0  0.7 450556 30720 ?        Sl   06:24   0:00 /usr/lib/x86_64-linux-gnu/notify-osd\\nkhyaath+  2040  0.0  0.0  33084   284 ?        S    06:24   0:00 upstart-udev-bridge --daemon --user\\nkhyaath+  2057  0.0  0.0   7280   752 ?        Ss   06:24   0:00 sleep infinity\\nkhyaath+  2063  0.0  0.0   4492   708 ?        Ss   06:24   0:00 /bin/sh -e /proc/self/fd/9\\nkhyaath+  2067  0.0  0.2 160344  9764 ?        Ssl  06:24   0:00 /usr/lib/x86_64-linux-gnu/hud/window-stack-bridge\\nkhyaath+  2071  0.0  0.4 518704 17004 ?        Sl   06:24   0:00 /usr/lib/x86_64-linux-gnu/url-dispatcher/url-dispatcher\\nkhyaath+  2088  0.0  0.6 449660 27180 ?        Ssl  06:24   0:02 /usr/lib/x86_64-linux-gnu/bamf/bamfdaemon\\nkhyaath+  2095  0.0  0.0  33140  1780 ?        S    06:24   0:01 upstart-dbus-bridge --daemon --session --user --bus-name session\\nkhyaath+  2096  0.0  0.0  33008   316 ?        S    06:24   0:00 upstart-dbus-bridge --daemon --system --user --bus-name system\\nkhyaath+  2116  0.0  0.0  41776  1768 ?        S    06:24   0:00 upstart-file-bridge --daemon --user\\nkhyaath+  2185  0.0  0.8 1004312 32912 ?       Ssl  06:24   0:01 /usr/lib/unity-settings-daemon/unity-settings-daemon\\nkhyaath+  2204  0.1  0.2 369400 11332 ?        Ssl  06:24   0:12 /usr/bin/ibus-daemon --daemonize --xim --address unix:tmpdir=/tmp/ibus\\nkhyaath+  2208  0.0  0.3 647964 16012 ?        Ssl  06:24   0:00 /usr/lib/gnome-session/gnome-session-binary --session=ubuntu\\nkhyaath+  2252  0.0  0.2 286400  8212 ?        Sl   06:24   0:00 /usr/lib/ibus/ibus-dconf\\nkhyaath+  2253  0.0  0.7 478140 30388 ?        Sl   06:24   0:04 /usr/lib/ibus/ibus-ui-gtk3\\nkhyaath+  2265  0.0  0.5 356528 22960 ?        Sl   06:24   0:00 /usr/lib/ibus/ibus-x11 --kill-daemon\\nkhyaath+  2303 11.4  8.1 1336796 329904 ?      Ssl  06:24  21:19 /usr/bin/compiz\\nkhyaath+  2321  0.0  1.0 651784 42584 ?        Ssl  06:24   0:02 /usr/lib/x86_64-linux-gnu/unity/unity-panel-service\\nkhyaath+  2333  0.0  0.1 210528  7944 ?        Sl   06:24   0:02 /usr/lib/ibus/ibus-engine-simple\\nkhyaath+  2340  0.0  0.2 566288 11444 ?        S<l  06:24   0:00 /usr/bin/pulseaudio --start --log-target=syslog\\nkhyaath+  2367  0.0  0.7 674180 30196 ?        Sl   06:24   0:00 nm-applet\\nkhyaath+  2373  0.0  0.5 436444 20776 ?        Sl   06:24   0:00 /usr/lib/policykit-1-gnome/polkit-gnome-authentication-agent-1\\nkhyaath+  2375  0.0  0.2 377140  9372 ?        Ssl  06:24   0:00 /usr/lib/x86_64-linux-gnu/indicator-messages/indicator-messages-service\\nkhyaath+  2379  0.0  0.1 357992  7864 ?        Ssl  06:24   0:00 /usr/lib/x86_64-linux-gnu/indicator-bluetooth/indicator-bluetooth-service\\nkhyaath+  2382  0.0  0.5 581784 22088 ?        Sl   06:24   0:00 /usr/lib/unity-settings-daemon/unity-fallback-mount-helper\\nkhyaath+  2383  0.0  0.1 362368  8080 ?        Ssl  06:24   0:00 /usr/lib/x86_64-linux-gnu/indicator-power/indicator-power-service\\nkhyaath+  2386  0.0  0.8 923576 32928 ?        Ssl  06:24   0:00 /usr/lib/x86_64-linux-gnu/indicator-datetime/indicator-datetime-service\\nkhyaath+  2389  0.0  0.6 665888 26664 ?        Ssl  06:24   0:00 /usr/lib/x86_64-linux-gnu/indicator-keyboard/indicator-keyboard-service --use-gtk\\nkhyaath+  2390  0.0  0.3 682872 12664 ?        Ssl  06:24   0:00 /usr/lib/x86_64-linux-gnu/indicator-sound/indicator-sound-service\\nkhyaath+  2393  0.0  0.2 645292  8988 ?        Ssl  06:24   0:00 /usr/lib/x86_64-linux-gnu/indicator-session/indicator-session-service\\nkhyaath+  2404  0.0  0.3 481192 13296 ?        Ssl  06:24   0:00 /usr/lib/x86_64-linux-gnu/indicator-application/indicator-application-service\\nroot      2422  0.0  0.1 260976  4808 ?        Sl   06:24   0:00 /usr/lib/x86_64-linux-gnu/unity-greeter-session-broadcast/unity-greeter-session-broadcast-service\\nkhyaath+  2426  0.0  2.2 989536 90416 ?        Sl   06:24   0:04 /usr/bin/gnome-software --gapplication-service\\nkhyaath+  2427  0.0  0.7 411184 31104 ?        Ssl  06:24   0:02 /usr/lib/x86_64-linux-gnu/hud/hud-service\\nkhyaath+  2441  0.1  1.3 1010232 55744 ?       Sl   06:24   0:13 nautilus -n\\nkhyaath+  2442  0.0  0.6 554460 24996 ?        Ssl  06:24   0:00 /usr/lib/x86_64-linux-gnu/indicator-printers/indicator-printers-service\\nkhyaath+  2448  0.0  0.6 861712 25284 ?        Ssl  06:24   0:00 /usr/lib/evolution/evolution-source-registry\\nkhyaath+  2469  0.0  0.2 362600  8556 ?        Ssl  06:24   0:00 /usr/lib/at-spi2-core/at-spi-bus-launcher --launch-immediately\\nkhyaath+  2470  0.0  0.0   7280   688 ?        Ss   06:24   0:00 sleep infinity\\nkhyaath+  2476  0.0  0.0  43120  3964 ?        S    06:24   0:00 /usr/bin/dbus-daemon --config-file=/usr/share/defaults/at-spi2/accessibility.conf --nofork --print-address 3\\nkhyaath+  2496  0.0  0.1 213960  7592 ?        Sl   06:24   0:00 /usr/lib/at-spi2-core/at-spi2-registryd --use-gnome-session\\nkhyaath+  2501  0.0  0.8 852312 33620 ?        Ssl  06:24   0:00 /usr/lib/evolution/evolution-calendar-factory\\nkhyaath+  2515  0.0  0.2 377156  9776 ?        Ssl  06:24   0:00 /usr/lib/gvfs/gvfs-udisks2-volume-monitor\\nroot      2518  0.0  0.2 389316 10484 ?        Ssl  06:24   0:00 /usr/lib/udisks2/udisksd --no-debug\\nkhyaath+  2531  0.0  0.6 803904 28212 ?        Sl   06:24   0:00 /usr/lib/evolution/evolution-calendar-factory-subprocess --factory contacts --bus-name org.gnome.evolution.dataserver.Subprocess.Backend.Calendarx2501x2 --own-path /org/gnome/evolution/dataserver/Subprocess/Backend/Calendar/2501/2\\nkhyaath+  2533  0.0  0.1 278532  5380 ?        Ssl  06:24   0:00 /usr/lib/gvfs/gvfs-gphoto2-volume-monitor\\nkhyaath+  2537  0.0  0.1 266420  5328 ?        Ssl  06:24   0:00 /usr/lib/gvfs/gvfs-goa-volume-monitor\\nkhyaath+  2541  0.0  0.2 412720  9676 ?        Ssl  06:24   0:00 /usr/lib/gvfs/gvfs-afc-volume-monitor\\nkhyaath+  2550  0.0  0.1 266332  4876 ?        Ssl  06:24   0:00 /usr/lib/gvfs/gvfs-mtp-volume-monitor\\nkhyaath+  2567  0.0  0.5 784728 21204 ?        Sl   06:24   0:00 /usr/lib/evolution/evolution-calendar-factory-subprocess --factory local --bus-name org.gnome.evolution.dataserver.Subprocess.Backend.Calendarx2501x3 --own-path /org/gnome/evolution/dataserver/Subprocess/Backend/Calendar/2501/3\\nkhyaath+  2568  0.0  0.5 716400 22156 ?        Ssl  06:24   0:00 /usr/lib/evolution/evolution-addressbook-factory\\nkhyaath+  2583  0.0  0.5 802396 22152 ?        Sl   06:24   0:00 /usr/lib/evolution/evolution-addressbook-factory-subprocess --factory local --bus-name org.gnome.evolution.dataserver.Subprocess.Backend.AddressBookx2568x2 --own-path /org/gnome/evolution/dataserver/Subprocess/Backend/AddressBook/2568/2\\nkhyaath+  2600  0.0  0.2 372976  9264 ?        Sl   06:24   0:00 /usr/lib/gvfs/gvfsd-trash --spawner :1.6 /org/gtk/gvfs/exec_spaw/0\\nkhyaath+  2654  0.0  0.1 193308  6084 ?        Ssl  06:24   0:00 /usr/lib/gvfs/gvfsd-metadata\\nkhyaath+  2670  0.0  0.4 429276 17208 ?        Sl   06:24   0:00 zeitgeist-datahub\\nkhyaath+  2676  0.0  0.0   4492   772 ?        S    06:24   0:00 /bin/sh -c /usr/lib/x86_64-linux-gnu/zeitgeist/zeitgeist-maybe-vacuum; /usr/bin/zeitgeist-daemon\\nkhyaath+  2680  0.0  0.2 368288 10892 ?        Sl   06:24   0:00 /usr/bin/zeitgeist-daemon\\nkhyaath+  2688  0.0  0.7 341860 29988 ?        Sl   06:24   0:01 /usr/lib/x86_64-linux-gnu/zeitgeist-fts\\nkhyaath+  2745  0.0  0.9 741832 37764 ?        Ssl  06:24   0:02 /usr/lib/gnome-terminal/gnome-terminal-server\\nkhyaath+  2851  0.0  0.6 610316 26368 ?        Sl   06:25   0:00 update-notifier\\nkhyaath+  2924  0.0  0.2 422872  9952 ?        Sl   06:25   0:00 /usr/lib/gvfs/gvfsd-http --spawner :1.6 /org/gtk/gvfs/exec_spaw/1\\nkhyaath+  2963  0.0  0.1  68160  5600 ?        S    06:25   0:00 /usr/lib/x86_64-linux-gnu/gconf/gconfd-2\\nkhyaath+  3283  0.0  0.2 450436  8900 ?        Sl   06:26   0:00 /usr/lib/x86_64-linux-gnu/deja-dup/deja-dup-monitor\\nroot      3573  0.0  0.1  95784  7788 ?        Ss   06:28   0:00 /usr/sbin/cupsd -l\\nroot      3574  0.0  0.2 282220 10144 ?        Ssl  06:28   0:00 /usr/sbin/cups-browsed\\nlp        3577  0.0  0.1  81652  5884 ?        S    06:28   0:00 /usr/lib/cups/notifier/dbus dbus://\\nwww-data  3613  0.0  0.1 360736  5892 ?        Sl   06:28   0:01 /usr/sbin/apache2 -k start\\nwww-data  3614  0.0  0.1 360736  5892 ?        Sl   06:28   0:01 /usr/sbin/apache2 -k start\\nkhyaath+  4273  0.0  0.1  22688  5476 pts/6    Ss   06:38   0:00 bash\\nkhyaath+  4902  0.0  0.4 668568 19568 ?        Sl   06:48   0:00 /usr/lib/x86_64-linux-gnu/unity-scope-home/unity-scope-home\\nkhyaath+  4913  0.0  0.5 584172 24112 ?        Sl   06:48   0:00 /usr/bin/unity-scope-loader applications/applications.scope applications/scopes.scope commands.scope\\nkhyaath+  4915  0.0  0.3 713868 15800 ?        Sl   06:48   0:00 /usr/lib/x86_64-linux-gnu/unity-lens-files/unity-files-daemon\\nroot      8370  0.0  0.0      0     0 ?        S    07:49   0:00 [kworker/0:2]\\nroot      8383  0.0  0.0  16108  3728 ?        S    07:49   0:00 /sbin/dhclient -d -q -sf /usr/lib/NetworkManager/nm-dhcp-helper -pf /var/run/dhclient-enp0s3.pid -lf /var/lib/NetworkManager/dhclient-95f3ca14-4e16-3f87-8f42-7af863a75f0d-enp0s3.lease -cf /var/lib/NetworkManager/dhclient-enp0s3.conf enp0s3\\nkhyaath+  9366  0.2  1.5 360308 64680 pts/6    Sl+  08:02   0:10 /home/khyaathi-python/anaconda2/bin/python /home/khyaathi-python/anaconda2/bin/ipython notebook\\nkhyaath+  9382  5.8 10.2 2187516 415540 ?      Rl   08:02   5:07 /usr/lib/firefox/firefox http://localhost:8888/tree?token=c7568efc266de75da04a78a6adf75470e725a35f808d8d21\\nkhyaath+  9493  0.0  1.1 635008 47156 ?        Ssl  08:03   0:02 /home/khyaathi-python/anaconda2/bin/python -m ipykernel_launcher -f /run/user/1000/jupyter/kernel-3a3d3708-ab94-4532-8b7d-34c1ba5b5aaa.json\\nkhyaath+ 10162  0.3  1.5 922440 61004 ?        Ssl  08:15   0:14 /opt/sublime_text/sublime_text\\nkhyaath+ 10176  0.0  0.4 120240 19020 ?        Sl   08:15   0:00 /opt/sublime_text/plugin_host 10162\\nroot     10199  0.0  0.0      0     0 ?        S    08:15   0:00 [kworker/u2:1]\\nkhyaath+ 10230  0.0  0.1  22704  5484 pts/1    Ss+  08:16   0:00 bash\\nkhyaath+ 12629  0.1  1.1 635240 47764 ?        Ssl  08:56   0:02 /home/khyaathi-python/anaconda2/bin/python -m ipykernel_launcher -f /run/user/1000/jupyter/kernel-5f03a49a-a4f2-44d3-9a91-106da7d3e4b6.json\\nroot     12704  0.0  0.0      0     0 ?        S    08:58   0:00 [kworker/u2:2]\\nroot     13598  0.0  0.0      0     0 ?        S    09:15   0:00 [kworker/0:0]\\nkhyaath+ 14102  3.2  3.4 1003052 139904 ?      Sl   09:24   0:11 /usr/bin/mono /usr/lib/pinta/Pinta.exe\\nroot     14283  0.0  0.0      0     0 ?        S    09:26   0:00 [kworker/u2:0]\\nkhyaath+ 14473  0.0  0.0  37604  3392 ?        R    09:30   0:00 ps -aux\\n'"
      ]
     },
     "execution_count": 15,
     "metadata": {},
     "output_type": "execute_result"
    }
   ],
   "source": [
    "from subprocess import check_output\n",
    "check_output(\"ps -aux\".split())"
   ]
  },
  {
   "cell_type": "code",
   "execution_count": 1,
   "metadata": {
    "collapsed": true
   },
   "outputs": [],
   "source": [
    "class Emp:\n",
    "    company_name=\"Khyaathi\"\n",
    "    company_address=\"maithrivanam\"\n",
    "    def fun(a):\n",
    "        print a\n",
    "        print \"this is fun\""
   ]
  },
  {
   "cell_type": "code",
   "execution_count": 2,
   "metadata": {},
   "outputs": [
    {
     "ename": "TypeError",
     "evalue": "unbound method fun() must be called with Emp instance as first argument (got int instance instead)",
     "output_type": "error",
     "traceback": [
      "\u001b[0;31m---------------------------------------------------------------------------\u001b[0m",
      "\u001b[0;31mTypeError\u001b[0m                                 Traceback (most recent call last)",
      "\u001b[0;32m<ipython-input-2-43bcc27d85e4>\u001b[0m in \u001b[0;36m<module>\u001b[0;34m()\u001b[0m\n\u001b[1;32m      5\u001b[0m         \u001b[0;32mprint\u001b[0m \u001b[0ma\u001b[0m\u001b[0;34m\u001b[0m\u001b[0m\n\u001b[1;32m      6\u001b[0m         \u001b[0;32mprint\u001b[0m \u001b[0;34m\"this is fun\"\u001b[0m\u001b[0;34m\u001b[0m\u001b[0m\n\u001b[0;32m----> 7\u001b[0;31m \u001b[0mEmp\u001b[0m\u001b[0;34m.\u001b[0m\u001b[0mfun\u001b[0m\u001b[0;34m(\u001b[0m\u001b[0;36m20\u001b[0m\u001b[0;34m)\u001b[0m\u001b[0;34m\u001b[0m\u001b[0m\n\u001b[0m",
      "\u001b[0;31mTypeError\u001b[0m: unbound method fun() must be called with Emp instance as first argument (got int instance instead)"
     ]
    }
   ],
   "source": [
    "class Emp:\n",
    "    company_name=\"Khyaathi\"\n",
    "    company_address=\"maithrivanam\"\n",
    "    def fun(a):\n",
    "        print a\n",
    "        print \"this is fun\"\n",
    "Emp.fun(20)"
   ]
  },
  {
   "cell_type": "code",
   "execution_count": 3,
   "metadata": {},
   "outputs": [
    {
     "ename": "TypeError",
     "evalue": "unbound method fun() must be called with Emp instance as first argument (got int instance instead)",
     "output_type": "error",
     "traceback": [
      "\u001b[0;31m---------------------------------------------------------------------------\u001b[0m",
      "\u001b[0;31mTypeError\u001b[0m                                 Traceback (most recent call last)",
      "\u001b[0;32m<ipython-input-3-2c03eefb6a7c>\u001b[0m in \u001b[0;36m<module>\u001b[0;34m()\u001b[0m\n\u001b[1;32m      6\u001b[0m         \u001b[0;32mprint\u001b[0m \u001b[0;34m\"b=\"\u001b[0m\u001b[0;34m,\u001b[0m\u001b[0mb\u001b[0m\u001b[0;34m\u001b[0m\u001b[0m\n\u001b[1;32m      7\u001b[0m         \u001b[0;32mprint\u001b[0m \u001b[0;34m\"this is fun\"\u001b[0m\u001b[0;34m\u001b[0m\u001b[0m\n\u001b[0;32m----> 8\u001b[0;31m \u001b[0mEmp\u001b[0m\u001b[0;34m.\u001b[0m\u001b[0mfun\u001b[0m\u001b[0;34m(\u001b[0m\u001b[0;36m20\u001b[0m\u001b[0;34m,\u001b[0m\u001b[0;36m30\u001b[0m\u001b[0;34m)\u001b[0m\u001b[0;34m\u001b[0m\u001b[0m\n\u001b[0m",
      "\u001b[0;31mTypeError\u001b[0m: unbound method fun() must be called with Emp instance as first argument (got int instance instead)"
     ]
    }
   ],
   "source": [
    "class Emp:\n",
    "    company_name=\"Khyaathi\"\n",
    "    company_address=\"maithrivanam\"\n",
    "    def fun(a,b):\n",
    "        print \"a=\",a\n",
    "        print \"b=\",b\n",
    "        print \"this is fun\"\n",
    "Emp.fun(20,30)"
   ]
  },
  {
   "cell_type": "code",
   "execution_count": 4,
   "metadata": {},
   "outputs": [
    {
     "name": "stdout",
     "output_type": "stream",
     "text": [
      "a= <__main__.Emp instance at 0x7f1fa447e3b0>\n",
      "b= 30\n",
      "this is fun\n"
     ]
    }
   ],
   "source": [
    "class Emp:\n",
    "    company_name=\"Khyaathi\"\n",
    "    company_address=\"maithrivanam\"\n",
    "    def fun(a,b):\n",
    "        print \"a=\",a\n",
    "        print \"b=\",b\n",
    "        print \"this is fun\"\n",
    "anil = Emp() # Emp() data object,  anil instance\n",
    "Emp.fun(anil,30)"
   ]
  },
  {
   "cell_type": "code",
   "execution_count": 5,
   "metadata": {},
   "outputs": [
    {
     "name": "stdout",
     "output_type": "stream",
     "text": [
      "a= <__main__.Emp instance at 0x7f1fa447eab8>\n",
      "b= 30\n",
      "this is fun\n",
      "maithrivanam\n",
      "Khyaathi\n",
      "maithrivanam\n",
      "Khyaathi\n",
      "a= <__main__.Emp instance at 0x7f1fa447eab8>\n",
      "b= 30\n",
      "this is fun\n"
     ]
    }
   ],
   "source": [
    "class Emp:\n",
    "    company_name=\"Khyaathi\"\n",
    "    company_address=\"maithrivanam\"\n",
    "    def fun(a,b):\n",
    "        print \"a=\",a\n",
    "        print \"b=\",b\n",
    "        print \"this is fun\"\n",
    "anil = Emp() # Emp() data object,  anil instance\n",
    "Emp.fun(anil,30)\n",
    "print Emp.company_address\n",
    "print Emp.company_name\n",
    "print anil.company_address\n",
    "print anil.company_name\n",
    "anil.fun(30)"
   ]
  },
  {
   "cell_type": "code",
   "execution_count": 6,
   "metadata": {},
   "outputs": [
    {
     "name": "stdout",
     "output_type": "stream",
     "text": [
      "maithrivanam\n",
      "Khyaathi\n",
      "a= <__main__.Emp instance at 0x7f1fa44077e8>\n",
      "b= 30\n",
      "this is fun\n"
     ]
    }
   ],
   "source": [
    "class Emp:\n",
    "    company_name=\"Khyaathi\"\n",
    "    company_address=\"maithrivanam\"\n",
    "    def fun(a,b):\n",
    "        print \"a=\",a\n",
    "        print \"b=\",b\n",
    "        print \"this is fun\"\n",
    "anil = Emp() # Emp() data object,  anil instance\n",
    "print anil.company_address\n",
    "print anil.company_name\n",
    "anil.fun(30)"
   ]
  },
  {
   "cell_type": "code",
   "execution_count": 7,
   "metadata": {},
   "outputs": [
    {
     "name": "stdout",
     "output_type": "stream",
     "text": [
      "maithrivanam\n",
      "Khyaathi\n"
     ]
    },
    {
     "ename": "TypeError",
     "evalue": "fun() takes exactly 2 arguments (3 given)",
     "output_type": "error",
     "traceback": [
      "\u001b[0;31m---------------------------------------------------------------------------\u001b[0m",
      "\u001b[0;31mTypeError\u001b[0m                                 Traceback (most recent call last)",
      "\u001b[0;32m<ipython-input-7-f4d61480eaec>\u001b[0m in \u001b[0;36m<module>\u001b[0;34m()\u001b[0m\n\u001b[1;32m      9\u001b[0m \u001b[0;32mprint\u001b[0m \u001b[0manil\u001b[0m\u001b[0;34m.\u001b[0m\u001b[0mcompany_address\u001b[0m\u001b[0;34m\u001b[0m\u001b[0m\n\u001b[1;32m     10\u001b[0m \u001b[0;32mprint\u001b[0m \u001b[0manil\u001b[0m\u001b[0;34m.\u001b[0m\u001b[0mcompany_name\u001b[0m\u001b[0;34m\u001b[0m\u001b[0m\n\u001b[0;32m---> 11\u001b[0;31m \u001b[0manil\u001b[0m\u001b[0;34m.\u001b[0m\u001b[0mfun\u001b[0m\u001b[0;34m(\u001b[0m\u001b[0manil\u001b[0m\u001b[0;34m,\u001b[0m\u001b[0;36m30\u001b[0m\u001b[0;34m)\u001b[0m\u001b[0;34m\u001b[0m\u001b[0m\n\u001b[0m",
      "\u001b[0;31mTypeError\u001b[0m: fun() takes exactly 2 arguments (3 given)"
     ]
    }
   ],
   "source": [
    "class Emp:\n",
    "    company_name=\"Khyaathi\"\n",
    "    company_address=\"maithrivanam\"\n",
    "    def fun(a,b):\n",
    "        print \"a=\",a\n",
    "        print \"b=\",b\n",
    "        print \"this is fun\"\n",
    "anil = Emp() # Emp() data object,  anil instance\n",
    "print anil.company_address\n",
    "print anil.company_name\n",
    "anil.fun(anil,30)"
   ]
  },
  {
   "cell_type": "code",
   "execution_count": 8,
   "metadata": {},
   "outputs": [
    {
     "name": "stdout",
     "output_type": "stream",
     "text": [
      "maithrivanam\n",
      "Khyaathi\n",
      "a= <__main__.Emp instance at 0x7f1fa4407dd0>\n",
      "b= 30\n",
      "this is fun\n"
     ]
    }
   ],
   "source": [
    "class Emp:\n",
    "    company_name=\"Khyaathi\"\n",
    "    company_address=\"maithrivanam\"\n",
    "    def fun(a,b):\n",
    "        print \"a=\",a\n",
    "        print \"b=\",b\n",
    "        print \"this is fun\"\n",
    "anil = Emp() # Emp() data object,  anil instance\n",
    "print anil.company_address\n",
    "print anil.company_name\n",
    "anil.fun(30)\n",
    "#Emp.fun(anil,30)"
   ]
  },
  {
   "cell_type": "code",
   "execution_count": null,
   "metadata": {
    "collapsed": true
   },
   "outputs": [],
   "source": [
    "class Emp:\n",
    "    company_name=\"Khyaathi\"\n",
    "    company_address=\"maithrivanam\"\n",
    "    def fun(a,b):\n",
    "        print \"a=\",a\n",
    "        print \"b=\",b\n",
    "        print \"this is fun\"\n",
    "anil = Emp() # Emp() data object,  anil instance\n",
    "print anil.company_address\n",
    "print anil.company_name\n",
    "anil.fun(30)\n",
    "#Emp.fun(anil,30)"
   ]
  },
  {
   "cell_type": "code",
   "execution_count": 9,
   "metadata": {},
   "outputs": [
    {
     "name": "stdout",
     "output_type": "stream",
     "text": [
      "maithrivanam\n",
      "Khyaathi\n",
      "a= <__main__.Emp instance at 0x7f1fa4407f38>\n",
      "b= 30\n",
      "this is fun\n"
     ]
    }
   ],
   "source": [
    "class Emp:\n",
    "    company_name=\"Khyaathi\"\n",
    "    company_address=\"maithrivanam\"\n",
    "    def fun(self, b):\n",
    "        print \"a=\",self\n",
    "        print \"b=\",b\n",
    "        print \"this is fun\"\n",
    "anil = Emp() # Emp() data object,  anil instance\n",
    "print anil.company_address\n",
    "print anil.company_name\n",
    "anil.fun(30)\n",
    "#Emp.fun(anil,30)"
   ]
  },
  {
   "cell_type": "code",
   "execution_count": 10,
   "metadata": {},
   "outputs": [
    {
     "name": "stdout",
     "output_type": "stream",
     "text": [
      "maithrivanam\n",
      "Khyaathi\n"
     ]
    },
    {
     "ename": "TypeError",
     "evalue": "fun() takes exactly 1 argument (2 given)",
     "output_type": "error",
     "traceback": [
      "\u001b[0;31m---------------------------------------------------------------------------\u001b[0m",
      "\u001b[0;31mTypeError\u001b[0m                                 Traceback (most recent call last)",
      "\u001b[0;32m<ipython-input-10-49f6524510e6>\u001b[0m in \u001b[0;36m<module>\u001b[0;34m()\u001b[0m\n\u001b[1;32m      9\u001b[0m \u001b[0;32mprint\u001b[0m \u001b[0manil\u001b[0m\u001b[0;34m.\u001b[0m\u001b[0mcompany_address\u001b[0m\u001b[0;34m\u001b[0m\u001b[0m\n\u001b[1;32m     10\u001b[0m \u001b[0;32mprint\u001b[0m \u001b[0manil\u001b[0m\u001b[0;34m.\u001b[0m\u001b[0mcompany_name\u001b[0m\u001b[0;34m\u001b[0m\u001b[0m\n\u001b[0;32m---> 11\u001b[0;31m \u001b[0manil\u001b[0m\u001b[0;34m.\u001b[0m\u001b[0mfun\u001b[0m\u001b[0;34m(\u001b[0m\u001b[0;36m30\u001b[0m\u001b[0;34m)\u001b[0m\u001b[0;34m\u001b[0m\u001b[0m\n\u001b[0m\u001b[1;32m     12\u001b[0m \u001b[0;31m#Emp.fun(anil,30)\u001b[0m\u001b[0;34m\u001b[0m\u001b[0;34m\u001b[0m\u001b[0m\n",
      "\u001b[0;31mTypeError\u001b[0m: fun() takes exactly 1 argument (2 given)"
     ]
    }
   ],
   "source": [
    "class Emp:\n",
    "    company_name=\"Khyaathi\"\n",
    "    company_address=\"maithrivanam\"\n",
    "    def fun(b):\n",
    "        print \"a=\",self\n",
    "        print \"b=\",b\n",
    "        print \"this is fun\"\n",
    "anil = Emp() # Emp() data object,  anil instance\n",
    "print anil.company_address\n",
    "print anil.company_name\n",
    "anil.fun(30)\n",
    "#Emp.fun(anil,30)"
   ]
  },
  {
   "cell_type": "code",
   "execution_count": 12,
   "metadata": {},
   "outputs": [
    {
     "name": "stdout",
     "output_type": "stream",
     "text": [
      " maithrivanam\n",
      "Khyaathi\n",
      "b= <__main__.Emp instance at 0x7f1fa4387170>\n",
      "this is fun\n"
     ]
    }
   ],
   "source": [
    "class Emp:\n",
    "    company_name=\"Khyaathi\"\n",
    "    company_address=\"maithrivanam\"\n",
    "    def fun(b):\n",
    "        print \"b=\",b\n",
    "        print \"this is fun\"\n",
    "anil = Emp() # Emp() data object,  anil instance\n",
    "print anil.company_address\n",
    "print anil.company_name\n",
    "anil.fun()\n",
    "#Emp.fun(anil,30)"
   ]
  },
  {
   "cell_type": "code",
   "execution_count": 13,
   "metadata": {},
   "outputs": [
    {
     "name": "stdout",
     "output_type": "stream",
     "text": [
      "maithrivanam\n",
      "Khyaathi\n",
      "b= <__main__.Emp instance at 0x7f1fa43874d0>\n",
      "this is fun\n"
     ]
    }
   ],
   "source": [
    "class Emp: # Emp is class object\n",
    "    company_name=\"Khyaathi\"\n",
    "    company_address=\"maithrivanam\"\n",
    "    def fun(self): # fun is method\n",
    "        print \"b=\",self\n",
    "        print \"this is fun\"\n",
    "anil = Emp() # Emp() data object,  anil instance\n",
    "print anil.company_address\n",
    "print anil.company_name\n",
    "anil.fun()\n",
    "#Emp.fun(anil,30)"
   ]
  },
  {
   "cell_type": "code",
   "execution_count": 14,
   "metadata": {},
   "outputs": [
    {
     "name": "stdout",
     "output_type": "stream",
     "text": [
      "this s salary calculation\n",
      "this is leave cal\n",
      "this is credits calculation\n",
      "this s salary calculation\n",
      "this is leave cal\n",
      "this is credits calculation\n"
     ]
    }
   ],
   "source": [
    "# write a class Emp, sample methods sal_cal, leave_cal, credits_cal. call these methods using an instance and\n",
    "# class object of EMP.\n",
    "class Emp:\n",
    "    def sal_cal(self):\n",
    "        print \"this s salary calculation\"\n",
    "    def leave_cal(self):\n",
    "        print \"this is leave cal\"\n",
    "    def credits_cal(self):\n",
    "        print \"this is credits calculation\"\n",
    "jay=Emp()\n",
    "# using class object\n",
    "Emp.sal_cal(jay)\n",
    "Emp.leave_cal(jay)\n",
    "Emp.credits_cal(jay)\n",
    "# using an instance\n",
    "jay.sal_cal()\n",
    "jay.leave_cal()\n",
    "jay.credits_cal()"
   ]
  },
  {
   "cell_type": "code",
   "execution_count": 15,
   "metadata": {
    "collapsed": true
   },
   "outputs": [],
   "source": [
    "class Emp:\n",
    "    def sal_cal(self):\n",
    "        print \"this s salary calculation\"\n",
    "    def leave_cal(self):\n",
    "        print \"this is leave cal\"\n",
    "    def credits_cal(self):\n",
    "        print \"this is credits calculation\"\n",
    "jay=Emp()\n",
    "vedha=Emp()\n",
    "sai=Emp()\n",
    "dhana=Emp()\n"
   ]
  },
  {
   "cell_type": "code",
   "execution_count": 16,
   "metadata": {},
   "outputs": [
    {
     "name": "stdout",
     "output_type": "stream",
     "text": [
      "Vedhanvesh\n",
      "Jayaram\n"
     ]
    }
   ],
   "source": [
    "class Emp:\n",
    "    company_name=\"Khyaathi\"# company_name is a class attribute\n",
    "    def get(self):\n",
    "        pass\n",
    "jay=Emp()\n",
    "jay.name=\"Jayaram\"\n",
    "jay.address=\"anjaneyanagar\"\n",
    "jay.id=6973\n",
    "vedha = Emp()\n",
    "vedha.name=\"Vedhanvesh\"\n",
    "vedha.address=\"anjaneyanagar\"\n",
    "vedha.id=6974\n",
    "print vedha.name\n",
    "print jay.name"
   ]
  },
  {
   "cell_type": "code",
   "execution_count": 17,
   "metadata": {},
   "outputs": [
    {
     "name": "stdout",
     "output_type": "stream",
     "text": [
      "Vedhanvesh\n",
      "Jayaram\n",
      "Khyaathi\n",
      "Khyaathi\n"
     ]
    }
   ],
   "source": [
    "class Emp:\n",
    "    company_name=\"Khyaathi\"# company_name is a class attribute\n",
    "    def get(self):\n",
    "        pass\n",
    "jay=Emp()\n",
    "jay.name=\"Jayaram\"\n",
    "jay.address=\"anjaneyanagar\"\n",
    "jay.id=6973\n",
    "vedha = Emp()\n",
    "vedha.name=\"Vedhanvesh\"\n",
    "vedha.address=\"anjaneyanagar\"\n",
    "vedha.id=6974\n",
    "print vedha.name\n",
    "print jay.name\n",
    "print vedha.company_name\n",
    "print jay.company_name"
   ]
  },
  {
   "cell_type": "code",
   "execution_count": 18,
   "metadata": {},
   "outputs": [
    {
     "name": "stdout",
     "output_type": "stream",
     "text": [
      "Vedhanvesh\n",
      "Jayaram\n",
      "Khyaathi\n",
      "Khyaathi\n"
     ]
    },
    {
     "ename": "AttributeError",
     "evalue": "class Emp has no attribute 'name'",
     "output_type": "error",
     "traceback": [
      "\u001b[0;31m---------------------------------------------------------------------------\u001b[0m",
      "\u001b[0;31mAttributeError\u001b[0m                            Traceback (most recent call last)",
      "\u001b[0;32m<ipython-input-18-a2491a88352a>\u001b[0m in \u001b[0;36m<module>\u001b[0;34m()\u001b[0m\n\u001b[1;32m     15\u001b[0m \u001b[0;32mprint\u001b[0m \u001b[0mvedha\u001b[0m\u001b[0;34m.\u001b[0m\u001b[0mcompany_name\u001b[0m\u001b[0;34m\u001b[0m\u001b[0m\n\u001b[1;32m     16\u001b[0m \u001b[0;32mprint\u001b[0m \u001b[0mjay\u001b[0m\u001b[0;34m.\u001b[0m\u001b[0mcompany_name\u001b[0m\u001b[0;34m\u001b[0m\u001b[0m\n\u001b[0;32m---> 17\u001b[0;31m \u001b[0;32mprint\u001b[0m \u001b[0mEmp\u001b[0m\u001b[0;34m.\u001b[0m\u001b[0mname\u001b[0m\u001b[0;34m\u001b[0m\u001b[0m\n\u001b[0m",
      "\u001b[0;31mAttributeError\u001b[0m: class Emp has no attribute 'name'"
     ]
    }
   ],
   "source": [
    "class Emp:\n",
    "    company_name=\"Khyaathi\"# company_name is a class attribute\n",
    "    def get(self):\n",
    "        pass\n",
    "jay=Emp()\n",
    "jay.name=\"Jayaram\"\n",
    "jay.address=\"anjaneyanagar\"\n",
    "jay.id=6973\n",
    "vedha = Emp()\n",
    "vedha.name=\"Vedhanvesh\"\n",
    "vedha.address=\"anjaneyanagar\"\n",
    "vedha.id=6974\n",
    "print vedha.name\n",
    "print jay.name\n",
    "print vedha.company_name\n",
    "print jay.company_name\n",
    "print Emp.name"
   ]
  },
  {
   "cell_type": "code",
   "execution_count": 19,
   "metadata": {},
   "outputs": [
    {
     "name": "stdout",
     "output_type": "stream",
     "text": [
      "Vedhanvesh\n",
      "Jayaram\n",
      "Khyaathi\n",
      "Khyaathi\n"
     ]
    },
    {
     "ename": "AttributeError",
     "evalue": "class Emp has no attribute 'vedha'",
     "output_type": "error",
     "traceback": [
      "\u001b[0;31m---------------------------------------------------------------------------\u001b[0m",
      "\u001b[0;31mAttributeError\u001b[0m                            Traceback (most recent call last)",
      "\u001b[0;32m<ipython-input-19-3c69af9441cf>\u001b[0m in \u001b[0;36m<module>\u001b[0;34m()\u001b[0m\n\u001b[1;32m     15\u001b[0m \u001b[0;32mprint\u001b[0m \u001b[0mvedha\u001b[0m\u001b[0;34m.\u001b[0m\u001b[0mcompany_name\u001b[0m\u001b[0;34m\u001b[0m\u001b[0m\n\u001b[1;32m     16\u001b[0m \u001b[0;32mprint\u001b[0m \u001b[0mjay\u001b[0m\u001b[0;34m.\u001b[0m\u001b[0mcompany_name\u001b[0m\u001b[0;34m\u001b[0m\u001b[0m\n\u001b[0;32m---> 17\u001b[0;31m \u001b[0;32mprint\u001b[0m \u001b[0mEmp\u001b[0m\u001b[0;34m.\u001b[0m\u001b[0mvedha\u001b[0m\u001b[0;34m.\u001b[0m\u001b[0mname\u001b[0m\u001b[0;34m\u001b[0m\u001b[0m\n\u001b[0m",
      "\u001b[0;31mAttributeError\u001b[0m: class Emp has no attribute 'vedha'"
     ]
    }
   ],
   "source": [
    "class Emp:\n",
    "    company_name=\"Khyaathi\"# company_name is a class attribute\n",
    "    def get(self):\n",
    "        pass\n",
    "jay=Emp()\n",
    "jay.name=\"Jayaram\"\n",
    "jay.address=\"anjaneyanagar\"\n",
    "jay.id=6973\n",
    "vedha = Emp()\n",
    "vedha.name=\"Vedhanvesh\"\n",
    "vedha.address=\"anjaneyanagar\"\n",
    "vedha.id=6974\n",
    "print vedha.name\n",
    "print jay.name\n",
    "print vedha.company_name\n",
    "print jay.company_name\n",
    "print Emp.vedha.name"
   ]
  },
  {
   "cell_type": "code",
   "execution_count": null,
   "metadata": {
    "collapsed": true
   },
   "outputs": [],
   "source": [
    "# define a class, add some class attributes, create some instances, add some instace attributes.\n",
    "# access instance attributes using an instance\n",
    "# can you access class attributes using an instance?\n",
    "# access class attributes using an instance\n",
    "# can you access instance attributes using class object?\n",
    "\n",
    "# take product as a class define discount percentage as a class attribute.\n",
    "#name cost quality version os as a instance attributes. \n",
    "# delivercharge calculation and cost calculation as a methods. \n",
    "# create apple laptops, iphones, androidmobiles as an instances\n",
    "# call methods using instances and class object\n",
    "\n",
    "class Vehicle: # vehicle is a class object\n",
    "    comapany=\"Honda MOTORS\"\n",
    "    # comapnay is class attribute\n",
    "    def cost_cal(self): # cost_cal is a method\n",
    "        print \"this is cost price calculation\"\n",
    "honda_cb_unicorn=Vehicle()\n",
    "honda_cb_unicorn.cc=150\n",
    "honda_cb_unicorn.mailage=60\n",
    "honda_cb_unicorn.num_gears=5\n",
    "honda_cb_unicorn.num_tyres=2\n",
    "# mailage, num_gears, num_tyres, cc are the instance attributes\n",
    "honda_cb_unicorn.cost_cal() # calling method using instance\n",
    "Vehicle.cost_cal(honda_cb_unicorn)# calling method using class object\n"
   ]
  },
  {
   "cell_type": "code",
   "execution_count": null,
   "metadata": {
    "collapsed": true
   },
   "outputs": [],
   "source": [
    "fun(10,20)\n",
    "def fun(a,b):\n",
    "    print \"a=%s, b=%s\"%(a,b)\n",
    "    "
   ]
  },
  {
   "cell_type": "code",
   "execution_count": 1,
   "metadata": {},
   "outputs": [
    {
     "name": "stdout",
     "output_type": "stream",
     "text": [
      "self= <__main__.Emp instance at 0x7f6ce8631290>\n",
      "a= 20\n"
     ]
    }
   ],
   "source": [
    "class Emp:\n",
    "    def fun(self,a):\n",
    "        print \"self=\",self\n",
    "        print \"a=\",a\n",
    "vedha=Emp()\n",
    "Emp.fun(vedha,20)"
   ]
  },
  {
   "cell_type": "code",
   "execution_count": 2,
   "metadata": {},
   "outputs": [
    {
     "name": "stdout",
     "output_type": "stream",
     "text": [
      "self= <__main__.Emp instance at 0x7f6ce8631320>\n",
      "a= 20\n",
      "self= <__main__.Emp instance at 0x7f6ce8631320>\n",
      "a= 20\n"
     ]
    }
   ],
   "source": [
    "class Emp:\n",
    "    def fun(self,a):\n",
    "        print \"self=\",self\n",
    "        print \"a=\",a\n",
    "vedha=Emp()\n",
    "Emp.fun(vedha,20)\n",
    "vedha.fun(20)"
   ]
  },
  {
   "cell_type": "code",
   "execution_count": 3,
   "metadata": {},
   "outputs": [
    {
     "name": "stdout",
     "output_type": "stream",
     "text": [
      "('JAYARAM', 2)\n"
     ]
    }
   ],
   "source": [
    "class Emp:\n",
    "    company_name=\"Khyaathi\"\n",
    "    def get(self):\n",
    "        return self.name, self.id\n",
    "vedha=Emp()\n",
    "vedha.name=\"BEdhanvesh\"\n",
    "vedha.id=1\n",
    "jay=Emp()\n",
    "jay.name=\"JAYARAM\"\n",
    "jay.id=2\n",
    "print jay.get()"
   ]
  },
  {
   "cell_type": "code",
   "execution_count": 4,
   "metadata": {},
   "outputs": [
    {
     "name": "stdout",
     "output_type": "stream",
     "text": [
      "('JAYARAM', 2)\n",
      "('BEdhanvesh', 1)\n"
     ]
    }
   ],
   "source": [
    "class Emp:\n",
    "    company_name=\"Khyaathi\"\n",
    "    def get(self):\n",
    "        return self.name, self.id\n",
    "vedha=Emp()\n",
    "vedha.name=\"BEdhanvesh\"\n",
    "vedha.id=1\n",
    "jay=Emp()\n",
    "jay.name=\"JAYARAM\"\n",
    "jay.id=2\n",
    "print jay.get()\n",
    "print vedha.get()"
   ]
  },
  {
   "cell_type": "code",
   "execution_count": 5,
   "metadata": {},
   "outputs": [
    {
     "name": "stdout",
     "output_type": "stream",
     "text": [
      "('JAYARAM', 2)\n",
      "('Vedhanvesh', 1)\n"
     ]
    }
   ],
   "source": [
    "class Emp:\n",
    "    company_name=\"Khyaathi\"\n",
    "    def set_data(self,e_id,name):\n",
    "        self.name=name\n",
    "        self.id=e_id\n",
    "    def get(self):\n",
    "        return self.name, self.id\n",
    "vedha=Emp()\n",
    "vedha.set_data(1, \"Vedhanvesh\")\n",
    "#vedha.name=\"BEdhanvesh\"\n",
    "#vedha.id=1\n",
    "jay=Emp()\n",
    "jay.name=\"JAYARAM\"\n",
    "jay.id=2\n",
    "print jay.get()\n",
    "print vedha.get()"
   ]
  },
  {
   "cell_type": "code",
   "execution_count": 6,
   "metadata": {},
   "outputs": [
    {
     "name": "stdout",
     "output_type": "stream",
     "text": [
      "('JAYARAM', 2)\n",
      "('Vedhanvesh', 1)\n"
     ]
    }
   ],
   "source": [
    "class Emp:\n",
    "    company_name=\"Khyaathi\"\n",
    "    def set_data(self,e_id,name):\n",
    "        self.name=name\n",
    "        self.id=e_id\n",
    "    def get(self):\n",
    "        return self.name, self.id\n",
    "vedha=Emp()\n",
    "vedha.set_data(1, \"Vedhanvesh\")\n",
    "jay=Emp()\n",
    "jay.set_data(2,\"JAYARAM\")\n",
    "print jay.get()\n",
    "print vedha.get()"
   ]
  },
  {
   "cell_type": "code",
   "execution_count": 8,
   "metadata": {},
   "outputs": [
    {
     "name": "stdout",
     "output_type": "stream",
     "text": [
      "('lenovok3note', 1)\n"
     ]
    }
   ],
   "source": [
    "# product class, product discount as a class attribute, name and cost as instance attribute. define\n",
    "# two methods set_data and get. call these methods outside the class.\n",
    "class Product:\n",
    "    discount = 23\n",
    "    def set_data(self,p_id,p_name):\n",
    "        self.name=p_name\n",
    "        self.id=p_id\n",
    "    def get(self):\n",
    "        return self.name, self.id\n",
    "lenovok3note=Product()\n",
    "lenovok3note.set_data(1, \"lenovok3note\")\n",
    "print lenovok3note.get()"
   ]
  },
  {
   "cell_type": "code",
   "execution_count": 9,
   "metadata": {},
   "outputs": [
    {
     "ename": "NameError",
     "evalue": "global name 'discount' is not defined",
     "output_type": "error",
     "traceback": [
      "\u001b[0;31m---------------------------------------------------------------------------\u001b[0m",
      "\u001b[0;31mNameError\u001b[0m                                 Traceback (most recent call last)",
      "\u001b[0;32m<ipython-input-9-a482792b9f07>\u001b[0m in \u001b[0;36m<module>\u001b[0;34m()\u001b[0m\n\u001b[1;32m     10\u001b[0m \u001b[0mlenovok3note\u001b[0m\u001b[0;34m=\u001b[0m\u001b[0mProduct\u001b[0m\u001b[0;34m(\u001b[0m\u001b[0;34m)\u001b[0m\u001b[0;34m\u001b[0m\u001b[0m\n\u001b[1;32m     11\u001b[0m \u001b[0mlenovok3note\u001b[0m\u001b[0;34m.\u001b[0m\u001b[0mset_data\u001b[0m\u001b[0;34m(\u001b[0m\u001b[0;36m1\u001b[0m\u001b[0;34m,\u001b[0m \u001b[0;34m\"lenovok3note\"\u001b[0m\u001b[0;34m)\u001b[0m\u001b[0;34m\u001b[0m\u001b[0m\n\u001b[0;32m---> 12\u001b[0;31m \u001b[0;32mprint\u001b[0m \u001b[0mlenovok3note\u001b[0m\u001b[0;34m.\u001b[0m\u001b[0mget\u001b[0m\u001b[0;34m(\u001b[0m\u001b[0;34m)\u001b[0m\u001b[0;34m\u001b[0m\u001b[0m\n\u001b[0m",
      "\u001b[0;32m<ipython-input-9-a482792b9f07>\u001b[0m in \u001b[0;36mget\u001b[0;34m(self)\u001b[0m\n\u001b[1;32m      7\u001b[0m         \u001b[0mself\u001b[0m\u001b[0;34m.\u001b[0m\u001b[0mid\u001b[0m\u001b[0;34m=\u001b[0m\u001b[0mp_id\u001b[0m\u001b[0;34m\u001b[0m\u001b[0m\n\u001b[1;32m      8\u001b[0m     \u001b[0;32mdef\u001b[0m \u001b[0mget\u001b[0m\u001b[0;34m(\u001b[0m\u001b[0mself\u001b[0m\u001b[0;34m)\u001b[0m\u001b[0;34m:\u001b[0m\u001b[0;34m\u001b[0m\u001b[0m\n\u001b[0;32m----> 9\u001b[0;31m         \u001b[0;32mreturn\u001b[0m \u001b[0mself\u001b[0m\u001b[0;34m.\u001b[0m\u001b[0mname\u001b[0m\u001b[0;34m,\u001b[0m \u001b[0mself\u001b[0m\u001b[0;34m.\u001b[0m\u001b[0mid\u001b[0m\u001b[0;34m,\u001b[0m \u001b[0mdiscount\u001b[0m\u001b[0;34m\u001b[0m\u001b[0m\n\u001b[0m\u001b[1;32m     10\u001b[0m \u001b[0mlenovok3note\u001b[0m\u001b[0;34m=\u001b[0m\u001b[0mProduct\u001b[0m\u001b[0;34m(\u001b[0m\u001b[0;34m)\u001b[0m\u001b[0;34m\u001b[0m\u001b[0m\n\u001b[1;32m     11\u001b[0m \u001b[0mlenovok3note\u001b[0m\u001b[0;34m.\u001b[0m\u001b[0mset_data\u001b[0m\u001b[0;34m(\u001b[0m\u001b[0;36m1\u001b[0m\u001b[0;34m,\u001b[0m \u001b[0;34m\"lenovok3note\"\u001b[0m\u001b[0;34m)\u001b[0m\u001b[0;34m\u001b[0m\u001b[0m\n",
      "\u001b[0;31mNameError\u001b[0m: global name 'discount' is not defined"
     ]
    }
   ],
   "source": [
    "# product class, product discount as a class attribute, name and cost as instance attribute. define\n",
    "# two methods set_data and get. call these methods outside the class.\n",
    "class Product:\n",
    "    discount = 23\n",
    "    def set_data(self,p_id,p_name):\n",
    "        self.name=p_name\n",
    "        self.id=p_id\n",
    "    def get(self):\n",
    "        return self.name, self.id, discount\n",
    "lenovok3note=Product()\n",
    "lenovok3note.set_data(1, \"lenovok3note\")\n",
    "print lenovok3note.get()"
   ]
  },
  {
   "cell_type": "code",
   "execution_count": 10,
   "metadata": {},
   "outputs": [
    {
     "name": "stdout",
     "output_type": "stream",
     "text": [
      "('lenovok3note', 1, 23)\n"
     ]
    }
   ],
   "source": [
    "# product class, product discount as a class attribute, name and cost as instance attribute. define\n",
    "# two methods set_data and get. call these methods outside the class.\n",
    "class Product:\n",
    "    discount = 23\n",
    "    def set_data(self,p_id,p_name):\n",
    "        self.name=p_name\n",
    "        self.id=p_id\n",
    "    def get(self):\n",
    "        return self.name, self.id, self.discount\n",
    "lenovok3note=Product()\n",
    "lenovok3note.set_data(1, \"lenovok3note\")\n",
    "print lenovok3note.get()"
   ]
  },
  {
   "cell_type": "code",
   "execution_count": 11,
   "metadata": {},
   "outputs": [
    {
     "name": "stdout",
     "output_type": "stream",
     "text": [
      "('lenovok3note', 1, 23)\n"
     ]
    },
    {
     "ename": "AttributeError",
     "evalue": "Product instance has no attribute 'name'",
     "output_type": "error",
     "traceback": [
      "\u001b[0;31m---------------------------------------------------------------------------\u001b[0m",
      "\u001b[0;31mAttributeError\u001b[0m                            Traceback (most recent call last)",
      "\u001b[0;32m<ipython-input-11-2b2f51873686>\u001b[0m in \u001b[0;36m<module>\u001b[0;34m()\u001b[0m\n\u001b[1;32m     12\u001b[0m \u001b[0;32mprint\u001b[0m \u001b[0mlenovok3note\u001b[0m\u001b[0;34m.\u001b[0m\u001b[0mget\u001b[0m\u001b[0;34m(\u001b[0m\u001b[0;34m)\u001b[0m\u001b[0;34m\u001b[0m\u001b[0m\n\u001b[1;32m     13\u001b[0m \u001b[0mvivov6\u001b[0m\u001b[0;34m=\u001b[0m\u001b[0mProduct\u001b[0m\u001b[0;34m(\u001b[0m\u001b[0;34m)\u001b[0m\u001b[0;34m\u001b[0m\u001b[0m\n\u001b[0;32m---> 14\u001b[0;31m \u001b[0;32mprint\u001b[0m \u001b[0mvivov6\u001b[0m\u001b[0;34m.\u001b[0m\u001b[0mget\u001b[0m\u001b[0;34m(\u001b[0m\u001b[0;34m)\u001b[0m\u001b[0;34m\u001b[0m\u001b[0m\n\u001b[0m",
      "\u001b[0;32m<ipython-input-11-2b2f51873686>\u001b[0m in \u001b[0;36mget\u001b[0;34m(self)\u001b[0m\n\u001b[1;32m      7\u001b[0m         \u001b[0mself\u001b[0m\u001b[0;34m.\u001b[0m\u001b[0mid\u001b[0m\u001b[0;34m=\u001b[0m\u001b[0mp_id\u001b[0m\u001b[0;34m\u001b[0m\u001b[0m\n\u001b[1;32m      8\u001b[0m     \u001b[0;32mdef\u001b[0m \u001b[0mget\u001b[0m\u001b[0;34m(\u001b[0m\u001b[0mself\u001b[0m\u001b[0;34m)\u001b[0m\u001b[0;34m:\u001b[0m\u001b[0;34m\u001b[0m\u001b[0m\n\u001b[0;32m----> 9\u001b[0;31m         \u001b[0;32mreturn\u001b[0m \u001b[0mself\u001b[0m\u001b[0;34m.\u001b[0m\u001b[0mname\u001b[0m\u001b[0;34m,\u001b[0m \u001b[0mself\u001b[0m\u001b[0;34m.\u001b[0m\u001b[0mid\u001b[0m\u001b[0;34m,\u001b[0m \u001b[0mself\u001b[0m\u001b[0;34m.\u001b[0m\u001b[0mdiscount\u001b[0m\u001b[0;34m\u001b[0m\u001b[0m\n\u001b[0m\u001b[1;32m     10\u001b[0m \u001b[0mlenovok3note\u001b[0m\u001b[0;34m=\u001b[0m\u001b[0mProduct\u001b[0m\u001b[0;34m(\u001b[0m\u001b[0;34m)\u001b[0m\u001b[0;34m\u001b[0m\u001b[0m\n\u001b[1;32m     11\u001b[0m \u001b[0mlenovok3note\u001b[0m\u001b[0;34m.\u001b[0m\u001b[0mset_data\u001b[0m\u001b[0;34m(\u001b[0m\u001b[0;36m1\u001b[0m\u001b[0;34m,\u001b[0m \u001b[0;34m\"lenovok3note\"\u001b[0m\u001b[0;34m)\u001b[0m\u001b[0;34m\u001b[0m\u001b[0m\n",
      "\u001b[0;31mAttributeError\u001b[0m: Product instance has no attribute 'name'"
     ]
    }
   ],
   "source": [
    "# product class, product discount as a class attribute, name and cost as instance attribute. define\n",
    "# two methods set_data and get. call these methods outside the class.\n",
    "class Product:\n",
    "    discount = 23\n",
    "    def set_data(self,p_id,p_name):\n",
    "        self.name=p_name\n",
    "        self.id=p_id\n",
    "    def get(self):\n",
    "        return self.name, self.id, self.discount\n",
    "lenovok3note=Product()\n",
    "lenovok3note.set_data(1, \"lenovok3note\")\n",
    "print lenovok3note.get()\n",
    "vivov6=Product()\n",
    "print vivov6.get()"
   ]
  },
  {
   "cell_type": "code",
   "execution_count": 12,
   "metadata": {},
   "outputs": [
    {
     "name": "stdout",
     "output_type": "stream",
     "text": [
      "('lenovok3note', 1, 23)\n",
      "('VIVOV6.1', 2, 23)\n"
     ]
    }
   ],
   "source": [
    "# product class, product discount as a class attribute, name and cost as instance attribute. define\n",
    "# two methods set_data and get. call these methods outside the class.\n",
    "class Product:\n",
    "    discount = 23\n",
    "    def set_data(self,p_id,p_name):\n",
    "        self.name=p_name\n",
    "        self.id=p_id\n",
    "    def get(self):\n",
    "        return self.name, self.id, self.discount\n",
    "lenovok3note=Product()\n",
    "lenovok3note.set_data(1, \"lenovok3note\")\n",
    "print lenovok3note.get()\n",
    "vivov6=Product()\n",
    "vivov6.set_data(2,\"VIVOV6.1\")\n",
    "print vivov6.get()"
   ]
  },
  {
   "cell_type": "code",
   "execution_count": 14,
   "metadata": {},
   "outputs": [
    {
     "name": "stdout",
     "output_type": "stream",
     "text": [
      "this is product class.\n"
     ]
    }
   ],
   "source": [
    "class Product:\n",
    "    print \"this is product class.\"\n",
    "    def __init__(self):\n",
    "        print \"this is init\"\n",
    "    def get(self):\n",
    "        print \"this is get\""
   ]
  },
  {
   "cell_type": "code",
   "execution_count": 15,
   "metadata": {},
   "outputs": [
    {
     "name": "stdout",
     "output_type": "stream",
     "text": [
      "this is product class.\n",
      "this is init\n"
     ]
    }
   ],
   "source": [
    "class Product:\n",
    "    print \"this is product class.\"\n",
    "    def __init__(self):\n",
    "        print \"this is init\"\n",
    "    def get(self):\n",
    "        print \"this is get\"\n",
    "k3note=Product()"
   ]
  },
  {
   "cell_type": "code",
   "execution_count": 16,
   "metadata": {},
   "outputs": [
    {
     "name": "stdout",
     "output_type": "stream",
     "text": [
      "this is product class.\n",
      "this is init\n",
      "this is init\n"
     ]
    }
   ],
   "source": [
    "class Product:\n",
    "    print \"this is product class.\"\n",
    "    def __init__(self):\n",
    "        print \"this is init\"\n",
    "    def get(self):\n",
    "        print \"this is get\"\n",
    "k3note=Product()\n",
    "vivo=Product()"
   ]
  },
  {
   "cell_type": "code",
   "execution_count": 17,
   "metadata": {},
   "outputs": [
    {
     "name": "stdout",
     "output_type": "stream",
     "text": [
      "this is product class.\n",
      "this is init\n",
      "this is init\n",
      "this is init\n"
     ]
    }
   ],
   "source": [
    "class Product:\n",
    "    print \"this is product class.\"\n",
    "    def __init__(self): # constructor\n",
    "        print \"this is init\"\n",
    "    def get(self):\n",
    "        print \"this is get\"\n",
    "k3note=Product()\n",
    "vivo=Product()\n",
    "honor=Product()"
   ]
  },
  {
   "cell_type": "code",
   "execution_count": 18,
   "metadata": {},
   "outputs": [
    {
     "name": "stdout",
     "output_type": "stream",
     "text": [
      "this is product class.\n",
      "this is init\n",
      "this is init\n",
      "this is init\n",
      "this is get\n",
      "('Honor holly', 3, 23)\n",
      "this is get\n",
      "('vivo v6', 2, 23)\n",
      "this is get\n",
      "('lenovo k3note', 1, 23)\n"
     ]
    }
   ],
   "source": [
    "class Product:\n",
    "    discount=23\n",
    "    print \"this is product class.\"\n",
    "    def __init__(self,p_name,p_id): # constructor\n",
    "        print \"this is init\"\n",
    "        self.name=p_name\n",
    "        self.id=p_id\n",
    "    def get(self):\n",
    "        print \"this is get\"\n",
    "        return self.name, self.id, self.discount\n",
    "k3note=Product(\"lenovo k3note\",1)\n",
    "vivo=Product(\"vivo v6\",2)\n",
    "honor=Product(\"Honor holly\",3)\n",
    "print honor.get()\n",
    "print vivo.get()\n",
    "print k3note.get()"
   ]
  },
  {
   "cell_type": "code",
   "execution_count": 19,
   "metadata": {},
   "outputs": [
    {
     "name": "stdout",
     "output_type": "stream",
     "text": [
      "this is product class.\n",
      "('Honor holly', 3, 23)\n",
      "('vivo v6', 2, 23)\n",
      "('lenovo k3note', 1, 23)\n"
     ]
    }
   ],
   "source": [
    "class Product:\n",
    "    discount=23\n",
    "    print \"this is product class.\"\n",
    "    def __init__(self,p_name,p_id): # constructor\n",
    "        self.name=p_name\n",
    "        self.id=p_id\n",
    "    def get(self):\n",
    "        return self.name, self.id, self.discount\n",
    "k3note=Product(\"lenovo k3note\",1)\n",
    "vivo=Product(\"vivo v6\",2)\n",
    "honor=Product(\"Honor holly\",3)\n",
    "print honor.get()\n",
    "print vivo.get()\n",
    "print k3note.get()"
   ]
  },
  {
   "cell_type": "code",
   "execution_count": null,
   "metadata": {
    "collapsed": true
   },
   "outputs": [],
   "source": [
    "server_ip=\"192.168.0.1\"\n",
    "server_username=\"user1\"\n",
    "server_pwd=\"pwd1\"\n",
    "class DB:\n",
    "    def __init__(self,username, password, ip):\n",
    "        self.user=username\n",
    "        self.pwd=password\n",
    "        self.host_ip=ip\n",
    "    def insert_vm(self):\n",
    "        \n",
    "class VM:\n",
    "    \n"
   ]
  },
  {
   "cell_type": "code",
   "execution_count": 2,
   "metadata": {},
   "outputs": [
    {
     "name": "stdout",
     "output_type": "stream",
     "text": [
      "2\n"
     ]
    }
   ],
   "source": [
    "class Product:\n",
    "    discount=20\n",
    "    def __init__(self,u_cost, u_delivery_charges=0, u_margin=1):\n",
    "        self.cost=u_cost\n",
    "        self.delivery_charges=u_delivery_charges\n",
    "        self.margin=u_margin\n",
    "        \n",
    "    def sales_price(self):\n",
    "        return self.cost+self.delivery_charges+self.margin-self.discount\n",
    "        \n",
    "apple = Product(u_margin=2, u_cost=20)\n",
    "print apple.sales_price()        \n",
    "        \n",
    "        "
   ]
  },
  {
   "cell_type": "code",
   "execution_count": null,
   "metadata": {
    "collapsed": true
   },
   "outputs": [],
   "source": [
    "class Product:\n",
    "    discount=20\n",
    "    def __init__(self,u_cost, u_delivery_charges=0, u_margin=1):\n",
    "        self.cost=u_cost\n",
    "        self.delivery_charges=u_delivery_charges\n",
    "        self.margin=u_margin\n",
    "        \n",
    "    def sales_price(self):\n",
    "        return self.cost+self.delivery_charges+self.margin-self.discount\n",
    "        \n",
    "apple = Product(u_margin=2, u_cost=20)\n",
    "banana = Product(u_cost=30, u_margiin=3, u_delivery_charges=2)\n",
    "print banana.sales_price()        \n",
    "        \n",
    "        "
   ]
  },
  {
   "cell_type": "code",
   "execution_count": 4,
   "metadata": {},
   "outputs": [
    {
     "name": "stdout",
     "output_type": "stream",
     "text": [
      "15\n"
     ]
    }
   ],
   "source": [
    "class Product:\n",
    "    discount=20\n",
    "    def __init__(a,u_cost, u_delivery_charges=0, u_margin=1):\n",
    "        a.cost=u_cost\n",
    "        a.delivery_charges=u_delivery_charges\n",
    "        a.margin=u_margin\n",
    "        \n",
    "    def sales_price(b):\n",
    "        return b.cost+b.delivery_charges+b.margin-b.discount\n",
    "        \n",
    "apple = Product(u_margin=2, u_cost=20)\n",
    "banana = Product(u_cost=30, u_margin=3, u_delivery_charges=2)\n",
    "print banana.sales_price()        \n",
    "        \n",
    "        "
   ]
  },
  {
   "cell_type": "code",
   "execution_count": 5,
   "metadata": {},
   "outputs": [
    {
     "name": "stdout",
     "output_type": "stream",
     "text": [
      "15\n"
     ]
    }
   ],
   "source": [
    "class Product:\n",
    "    discount=20\n",
    "    def __init__(a,u_cost, u_delivery_charges=0, u_margin=1):\n",
    "        a.cost=u_cost\n",
    "        a.delivery_charges=u_delivery_charges\n",
    "        a.margin=u_margin\n",
    "    def __init__(a,u_cost, u_delivery_charges=0, u_margin=1):\n",
    "        a.cost=u_cost\n",
    "        a.delivery_charges=u_delivery_charges\n",
    "        a.margin=u_margin\n",
    "        \n",
    "    def sales_price(b):\n",
    "        return b.cost+b.delivery_charges+b.margin-b.discount\n",
    "        \n",
    "apple = Product(u_margin=2, u_cost=20)\n",
    "banana = Product(u_cost=30, u_margin=3, u_delivery_charges=2)\n",
    "print banana.sales_price()        \n",
    "        \n",
    "        "
   ]
  },
  {
   "cell_type": "code",
   "execution_count": 6,
   "metadata": {},
   "outputs": [
    {
     "ename": "TypeError",
     "evalue": "fun() takes exactly 3 arguments (2 given)",
     "output_type": "error",
     "traceback": [
      "\u001b[0;31m---------------------------------------------------------------------------\u001b[0m",
      "\u001b[0;31mTypeError\u001b[0m                                 Traceback (most recent call last)",
      "\u001b[0;32m<ipython-input-6-68d7f23cdf44>\u001b[0m in \u001b[0;36m<module>\u001b[0;34m()\u001b[0m\n\u001b[1;32m      5\u001b[0m \u001b[0;32mdef\u001b[0m \u001b[0mfun\u001b[0m\u001b[0;34m(\u001b[0m\u001b[0ma\u001b[0m\u001b[0;34m,\u001b[0m\u001b[0mb\u001b[0m\u001b[0;34m,\u001b[0m\u001b[0mc\u001b[0m\u001b[0;34m)\u001b[0m\u001b[0;34m:\u001b[0m\u001b[0;34m\u001b[0m\u001b[0m\n\u001b[1;32m      6\u001b[0m     \u001b[0;32mprint\u001b[0m \u001b[0ma\u001b[0m\u001b[0;34m,\u001b[0m\u001b[0mb\u001b[0m\u001b[0;34m,\u001b[0m\u001b[0mc\u001b[0m\u001b[0;34m\u001b[0m\u001b[0m\n\u001b[0;32m----> 7\u001b[0;31m \u001b[0mfun\u001b[0m\u001b[0;34m(\u001b[0m\u001b[0;36m10\u001b[0m\u001b[0;34m,\u001b[0m\u001b[0;36m20\u001b[0m\u001b[0;34m)\u001b[0m\u001b[0;34m\u001b[0m\u001b[0m\n\u001b[0m",
      "\u001b[0;31mTypeError\u001b[0m: fun() takes exactly 3 arguments (2 given)"
     ]
    }
   ],
   "source": [
    "a=1000\n",
    "a=2000\n",
    "def fun(a,b):\n",
    "    print a,b\n",
    "def fun(a,b,c):\n",
    "    print a,b,c\n",
    "fun(10,20)"
   ]
  },
  {
   "cell_type": "code",
   "execution_count": 7,
   "metadata": {},
   "outputs": [
    {
     "ename": "TypeError",
     "evalue": "__init__() takes exactly 3 arguments (2 given)",
     "output_type": "error",
     "traceback": [
      "\u001b[0;31m---------------------------------------------------------------------------\u001b[0m",
      "\u001b[0;31mTypeError\u001b[0m                                 Traceback (most recent call last)",
      "\u001b[0;32m<ipython-input-7-98da5dbbc3ca>\u001b[0m in \u001b[0;36m<module>\u001b[0;34m()\u001b[0m\n\u001b[1;32m      6\u001b[0m         \u001b[0mself\u001b[0m\u001b[0;34m.\u001b[0m\u001b[0mb\u001b[0m\u001b[0;34m=\u001b[0m\u001b[0mb\u001b[0m\u001b[0;34m\u001b[0m\u001b[0m\n\u001b[1;32m      7\u001b[0m \u001b[0ms\u001b[0m\u001b[0;34m=\u001b[0m\u001b[0mProduct\u001b[0m\u001b[0;34m(\u001b[0m\u001b[0;36m10\u001b[0m\u001b[0;34m,\u001b[0m\u001b[0;36m20\u001b[0m\u001b[0;34m)\u001b[0m\u001b[0;34m\u001b[0m\u001b[0m\n\u001b[0;32m----> 8\u001b[0;31m \u001b[0ms1\u001b[0m\u001b[0;34m=\u001b[0m\u001b[0mProduct\u001b[0m\u001b[0;34m(\u001b[0m\u001b[0;36m10\u001b[0m\u001b[0;34m)\u001b[0m\u001b[0;34m\u001b[0m\u001b[0m\n\u001b[0m",
      "\u001b[0;31mTypeError\u001b[0m: __init__() takes exactly 3 arguments (2 given)"
     ]
    }
   ],
   "source": [
    "class Product:\n",
    "    def __init__(self,a):\n",
    "        self.a=a\n",
    "    def __init__(self,a,b):\n",
    "        self.a=a\n",
    "        self.b=b\n",
    "s=Product(10,20)\n",
    "s1=Product(10)"
   ]
  },
  {
   "cell_type": "code",
   "execution_count": 8,
   "metadata": {
    "collapsed": true
   },
   "outputs": [],
   "source": [
    "class c1:\n",
    "    def fun1(self):\n",
    "        print \"this is fun1\"\n",
    "class c2:\n",
    "    def fun2(self):\n",
    "        print \"this is fun2\"\n",
    "    def operations(self):\n",
    "        pass\n",
    "        # want to call fun2 from c2 and fun1 from c1\n",
    "o=c2()\n",
    "o.operations()"
   ]
  },
  {
   "cell_type": "code",
   "execution_count": 11,
   "metadata": {},
   "outputs": [
    {
     "name": "stdout",
     "output_type": "stream",
     "text": [
      "this is fun2\n",
      "1000\n"
     ]
    }
   ],
   "source": [
    "class c1:\n",
    "    def fun1(self):\n",
    "        print \"this is fun1\"\n",
    "        def operations(self):\n",
    "            print \"operations in c1\"\n",
    "class c2:\n",
    "    a=1000\n",
    "    def fun2(self):\n",
    "        print \"this is fun2\"\n",
    "        print self.a\n",
    "        \n",
    "    def operations(self):\n",
    "        pass\n",
    "        # want to call fun2 from c2 and fun1 from c1\n",
    "o=c2()\n",
    "o.fun2()"
   ]
  },
  {
   "cell_type": "code",
   "execution_count": 12,
   "metadata": {
    "collapsed": true
   },
   "outputs": [],
   "source": [
    "class c1:\n",
    "    def fun1(self):\n",
    "        print \"this is fun1\"\n",
    "        def operations(self):\n",
    "            print \"operations in c1\"\n",
    "class c2:\n",
    "    a=1000\n",
    "    def fun2(self):\n",
    "        print \"this is fun2\"\n",
    "        print self.a\n",
    "        \n",
    "    def operations(self):\n",
    "        pass\n",
    "        # want to call fun2 from c2 and fun1 from c1\n",
    "o=c2()\n",
    "o.operations()\n"
   ]
  },
  {
   "cell_type": "code",
   "execution_count": 13,
   "metadata": {},
   "outputs": [
    {
     "name": "stdout",
     "output_type": "stream",
     "text": [
      "1000\n"
     ]
    }
   ],
   "source": [
    "class c1:\n",
    "    def fun1(self):\n",
    "        print \"this is fun1\"\n",
    "        def operations(self):\n",
    "            print \"operations in c1\"\n",
    "class c2:\n",
    "    a=1000\n",
    "    def fun2(self):\n",
    "        print \"this is fun2\"\n",
    "        print self.a\n",
    "        \n",
    "    def operations(self):\n",
    "        print self.a\n",
    "        # want to call fun2 from c2 and fun1 from c1\n",
    "o=c2()\n",
    "o.operations()\n"
   ]
  },
  {
   "cell_type": "code",
   "execution_count": 14,
   "metadata": {},
   "outputs": [
    {
     "name": "stdout",
     "output_type": "stream",
     "text": [
      "1000\n",
      "this is fun2\n",
      "1000\n"
     ]
    }
   ],
   "source": [
    "class c1:\n",
    "    def fun1(self):\n",
    "        print \"this is fun1\"\n",
    "        def operations(self):\n",
    "            print \"operations in c1\"\n",
    "class c2:\n",
    "    a=1000\n",
    "    def fun2(self):\n",
    "        print \"this is fun2\"\n",
    "        print self.a\n",
    "        \n",
    "    def operations(self):\n",
    "        print self.a\n",
    "        self.fun2()\n",
    "        \n",
    "        # want to call fun2 from c2 and fun1 from c1\n",
    "o=c2()\n",
    "o.operations()\n",
    "#o.fun2()"
   ]
  },
  {
   "cell_type": "code",
   "execution_count": 15,
   "metadata": {},
   "outputs": [
    {
     "name": "stdout",
     "output_type": "stream",
     "text": [
      "this is fun2\n",
      "1000\n"
     ]
    }
   ],
   "source": [
    "class c1:\n",
    "    def fun1(self):\n",
    "        print \"this is fun1\"\n",
    "        def operations(self):\n",
    "            print \"operations in c1\"\n",
    "class c2:\n",
    "    a=1000\n",
    "    def fun2(self):\n",
    "        print \"this is fun2\"\n",
    "        print self.a\n",
    "        \n",
    "    def operations(self):\n",
    "        self.fun2()\n",
    "        # want to call fun2 from c2 and fun1 from c1\n",
    "o=c2()\n",
    "o.operations()\n",
    "#o.fun2()"
   ]
  },
  {
   "cell_type": "code",
   "execution_count": 16,
   "metadata": {},
   "outputs": [
    {
     "name": "stdout",
     "output_type": "stream",
     "text": [
      "this is fun2\n",
      "1000\n"
     ]
    },
    {
     "ename": "AttributeError",
     "evalue": "c2 instance has no attribute 'fun1'",
     "output_type": "error",
     "traceback": [
      "\u001b[0;31m---------------------------------------------------------------------------\u001b[0m",
      "\u001b[0;31mAttributeError\u001b[0m                            Traceback (most recent call last)",
      "\u001b[0;32m<ipython-input-16-f2fad593da93>\u001b[0m in \u001b[0;36m<module>\u001b[0;34m()\u001b[0m\n\u001b[1;32m     15\u001b[0m         \u001b[0;31m# want to call fun2 from c2 and fun1 from c1\u001b[0m\u001b[0;34m\u001b[0m\u001b[0;34m\u001b[0m\u001b[0m\n\u001b[1;32m     16\u001b[0m \u001b[0mo\u001b[0m\u001b[0;34m=\u001b[0m\u001b[0mc2\u001b[0m\u001b[0;34m(\u001b[0m\u001b[0;34m)\u001b[0m\u001b[0;34m\u001b[0m\u001b[0m\n\u001b[0;32m---> 17\u001b[0;31m \u001b[0mo\u001b[0m\u001b[0;34m.\u001b[0m\u001b[0moperations\u001b[0m\u001b[0;34m(\u001b[0m\u001b[0;34m)\u001b[0m\u001b[0;34m\u001b[0m\u001b[0m\n\u001b[0m\u001b[1;32m     18\u001b[0m \u001b[0;31m#o.fun2()\u001b[0m\u001b[0;34m\u001b[0m\u001b[0;34m\u001b[0m\u001b[0m\n",
      "\u001b[0;32m<ipython-input-16-f2fad593da93>\u001b[0m in \u001b[0;36moperations\u001b[0;34m(self)\u001b[0m\n\u001b[1;32m     12\u001b[0m     \u001b[0;32mdef\u001b[0m \u001b[0moperations\u001b[0m\u001b[0;34m(\u001b[0m\u001b[0mself\u001b[0m\u001b[0;34m)\u001b[0m\u001b[0;34m:\u001b[0m\u001b[0;34m\u001b[0m\u001b[0m\n\u001b[1;32m     13\u001b[0m         \u001b[0mself\u001b[0m\u001b[0;34m.\u001b[0m\u001b[0mfun2\u001b[0m\u001b[0;34m(\u001b[0m\u001b[0;34m)\u001b[0m\u001b[0;34m\u001b[0m\u001b[0m\n\u001b[0;32m---> 14\u001b[0;31m         \u001b[0mself\u001b[0m\u001b[0;34m.\u001b[0m\u001b[0mfun1\u001b[0m\u001b[0;34m(\u001b[0m\u001b[0;34m)\u001b[0m\u001b[0;34m\u001b[0m\u001b[0m\n\u001b[0m\u001b[1;32m     15\u001b[0m         \u001b[0;31m# want to call fun2 from c2 and fun1 from c1\u001b[0m\u001b[0;34m\u001b[0m\u001b[0;34m\u001b[0m\u001b[0m\n\u001b[1;32m     16\u001b[0m \u001b[0mo\u001b[0m\u001b[0;34m=\u001b[0m\u001b[0mc2\u001b[0m\u001b[0;34m(\u001b[0m\u001b[0;34m)\u001b[0m\u001b[0;34m\u001b[0m\u001b[0m\n",
      "\u001b[0;31mAttributeError\u001b[0m: c2 instance has no attribute 'fun1'"
     ]
    }
   ],
   "source": [
    "class c1:\n",
    "    def fun1(self):\n",
    "        print \"this is fun1\"\n",
    "        def operations(self):\n",
    "            print \"operations in c1\"\n",
    "class c2:\n",
    "    a=1000\n",
    "    def fun2(self):\n",
    "        print \"this is fun2\"\n",
    "        print self.a\n",
    "        \n",
    "    def operations(self):\n",
    "        self.fun2()\n",
    "        self.fun1()\n",
    "        # want to call fun2 from c2 and fun1 from c1\n",
    "o=c2()\n",
    "o.operations()\n",
    "#o.fun2()"
   ]
  },
  {
   "cell_type": "code",
   "execution_count": 19,
   "metadata": {},
   "outputs": [
    {
     "name": "stdout",
     "output_type": "stream",
     "text": [
      "this is fun2\n",
      "1000\n"
     ]
    },
    {
     "ename": "AttributeError",
     "evalue": "c2 instance has no attribute 'o1'",
     "output_type": "error",
     "traceback": [
      "\u001b[0;31m---------------------------------------------------------------------------\u001b[0m",
      "\u001b[0;31mAttributeError\u001b[0m                            Traceback (most recent call last)",
      "\u001b[0;32m<ipython-input-19-c03b935a141a>\u001b[0m in \u001b[0;36m<module>\u001b[0;34m()\u001b[0m\n\u001b[1;32m     15\u001b[0m         \u001b[0;31m# want to call fun2 from c2 and fun1 from c1\u001b[0m\u001b[0;34m\u001b[0m\u001b[0;34m\u001b[0m\u001b[0m\n\u001b[1;32m     16\u001b[0m \u001b[0mo\u001b[0m\u001b[0;34m=\u001b[0m\u001b[0mc2\u001b[0m\u001b[0;34m(\u001b[0m\u001b[0;34m)\u001b[0m\u001b[0;34m\u001b[0m\u001b[0m\n\u001b[0;32m---> 17\u001b[0;31m \u001b[0mo\u001b[0m\u001b[0;34m.\u001b[0m\u001b[0moperations\u001b[0m\u001b[0;34m(\u001b[0m\u001b[0;34m)\u001b[0m\u001b[0;34m\u001b[0m\u001b[0m\n\u001b[0m\u001b[1;32m     18\u001b[0m \u001b[0;31m#o.fun2()\u001b[0m\u001b[0;34m\u001b[0m\u001b[0;34m\u001b[0m\u001b[0m\n\u001b[1;32m     19\u001b[0m \u001b[0mo1\u001b[0m\u001b[0;34m=\u001b[0m\u001b[0mc1\u001b[0m\u001b[0;34m(\u001b[0m\u001b[0;34m)\u001b[0m\u001b[0;34m\u001b[0m\u001b[0m\n",
      "\u001b[0;32m<ipython-input-19-c03b935a141a>\u001b[0m in \u001b[0;36moperations\u001b[0;34m(self)\u001b[0m\n\u001b[1;32m     12\u001b[0m     \u001b[0;32mdef\u001b[0m \u001b[0moperations\u001b[0m\u001b[0;34m(\u001b[0m\u001b[0mself\u001b[0m\u001b[0;34m)\u001b[0m\u001b[0;34m:\u001b[0m\u001b[0;34m\u001b[0m\u001b[0m\n\u001b[1;32m     13\u001b[0m         \u001b[0mself\u001b[0m\u001b[0;34m.\u001b[0m\u001b[0mfun2\u001b[0m\u001b[0;34m(\u001b[0m\u001b[0;34m)\u001b[0m\u001b[0;34m\u001b[0m\u001b[0m\n\u001b[0;32m---> 14\u001b[0;31m         \u001b[0mself\u001b[0m\u001b[0;34m.\u001b[0m\u001b[0mo1\u001b[0m\u001b[0;34m\u001b[0m\u001b[0m\n\u001b[0m\u001b[1;32m     15\u001b[0m         \u001b[0;31m# want to call fun2 from c2 and fun1 from c1\u001b[0m\u001b[0;34m\u001b[0m\u001b[0;34m\u001b[0m\u001b[0m\n\u001b[1;32m     16\u001b[0m \u001b[0mo\u001b[0m\u001b[0;34m=\u001b[0m\u001b[0mc2\u001b[0m\u001b[0;34m(\u001b[0m\u001b[0;34m)\u001b[0m\u001b[0;34m\u001b[0m\u001b[0m\n",
      "\u001b[0;31mAttributeError\u001b[0m: c2 instance has no attribute 'o1'"
     ]
    }
   ],
   "source": [
    "class c1:\n",
    "    def fun1(self):\n",
    "        print \"this is fun1\"\n",
    "        def operations(self):\n",
    "            print \"operations in c1\"\n",
    "class c2:\n",
    "    a=1000\n",
    "    def fun2(self):\n",
    "        print \"this is fun2\"\n",
    "        print self.a\n",
    "        \n",
    "    def operations(self):\n",
    "        self.fun2()\n",
    "        self.o1\n",
    "        # want to call fun2 from c2 and fun1 from c1\n",
    "o=c2()\n",
    "o.operations()\n",
    "#o.fun2()\n",
    "o1=c1()\n",
    "o1.fun1()"
   ]
  },
  {
   "cell_type": "code",
   "execution_count": 21,
   "metadata": {},
   "outputs": [
    {
     "name": "stdout",
     "output_type": "stream",
     "text": [
      "this is fun2\n",
      "1000\n",
      "this is fun1\n"
     ]
    }
   ],
   "source": [
    "class c1:\n",
    "    def fun1(self):\n",
    "        print \"this is fun1\"\n",
    "    def operations(self):\n",
    "            print \"operations in c1\"\n",
    "class c2:\n",
    "    a=1000\n",
    "    def fun2(self):\n",
    "        print \"this is fun2\"\n",
    "        print self.a\n",
    "        \n",
    "    def operations(self):\n",
    "        self.fun2()\n",
    "        c1_obj=c1()\n",
    "        c1_obj.fun1()\n",
    "        # want to call fun2 from c2 and fun1 from c1\n",
    "o=c2()\n",
    "o.operations()"
   ]
  },
  {
   "cell_type": "code",
   "execution_count": 24,
   "metadata": {},
   "outputs": [
    {
     "name": "stdout",
     "output_type": "stream",
     "text": [
      "this is fun1\n",
      "this is fun2\n"
     ]
    }
   ],
   "source": [
    "class c1:\n",
    "    def fun1(self):\n",
    "        print \"this is fun1\"\n",
    "class c2:\n",
    "    a=1000\n",
    "    def fun2(self):\n",
    "        print \"this is fun2\"\n",
    "class c3:\n",
    "    def operations(self):\n",
    "        o1=c1()\n",
    "        o2=c2()\n",
    "        o1.fun1()\n",
    "        o2.fun2()\n",
    "o=c3()\n",
    "o.operations()"
   ]
  },
  {
   "cell_type": "code",
   "execution_count": 25,
   "metadata": {},
   "outputs": [
    {
     "ename": "AttributeError",
     "evalue": "c3 instance has no attribute 'fun1'",
     "output_type": "error",
     "traceback": [
      "\u001b[0;31m---------------------------------------------------------------------------\u001b[0m",
      "\u001b[0;31mAttributeError\u001b[0m                            Traceback (most recent call last)",
      "\u001b[0;32m<ipython-input-25-1b556f8ade82>\u001b[0m in \u001b[0;36m<module>\u001b[0;34m()\u001b[0m\n\u001b[1;32m     11\u001b[0m         \u001b[0mself\u001b[0m\u001b[0;34m.\u001b[0m\u001b[0mfun2\u001b[0m\u001b[0;34m(\u001b[0m\u001b[0;34m)\u001b[0m\u001b[0;34m\u001b[0m\u001b[0m\n\u001b[1;32m     12\u001b[0m \u001b[0mo\u001b[0m\u001b[0;34m=\u001b[0m\u001b[0mc3\u001b[0m\u001b[0;34m(\u001b[0m\u001b[0;34m)\u001b[0m\u001b[0;34m\u001b[0m\u001b[0m\n\u001b[0;32m---> 13\u001b[0;31m \u001b[0mo\u001b[0m\u001b[0;34m.\u001b[0m\u001b[0moperations\u001b[0m\u001b[0;34m(\u001b[0m\u001b[0;34m)\u001b[0m\u001b[0;34m\u001b[0m\u001b[0m\n\u001b[0m",
      "\u001b[0;32m<ipython-input-25-1b556f8ade82>\u001b[0m in \u001b[0;36moperations\u001b[0;34m(self)\u001b[0m\n\u001b[1;32m      8\u001b[0m \u001b[0;32mclass\u001b[0m \u001b[0mc3\u001b[0m\u001b[0;34m:\u001b[0m\u001b[0;34m\u001b[0m\u001b[0m\n\u001b[1;32m      9\u001b[0m     \u001b[0;32mdef\u001b[0m \u001b[0moperations\u001b[0m\u001b[0;34m(\u001b[0m\u001b[0mself\u001b[0m\u001b[0;34m)\u001b[0m\u001b[0;34m:\u001b[0m\u001b[0;34m\u001b[0m\u001b[0m\n\u001b[0;32m---> 10\u001b[0;31m         \u001b[0mself\u001b[0m\u001b[0;34m.\u001b[0m\u001b[0mfun1\u001b[0m\u001b[0;34m(\u001b[0m\u001b[0;34m)\u001b[0m\u001b[0;34m\u001b[0m\u001b[0m\n\u001b[0m\u001b[1;32m     11\u001b[0m         \u001b[0mself\u001b[0m\u001b[0;34m.\u001b[0m\u001b[0mfun2\u001b[0m\u001b[0;34m(\u001b[0m\u001b[0;34m)\u001b[0m\u001b[0;34m\u001b[0m\u001b[0m\n\u001b[1;32m     12\u001b[0m \u001b[0mo\u001b[0m\u001b[0;34m=\u001b[0m\u001b[0mc3\u001b[0m\u001b[0;34m(\u001b[0m\u001b[0;34m)\u001b[0m\u001b[0;34m\u001b[0m\u001b[0m\n",
      "\u001b[0;31mAttributeError\u001b[0m: c3 instance has no attribute 'fun1'"
     ]
    }
   ],
   "source": [
    "class c1:\n",
    "    def fun1(self):\n",
    "        print \"this is fun1\"\n",
    "class c2:\n",
    "    a=1000\n",
    "    def fun2(self):\n",
    "        print \"this is fun2\"\n",
    "class c3:\n",
    "    def operations(self):\n",
    "        self.fun1()\n",
    "        self.fun2()\n",
    "o=c3()\n",
    "o.operations()"
   ]
  },
  {
   "cell_type": "code",
   "execution_count": 26,
   "metadata": {},
   "outputs": [
    {
     "name": "stdout",
     "output_type": "stream",
     "text": [
      "this is fun1\n"
     ]
    },
    {
     "ename": "AttributeError",
     "evalue": "c3 instance has no attribute 'fun2'",
     "output_type": "error",
     "traceback": [
      "\u001b[0;31m---------------------------------------------------------------------------\u001b[0m",
      "\u001b[0;31mAttributeError\u001b[0m                            Traceback (most recent call last)",
      "\u001b[0;32m<ipython-input-26-b4fd281ca365>\u001b[0m in \u001b[0;36m<module>\u001b[0;34m()\u001b[0m\n\u001b[1;32m     11\u001b[0m         \u001b[0mself\u001b[0m\u001b[0;34m.\u001b[0m\u001b[0mfun2\u001b[0m\u001b[0;34m(\u001b[0m\u001b[0;34m)\u001b[0m\u001b[0;34m\u001b[0m\u001b[0m\n\u001b[1;32m     12\u001b[0m \u001b[0mo\u001b[0m\u001b[0;34m=\u001b[0m\u001b[0mc3\u001b[0m\u001b[0;34m(\u001b[0m\u001b[0;34m)\u001b[0m\u001b[0;34m\u001b[0m\u001b[0m\n\u001b[0;32m---> 13\u001b[0;31m \u001b[0mo\u001b[0m\u001b[0;34m.\u001b[0m\u001b[0moperations\u001b[0m\u001b[0;34m(\u001b[0m\u001b[0;34m)\u001b[0m\u001b[0;34m\u001b[0m\u001b[0m\n\u001b[0m",
      "\u001b[0;32m<ipython-input-26-b4fd281ca365>\u001b[0m in \u001b[0;36moperations\u001b[0;34m(self)\u001b[0m\n\u001b[1;32m      9\u001b[0m     \u001b[0;32mdef\u001b[0m \u001b[0moperations\u001b[0m\u001b[0;34m(\u001b[0m\u001b[0mself\u001b[0m\u001b[0;34m)\u001b[0m\u001b[0;34m:\u001b[0m\u001b[0;34m\u001b[0m\u001b[0m\n\u001b[1;32m     10\u001b[0m         \u001b[0mself\u001b[0m\u001b[0;34m.\u001b[0m\u001b[0mfun1\u001b[0m\u001b[0;34m(\u001b[0m\u001b[0;34m)\u001b[0m\u001b[0;34m\u001b[0m\u001b[0m\n\u001b[0;32m---> 11\u001b[0;31m         \u001b[0mself\u001b[0m\u001b[0;34m.\u001b[0m\u001b[0mfun2\u001b[0m\u001b[0;34m(\u001b[0m\u001b[0;34m)\u001b[0m\u001b[0;34m\u001b[0m\u001b[0m\n\u001b[0m\u001b[1;32m     12\u001b[0m \u001b[0mo\u001b[0m\u001b[0;34m=\u001b[0m\u001b[0mc3\u001b[0m\u001b[0;34m(\u001b[0m\u001b[0;34m)\u001b[0m\u001b[0;34m\u001b[0m\u001b[0m\n\u001b[1;32m     13\u001b[0m \u001b[0mo\u001b[0m\u001b[0;34m.\u001b[0m\u001b[0moperations\u001b[0m\u001b[0;34m(\u001b[0m\u001b[0;34m)\u001b[0m\u001b[0;34m\u001b[0m\u001b[0m\n",
      "\u001b[0;31mAttributeError\u001b[0m: c3 instance has no attribute 'fun2'"
     ]
    }
   ],
   "source": [
    "class c1:\n",
    "    def fun1(self):\n",
    "        print \"this is fun1\"\n",
    "class c2:\n",
    "    a=1000\n",
    "    def fun2(self):\n",
    "        print \"this is fun2\"\n",
    "class c3(c1):\n",
    "    def operations(self):\n",
    "        self.fun1()\n",
    "        self.fun2()\n",
    "o=c3()\n",
    "o.operations()"
   ]
  },
  {
   "cell_type": "code",
   "execution_count": 27,
   "metadata": {},
   "outputs": [
    {
     "name": "stdout",
     "output_type": "stream",
     "text": [
      "this is fun1\n",
      "this is fun2\n"
     ]
    }
   ],
   "source": [
    "class c1:\n",
    "    def fun1(self):\n",
    "        print \"this is fun1\"\n",
    "class c2:\n",
    "    a=1000\n",
    "    def fun2(self):\n",
    "        print \"this is fun2\"\n",
    "class c3(c1,c2):\n",
    "    def operations(self):\n",
    "        self.fun1()\n",
    "        self.fun2()\n",
    "o=c3()\n",
    "o.operations()"
   ]
  },
  {
   "cell_type": "code",
   "execution_count": 30,
   "metadata": {},
   "outputs": [
    {
     "name": "stdout",
     "output_type": "stream",
     "text": [
      "this is fun1 in c3\n",
      "this is fun2 in c2\n"
     ]
    }
   ],
   "source": [
    "class c1:\n",
    "    def fun1(self):\n",
    "        print \"this is fun1 in c1\"\n",
    "class c2:\n",
    "    a=1000\n",
    "    def fun2(self):\n",
    "        print \"this is fun2 in c2\"\n",
    "class c3(c1,c2):\n",
    "    def operations(self):\n",
    "        self.fun1()\n",
    "        self.fun2()\n",
    "    def fun1(self):\n",
    "        print \"this is fun1 in c3\"\n",
    "o=c3()\n",
    "o.operations()"
   ]
  },
  {
   "cell_type": "code",
   "execution_count": 31,
   "metadata": {},
   "outputs": [
    {
     "name": "stdout",
     "output_type": "stream",
     "text": [
      "this is fun1 in c1\n"
     ]
    }
   ],
   "source": [
    "class c1:\n",
    "    def fun1(self):\n",
    "        print \"this is fun1 in c1\"\n",
    "class c2(c1):\n",
    "    a=1000\n",
    "    def fun2(self):\n",
    "        print \"this is fun2 in c2\"\n",
    "class c3(c2):\n",
    "    def operations(self):\n",
    "        print \"this is operations\"\n",
    "        \n",
    "o=c3()\n",
    "o.fun1()"
   ]
  },
  {
   "cell_type": "code",
   "execution_count": 32,
   "metadata": {},
   "outputs": [
    {
     "name": "stdout",
     "output_type": "stream",
     "text": [
      "cost: 10000, delivery_charges:300, dicsount:200\n",
      "10100\n"
     ]
    }
   ],
   "source": [
    "# encapsulation. \n",
    "class Product:\n",
    "    def __init__(self,d,c,de):\n",
    "        self.discount=d\n",
    "        self.cost=c\n",
    "        self.delivery_charges=de\n",
    "    def sales_price(self):\n",
    "        print \"cost: %s, delivery_charges:%s, dicsount:%s\"%(self.cost,self.delivery_charges, self.discount)\n",
    "        return self.cost+self.delivery_charges-self.discount\n",
    "lenovo = Product(200, 10000, 300)\n",
    "print lenovo.sales_price()\n",
    "        "
   ]
  },
  {
   "cell_type": "code",
   "execution_count": 33,
   "metadata": {},
   "outputs": [
    {
     "name": "stdout",
     "output_type": "stream",
     "text": [
      "cost: 10000, delivery_charges:300, dicsount:0\n",
      "10300\n"
     ]
    }
   ],
   "source": [
    "# encapsulation. \n",
    "class Product:\n",
    "    def __init__(self,d,c,de):\n",
    "        self.discount=d\n",
    "        self.cost=c\n",
    "        self.delivery_charges=de\n",
    "    def sales_price(self):\n",
    "        print \"cost: %s, delivery_charges:%s, dicsount:%s\"%(self.cost,self.delivery_charges, self.discount)\n",
    "        return self.cost+self.delivery_charges-self.discount\n",
    "lenovo = Product(200, 10000, 300)\n",
    "lenovo.discount=0\n",
    "print lenovo.sales_price()\n",
    "        "
   ]
  },
  {
   "cell_type": "code",
   "execution_count": 34,
   "metadata": {},
   "outputs": [
    {
     "name": "stdout",
     "output_type": "stream",
     "text": [
      "cost: 10000, delivery_charges:300, dicsount:200\n",
      "10100\n"
     ]
    }
   ],
   "source": [
    "# encapsulation. \n",
    "class Product:\n",
    "    def __init__(self,d,c,de):\n",
    "        self.__discount=d\n",
    "        self.cost=c\n",
    "        self.delivery_charges=de\n",
    "    def sales_price(self):\n",
    "        print \"cost: %s, delivery_charges:%s, dicsount:%s\"%(self.cost,self.delivery_charges, self.__discount)\n",
    "        return self.cost+self.delivery_charges-self.__discount\n",
    "lenovo = Product(200, 10000, 300)\n",
    "lenovo.__discount=0\n",
    "print lenovo.sales_price()\n",
    "        "
   ]
  },
  {
   "cell_type": "code",
   "execution_count": 35,
   "metadata": {},
   "outputs": [
    {
     "name": "stdout",
     "output_type": "stream",
     "text": [
      "cost: 10000, delivery_charges:300, dicsount:210\n",
      "10090\n"
     ]
    }
   ],
   "source": [
    "# encapsulation. \n",
    "class Product:\n",
    "    def __init__(self,d,c,de):\n",
    "        self.__discount=d\n",
    "        self.cost=c\n",
    "        self.delivery_charges=de\n",
    "    def __dict_cal(self):\n",
    "        return self.__discount+10\n",
    "    def sales_price(self):\n",
    "        \n",
    "        print \"cost: %s, delivery_charges:%s, dicsount:%s\"%(self.cost,self.delivery_charges, self.__dict_cal())\n",
    "        return self.cost+self.delivery_charges-self.__dict_cal()\n",
    "lenovo = Product(200, 10000, 300)\n",
    "lenovo.__discount=0\n",
    "print lenovo.sales_price()\n",
    "        "
   ]
  },
  {
   "cell_type": "code",
   "execution_count": 36,
   "metadata": {},
   "outputs": [
    {
     "name": "stdout",
     "output_type": "stream",
     "text": [
      "cost: 10000, delivery_charges:300, dicsount:210\n",
      "10090\n"
     ]
    },
    {
     "ename": "AttributeError",
     "evalue": "Product instance has no attribute '__dict_cal'",
     "output_type": "error",
     "traceback": [
      "\u001b[0;31m---------------------------------------------------------------------------\u001b[0m",
      "\u001b[0;31mAttributeError\u001b[0m                            Traceback (most recent call last)",
      "\u001b[0;32m<ipython-input-36-5fd2e6fd149a>\u001b[0m in \u001b[0;36m<module>\u001b[0;34m()\u001b[0m\n\u001b[1;32m     14\u001b[0m \u001b[0mlenovo\u001b[0m\u001b[0;34m.\u001b[0m\u001b[0m__discount\u001b[0m\u001b[0;34m=\u001b[0m\u001b[0;36m0\u001b[0m\u001b[0;34m\u001b[0m\u001b[0m\n\u001b[1;32m     15\u001b[0m \u001b[0;32mprint\u001b[0m \u001b[0mlenovo\u001b[0m\u001b[0;34m.\u001b[0m\u001b[0msales_price\u001b[0m\u001b[0;34m(\u001b[0m\u001b[0;34m)\u001b[0m\u001b[0;34m\u001b[0m\u001b[0m\n\u001b[0;32m---> 16\u001b[0;31m \u001b[0mlenovo\u001b[0m\u001b[0;34m.\u001b[0m\u001b[0m__dict_cal\u001b[0m\u001b[0;34m(\u001b[0m\u001b[0;34m)\u001b[0m\u001b[0;34m\u001b[0m\u001b[0m\n\u001b[0m",
      "\u001b[0;31mAttributeError\u001b[0m: Product instance has no attribute '__dict_cal'"
     ]
    }
   ],
   "source": [
    "# encapsulation. \n",
    "class Product:\n",
    "    def __init__(self,d,c,de):\n",
    "        self.__discount=d\n",
    "        self.cost=c\n",
    "        self.delivery_charges=de\n",
    "    def __dict_cal(self):\n",
    "        return self.__discount+10\n",
    "    def sales_price(self):\n",
    "        \n",
    "        print \"cost: %s, delivery_charges:%s, dicsount:%s\"%(self.cost,self.delivery_charges, self.__dict_cal())\n",
    "        return self.cost+self.delivery_charges-self.__dict_cal()\n",
    "lenovo = Product(200, 10000, 300)\n",
    "lenovo.__discount=0\n",
    "print lenovo.sales_price()\n",
    "lenovo.__dict_cal()"
   ]
  },
  {
   "cell_type": "code",
   "execution_count": null,
   "metadata": {
    "collapsed": true
   },
   "outputs": [],
   "source": [
    "# METHOD OVERRIDING\n",
    "# METHOD OVERLOADING\n",
    "# OPERATOR OVERLOADING.\n"
   ]
  },
  {
   "cell_type": "code",
   "execution_count": 1,
   "metadata": {},
   "outputs": [
    {
     "name": "stdout",
     "output_type": "stream",
     "text": [
      "this is fun1 in c2\n"
     ]
    }
   ],
   "source": [
    "class c1:\n",
    "    def fun1(self):\n",
    "        print \"this is fun1 in c1\"\n",
    "class c2(c1):\n",
    "    def fun1(self):\n",
    "        print \"this is fun1 in c2\"\n",
    "o=c2()\n",
    "o.fun1()\n",
    "    "
   ]
  },
  {
   "cell_type": "code",
   "execution_count": 2,
   "metadata": {},
   "outputs": [
    {
     "name": "stdout",
     "output_type": "stream",
     "text": [
      "this is fun1 in c1\n",
      "this is fun1 in c2\n"
     ]
    }
   ],
   "source": [
    "# method overriding\n",
    "class c1:\n",
    "    def fun1(self):\n",
    "        print \"this is fun1 in c1\"\n",
    "class c2(c1):\n",
    "    def fun1(self):\n",
    "        c1.fun1(self)\n",
    "        print \"this is fun1 in c2\"\n",
    "o=c2()\n",
    "o.fun1()\n",
    "    "
   ]
  },
  {
   "cell_type": "code",
   "execution_count": null,
   "metadata": {
    "collapsed": true
   },
   "outputs": [],
   "source": [
    "class c1:\n",
    "    def fun1(self):\n",
    "        print \"this is fun1 in c1\"\n",
    "class c2(c1):\n",
    "    def fun1(self):\n",
    "        self.fun1(self)\n",
    "        print \"this is fun1 in c2\"\n",
    "o=c2()\n",
    "o.fun1()"
   ]
  },
  {
   "cell_type": "code",
   "execution_count": 3,
   "metadata": {
    "collapsed": true
   },
   "outputs": [],
   "source": [
    "# method overloading..\n",
    "\n",
    "class Person:\n",
    "    def __init__(self, name, p_id, pan=None, adhar=None, mobile=None,email=None):\n",
    "        self.name=name\n",
    "        self.id=p_id\n",
    "        self.pan=pan\n",
    "        self.adhar=adhar\n",
    "        self.mobile=mobile\n",
    "        self.email=email\n",
    "jay=Person(name=\"JAYARAM\",p_id=1,email=\"jay@gmail.com\")\n",
    "vedha=Person(name=\"VEDHANVESH\",p_id=2)\n",
    "sai=Person(name=\"SAI\",p_id=3,email=\"sai@gmail.com\",pan=\"swrew423w4\",adhar=\"e54rewrwe\")"
   ]
  },
  {
   "cell_type": "code",
   "execution_count": 4,
   "metadata": {},
   "outputs": [
    {
     "ename": "TypeError",
     "evalue": "unsupported operand type(s) for +: 'instance' and 'instance'",
     "output_type": "error",
     "traceback": [
      "\u001b[0;31m---------------------------------------------------------------------------\u001b[0m",
      "\u001b[0;31mTypeError\u001b[0m                                 Traceback (most recent call last)",
      "\u001b[0;32m<ipython-input-4-08ec9a89b8c4>\u001b[0m in \u001b[0;36m<module>\u001b[0;34m()\u001b[0m\n\u001b[1;32m     10\u001b[0m \u001b[0mjay\u001b[0m\u001b[0;34m=\u001b[0m\u001b[0mPerson\u001b[0m\u001b[0;34m(\u001b[0m\u001b[0mname\u001b[0m\u001b[0;34m=\u001b[0m\u001b[0;34m\"JAYARAM\"\u001b[0m\u001b[0;34m,\u001b[0m\u001b[0mp_id\u001b[0m\u001b[0;34m=\u001b[0m\u001b[0;36m1\u001b[0m\u001b[0;34m,\u001b[0m\u001b[0memail\u001b[0m\u001b[0;34m=\u001b[0m\u001b[0;34m\"jay@gmail.com\"\u001b[0m\u001b[0;34m)\u001b[0m\u001b[0;34m\u001b[0m\u001b[0m\n\u001b[1;32m     11\u001b[0m \u001b[0mvedha\u001b[0m\u001b[0;34m=\u001b[0m\u001b[0mPerson\u001b[0m\u001b[0;34m(\u001b[0m\u001b[0mname\u001b[0m\u001b[0;34m=\u001b[0m\u001b[0;34m\"VEDHANVESH\"\u001b[0m\u001b[0;34m,\u001b[0m\u001b[0mp_id\u001b[0m\u001b[0;34m=\u001b[0m\u001b[0;36m2\u001b[0m\u001b[0;34m)\u001b[0m\u001b[0;34m\u001b[0m\u001b[0m\n\u001b[0;32m---> 12\u001b[0;31m \u001b[0mjay\u001b[0m\u001b[0;34m+\u001b[0m\u001b[0mvedha\u001b[0m\u001b[0;34m\u001b[0m\u001b[0m\n\u001b[0m",
      "\u001b[0;31mTypeError\u001b[0m: unsupported operand type(s) for +: 'instance' and 'instance'"
     ]
    }
   ],
   "source": [
    "# operator overloading?\n",
    "class Person:\n",
    "    def __init__(self, name, p_id, pan=None, adhar=None, mobile=None,email=None):\n",
    "        self.name=name\n",
    "        self.id=p_id\n",
    "        self.pan=pan\n",
    "        self.adhar=adhar\n",
    "        self.mobile=mobile\n",
    "        self.email=email\n",
    "jay=Person(name=\"JAYARAM\",p_id=1,email=\"jay@gmail.com\")\n",
    "vedha=Person(name=\"VEDHANVESH\",p_id=2)\n",
    "jay+vedha"
   ]
  },
  {
   "cell_type": "code",
   "execution_count": 5,
   "metadata": {},
   "outputs": [
    {
     "name": "stdout",
     "output_type": "stream",
     "text": [
      "d\n",
      "f\n",
      "s\n",
      "d\n",
      "f\n"
     ]
    }
   ],
   "source": [
    "for i in \"dfsdf\":\n",
    "    print i"
   ]
  },
  {
   "cell_type": "code",
   "execution_count": 6,
   "metadata": {},
   "outputs": [
    {
     "ename": "TypeError",
     "evalue": "iteration over non-sequence",
     "output_type": "error",
     "traceback": [
      "\u001b[0;31m---------------------------------------------------------------------------\u001b[0m",
      "\u001b[0;31mTypeError\u001b[0m                                 Traceback (most recent call last)",
      "\u001b[0;32m<ipython-input-6-3c147ffe2531>\u001b[0m in \u001b[0;36m<module>\u001b[0;34m()\u001b[0m\n\u001b[0;32m----> 1\u001b[0;31m \u001b[0;32mfor\u001b[0m \u001b[0mi\u001b[0m \u001b[0;32min\u001b[0m \u001b[0mjay\u001b[0m\u001b[0;34m:\u001b[0m\u001b[0;34m\u001b[0m\u001b[0m\n\u001b[0m\u001b[1;32m      2\u001b[0m     \u001b[0;32mprint\u001b[0m \u001b[0mi\u001b[0m\u001b[0;34m\u001b[0m\u001b[0m\n",
      "\u001b[0;31mTypeError\u001b[0m: iteration over non-sequence"
     ]
    }
   ],
   "source": [
    "for i in jay:\n",
    "    print i"
   ]
  },
  {
   "cell_type": "code",
   "execution_count": 7,
   "metadata": {},
   "outputs": [
    {
     "ename": "TypeError",
     "evalue": "'int' object is not iterable",
     "output_type": "error",
     "traceback": [
      "\u001b[0;31m---------------------------------------------------------------------------\u001b[0m",
      "\u001b[0;31mTypeError\u001b[0m                                 Traceback (most recent call last)",
      "\u001b[0;32m<ipython-input-7-2a20a864c235>\u001b[0m in \u001b[0;36m<module>\u001b[0;34m()\u001b[0m\n\u001b[0;32m----> 1\u001b[0;31m \u001b[0;32mfor\u001b[0m \u001b[0mi\u001b[0m \u001b[0;32min\u001b[0m \u001b[0;36m1234\u001b[0m\u001b[0;34m:\u001b[0m\u001b[0;34m\u001b[0m\u001b[0m\n\u001b[0m\u001b[1;32m      2\u001b[0m     \u001b[0;32mprint\u001b[0m \u001b[0mi\u001b[0m\u001b[0;34m\u001b[0m\u001b[0m\n",
      "\u001b[0;31mTypeError\u001b[0m: 'int' object is not iterable"
     ]
    }
   ],
   "source": [
    "for i in 1234:\n",
    "    print i"
   ]
  },
  {
   "cell_type": "code",
   "execution_count": 8,
   "metadata": {},
   "outputs": [
    {
     "ename": "TypeError",
     "evalue": "unsupported operand type(s) for +: 'dict' and 'dict'",
     "output_type": "error",
     "traceback": [
      "\u001b[0;31m---------------------------------------------------------------------------\u001b[0m",
      "\u001b[0;31mTypeError\u001b[0m                                 Traceback (most recent call last)",
      "\u001b[0;32m<ipython-input-8-49b97fd837ec>\u001b[0m in \u001b[0;36m<module>\u001b[0;34m()\u001b[0m\n\u001b[1;32m      1\u001b[0m \u001b[0md1\u001b[0m\u001b[0;34m=\u001b[0m\u001b[0;34m{\u001b[0m\u001b[0;36m1\u001b[0m\u001b[0;34m:\u001b[0m\u001b[0;36m2\u001b[0m\u001b[0;34m}\u001b[0m\u001b[0;34m\u001b[0m\u001b[0m\n\u001b[1;32m      2\u001b[0m \u001b[0md2\u001b[0m\u001b[0;34m=\u001b[0m\u001b[0;34m{\u001b[0m\u001b[0;36m3\u001b[0m\u001b[0;34m:\u001b[0m\u001b[0;36m4\u001b[0m\u001b[0;34m}\u001b[0m\u001b[0;34m\u001b[0m\u001b[0m\n\u001b[0;32m----> 3\u001b[0;31m \u001b[0md1\u001b[0m\u001b[0;34m+\u001b[0m\u001b[0md2\u001b[0m\u001b[0;34m\u001b[0m\u001b[0m\n\u001b[0m",
      "\u001b[0;31mTypeError\u001b[0m: unsupported operand type(s) for +: 'dict' and 'dict'"
     ]
    }
   ],
   "source": [
    "d1={1:2}\n",
    "d2={3:4}\n",
    "d1+d2"
   ]
  },
  {
   "cell_type": "code",
   "execution_count": 9,
   "metadata": {},
   "outputs": [
    {
     "data": {
      "text/plain": [
       "'dummy'"
      ]
     },
     "execution_count": 9,
     "metadata": {},
     "output_type": "execute_result"
    }
   ],
   "source": [
    "# operator overloading?\n",
    "class Person:\n",
    "    def __init__(self, name, p_id, pan=None, adhar=None, mobile=None,email=None):\n",
    "        self.name=name\n",
    "        self.id=p_id\n",
    "        self.pan=pan\n",
    "        self.adhar=adhar\n",
    "        self.mobile=mobile\n",
    "        self.email=email\n",
    "    def __add__(self1, self2):\n",
    "        return \"dummy\"\n",
    "jay=Person(name=\"JAYARAM\",p_id=1,email=\"jay@gmail.com\")\n",
    "vedha=Person(name=\"VEDHANVESH\",p_id=2)\n",
    "jay+vedha"
   ]
  },
  {
   "cell_type": "code",
   "execution_count": 10,
   "metadata": {},
   "outputs": [
    {
     "name": "stdout",
     "output_type": "stream",
     "text": [
      "('JAYARAMVEDHANVESH', 3)\n"
     ]
    }
   ],
   "source": [
    "# operator overloading?\n",
    "class Person:\n",
    "    def __init__(self, name, p_id, pan=None, adhar=None, mobile=None,email=None):\n",
    "        self.name=name\n",
    "        self.id=p_id\n",
    "        self.pan=pan\n",
    "        self.adhar=adhar\n",
    "        self.mobile=mobile\n",
    "        self.email=email\n",
    "    def __add__(self1, self2):\n",
    "        return self1.name+self2.name,self1.id+self2.id\n",
    "jay=Person(name=\"JAYARAM\",p_id=1,email=\"jay@gmail.com\")\n",
    "vedha=Person(name=\"VEDHANVESH\",p_id=2)\n",
    "print jay+vedha"
   ]
  },
  {
   "cell_type": "code",
   "execution_count": 11,
   "metadata": {},
   "outputs": [
    {
     "name": "stdout",
     "output_type": "stream",
     "text": [
      "('JAYARAMVEDHANVESH', 3)\n"
     ]
    },
    {
     "ename": "AttributeError",
     "evalue": "Person instance has no attribute '__len__'",
     "output_type": "error",
     "traceback": [
      "\u001b[0;31m---------------------------------------------------------------------------\u001b[0m",
      "\u001b[0;31mAttributeError\u001b[0m                            Traceback (most recent call last)",
      "\u001b[0;32m<ipython-input-11-68adc3bbc6fa>\u001b[0m in \u001b[0;36m<module>\u001b[0;34m()\u001b[0m\n\u001b[1;32m     13\u001b[0m \u001b[0mvedha\u001b[0m\u001b[0;34m=\u001b[0m\u001b[0mPerson\u001b[0m\u001b[0;34m(\u001b[0m\u001b[0mname\u001b[0m\u001b[0;34m=\u001b[0m\u001b[0;34m\"VEDHANVESH\"\u001b[0m\u001b[0;34m,\u001b[0m\u001b[0mp_id\u001b[0m\u001b[0;34m=\u001b[0m\u001b[0;36m2\u001b[0m\u001b[0;34m)\u001b[0m\u001b[0;34m\u001b[0m\u001b[0m\n\u001b[1;32m     14\u001b[0m \u001b[0;32mprint\u001b[0m \u001b[0mjay\u001b[0m\u001b[0;34m+\u001b[0m\u001b[0mvedha\u001b[0m\u001b[0;34m\u001b[0m\u001b[0m\n\u001b[0;32m---> 15\u001b[0;31m \u001b[0;32mprint\u001b[0m \u001b[0mlen\u001b[0m\u001b[0;34m(\u001b[0m\u001b[0mjay\u001b[0m\u001b[0;34m)\u001b[0m\u001b[0;34m\u001b[0m\u001b[0m\n\u001b[0m",
      "\u001b[0;31mAttributeError\u001b[0m: Person instance has no attribute '__len__'"
     ]
    }
   ],
   "source": [
    "# operator overloading?\n",
    "class Person:\n",
    "    def __init__(self, name, p_id, pan=None, adhar=None, mobile=None,email=None):\n",
    "        self.name=name\n",
    "        self.id=p_id\n",
    "        self.pan=pan\n",
    "        self.adhar=adhar\n",
    "        self.mobile=mobile\n",
    "        self.email=email\n",
    "    def __add__(self1, self2):\n",
    "        return self1.name+self2.name,self1.id+self2.id\n",
    "jay=Person(name=\"JAYARAM\",p_id=1,email=\"jay@gmail.com\")\n",
    "vedha=Person(name=\"VEDHANVESH\",p_id=2)\n",
    "print jay+vedha\n",
    "print len(jay)"
   ]
  },
  {
   "cell_type": "code",
   "execution_count": 12,
   "metadata": {},
   "outputs": [
    {
     "name": "stdout",
     "output_type": "stream",
     "text": [
      "('JAYARAMVEDHANVESH', 3)\n",
      "20\n"
     ]
    }
   ],
   "source": [
    "# operator overloading?\n",
    "class Person:\n",
    "    def __init__(self, name, p_id, pan=None, adhar=None, mobile=None,email=None):\n",
    "        self.name=name\n",
    "        self.id=p_id\n",
    "        self.pan=pan\n",
    "        self.adhar=adhar\n",
    "        self.mobile=mobile\n",
    "        self.email=email\n",
    "    def __add__(self1, self2):\n",
    "        return self1.name+self2.name,self1.id+self2.id\n",
    "    def __len__(self):\n",
    "        \n",
    "        return 20\n",
    "jay=Person(name=\"JAYARAM\",p_id=1,email=\"jay@gmail.com\")\n",
    "vedha=Person(name=\"VEDHANVESH\",p_id=2)\n",
    "print jay+vedha\n",
    "print len(jay)"
   ]
  },
  {
   "cell_type": "code",
   "execution_count": 13,
   "metadata": {},
   "outputs": [
    {
     "name": "stdout",
     "output_type": "stream",
     "text": [
      "('JAYARAMVEDHANVESH', 3)\n",
      "20\n"
     ]
    },
    {
     "ename": "TypeError",
     "evalue": "iteration over non-sequence",
     "output_type": "error",
     "traceback": [
      "\u001b[0;31m---------------------------------------------------------------------------\u001b[0m",
      "\u001b[0;31mTypeError\u001b[0m                                 Traceback (most recent call last)",
      "\u001b[0;32m<ipython-input-13-92c325010b9c>\u001b[0m in \u001b[0;36m<module>\u001b[0;34m()\u001b[0m\n\u001b[1;32m     17\u001b[0m \u001b[0;32mprint\u001b[0m \u001b[0mjay\u001b[0m\u001b[0;34m+\u001b[0m\u001b[0mvedha\u001b[0m\u001b[0;34m\u001b[0m\u001b[0m\n\u001b[1;32m     18\u001b[0m \u001b[0;32mprint\u001b[0m \u001b[0mlen\u001b[0m\u001b[0;34m(\u001b[0m\u001b[0mjay\u001b[0m\u001b[0;34m)\u001b[0m\u001b[0;34m\u001b[0m\u001b[0m\n\u001b[0;32m---> 19\u001b[0;31m \u001b[0;32mfor\u001b[0m \u001b[0mi\u001b[0m \u001b[0;32min\u001b[0m \u001b[0mjay\u001b[0m\u001b[0;34m:\u001b[0m\u001b[0;34m\u001b[0m\u001b[0m\n\u001b[0m\u001b[1;32m     20\u001b[0m     \u001b[0;32mprint\u001b[0m \u001b[0mi\u001b[0m\u001b[0;34m\u001b[0m\u001b[0m\n",
      "\u001b[0;31mTypeError\u001b[0m: iteration over non-sequence"
     ]
    }
   ],
   "source": [
    "# operator overloading?\n",
    "class Person:\n",
    "    def __init__(self, name, p_id, pan=None, adhar=None, mobile=None,email=None):\n",
    "        self.name=name\n",
    "        self.id=p_id\n",
    "        self.pan=pan\n",
    "        self.adhar=adhar\n",
    "        self.mobile=mobile\n",
    "        self.email=email\n",
    "    def __add__(self1, self2):\n",
    "        return self1.name+self2.name,self1.id+self2.id\n",
    "    def __len__(self):\n",
    "        \n",
    "        return 20\n",
    "jay=Person(name=\"JAYARAM\",p_id=1,email=\"jay@gmail.com\")\n",
    "vedha=Person(name=\"VEDHANVESH\",p_id=2)\n",
    "print jay+vedha\n",
    "print len(jay)\n",
    "for i in jay:\n",
    "    print i"
   ]
  },
  {
   "cell_type": "code",
   "execution_count": 14,
   "metadata": {},
   "outputs": [
    {
     "name": "stdout",
     "output_type": "stream",
     "text": [
      "('JAYARAMVEDHANVESH', 3)\n",
      "20\n",
      "10\n",
      "20\n",
      "30\n",
      "40\n"
     ]
    }
   ],
   "source": [
    "# operator overloading?\n",
    "class Person:\n",
    "    def __init__(self, name, p_id, pan=None, adhar=None, mobile=None,email=None):\n",
    "        self.name=name\n",
    "        self.id=p_id\n",
    "        self.pan=pan\n",
    "        self.adhar=adhar\n",
    "        self.mobile=mobile\n",
    "        self.email=email\n",
    "    def __add__(self1, self2):\n",
    "        return self1.name+self2.name,self1.id+self2.id\n",
    "    def __len__(self):\n",
    "        return 20\n",
    "    def __iter__(self):\n",
    "        yield 10\n",
    "        yield 20\n",
    "        yield 30\n",
    "        yield 40\n",
    "jay=Person(name=\"JAYARAM\",p_id=1,email=\"jay@gmail.com\")\n",
    "vedha=Person(name=\"VEDHANVESH\",p_id=2)\n",
    "print jay+vedha\n",
    "print len(jay)\n",
    "for i in jay:\n",
    "    print i"
   ]
  },
  {
   "cell_type": "code",
   "execution_count": 15,
   "metadata": {},
   "outputs": [
    {
     "name": "stdout",
     "output_type": "stream",
     "text": [
      "('JAYARAMVEDHANVESH', 3)\n",
      "20\n",
      "10\n",
      "20\n",
      "30\n",
      "40\n",
      "{'name': 'JAYARAM', 'mobile': None, 'id': 1, 'adhar': None, 'email': 'jay@gmail.com', 'pan': None}\n"
     ]
    }
   ],
   "source": [
    "# operator overloading?\n",
    "class Person:\n",
    "    def __init__(self, name, p_id, pan=None, adhar=None, mobile=None,email=None):\n",
    "        self.name=name\n",
    "        self.id=p_id\n",
    "        self.pan=pan\n",
    "        self.adhar=adhar\n",
    "        self.mobile=mobile\n",
    "        self.email=email\n",
    "    def __add__(self1, self2):\n",
    "        return self1.name+self2.name,self1.id+self2.id\n",
    "    def __len__(self):\n",
    "        return 20\n",
    "    def __iter__(self):\n",
    "        yield 10\n",
    "        yield 20\n",
    "        yield 30\n",
    "        yield 40\n",
    "jay=Person(name=\"JAYARAM\",p_id=1,email=\"jay@gmail.com\")\n",
    "vedha=Person(name=\"VEDHANVESH\",p_id=2)\n",
    "print jay+vedha\n",
    "print len(jay)\n",
    "for i in jay:\n",
    "    print i\n",
    "print jay.__dict__"
   ]
  },
  {
   "cell_type": "code",
   "execution_count": 17,
   "metadata": {},
   "outputs": [
    {
     "name": "stdout",
     "output_type": "stream",
     "text": [
      "('JAYARAMVEDHANVESH', 3)\n",
      "20\n",
      "iterating through instance\n",
      "('name', 'JAYARAM')\n",
      "('mobile', None)\n",
      "('id', 1)\n",
      "('adhar', None)\n",
      "('email', 'jay@gmail.com')\n",
      "('pan', None)\n"
     ]
    }
   ],
   "source": [
    "# operator overloading?\n",
    "class Person:\n",
    "    def __init__(self, name, p_id, pan=None, adhar=None, mobile=None,email=None):\n",
    "        self.name=name\n",
    "        self.id=p_id\n",
    "        self.pan=pan\n",
    "        self.adhar=adhar\n",
    "        self.mobile=mobile\n",
    "        self.email=email\n",
    "    def __add__(self1, self2):\n",
    "        return self1.name+self2.name,self1.id+self2.id\n",
    "    def __len__(self):\n",
    "        return 20\n",
    "    def __iter__(self):\n",
    "        for i in self.__dict__.items():\n",
    "            yield i\n",
    "jay=Person(name=\"JAYARAM\",p_id=1,email=\"jay@gmail.com\")\n",
    "vedha=Person(name=\"VEDHANVESH\",p_id=2)\n",
    "print jay+vedha\n",
    "print len(jay)\n",
    "print \"iterating through instance\"\n",
    "for i in jay:\n",
    "    print i"
   ]
  },
  {
   "cell_type": "code",
   "execution_count": 18,
   "metadata": {},
   "outputs": [
    {
     "data": {
      "text/plain": [
       "[(1, 2), (3, 4), (5, 6)]"
      ]
     },
     "execution_count": 18,
     "metadata": {},
     "output_type": "execute_result"
    }
   ],
   "source": [
    "d={1:2,3:4,5:6}\n",
    "d.items()"
   ]
  },
  {
   "cell_type": "code",
   "execution_count": 20,
   "metadata": {},
   "outputs": [
    {
     "data": {
      "text/plain": [
       "{'adhar': None,\n",
       " 'email': 'jay@gmail.com',\n",
       " 'id': 1,\n",
       " 'mobile': None,\n",
       " 'name': 'JAYARAM',\n",
       " 'pan': None}"
      ]
     },
     "execution_count": 20,
     "metadata": {},
     "output_type": "execute_result"
    }
   ],
   "source": [
    "jay.__dict__"
   ]
  },
  {
   "cell_type": "code",
   "execution_count": 21,
   "metadata": {},
   "outputs": [
    {
     "data": {
      "text/plain": [
       "[('name', 'JAYARAM'),\n",
       " ('mobile', None),\n",
       " ('id', 1),\n",
       " ('adhar', None),\n",
       " ('email', 'jay@gmail.com'),\n",
       " ('pan', None)]"
      ]
     },
     "execution_count": 21,
     "metadata": {},
     "output_type": "execute_result"
    }
   ],
   "source": [
    "jay.__dict__.items()"
   ]
  },
  {
   "cell_type": "code",
   "execution_count": 22,
   "metadata": {
    "collapsed": true
   },
   "outputs": [],
   "source": [
    "# what's happen internally when you create an instance of the class\n",
    "\"\"\"\n",
    "1. it will call the __new__ method which is defined in the based class for all the calsses. object\n",
    "2. __new__ method returns an instance. By taking that instance it will call the constructor(__init__) with the \n",
    "arguments you passed.\n",
    "3. the constructor initialize the instance attributes.\n",
    "\"\"\"\n",
    "class c1(object):\n",
    "    def __new__(self, *args, **kwargs):\n",
    "        return None\n",
    "    def __init__(self,a,b):\n",
    "        self.a=a\n",
    "        self.b=b"
   ]
  },
  {
   "cell_type": "code",
   "execution_count": 24,
   "metadata": {},
   "outputs": [
    {
     "name": "stdout",
     "output_type": "stream",
     "text": [
      "this is new\n",
      "this is init\n"
     ]
    },
    {
     "name": "stderr",
     "output_type": "stream",
     "text": [
      "/home/khyaathi-python/anaconda2/lib/python2.7/site-packages/ipykernel_launcher.py:12: DeprecationWarning: object() takes no parameters\n",
      "  if sys.path[0] == '':\n"
     ]
    }
   ],
   "source": [
    "# what's happen internally when you create an instance of the class\n",
    "\"\"\"\n",
    "1. it will call the __new__ method which is defined in the based class for all the calsses. object\n",
    "2. __new__ method returns an instance. By taking that instance it will call the constructor(__init__) with the \n",
    "arguments you passed. instance.__init__\n",
    "3. the constructor initialize the instance attributes.\n",
    "\"\"\"\n",
    "class c1(object):\n",
    "    def __new__(cls, *args, **kwargs):\n",
    "        print \"this is new\"\n",
    "        #cls.__new__(*args, **kwargs)\n",
    "        obj=object.__new__(cls, *args, **kwargs) # definition to create an instance and it will returns an instance\n",
    "        return obj\n",
    "    def __init__(self,a,b):\n",
    "        print \"this is init\"\n",
    "        self.a=a\n",
    "        self.b=b\n",
    "o=c1(10,20)"
   ]
  },
  {
   "cell_type": "code",
   "execution_count": 25,
   "metadata": {},
   "outputs": [
    {
     "ename": "ZeroDivisionError",
     "evalue": "integer division or modulo by zero",
     "output_type": "error",
     "traceback": [
      "\u001b[0;31m---------------------------------------------------------------------------\u001b[0m",
      "\u001b[0;31mZeroDivisionError\u001b[0m                         Traceback (most recent call last)",
      "\u001b[0;32m<ipython-input-25-e19d6e6ac7e1>\u001b[0m in \u001b[0;36m<module>\u001b[0;34m()\u001b[0m\n\u001b[0;32m----> 1\u001b[0;31m \u001b[0;32mprint\u001b[0m \u001b[0;36m1\u001b[0m\u001b[0;34m/\u001b[0m\u001b[0;36m0\u001b[0m\u001b[0;34m\u001b[0m\u001b[0m\n\u001b[0m",
      "\u001b[0;31mZeroDivisionError\u001b[0m: integer division or modulo by zero"
     ]
    }
   ],
   "source": [
    "print 1/0"
   ]
  },
  {
   "cell_type": "code",
   "execution_count": 26,
   "metadata": {},
   "outputs": [
    {
     "ename": "Exception",
     "evalue": "my own exception",
     "output_type": "error",
     "traceback": [
      "\u001b[0;31m---------------------------------------------------------------------------\u001b[0m",
      "\u001b[0;31mException\u001b[0m                                 Traceback (most recent call last)",
      "\u001b[0;32m<ipython-input-26-0f2bd7a2e196>\u001b[0m in \u001b[0;36m<module>\u001b[0;34m()\u001b[0m\n\u001b[0;32m----> 1\u001b[0;31m \u001b[0;32mraise\u001b[0m \u001b[0mException\u001b[0m\u001b[0;34m(\u001b[0m\u001b[0;34m\"my own exception\"\u001b[0m\u001b[0;34m)\u001b[0m\u001b[0;34m\u001b[0m\u001b[0m\n\u001b[0m",
      "\u001b[0;31mException\u001b[0m: my own exception"
     ]
    }
   ],
   "source": [
    "raise Exception(\"my own exception\")"
   ]
  },
  {
   "cell_type": "code",
   "execution_count": 27,
   "metadata": {},
   "outputs": [
    {
     "name": "stdout",
     "output_type": "stream",
     "text": [
      "a=10, b=20, c=0, d=0\n"
     ]
    }
   ],
   "source": [
    "def fun(a,b,c=0,d=0):\n",
    "    print \"a=%s, b=%s, c=%s, d=%s\"%(a,b,c,d)\n",
    "fun(10,20)\n"
   ]
  },
  {
   "cell_type": "code",
   "execution_count": 28,
   "metadata": {},
   "outputs": [
    {
     "name": "stdout",
     "output_type": "stream",
     "text": [
      "a=10, b=20, c=0, d=0\n",
      "a=10, b=20, c=30, d=40\n"
     ]
    }
   ],
   "source": [
    "def fun(a,b,c=0,d=0):\n",
    "    print \"a=%s, b=%s, c=%s, d=%s\"%(a,b,c,d)\n",
    "fun(10,20)\n",
    "fun(10,20,30,40)"
   ]
  },
  {
   "cell_type": "code",
   "execution_count": 29,
   "metadata": {},
   "outputs": [
    {
     "name": "stdout",
     "output_type": "stream",
     "text": [
      "a=10, b=20, c=0, d=0\n",
      "a=10, b=20, c=30, d=40\n"
     ]
    },
    {
     "ename": "TypeError",
     "evalue": "fun() takes at most 4 arguments (5 given)",
     "output_type": "error",
     "traceback": [
      "\u001b[0;31m---------------------------------------------------------------------------\u001b[0m",
      "\u001b[0;31mTypeError\u001b[0m                                 Traceback (most recent call last)",
      "\u001b[0;32m<ipython-input-29-347b532aa574>\u001b[0m in \u001b[0;36m<module>\u001b[0;34m()\u001b[0m\n\u001b[1;32m      3\u001b[0m \u001b[0mfun\u001b[0m\u001b[0;34m(\u001b[0m\u001b[0;36m10\u001b[0m\u001b[0;34m,\u001b[0m\u001b[0;36m20\u001b[0m\u001b[0;34m)\u001b[0m\u001b[0;34m\u001b[0m\u001b[0m\n\u001b[1;32m      4\u001b[0m \u001b[0mfun\u001b[0m\u001b[0;34m(\u001b[0m\u001b[0;36m10\u001b[0m\u001b[0;34m,\u001b[0m\u001b[0;36m20\u001b[0m\u001b[0;34m,\u001b[0m\u001b[0;36m30\u001b[0m\u001b[0;34m,\u001b[0m\u001b[0;36m40\u001b[0m\u001b[0;34m)\u001b[0m\u001b[0;34m\u001b[0m\u001b[0m\n\u001b[0;32m----> 5\u001b[0;31m \u001b[0mfun\u001b[0m\u001b[0;34m(\u001b[0m\u001b[0;36m10\u001b[0m\u001b[0;34m,\u001b[0m\u001b[0;36m20\u001b[0m\u001b[0;34m,\u001b[0m\u001b[0;36m30\u001b[0m\u001b[0;34m,\u001b[0m\u001b[0;36m40\u001b[0m\u001b[0;34m,\u001b[0m\u001b[0;36m50\u001b[0m\u001b[0;34m)\u001b[0m\u001b[0;34m\u001b[0m\u001b[0m\n\u001b[0m",
      "\u001b[0;31mTypeError\u001b[0m: fun() takes at most 4 arguments (5 given)"
     ]
    }
   ],
   "source": [
    "def fun(a,b,c=0,d=0):\n",
    "    print \"a=%s, b=%s, c=%s, d=%s\"%(a,b,c,d)\n",
    "fun(10,20)\n",
    "fun(10,20,30,40)\n",
    "fun(10,20,30,40,50)"
   ]
  },
  {
   "cell_type": "code",
   "execution_count": 30,
   "metadata": {},
   "outputs": [
    {
     "name": "stdout",
     "output_type": "stream",
     "text": [
      "() <type 'tuple'>\n"
     ]
    }
   ],
   "source": [
    "def fun(*k):\n",
    "    print k,type(k)\n",
    "fun()"
   ]
  },
  {
   "cell_type": "code",
   "execution_count": 31,
   "metadata": {},
   "outputs": [
    {
     "name": "stdout",
     "output_type": "stream",
     "text": [
      "() <type 'tuple'>\n",
      "(10, 20) <type 'tuple'>\n",
      "(10, 20, 30, 40, 50, 60, 70, 80, 90) <type 'tuple'>\n",
      "(10, 20, 30, 40) <type 'tuple'>\n",
      "(10, 1, 2, 3, 4, 5, 6, 7, 8, 9, 0, 1, 2, 3, 4, 5, 6, 7, 8, 89, 9, 0, 0) <type 'tuple'>\n"
     ]
    }
   ],
   "source": [
    "def fun(*k):\n",
    "    print k,type(k)\n",
    "fun()\n",
    "fun(10,20)\n",
    "fun(10,20,30,40,50,60,70,80,90)\n",
    "fun(10,20,30,40)\n",
    "fun(10,1,2,3,4,5,6,7,8,9,0,1,2,3,4,5,6,7,8,89,9,0,0)"
   ]
  },
  {
   "cell_type": "code",
   "execution_count": 32,
   "metadata": {},
   "outputs": [
    {
     "name": "stdout",
     "output_type": "stream",
     "text": [
      "(10, 20) <type 'tuple'>\n"
     ]
    },
    {
     "ename": "TypeError",
     "evalue": "fun() got an unexpected keyword argument 'a'",
     "output_type": "error",
     "traceback": [
      "\u001b[0;31m---------------------------------------------------------------------------\u001b[0m",
      "\u001b[0;31mTypeError\u001b[0m                                 Traceback (most recent call last)",
      "\u001b[0;32m<ipython-input-32-0c392aaca314>\u001b[0m in \u001b[0;36m<module>\u001b[0;34m()\u001b[0m\n\u001b[1;32m      2\u001b[0m     \u001b[0;32mprint\u001b[0m \u001b[0mk\u001b[0m\u001b[0;34m,\u001b[0m\u001b[0mtype\u001b[0m\u001b[0;34m(\u001b[0m\u001b[0mk\u001b[0m\u001b[0;34m)\u001b[0m\u001b[0;34m\u001b[0m\u001b[0m\n\u001b[1;32m      3\u001b[0m \u001b[0mfun\u001b[0m\u001b[0;34m(\u001b[0m\u001b[0;36m10\u001b[0m\u001b[0;34m,\u001b[0m\u001b[0;36m20\u001b[0m\u001b[0;34m)\u001b[0m\u001b[0;34m\u001b[0m\u001b[0m\n\u001b[0;32m----> 4\u001b[0;31m \u001b[0mfun\u001b[0m\u001b[0;34m(\u001b[0m\u001b[0ma\u001b[0m\u001b[0;34m=\u001b[0m\u001b[0;36m10\u001b[0m\u001b[0;34m,\u001b[0m\u001b[0mb\u001b[0m\u001b[0;34m=\u001b[0m\u001b[0;36m20\u001b[0m\u001b[0;34m)\u001b[0m\u001b[0;34m\u001b[0m\u001b[0m\n\u001b[0m",
      "\u001b[0;31mTypeError\u001b[0m: fun() got an unexpected keyword argument 'a'"
     ]
    }
   ],
   "source": [
    "def fun(*k):\n",
    "    print k,type(k)\n",
    "fun(10,20)\n",
    "fun(a=10,b=20)"
   ]
  },
  {
   "cell_type": "code",
   "execution_count": 33,
   "metadata": {},
   "outputs": [
    {
     "name": "stdout",
     "output_type": "stream",
     "text": [
      "(10, 20) <type 'tuple'>\n",
      "{} <type 'dict'>\n",
      "() <type 'tuple'>\n",
      "{'a': 10, 'b': 20} <type 'dict'>\n"
     ]
    }
   ],
   "source": [
    "def fun(*k, **kw):\n",
    "    print k,type(k)\n",
    "    print kw, type(kw)\n",
    "fun(10,20)\n",
    "fun(a=10,b=20)"
   ]
  },
  {
   "cell_type": "code",
   "execution_count": 34,
   "metadata": {},
   "outputs": [
    {
     "name": "stdout",
     "output_type": "stream",
     "text": [
      "(10, 20) <type 'tuple'>\n",
      "{'c': 20, 'd': 40} <type 'dict'>\n",
      "() <type 'tuple'>\n",
      "{'a': 10, 'b': 20} <type 'dict'>\n"
     ]
    }
   ],
   "source": [
    "def fun(*k, **kw):\n",
    "    print k,type(k)\n",
    "    print kw, type(kw)\n",
    "fun(10,20,c=20,d=40)\n",
    "fun(a=10,b=20)"
   ]
  },
  {
   "cell_type": "code",
   "execution_count": 36,
   "metadata": {},
   "outputs": [
    {
     "name": "stdout",
     "output_type": "stream",
     "text": [
      "10 20\n",
      "() <type 'tuple'>\n",
      "{'c': 20, 'd': 40} <type 'dict'>\n",
      "10 20\n",
      "() <type 'tuple'>\n",
      "{} <type 'dict'>\n"
     ]
    }
   ],
   "source": [
    "def fun(a,b,*k, **kw):\n",
    "    print a,b\n",
    "    print k,type(k)\n",
    "    print kw, type(kw)\n",
    "fun(10,20,c=20,d=40)\n",
    "fun(a=10,b=20)"
   ]
  },
  {
   "cell_type": "code",
   "execution_count": 37,
   "metadata": {},
   "outputs": [
    {
     "name": "stdout",
     "output_type": "stream",
     "text": [
      "0\n",
      "this is init\n"
     ]
    },
    {
     "name": "stderr",
     "output_type": "stream",
     "text": [
      "/home/khyaathi-python/anaconda2/lib/python2.7/site-packages/ipykernel_launcher.py:5: DeprecationWarning: object() takes no parameters\n",
      "  \"\"\"\n"
     ]
    }
   ],
   "source": [
    "class c1(object):\n",
    "    obj_count=0\n",
    "    def __new__(cls, *args, **kwargs):\n",
    "        print cls.obj_count\n",
    "        obj=object.__new__(cls, *args, **kwargs)\n",
    "        return obj\n",
    "    def __init__(self,a,b):\n",
    "        print \"this is init\"\n",
    "        self.a=a\n",
    "        self.b=b\n",
    "o=c1(10,20)"
   ]
  },
  {
   "cell_type": "code",
   "execution_count": 38,
   "metadata": {},
   "outputs": [
    {
     "name": "stdout",
     "output_type": "stream",
     "text": [
      "this is init\n",
      "this is init\n",
      "this is init\n",
      "3\n"
     ]
    },
    {
     "name": "stderr",
     "output_type": "stream",
     "text": [
      "/home/khyaathi-python/anaconda2/lib/python2.7/site-packages/ipykernel_launcher.py:4: DeprecationWarning: object() takes no parameters\n",
      "  after removing the cwd from sys.path.\n"
     ]
    }
   ],
   "source": [
    "class c1(object):\n",
    "    obj_count=0\n",
    "    def __new__(cls, *args, **kwargs):\n",
    "        obj=object.__new__(cls, *args, **kwargs)\n",
    "        cls.obj_count = cls.obj_count+1\n",
    "        return obj\n",
    "    def __init__(self,a,b):\n",
    "        print \"this is init\"\n",
    "        self.a=a\n",
    "        self.b=b\n",
    "o1=c1(10,20)\n",
    "o2=c1(10,20)\n",
    "o3=c1(10,20)\n",
    "print c1.obj_count"
   ]
  },
  {
   "cell_type": "code",
   "execution_count": 39,
   "metadata": {},
   "outputs": [
    {
     "name": "stdout",
     "output_type": "stream",
     "text": [
      "this is init\n",
      "this is init\n"
     ]
    },
    {
     "name": "stderr",
     "output_type": "stream",
     "text": [
      "/home/khyaathi-python/anaconda2/lib/python2.7/site-packages/ipykernel_launcher.py:6: DeprecationWarning: object() takes no parameters\n",
      "  \n"
     ]
    }
   ],
   "source": [
    "class c1(object):\n",
    "    obj_count=0\n",
    "    def __new__(cls, *args, **kwargs):\n",
    "        if cls.obj_count>2:\n",
    "            raise Exception(\"could not create morethan two\")\n",
    "        obj=object.__new__(cls, *args, **kwargs)\n",
    "        cls.obj_count = cls.obj_count+1\n",
    "        return obj\n",
    "    def __init__(self,a,b):\n",
    "        print \"this is init\"\n",
    "        self.a=a\n",
    "        self.b=b\n",
    "o1=c1(10,20)\n",
    "o2=c1(10,20)\n"
   ]
  },
  {
   "cell_type": "code",
   "execution_count": 42,
   "metadata": {},
   "outputs": [
    {
     "name": "stdout",
     "output_type": "stream",
     "text": [
      "this is init\n",
      "this is init\n"
     ]
    },
    {
     "name": "stderr",
     "output_type": "stream",
     "text": [
      "/home/khyaathi-python/anaconda2/lib/python2.7/site-packages/ipykernel_launcher.py:6: DeprecationWarning: object() takes no parameters\n",
      "  \n"
     ]
    },
    {
     "ename": "Exception",
     "evalue": "could not create morethan two",
     "output_type": "error",
     "traceback": [
      "\u001b[0;31m---------------------------------------------------------------------------\u001b[0m",
      "\u001b[0;31mException\u001b[0m                                 Traceback (most recent call last)",
      "\u001b[0;32m<ipython-input-42-47b66bf85789>\u001b[0m in \u001b[0;36m<module>\u001b[0;34m()\u001b[0m\n\u001b[1;32m     13\u001b[0m \u001b[0mo1\u001b[0m\u001b[0;34m=\u001b[0m\u001b[0mc1\u001b[0m\u001b[0;34m(\u001b[0m\u001b[0;36m10\u001b[0m\u001b[0;34m,\u001b[0m\u001b[0;36m20\u001b[0m\u001b[0;34m)\u001b[0m\u001b[0;34m\u001b[0m\u001b[0m\n\u001b[1;32m     14\u001b[0m \u001b[0mo2\u001b[0m\u001b[0;34m=\u001b[0m\u001b[0mc1\u001b[0m\u001b[0;34m(\u001b[0m\u001b[0;36m10\u001b[0m\u001b[0;34m,\u001b[0m\u001b[0;36m20\u001b[0m\u001b[0;34m)\u001b[0m\u001b[0;34m\u001b[0m\u001b[0m\n\u001b[0;32m---> 15\u001b[0;31m \u001b[0mo3\u001b[0m\u001b[0;34m=\u001b[0m\u001b[0mc1\u001b[0m\u001b[0;34m(\u001b[0m\u001b[0;36m10\u001b[0m\u001b[0;34m,\u001b[0m\u001b[0;36m20\u001b[0m\u001b[0;34m)\u001b[0m\u001b[0;34m\u001b[0m\u001b[0m\n\u001b[0m",
      "\u001b[0;32m<ipython-input-42-47b66bf85789>\u001b[0m in \u001b[0;36m__new__\u001b[0;34m(cls, *args, **kwargs)\u001b[0m\n\u001b[1;32m      3\u001b[0m     \u001b[0;32mdef\u001b[0m \u001b[0m__new__\u001b[0m\u001b[0;34m(\u001b[0m\u001b[0mcls\u001b[0m\u001b[0;34m,\u001b[0m \u001b[0;34m*\u001b[0m\u001b[0margs\u001b[0m\u001b[0;34m,\u001b[0m \u001b[0;34m**\u001b[0m\u001b[0mkwargs\u001b[0m\u001b[0;34m)\u001b[0m\u001b[0;34m:\u001b[0m\u001b[0;34m\u001b[0m\u001b[0m\n\u001b[1;32m      4\u001b[0m         \u001b[0;32mif\u001b[0m \u001b[0mcls\u001b[0m\u001b[0;34m.\u001b[0m\u001b[0mobj_count\u001b[0m\u001b[0;34m>=\u001b[0m\u001b[0;36m2\u001b[0m\u001b[0;34m:\u001b[0m\u001b[0;34m\u001b[0m\u001b[0m\n\u001b[0;32m----> 5\u001b[0;31m             \u001b[0;32mraise\u001b[0m \u001b[0mException\u001b[0m\u001b[0;34m(\u001b[0m\u001b[0;34m\"could not create morethan two\"\u001b[0m\u001b[0;34m)\u001b[0m\u001b[0;34m\u001b[0m\u001b[0m\n\u001b[0m\u001b[1;32m      6\u001b[0m         \u001b[0mobj\u001b[0m\u001b[0;34m=\u001b[0m\u001b[0mobject\u001b[0m\u001b[0;34m.\u001b[0m\u001b[0m__new__\u001b[0m\u001b[0;34m(\u001b[0m\u001b[0mcls\u001b[0m\u001b[0;34m,\u001b[0m \u001b[0;34m*\u001b[0m\u001b[0margs\u001b[0m\u001b[0;34m,\u001b[0m \u001b[0;34m**\u001b[0m\u001b[0mkwargs\u001b[0m\u001b[0;34m)\u001b[0m\u001b[0;34m\u001b[0m\u001b[0m\n\u001b[1;32m      7\u001b[0m         \u001b[0mcls\u001b[0m\u001b[0;34m.\u001b[0m\u001b[0mobj_count\u001b[0m \u001b[0;34m=\u001b[0m \u001b[0mcls\u001b[0m\u001b[0;34m.\u001b[0m\u001b[0mobj_count\u001b[0m\u001b[0;34m+\u001b[0m\u001b[0;36m1\u001b[0m\u001b[0;34m\u001b[0m\u001b[0m\n",
      "\u001b[0;31mException\u001b[0m: could not create morethan two"
     ]
    }
   ],
   "source": [
    "class c1(object):\n",
    "    obj_count=0\n",
    "    def __new__(cls, *args, **kwargs):\n",
    "        if cls.obj_count>=2:\n",
    "            raise Exception(\"could not create morethan two\")\n",
    "        obj=object.__new__(cls, *args, **kwargs)\n",
    "        cls.obj_count = cls.obj_count+1\n",
    "        return obj\n",
    "    def __init__(self,a,b):\n",
    "        print \"this is init\"\n",
    "        self.a=a\n",
    "        self.b=b\n",
    "o1=c1(10,20)\n",
    "o2=c1(10,20)\n",
    "o3=c1(10,20)"
   ]
  },
  {
   "cell_type": "code",
   "execution_count": 44,
   "metadata": {},
   "outputs": [
    {
     "name": "stdout",
     "output_type": "stream",
     "text": [
      "('jayaram', 1, 'KHYAATHI', 'Maithrivanam')\n",
      "('KHYAATHI', 'Maithrivanam')\n"
     ]
    }
   ],
   "source": [
    "# class method# instance method # static method\n",
    "class Emp:\n",
    "    comapny_name=\"KHYAATHI\"\n",
    "    company_address=\"Maithrivanam\"\n",
    "    def __init__(self, name, e_id):\n",
    "        self.name=name\n",
    "        self.id=e_id\n",
    "    def get(self):\n",
    "        return self.name, self.id, self.comapny_name, self.company_address\n",
    "    def get_company_details(self):\n",
    "        return self.comapny_name, self.company_address\n",
    "jay=Emp(\"jayaram\",1)\n",
    "print jay.get()\n",
    "print jay.get_company_details()"
   ]
  },
  {
   "cell_type": "code",
   "execution_count": 45,
   "metadata": {},
   "outputs": [
    {
     "name": "stdout",
     "output_type": "stream",
     "text": [
      "('jayaram', 1, 'KHYAATHI', 'Maithrivanam')\n",
      "('KHYAATHI', 'Maithrivanam')\n"
     ]
    }
   ],
   "source": [
    "# class method# instance method # static method\n",
    "class Emp:\n",
    "    comapny_name=\"KHYAATHI\"\n",
    "    company_address=\"Maithrivanam\"\n",
    "    def __init__(self, name, e_id):\n",
    "        self.name=name\n",
    "        self.id=e_id\n",
    "    def get(self):\n",
    "        return self.name, self.id, self.comapny_name, self.company_address\n",
    "    @classmethod\n",
    "    def get_company_details(self):\n",
    "        return self.comapny_name, self.company_address\n",
    "jay=Emp(\"jayaram\",1)\n",
    "print jay.get()\n",
    "print jay.get_company_details()"
   ]
  },
  {
   "cell_type": "code",
   "execution_count": 46,
   "metadata": {},
   "outputs": [
    {
     "name": "stdout",
     "output_type": "stream",
     "text": [
      "('jayaram', 1, 'KHYAATHI', 'Maithrivanam')\n",
      "('KHYAATHI', 'Maithrivanam')\n"
     ]
    }
   ],
   "source": [
    "# class method# instance method # static method\n",
    "class Emp:\n",
    "    comapny_name=\"KHYAATHI\"\n",
    "    company_address=\"Maithrivanam\"\n",
    "    def __init__(self, name, e_id):\n",
    "        self.name=name\n",
    "        self.id=e_id\n",
    "    def get(self):\n",
    "        return self.name, self.id, self.comapny_name, self.company_address\n",
    "    @classmethod\n",
    "    def get_company_details(cls):\n",
    "        return cls.comapny_name, cls.company_address\n",
    "jay=Emp(\"jayaram\",1)\n",
    "print jay.get()\n",
    "print jay.get_company_details()"
   ]
  },
  {
   "cell_type": "code",
   "execution_count": 47,
   "metadata": {},
   "outputs": [
    {
     "name": "stdout",
     "output_type": "stream",
     "text": [
      "('jayaram', 1, 'KHYAATHI', 'Maithrivanam')\n",
      "('KHYAATHI', 'Maithrivanam')\n",
      "('KHYAATHI', 'Maithrivanam')\n"
     ]
    }
   ],
   "source": [
    "# class method# instance method # static method\n",
    "class Emp:\n",
    "    comapny_name=\"KHYAATHI\"\n",
    "    company_address=\"Maithrivanam\"\n",
    "    def __init__(self, name, e_id):\n",
    "        self.name=name\n",
    "        self.id=e_id\n",
    "    def get(self):\n",
    "        return self.name, self.id, self.comapny_name, self.company_address\n",
    "    @classmethod\n",
    "    def get_company_details(cls):\n",
    "        return cls.comapny_name, cls.company_address\n",
    "jay=Emp(\"jayaram\",1)\n",
    "print jay.get()\n",
    "print jay.get_company_details()\n",
    "print Emp.get_company_details()"
   ]
  },
  {
   "cell_type": "code",
   "execution_count": 49,
   "metadata": {},
   "outputs": [
    {
     "name": "stdout",
     "output_type": "stream",
     "text": [
      "('jayaram', 1, 'KHYAATHI', 'Maithrivanam')\n",
      "('KHYAATHI', 'Maithrivanam')\n",
      "('KHYAATHI', 'Maithrivanam')\n"
     ]
    }
   ],
   "source": [
    "# class method# instance method # static method\n",
    "class Emp:\n",
    "    comapny_name=\"KHYAATHI\"\n",
    "    company_address=\"Maithrivanam\"\n",
    "    def __init__(self, name, e_id):\n",
    "        self.name=name\n",
    "        self.id=e_id\n",
    "    def get(self):\n",
    "        return self.name, self.id, self.comapny_name, self.company_address\n",
    "\n",
    "    def get_company_details(cls):\n",
    "        return cls.comapny_name, cls.company_address\n",
    "jay=Emp(\"jayaram\",1)\n",
    "print jay.get()\n",
    "print jay.get_company_details()\n",
    "print Emp.get_company_details(jay)"
   ]
  },
  {
   "cell_type": "code",
   "execution_count": 50,
   "metadata": {},
   "outputs": [
    {
     "name": "stdout",
     "output_type": "stream",
     "text": [
      "('jayaram', 1, 'KHYAATHI', 'Maithrivanam')\n",
      "('KHYAATHI', 'Maithrivanam')\n",
      "('KHYAATHI', 'Maithrivanam')\n"
     ]
    }
   ],
   "source": [
    "# class method# instance method # static method\n",
    "class Emp:\n",
    "    comapny_name=\"KHYAATHI\"\n",
    "    company_address=\"Maithrivanam\"\n",
    "    def __init__(self, name, e_id):\n",
    "        self.name=name\n",
    "        self.id=e_id\n",
    "    def get(self):\n",
    "        return self.name, self.id, self.comapny_name, self.company_address\n",
    "    @classmethod\n",
    "    def get_company_details(cls):\n",
    "        return cls.comapny_name, cls.company_address\n",
    "jay=Emp(\"jayaram\",1)\n",
    "print jay.get()\n",
    "print jay.get_company_details()\n",
    "print Emp.get_company_details()"
   ]
  },
  {
   "cell_type": "code",
   "execution_count": 51,
   "metadata": {},
   "outputs": [
    {
     "name": "stdout",
     "output_type": "stream",
     "text": [
      "('jayaram', 1, 'KHYAATHI', 'Maithrivanam')\n",
      "('KHYAATHI', 'Maithrivanam')\n"
     ]
    },
    {
     "ename": "NameError",
     "evalue": "name 'cls' is not defined",
     "output_type": "error",
     "traceback": [
      "\u001b[0;31m---------------------------------------------------------------------------\u001b[0m",
      "\u001b[0;31mNameError\u001b[0m                                 Traceback (most recent call last)",
      "\u001b[0;32m<ipython-input-51-2b0151beb00a>\u001b[0m in \u001b[0;36m<module>\u001b[0;34m()\u001b[0m\n\u001b[1;32m     14\u001b[0m \u001b[0;32mprint\u001b[0m \u001b[0mjay\u001b[0m\u001b[0;34m.\u001b[0m\u001b[0mget\u001b[0m\u001b[0;34m(\u001b[0m\u001b[0;34m)\u001b[0m\u001b[0;34m\u001b[0m\u001b[0m\n\u001b[1;32m     15\u001b[0m \u001b[0;32mprint\u001b[0m \u001b[0mjay\u001b[0m\u001b[0;34m.\u001b[0m\u001b[0mget_company_details\u001b[0m\u001b[0;34m(\u001b[0m\u001b[0;34m)\u001b[0m\u001b[0;34m\u001b[0m\u001b[0m\n\u001b[0;32m---> 16\u001b[0;31m \u001b[0;32mprint\u001b[0m \u001b[0mcls\u001b[0m\u001b[0;34m.\u001b[0m\u001b[0mget_company_details\u001b[0m\u001b[0;34m(\u001b[0m\u001b[0;34m)\u001b[0m\u001b[0;34m\u001b[0m\u001b[0m\n\u001b[0m",
      "\u001b[0;31mNameError\u001b[0m: name 'cls' is not defined"
     ]
    }
   ],
   "source": [
    "# class method# instance method # static method\n",
    "class Emp:\n",
    "    comapny_name=\"KHYAATHI\"\n",
    "    company_address=\"Maithrivanam\"\n",
    "    def __init__(self, name, e_id):\n",
    "        self.name=name\n",
    "        self.id=e_id\n",
    "    def get(self):\n",
    "        return self.name, self.id, self.comapny_name, self.company_address\n",
    "    @classmethod\n",
    "    def get_company_details(cls):\n",
    "        return cls.comapny_name, cls.company_address\n",
    "jay=Emp(\"jayaram\",1)\n",
    "print jay.get()\n",
    "print jay.get_company_details()\n",
    "print cls.get_company_details()"
   ]
  },
  {
   "cell_type": "code",
   "execution_count": 52,
   "metadata": {},
   "outputs": [
    {
     "data": {
      "text/plain": [
       "('KHYAATHI', 'Maithrivanam')"
      ]
     },
     "execution_count": 52,
     "metadata": {},
     "output_type": "execute_result"
    }
   ],
   "source": [
    "# class method# instance method # static method\n",
    "class Emp:\n",
    "    comapny_name=\"KHYAATHI\"\n",
    "    company_address=\"Maithrivanam\"\n",
    "    def __init__(self, name, e_id):\n",
    "        self.name=name\n",
    "        self.id=e_id\n",
    "    def get(self):\n",
    "        return self.name, self.id, self.comapny_name, self.company_address\n",
    "    @classmethod\n",
    "    def get_company_details(cls):\n",
    "        return cls.comapny_name, cls.company_address\n",
    "Emp.get_company_details()\n"
   ]
  },
  {
   "cell_type": "code",
   "execution_count": 54,
   "metadata": {},
   "outputs": [
    {
     "name": "stdout",
     "output_type": "stream",
     "text": [
      "('KHYAATHI', 'Maithrivanam')\n",
      "10 20\n"
     ]
    }
   ],
   "source": [
    "# class method# instance method # static method\n",
    "class Emp:\n",
    "    comapny_name=\"KHYAATHI\"\n",
    "    company_address=\"Maithrivanam\"\n",
    "    def __init__(self, name, e_id):\n",
    "        self.name=name\n",
    "        self.id=e_id\n",
    "    def get(self):\n",
    "        return self.name, self.id, self.comapny_name, self.company_address\n",
    "    @classmethod\n",
    "    def get_company_details(cls):\n",
    "        return cls.comapny_name, cls.company_address\n",
    "    @staticmethod\n",
    "    def sta(a,b):\n",
    "        print a,b\n",
    "print Emp.get_company_details()\n",
    "Emp.sta(10,20)"
   ]
  },
  {
   "cell_type": "code",
   "execution_count": 56,
   "metadata": {},
   "outputs": [
    {
     "name": "stdout",
     "output_type": "stream",
     "text": [
      "('KHYAATHI', 'Maithrivanam')\n",
      "10 20\n",
      "('jayaram', 2, ('KHYAATHI', 'Maithrivanam'))\n"
     ]
    }
   ],
   "source": [
    "# class method# instance method # static method\n",
    "class Emp:\n",
    "    comapny_name=\"KHYAATHI\"\n",
    "    company_address=\"Maithrivanam\"\n",
    "    def __init__(self, name, e_id):\n",
    "        self.name=name\n",
    "        self.id=e_id\n",
    "    def get(self):\n",
    "        return self.name, self.id, self.get_company_details()\n",
    "    @classmethod\n",
    "    def get_company_details(cls):\n",
    "        return cls.comapny_name, cls.company_address\n",
    "    @staticmethod\n",
    "    def sta(a,b):\n",
    "        print a,b\n",
    "jay=Emp(\"jayaram\",2)\n",
    "print Emp.get_company_details()\n",
    "Emp.sta(10,20)\n",
    "print jay.get()"
   ]
  },
  {
   "cell_type": "code",
   "execution_count": null,
   "metadata": {
    "collapsed": true
   },
   "outputs": [],
   "source": []
  }
 ],
 "metadata": {
  "kernelspec": {
   "display_name": "Python 2",
   "language": "python",
   "name": "python2"
  },
  "language_info": {
   "codemirror_mode": {
    "name": "ipython",
    "version": 2
   },
   "file_extension": ".py",
   "mimetype": "text/x-python",
   "name": "python",
   "nbconvert_exporter": "python",
   "pygments_lexer": "ipython2",
   "version": "2.7.14"
  }
 },
 "nbformat": 4,
 "nbformat_minor": 2
}
