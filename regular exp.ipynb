{
 "cells": [
  {
   "cell_type": "code",
   "execution_count": 2,
   "metadata": {},
   "outputs": [
    {
     "name": "stdout",
     "output_type": "stream",
     "text": [
      "\n",
      "Name, id, email, phone\n",
      "sai,1,Sail123@gamil.com,9676622023\n",
      "jayaram,2,jayWE@yahoo.co.in,9676622024\n",
      "vedha,3,vedhanveshRT@rediff.com,967622025\n",
      "\n"
     ]
    }
   ],
   "source": [
    "s=\"\"\"\n",
    "Name, id, email, phone\n",
    "sai,1,Sail123@gamil.com,9676622023\n",
    "jayaram,2,jayWE@yahoo.co.in,9676622024\n",
    "vedha,3,vedhanveshRT@rediff.com,967622025\n",
    "\"\"\"\n",
    "print(s)"
   ]
  },
  {
   "cell_type": "code",
   "execution_count": 4,
   "metadata": {},
   "outputs": [
    {
     "name": "stdout",
     "output_type": "stream",
     "text": [
      "['']\n",
      "['Name', ' id', ' email', ' phone']\n",
      "['sai', '1', 'Sail123@gamil.com', '9676622023']\n",
      "['jayaram', '2', 'jayWE@yahoo.co.in', '9676622024']\n",
      "['vedha', '3', 'vedhanveshRT@rediff.com', '967622025']\n"
     ]
    }
   ],
   "source": [
    "s=\"\"\"\n",
    "Name, id, email, phone\n",
    "sai,1,Sail123@gamil.com,9676622023\n",
    "jayaram,2,jayWE@yahoo.co.in,9676622024\n",
    "vedha,3,vedhanveshRT@rediff.com,967622025\n",
    "\"\"\"\n",
    "for row in s.splitlines():\n",
    "    print row.split(\",\")"
   ]
  },
  {
   "cell_type": "code",
   "execution_count": 5,
   "metadata": {},
   "outputs": [
    {
     "name": "stdout",
     "output_type": "stream",
     "text": [
      "['Name', ' id', ' email', ' phone']\n",
      "['sai', '1', 'Sail123@gamil.com', '9676622023']\n",
      "['jayaram', '2', 'jayWE@yahoo.co.in', '9676622024']\n",
      "['vedha', '3', 'vedhanveshRT@rediff.com', '967622025']\n"
     ]
    }
   ],
   "source": [
    "s=\"\"\"Name, id, email, phone\n",
    "sai,1,Sail123@gamil.com,9676622023\n",
    "jayaram,2,jayWE@yahoo.co.in,9676622024\n",
    "vedha,3,vedhanveshRT@rediff.com,967622025\n",
    "\"\"\"\n",
    "for row in s.splitlines():\n",
    "    print(row.split(\",\"))"
   ]
  },
  {
   "cell_type": "code",
   "execution_count": 6,
   "metadata": {},
   "outputs": [
    {
     "name": "stdout",
     "output_type": "stream",
     "text": [
      " email\n",
      "Sail123@gamil.com\n",
      "jayWE@yahoo.co.in\n",
      "vedhanveshRT@rediff.com\n"
     ]
    }
   ],
   "source": [
    "s=\"\"\"Name, id, email, phone\n",
    "sai,1,Sail123@gamil.com,9676622023\n",
    "jayaram,2,jayWE@yahoo.co.in,9676622024\n",
    "vedha,3,vedhanveshRT@rediff.com,967622025\n",
    "\"\"\"\n",
    "for row in s.splitlines():\n",
    "    print(row.split(\",\")[2])"
   ]
  },
  {
   "cell_type": "code",
   "execution_count": 7,
   "metadata": {},
   "outputs": [
    {
     "name": "stdout",
     "output_type": "stream",
     "text": [
      " phone\n",
      "9676622023\n",
      "9676622024\n",
      "967622025\n"
     ]
    }
   ],
   "source": [
    "s=\"\"\"Name, id, email, phone\n",
    "sai,1,Sail123@gamil.com,9676622023\n",
    "jayaram,2,jayWE@yahoo.co.in,9676622024\n",
    "vedha,3,vedhanveshRT@rediff.com,967622025\n",
    "\"\"\"\n",
    "for row in s.splitlines():\n",
    "    print(row.split(\",\")[3])"
   ]
  },
  {
   "cell_type": "code",
   "execution_count": 9,
   "metadata": {},
   "outputs": [
    {
     "name": "stdout",
     "output_type": "stream",
     "text": [
      "9676622023\n",
      "9676622024\n",
      "9676622025\n",
      "6\n"
     ]
    }
   ],
   "source": [
    "s=\"\"\"sai,1,Sail123@gamil.com,9676622023\n",
    "2,jayaram,jayWE@yahoo.co.in,9676622024\n",
    "vedhanveshRT@rediff.com,vedha,3,9676622025\n",
    "9676622026,dhana,DHANA@govt.org,6\n",
    "\"\"\"\n",
    "for row in s.splitlines():\n",
    "    print(row.split(\",\")[3])"
   ]
  },
  {
   "cell_type": "code",
   "execution_count": 10,
   "metadata": {},
   "outputs": [
    {
     "name": "stdout",
     "output_type": "stream",
     "text": [
      "['9676622023', '9676622024', '9676622025', '9676622026']\n"
     ]
    }
   ],
   "source": [
    "s=\"\"\"sai,1,Sail123@gamil.com,9676622023\n",
    "2,jayaram,jayWE@yahoo.co.in,9676622024\n",
    "vedhanveshRT@rediff.com,vedha,3,9676622025\n",
    "9676622026,dhana,DHANA@govt.org,6\n",
    "\"\"\"\n",
    "import re\n",
    "print(re.findall(\"[0-9]{10}\",s))"
   ]
  },
  {
   "cell_type": "code",
   "execution_count": 11,
   "metadata": {},
   "outputs": [
    {
     "name": "stdout",
     "output_type": "stream",
     "text": [
      "['a', 'a', 'a', 'c', 'a', 'a', 'a', 'a', 'a', 'c', 'd', 'a', 'd', 'c', 'd', 'a', 'd', 'a', 'a']\n"
     ]
    }
   ],
   "source": [
    "s=\"\"\"sai,1,Sail123@gamil.com,9676622023\n",
    "2,jayaram,jayWE@yahoo.co.in,9676622024\n",
    "vedhanveshRT@rediff.com,vedha,3,9676622025\n",
    "9676622026,dhana,DHANA@govt.org,6\n",
    "\"\"\"\n",
    "import re\n",
    "print(re.findall(\"[abcd]\",s))"
   ]
  },
  {
   "cell_type": "code",
   "execution_count": 12,
   "metadata": {},
   "outputs": [
    {
     "name": "stdout",
     "output_type": "stream",
     "text": [
      "['a', 'a', 'a', 'c', 'a', 'a', 'a', 'a', 'a', 'c', 'd', 'a', 'd', 'c', 'd', 'a', 'd', 'a', 'a', 'D', 'A', 'A']\n"
     ]
    }
   ],
   "source": [
    "s=\"\"\"sai,1,Sail123@gamil.com,9676622023\n",
    "2,jayaram,jayWE@yahoo.co.in,9676622024\n",
    "vedhanveshRT@rediff.com,vedha,3,9676622025\n",
    "9676622026,dhana,DHANA@govt.org,6\n",
    "\"\"\"\n",
    "import re\n",
    "print(re.findall(\"[abcd]\",s,re.I))"
   ]
  },
  {
   "cell_type": "code",
   "execution_count": 13,
   "metadata": {},
   "outputs": [
    {
     "name": "stdout",
     "output_type": "stream",
     "text": [
      "['s', 'a', 'i', 'S', 'a', 'i', 'l', 'g', 'a', 'm', 'i', 'l', 'c', 'o', 'm', 'j', 'a', 'y', 'a', 'r', 'a', 'm', 'j', 'a', 'y', 'W', 'E', 'y', 'a', 'h', 'o', 'o', 'c', 'o', 'i', 'n', 'v', 'e', 'd', 'h', 'a', 'n', 'v', 'e', 's', 'h', 'R', 'T', 'r', 'e', 'd', 'i', 'f', 'f', 'c', 'o', 'm', 'v', 'e', 'd', 'h', 'a', 'd', 'h', 'a', 'n', 'a', 'D', 'H', 'A', 'N', 'A', 'g', 'o', 'v', 't', 'o', 'r', 'g']\n"
     ]
    }
   ],
   "source": [
    "s=\"\"\"sai,1,Sail123@gamil.com,9676622023\n",
    "2,jayaram,jayWE@yahoo.co.in,9676622024\n",
    "vedhanveshRT@rediff.com,vedha,3,9676622025\n",
    "9676622026,dhana,DHANA@govt.org,6\n",
    "\"\"\"\n",
    "import re\n",
    "print(re.findall(\"[a-z]\",s,re.I))"
   ]
  },
  {
   "cell_type": "code",
   "execution_count": 14,
   "metadata": {},
   "outputs": [
    {
     "name": "stdout",
     "output_type": "stream",
     "text": [
      "['1', '1', '2', '3', '9', '6', '7', '6', '6', '2', '2', '0', '2', '3', '2', '9', '6', '7', '6', '6', '2', '2', '0', '2', '4', '3', '9', '6', '7', '6', '6', '2', '2', '0', '2', '5', '9', '6', '7', '6', '6', '2', '2', '0', '2', '6', '6']\n"
     ]
    }
   ],
   "source": [
    "s=\"\"\"sai,1,Sail123@gamil.com,9676622023\n",
    "2,jayaram,jayWE@yahoo.co.in,9676622024\n",
    "vedhanveshRT@rediff.com,vedha,3,9676622025\n",
    "9676622026,dhana,DHANA@govt.org,6\n",
    "\"\"\"\n",
    "import re\n",
    "print(re.findall(\"[0-9]\",s,re.I))"
   ]
  },
  {
   "cell_type": "code",
   "execution_count": 15,
   "metadata": {},
   "outputs": [
    {
     "name": "stdout",
     "output_type": "stream",
     "text": [
      "['12', '96', '76', '62', '20', '23', '96', '76', '62', '20', '24', '96', '76', '62', '20', '25', '96', '76', '62', '20', '26']\n"
     ]
    }
   ],
   "source": [
    "s=\"\"\"sai,1,Sail123@gamil.com,9676622023\n",
    "2,jayaram,jayWE@yahoo.co.in,9676622024\n",
    "vedhanveshRT@rediff.com,vedha,3,9676622025\n",
    "9676622026,dhana,DHANA@govt.org,6\n",
    "\"\"\"\n",
    "import re\n",
    "print(re.findall(\"[0-9][0-9]\",s,re.I))"
   ]
  },
  {
   "cell_type": "code",
   "execution_count": 16,
   "metadata": {},
   "outputs": [
    {
     "name": "stdout",
     "output_type": "stream",
     "text": [
      "['123', '967', '662', '202', '967', '662', '202', '967', '662', '202', '967', '662', '202']\n"
     ]
    }
   ],
   "source": [
    "s=\"\"\"sai,1,Sail123@gamil.com,9676622023\n",
    "2,jayaram,jayWE@yahoo.co.in,9676622024\n",
    "vedhanveshRT@rediff.com,vedha,3,9676622025\n",
    "9676622026,dhana,DHANA@govt.org,6\n",
    "\"\"\"\n",
    "import re\n",
    "print(re.findall(\"[0-9][0-9][0-9]\",s,re.I))"
   ]
  },
  {
   "cell_type": "code",
   "execution_count": 17,
   "metadata": {},
   "outputs": [
    {
     "name": "stdout",
     "output_type": "stream",
     "text": [
      "['9676', '6220', '9676', '6220', '9676', '6220', '9676', '6220']\n"
     ]
    }
   ],
   "source": [
    "s=\"\"\"sai,1,Sail123@gamil.com,9676622023\n",
    "2,jayaram,jayWE@yahoo.co.in,9676622024\n",
    "vedhanveshRT@rediff.com,vedha,3,9676622025\n",
    "9676622026,dhana,DHANA@govt.org,6\n",
    "\"\"\"\n",
    "import re\n",
    "print(re.findall(\"[0-9][0-9][0-9][0-9]\",s,re.I))"
   ]
  },
  {
   "cell_type": "code",
   "execution_count": 18,
   "metadata": {},
   "outputs": [
    {
     "name": "stdout",
     "output_type": "stream",
     "text": [
      "['9676', '6220', '9676', '6220', '9676', '6220', '9676', '6220']\n"
     ]
    }
   ],
   "source": [
    "s=\"\"\"sai,1,Sail123@gamil.com,9676622023\n",
    "2,jayaram,jayWE@yahoo.co.in,9676622024\n",
    "vedhanveshRT@rediff.com,vedha,3,9676622025\n",
    "9676622026,dhana,DHANA@govt.org,6\n",
    "\"\"\"\n",
    "import re\n",
    "print(re.findall(\"[0-9]{4}\",s,re.I))"
   ]
  },
  {
   "cell_type": "code",
   "execution_count": 19,
   "metadata": {},
   "outputs": [
    {
     "name": "stdout",
     "output_type": "stream",
     "text": [
      "['9676622023', '9676622024', '9676622025', '9676622026']\n"
     ]
    }
   ],
   "source": [
    "s=\"\"\"sai,1,Sail123@gamil.com,9676622023\n",
    "2,jayaram,jayWE@yahoo.co.in,9676622024\n",
    "vedhanveshRT@rediff.com,vedha,3,9676622025\n",
    "9676622026,dhana,DHANA@govt.org,6\n",
    "\"\"\"\n",
    "import re\n",
    "print(re.findall(\"[0-9]{10}\",s,re.I))"
   ]
  },
  {
   "cell_type": "code",
   "execution_count": 20,
   "metadata": {},
   "outputs": [
    {
     "name": "stdout",
     "output_type": "stream",
     "text": [
      "['9676622023', '9676622024', '9676622025', '9676622026']\n"
     ]
    }
   ],
   "source": [
    "s=\"\"\"sai,1,Sail123@gamil.com,9676622023\n",
    "2,jayaram,jayWE@yahoo.co.in,9676622024\n",
    "vedhanveshRT@rediff.com,vedha,3,9676622025\n",
    "9676622026,dhana,DHANA@govt.org,6\n",
    "\"\"\"\n",
    "import re\n",
    "print(re.findall(\"[0-9]{5,10}\",s,re.I))"
   ]
  },
  {
   "cell_type": "code",
   "execution_count": 21,
   "metadata": {},
   "outputs": [
    {
     "name": "stdout",
     "output_type": "stream",
     "text": [
      "['1', '123', '9676622023', '2', '9676622024', '3', '9676622025', '9676622026', '6']\n"
     ]
    }
   ],
   "source": [
    "s=\"\"\"sai,1,Sail123@gamil.com,9676622023\n",
    "2,jayaram,jayWE@yahoo.co.in,9676622024\n",
    "vedhanveshRT@rediff.com,vedha,3,9676622025\n",
    "9676622026,dhana,DHANA@govt.org,6\n",
    "\"\"\"\n",
    "import re\n",
    "print(re.findall(\"[0-9]{1,10}\",s,re.I))"
   ]
  },
  {
   "cell_type": "code",
   "execution_count": 22,
   "metadata": {},
   "outputs": [
    {
     "name": "stdout",
     "output_type": "stream",
     "text": [
      "['1', '123', '9676622023', '2', '9676622024', '3', '9676622025', '9676622026', '6']\n"
     ]
    }
   ],
   "source": [
    "s=\"\"\"sai,1,Sail123@gamil.com,9676622023\n",
    "2,jayaram,jayWE@yahoo.co.in,9676622024\n",
    "vedhanveshRT@rediff.com,vedha,3,9676622025\n",
    "9676622026,dhana,DHANA@govt.org,6\n",
    "\"\"\"\n",
    "import re\n",
    "print(re.findall(\"[0-9]{1,}\",s,re.I))"
   ]
  },
  {
   "cell_type": "code",
   "execution_count": 23,
   "metadata": {},
   "outputs": [
    {
     "name": "stdout",
     "output_type": "stream",
     "text": [
      "['1', '123', '9676622023', '2', '9676622024', '3', '9676622025', '9676622026', '6']\n"
     ]
    }
   ],
   "source": [
    "s=\"\"\"sai,1,Sail123@gamil.com,9676622023\n",
    "2,jayaram,jayWE@yahoo.co.in,9676622024\n",
    "vedhanveshRT@rediff.com,vedha,3,9676622025\n",
    "9676622026,dhana,DHANA@govt.org,6\n",
    "\"\"\"\n",
    "import re\n",
    "print(re.findall(\"[0-9]+\",s,re.I))"
   ]
  },
  {
   "cell_type": "code",
   "execution_count": 24,
   "metadata": {},
   "outputs": [
    {
     "name": "stdout",
     "output_type": "stream",
     "text": [
      "['', '', '', '', '1', '', '', '', '', '', '123', '', '', '', '', '', '', '', '', '', '', '', '9676622023', '', '2', '', '', '', '', '', '', '', '', '', '', '', '', '', '', '', '', '', '', '', '', '', '', '', '', '', '', '', '9676622024', '', '', '', '', '', '', '', '', '', '', '', '', '', '', '', '', '', '', '', '', '', '', '', '', '', '', '', '', '', '', '', '3', '', '9676622025', '', '9676622026', '', '', '', '', '', '', '', '', '', '', '', '', '', '', '', '', '', '', '', '', '', '', '6', '', '']\n"
     ]
    }
   ],
   "source": [
    "s=\"\"\"sai,1,Sail123@gamil.com,9676622023\n",
    "2,jayaram,jayWE@yahoo.co.in,9676622024\n",
    "vedhanveshRT@rediff.com,vedha,3,9676622025\n",
    "9676622026,dhana,DHANA@govt.org,6\n",
    "\"\"\"\n",
    "import re\n",
    "print(re.findall(\"[0-9]{0,}\",s,re.I))"
   ]
  },
  {
   "cell_type": "code",
   "execution_count": 25,
   "metadata": {},
   "outputs": [
    {
     "name": "stdout",
     "output_type": "stream",
     "text": [
      "['1', '123', '9676622023', '2', '9676622024', '3', '9676622025', '9676622026', '6']\n"
     ]
    }
   ],
   "source": [
    "s=\"\"\"sai,1,Sail123@gamil.com,9676622023\n",
    "2,jayaram,jayWE@yahoo.co.in,9676622024\n",
    "vedhanveshRT@rediff.com,vedha,3,9676622025\n",
    "9676622026,dhana,DHANA@govt.org,6\n",
    "\"\"\"\n",
    "import re\n",
    "print(re.findall(\"[0-9]{1,}\",s,re.I))"
   ]
  },
  {
   "cell_type": "code",
   "execution_count": 26,
   "metadata": {},
   "outputs": [
    {
     "name": "stdout",
     "output_type": "stream",
     "text": [
      "['1', '123', '9676622023', '2', '9676622024', '3', '9676622025', '9676622026', '6']\n"
     ]
    }
   ],
   "source": [
    "s=\"\"\"sai,1,Sail123@gamil.com,9676622023\n",
    "2,jayaram,jayWE@yahoo.co.in,9676622024\n",
    "vedhanveshRT@rediff.com,vedha,3,9676622025\n",
    "9676622026,dhana,DHANA@govt.org,6\n",
    "\"\"\"\n",
    "import re\n",
    "print(re.findall(\"[0-9]+\",s,re.I))"
   ]
  },
  {
   "cell_type": "code",
   "execution_count": 27,
   "metadata": {},
   "outputs": [
    {
     "name": "stdout",
     "output_type": "stream",
     "text": [
      "['', '', '', '', '1', '', '', '', '', '', '123', '', '', '', '', '', '', '', '', '', '', '', '9676622023', '', '2', '', '', '', '', '', '', '', '', '', '', '', '', '', '', '', '', '', '', '', '', '', '', '', '', '', '', '', '9676622024', '', '', '', '', '', '', '', '', '', '', '', '', '', '', '', '', '', '', '', '', '', '', '', '', '', '', '', '', '', '', '', '3', '', '9676622025', '', '9676622026', '', '', '', '', '', '', '', '', '', '', '', '', '', '', '', '', '', '', '', '', '', '', '6', '', '']\n"
     ]
    }
   ],
   "source": [
    "s=\"\"\"sai,1,Sail123@gamil.com,9676622023\n",
    "2,jayaram,jayWE@yahoo.co.in,9676622024\n",
    "vedhanveshRT@rediff.com,vedha,3,9676622025\n",
    "9676622026,dhana,DHANA@govt.org,6\n",
    "\"\"\"\n",
    "import re\n",
    "print(re.findall(\"[0-9]*\",s,re.I))"
   ]
  },
  {
   "cell_type": "code",
   "execution_count": 28,
   "metadata": {},
   "outputs": [
    {
     "name": "stdout",
     "output_type": "stream",
     "text": [
      "['', '', '', '', '1', '', '', '', '', '', '1', '2', '3', '', '', '', '', '', '', '', '', '', '', '', '9', '6', '7', '6', '6', '2', '2', '0', '2', '3', '', '2', '', '', '', '', '', '', '', '', '', '', '', '', '', '', '', '', '', '', '', '', '', '', '', '', '', '', '', '9', '6', '7', '6', '6', '2', '2', '0', '2', '4', '', '', '', '', '', '', '', '', '', '', '', '', '', '', '', '', '', '', '', '', '', '', '', '', '', '', '', '', '', '', '', '3', '', '9', '6', '7', '6', '6', '2', '2', '0', '2', '5', '', '9', '6', '7', '6', '6', '2', '2', '0', '2', '6', '', '', '', '', '', '', '', '', '', '', '', '', '', '', '', '', '', '', '', '', '', '', '6', '', '']\n"
     ]
    }
   ],
   "source": [
    "s=\"\"\"sai,1,Sail123@gamil.com,9676622023\n",
    "2,jayaram,jayWE@yahoo.co.in,9676622024\n",
    "vedhanveshRT@rediff.com,vedha,3,9676622025\n",
    "9676622026,dhana,DHANA@govt.org,6\n",
    "\"\"\"\n",
    "import re\n",
    "print(re.findall(\"[0-9]?\",s,re.I))"
   ]
  },
  {
   "cell_type": "code",
   "execution_count": 29,
   "metadata": {},
   "outputs": [
    {
     "name": "stdout",
     "output_type": "stream",
     "text": [
      "['', '', '', '', '1', '', '', '', '', '', '1', '2', '3', '', '', '', '', '', '', '', '', '', '', '', '9', '6', '7', '6', '6', '2', '2', '0', '2', '3', '', '2', '', '', '', '', '', '', '', '', '', '', '', '', '', '', '', '', '', '', '', '', '', '', '', '', '', '', '', '9', '6', '7', '6', '6', '2', '2', '0', '2', '4', '', '', '', '', '', '', '', '', '', '', '', '', '', '', '', '', '', '', '', '', '', '', '', '', '', '', '', '', '', '', '', '3', '', '9', '6', '7', '6', '6', '2', '2', '0', '2', '5', '', '9', '6', '7', '6', '6', '2', '2', '0', '2', '6', '', '', '', '', '', '', '', '', '', '', '', '', '', '', '', '', '', '', '', '', '', '', '6', '', '']\n"
     ]
    }
   ],
   "source": [
    "s=\"\"\"sai,1,Sail123@gamil.com,9676622023\n",
    "2,jayaram,jayWE@yahoo.co.in,9676622024\n",
    "vedhanveshRT@rediff.com,vedha,3,9676622025\n",
    "9676622026,dhana,DHANA@govt.org,6\n",
    "\"\"\"\n",
    "import re\n",
    "print(re.findall(\"[0-9]{0,1}\",s,re.I))"
   ]
  },
  {
   "cell_type": "code",
   "execution_count": 30,
   "metadata": {},
   "outputs": [
    {
     "name": "stdout",
     "output_type": "stream",
     "text": [
      "['s', 'a', 'i', ',', '1', ',', 'S', 'a', 'i', 'l', '1', '2', '3', '@', 'g', 'a', 'm', 'i', 'l', '.', 'c', 'o', 'm', ',', '9', '6', '7', '6', '6', '2', '2', '0', '2', '3', '2', ',', 'j', 'a', 'y', 'a', 'r', 'a', 'm', ',', 'j', 'a', 'y', 'W', 'E', '@', 'y', 'a', 'h', 'o', 'o', '.', 'c', 'o', '.', 'i', 'n', ',', '9', '6', '7', '6', '6', '2', '2', '0', '2', '4', 'v', 'e', 'd', 'h', 'a', 'n', 'v', 'e', 's', 'h', 'R', 'T', '@', 'r', 'e', 'd', 'i', 'f', 'f', '.', 'c', 'o', 'm', ',', 'v', 'e', 'd', 'h', 'a', ',', '3', ',', '9', '6', '7', '6', '6', '2', '2', '0', '2', '5', '9', '6', '7', '6', '6', '2', '2', '0', '2', '6', ',', 'd', 'h', 'a', 'n', 'a', ',', 'D', 'H', 'A', 'N', 'A', '@', 'g', 'o', 'v', 't', '.', 'o', 'r', 'g', ',', '6']\n"
     ]
    }
   ],
   "source": [
    "s=\"\"\"sai,1,Sail123@gamil.com,9676622023\n",
    "2,jayaram,jayWE@yahoo.co.in,9676622024\n",
    "vedhanveshRT@rediff.com,vedha,3,9676622025\n",
    "9676622026,dhana,DHANA@govt.org,6\n",
    "\"\"\"\n",
    "import re\n",
    "print(re.findall(\".\",s,re.I))"
   ]
  },
  {
   "cell_type": "code",
   "execution_count": 31,
   "metadata": {},
   "outputs": [
    {
     "name": "stdout",
     "output_type": "stream",
     "text": [
      "['s', 'a', 'i', ',', '1', ',', 'S', 'a', 'i', 'l', '1', '2', '3', '@', 'g', 'a', 'm', 'i', 'l', '.', 'c', 'o', 'm', ',', '9', '6', '7', '6', '6', '2', '2', '0', '2', '3', '\\n', '2', ',', 'j', 'a', 'y', 'a', 'r', 'a', 'm', ',', 'j', 'a', 'y', 'W', 'E', '@', 'y', 'a', 'h', 'o', 'o', '.', 'c', 'o', '.', 'i', 'n', ',', '9', '6', '7', '6', '6', '2', '2', '0', '2', '4', '\\n', 'v', 'e', 'd', 'h', 'a', 'n', 'v', 'e', 's', 'h', 'R', 'T', '@', 'r', 'e', 'd', 'i', 'f', 'f', '.', 'c', 'o', 'm', ',', 'v', 'e', 'd', 'h', 'a', ',', '3', ',', '9', '6', '7', '6', '6', '2', '2', '0', '2', '5', '\\n', '9', '6', '7', '6', '6', '2', '2', '0', '2', '6', ',', 'd', 'h', 'a', 'n', 'a', ',', 'D', 'H', 'A', 'N', 'A', '@', 'g', 'o', 'v', 't', '.', 'o', 'r', 'g', ',', '6', '\\n']\n"
     ]
    }
   ],
   "source": [
    "s=\"\"\"sai,1,Sail123@gamil.com,9676622023\n",
    "2,jayaram,jayWE@yahoo.co.in,9676622024\n",
    "vedhanveshRT@rediff.com,vedha,3,9676622025\n",
    "9676622026,dhana,DHANA@govt.org,6\n",
    "\"\"\"\n",
    "import re\n",
    "print(re.findall(\".\",s,re.I|re.DOTALL))"
   ]
  },
  {
   "cell_type": "code",
   "execution_count": 32,
   "metadata": {},
   "outputs": [
    {
     "name": "stdout",
     "output_type": "stream",
     "text": [
      "['.', '.', '.', '.', '.']\n"
     ]
    }
   ],
   "source": [
    "s=\"\"\"sai,1,Sail123@gamil.com,9676622023\n",
    "2,jayaram,jayWE@yahoo.co.in,9676622024\n",
    "vedhanveshRT@rediff.com,vedha,3,9676622025\n",
    "9676622026,dhana,DHANA@govt.org,6\n",
    "\"\"\"\n",
    "import re\n",
    "print(re.findall(\"\\.\",s,re.I|re.DOTALL))"
   ]
  },
  {
   "cell_type": "code",
   "execution_count": 33,
   "metadata": {},
   "outputs": [
    {
     "name": "stdout",
     "output_type": "stream",
     "text": [
      "['.', '.', '.', '.', '.']\n"
     ]
    }
   ],
   "source": [
    "s=\"\"\"sai,1,Sail123@gamil.com,9676622023\n",
    "2,jayaram,jayWE@yahoo.co.in,9676622024\n",
    "vedhanveshRT@rediff.com,vedha,3,9676622025\n",
    "9676622026,dhana,DHANA@govt.org,6\n",
    "\"\"\"\n",
    "import re\n",
    "print(re.findall(\"[.]\",s,re.I|re.DOTALL))"
   ]
  },
  {
   "cell_type": "code",
   "execution_count": 34,
   "metadata": {},
   "outputs": [
    {
     "name": "stdout",
     "output_type": "stream",
     "text": [
      "['s', 'a', 'i', ',', ',', 'S', 'a', 'i', 'l', '@', 'g', 'a', 'm', 'i', 'l', '.', 'c', 'o', 'm', ',', '\\n', ',', 'j', 'a', 'y', 'a', 'r', 'a', 'm', ',', 'j', 'a', 'y', 'W', 'E', '@', 'y', 'a', 'h', 'o', 'o', '.', 'c', 'o', '.', 'i', 'n', ',', '\\n', 'v', 'e', 'd', 'h', 'a', 'n', 'v', 'e', 's', 'h', 'R', 'T', '@', 'r', 'e', 'd', 'i', 'f', 'f', '.', 'c', 'o', 'm', ',', 'v', 'e', 'd', 'h', 'a', ',', ',', '\\n', ',', 'd', 'h', 'a', 'n', 'a', ',', 'D', 'H', 'A', 'N', 'A', '@', 'g', 'o', 'v', 't', '.', 'o', 'r', 'g', ',', '\\n']\n"
     ]
    }
   ],
   "source": [
    "s=\"\"\"sai,1,Sail123@gamil.com,9676622023\n",
    "2,jayaram,jayWE@yahoo.co.in,9676622024\n",
    "vedhanveshRT@rediff.com,vedha,3,9676622025\n",
    "9676622026,dhana,DHANA@govt.org,6\n",
    "\"\"\"\n",
    "import re\n",
    "print(re.findall(\"[^0-9]\",s,re.I|re.DOTALL))"
   ]
  },
  {
   "cell_type": "code",
   "execution_count": 35,
   "metadata": {},
   "outputs": [
    {
     "name": "stdout",
     "output_type": "stream",
     "text": [
      "[]\n"
     ]
    }
   ],
   "source": [
    "s=\"\"\"sai,1,Sail123@gamil.com,9676622023\n",
    "2,jayaram,jayWE@yahoo.co.in,9676622024\n",
    "vedhanveshRT@rediff.com,vedha,3,9676622025\n",
    "9676622026,dhana,DHANA@govt.org,6\n",
    "\"\"\"\n",
    "import re\n",
    "print(re.findall(\"^[0-9]\",s,re.I|re.DOTALL))"
   ]
  },
  {
   "cell_type": "code",
   "execution_count": 36,
   "metadata": {},
   "outputs": [
    {
     "name": "stdout",
     "output_type": "stream",
     "text": [
      "['s']\n"
     ]
    }
   ],
   "source": [
    "s=\"\"\"sai,1,Sail123@gamil.com,9676622023\n",
    "2,jayaram,jayWE@yahoo.co.in,9676622024\n",
    "vedhanveshRT@rediff.com,vedha,3,9676622025\n",
    "9676622026,dhana,DHANA@govt.org,6\n",
    "\"\"\"\n",
    "import re\n",
    "print(re.findall(\"^[0-9a-z]\",s,re.I|re.DOTALL))"
   ]
  },
  {
   "cell_type": "code",
   "execution_count": 37,
   "metadata": {},
   "outputs": [
    {
     "name": "stdout",
     "output_type": "stream",
     "text": [
      "['2', '9']\n"
     ]
    }
   ],
   "source": [
    "s=\"\"\"sai,1,Sail123@gamil.com,9676622023\n",
    "2,jayaram,jayWE@yahoo.co.in,9676622024\n",
    "vedhanveshRT@rediff.com,vedha,3,9676622025\n",
    "9676622026,dhana,DHANA@govt.org,6\n",
    "\"\"\"\n",
    "import re\n",
    "print(re.findall(\"^[0-9]\",s,re.I|re.DOTALL|re.M))"
   ]
  },
  {
   "cell_type": "code",
   "execution_count": 38,
   "metadata": {},
   "outputs": [
    {
     "name": "stdout",
     "output_type": "stream",
     "text": [
      "['3', '4', '5', '6']\n"
     ]
    }
   ],
   "source": [
    "s=\"\"\"sai,1,Sail123@gamil.com,9676622023\n",
    "2,jayaram,jayWE@yahoo.co.in,9676622024\n",
    "vedhanveshRT@rediff.com,vedha,3,9676622025\n",
    "9676622026,dhana,DHANA@govt.org,6\n",
    "\"\"\"\n",
    "import re\n",
    "print(re.findall(\"[0-9]$\",s,re.I|re.DOTALL|re.M))"
   ]
  },
  {
   "cell_type": "code",
   "execution_count": 39,
   "metadata": {},
   "outputs": [
    {
     "name": "stdout",
     "output_type": "stream",
     "text": [
      "['6']\n"
     ]
    }
   ],
   "source": [
    "s=\"\"\"sai,1,Sail123@gamil.com,9676622023\n",
    "2,jayaram,jayWE@yahoo.co.in,9676622024\n",
    "vedhanveshRT@rediff.com,vedha,3,9676622025\n",
    "9676622026,dhana,DHANA@govt.org,6\n",
    "\"\"\"\n",
    "import re\n",
    "print(re.findall(\"[0-9]$\",s,re.I|re.DOTALL))"
   ]
  },
  {
   "cell_type": "code",
   "execution_count": 42,
   "metadata": {},
   "outputs": [
    {
     "name": "stdout",
     "output_type": "stream",
     "text": [
      "['Sail123@gamil.com', 'jayWE@yahoo.co.in', 'vedhanveshRT@rediff.com', 'DHANA@govt.org']\n"
     ]
    }
   ],
   "source": [
    "s=\"\"\"sai,1,Sail123@gamil.com,9676622023\n",
    "2,jayaram,jayWE@yahoo.co.in,9676622024\n",
    "vedhanveshRT@rediff.com,vedha,3,9676622025\n",
    "9676622026,dhana,DHANA@govt.org,6\n",
    "\"\"\"\n",
    "# email expression.\n",
    "#sambapython@gmail.com\n",
    "#alphabets, numbers,_: atleat one(+)--[a-z0-9_]+\n",
    "#@--@---@\n",
    "#alphabets--atleast one(+), [a-z]+\n",
    "#.--\\.\n",
    "#com,co.in,govt.org----[.a-z]*\n",
    "print (re.findall(\"[a-z0-9_]+@[a-z]+\\.[.a-z]*\",s,re.I))\n"
   ]
  },
  {
   "cell_type": "code",
   "execution_count": 43,
   "metadata": {},
   "outputs": [
    {
     "name": "stdout",
     "output_type": "stream",
     "text": [
      "<callable-iterator object at 0x7faff53a5f90>\n"
     ]
    }
   ],
   "source": [
    "s=\"\"\"sai,1,Sail123@gamil.com,9676622023\n",
    "2,jayaram,jayWE@yahoo.co.in,9676622024\n",
    "vedhanveshRT@rediff.com,vedha,3,9676622025\n",
    "9676622026,dhana,DHANA@govt.org,6\n",
    "\"\"\"\n",
    "# email expression.\n",
    "#sambapython@gmail.com\n",
    "#alphabets, numbers,_: atleat one(+)--[a-z0-9_]+\n",
    "#@--@---@\n",
    "#alphabets--atleast one(+), [a-z]+\n",
    "#.--\\.\n",
    "#com,co.in,govt.org----[.a-z]*\n",
    "print (re.finditer(\"[a-z0-9_]+@[a-z]+\\.[.a-z]*\",s,re.I))\n"
   ]
  },
  {
   "cell_type": "code",
   "execution_count": 44,
   "metadata": {},
   "outputs": [
    {
     "name": "stdout",
     "output_type": "stream",
     "text": [
      "Sail123@gamil.com\n",
      "jayWE@yahoo.co.in\n",
      "vedhanveshRT@rediff.com\n",
      "DHANA@govt.org\n"
     ]
    }
   ],
   "source": [
    "s=\"\"\"sai,1,Sail123@gamil.com,9676622023\n",
    "2,jayaram,jayWE@yahoo.co.in,9676622024\n",
    "vedhanveshRT@rediff.com,vedha,3,9676622025\n",
    "9676622026,dhana,DHANA@govt.org,6\n",
    "\"\"\"\n",
    "# email expression.\n",
    "#sambapython@gmail.com\n",
    "#alphabets, numbers,_: atleat one(+)--[a-z0-9_]+\n",
    "#@--@---@\n",
    "#alphabets--atleast one(+), [a-z]+\n",
    "#.--\\.\n",
    "#com,co.in,govt.org----[.a-z]*\n",
    "req_email=\"\"\n",
    "emails = re.finditer(\"[a-z0-9_]+@[a-z]+\\.[.a-z]*\",s,re.I)\n",
    "for email in emails:\n",
    "    print (email.group(0))\n"
   ]
  },
  {
   "cell_type": "code",
   "execution_count": 45,
   "metadata": {},
   "outputs": [
    {
     "name": "stdout",
     "output_type": "stream",
     "text": [
      "<_sre.SRE_Match object at 0x7faff4abcc60>\n"
     ]
    }
   ],
   "source": [
    "s=\"\"\"sai,1,Sail123@gamil.com,9676622023\n",
    "2,jayaram,jayWE@yahoo.co.in,9676622024\n",
    "vedhanveshRT@rediff.com,vedha,3,9676622025\n",
    "9676622026,dhana,DHANA@govt.org,6\n",
    "\"\"\"\n",
    "# email expression.\n",
    "#sambapython@gmail.com\n",
    "#alphabets, numbers,_: atleat one(+)--[a-z0-9_]+\n",
    "#@--@---@\n",
    "#alphabets--atleast one(+), [a-z]+\n",
    "#.--\\.\n",
    "#com,co.in,govt.org----[.a-z]*\n",
    "req_email=\"\"\n",
    "print re.search(\"[a-z0-9_]+@[a-z]+\\.[.a-z]*\",s,re.I)\n"
   ]
  },
  {
   "cell_type": "code",
   "execution_count": 46,
   "metadata": {},
   "outputs": [
    {
     "name": "stdout",
     "output_type": "stream",
     "text": [
      "None\n"
     ]
    }
   ],
   "source": [
    "s=\"\"\"sai,1,Sail123@gamil.com,9676622023\n",
    "2,jayaram,jayWE@yahoo.co.in,9676622024\n",
    "vedhanveshRT@rediff.com,vedha,3,9676622025\n",
    "9676622026,dhana,DHANA@govt.org,6\n",
    "\"\"\"\n",
    "# email expression.\n",
    "#sambapython@gmail.com\n",
    "#alphabets, numbers,_: atleat one(+)--[a-z0-9_]+\n",
    "#@--@---@\n",
    "#alphabets--atleast one(+), [a-z]+\n",
    "#.--\\.\n",
    "#com,co.in,govt.org----[.a-z]*\n",
    "req_email=\"\"\n",
    "print re.search(\"^[a-z0-9_]+@[a-z]+\\.[.a-z]*\",s,re.I)\n"
   ]
  },
  {
   "cell_type": "code",
   "execution_count": 47,
   "metadata": {},
   "outputs": [
    {
     "name": "stdout",
     "output_type": "stream",
     "text": [
      "<_sre.SRE_Match object at 0x7faff4abcd30>\n"
     ]
    }
   ],
   "source": [
    "s=\"\"\"sai,1,Sail123@gamil.com,9676622023\n",
    "2,jayaram,jayWE@yahoo.co.in,9676622024\n",
    "vedhanveshRT@rediff.com,vedha,3,9676622025\n",
    "9676622026,dhana,DHANA@govt.org,6\n",
    "\"\"\"\n",
    "# email expression.\n",
    "#sambapython@gmail.com\n",
    "#alphabets, numbers,_: atleat one(+)--[a-z0-9_]+\n",
    "#@--@---@\n",
    "#alphabets--atleast one(+), [a-z]+\n",
    "#.--\\.\n",
    "#com,co.in,govt.org----[.a-z]*\n",
    "req_email=\"\"\n",
    "print re.search(\"[a-z0-9_]+@[a-z]+\\.[.a-z]*\",s,re.I)\n"
   ]
  },
  {
   "cell_type": "code",
   "execution_count": 48,
   "metadata": {},
   "outputs": [
    {
     "name": "stdout",
     "output_type": "stream",
     "text": [
      "None\n"
     ]
    }
   ],
   "source": [
    "s=\"\"\"sai,1,Sail123@gamil.com,9676622023\n",
    "2,jayaram,jayWE@yahoo.co.in,9676622024\n",
    "vedhanveshRT@rediff.com,vedha,3,9676622025\n",
    "9676622026,dhana,DHANA@govt.org,6\n",
    "\"\"\"\n",
    "# email expression.\n",
    "#sambapython@gmail.com\n",
    "#alphabets, numbers,_: atleat one(+)--[a-z0-9_]+\n",
    "#@--@---@\n",
    "#alphabets--atleast one(+), [a-z]+\n",
    "#.--\\.\n",
    "#com,co.in,govt.org----[.a-z]*\n",
    "req_email=\"\"\n",
    "print re.match(\"[a-z0-9_]+@[a-z]+\\.[.a-z]*\",s,re.I)\n"
   ]
  },
  {
   "cell_type": "code",
   "execution_count": 49,
   "metadata": {},
   "outputs": [
    {
     "name": "stdout",
     "output_type": "stream",
     "text": [
      "<_sre.SRE_Match object at 0x7faff4abce00>\n"
     ]
    }
   ],
   "source": [
    "s=\"\"\"sai,1,Sail123@gamil.com,9676622023\n",
    "2,jayaram,jayWE@yahoo.co.in,9676622024\n",
    "vedhanveshRT@rediff.com,vedha,3,9676622025\n",
    "9676622026,dhana,DHANA@govt.org,6\n",
    "\"\"\"\n",
    "# email expression.\n",
    "#sambapython@gmail.com\n",
    "#alphabets, numbers,_: atleat one(+)--[a-z0-9_]+\n",
    "#@--@---@\n",
    "#alphabets--atleast one(+), [a-z]+\n",
    "#.--\\.\n",
    "#com,co.in,govt.org----[.a-z]*\n",
    "req_email=\"\"\n",
    "print re.match(\"[a-z0-9_]+\",s,re.I)\n"
   ]
  },
  {
   "cell_type": "code",
   "execution_count": 51,
   "metadata": {},
   "outputs": [
    {
     "name": "stdout",
     "output_type": "stream",
     "text": [
      "['Sail123@gamil.com', 'jayWE@yahoo.co.in', 'vedhanveshRT@rediff.com', 'DHANA@govt.org']\n"
     ]
    }
   ],
   "source": [
    "s=\"\"\"sai,1,Sail123@gamil.com,9676622023\n",
    "2,jayaram,jayWE@yahoo.co.in,9676622024\n",
    "vedhanveshRT@rediff.com,vedha,3,9676622025\n",
    "9676622026,dhana,DHANA@govt.org,6\n",
    "\"\"\"\n",
    "# email expression.\n",
    "#sambapython@gmail.com\n",
    "#alphabets, numbers,_: atleat one(+)--[a-z0-9_]+\n",
    "#@--@---@\n",
    "#alphabets--atleast one(+), [a-z]+\n",
    "#.--\\.\n",
    "#com,co.in,govt.org----[.a-z]*\n",
    "mail_reg = re.compile(\"[a-z0-9_]+@[a-z]+\\.[.a-z]*\",re.I)\n",
    "\n",
    "print mail_reg.findall(s)\n"
   ]
  },
  {
   "cell_type": "code",
   "execution_count": null,
   "metadata": {
    "collapsed": true
   },
   "outputs": [],
   "source": []
  }
 ],
 "metadata": {
  "kernelspec": {
   "display_name": "Python 2",
   "language": "python",
   "name": "python2"
  },
  "language_info": {
   "codemirror_mode": {
    "name": "ipython",
    "version": 2
   },
   "file_extension": ".py",
   "mimetype": "text/x-python",
   "name": "python",
   "nbconvert_exporter": "python",
   "pygments_lexer": "ipython2",
   "version": "2.7.14"
  }
 },
 "nbformat": 4,
 "nbformat_minor": 2
}
