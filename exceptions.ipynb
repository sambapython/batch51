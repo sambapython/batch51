{
 "cells": [
  {
   "cell_type": "code",
   "execution_count": 1,
   "metadata": {},
   "outputs": [
    {
     "ename": "SyntaxError",
     "evalue": "EOL while scanning string literal (<ipython-input-1-1941d92bfae1>, line 1)",
     "output_type": "error",
     "traceback": [
      "\u001b[0;36m  File \u001b[0;32m\"<ipython-input-1-1941d92bfae1>\"\u001b[0;36m, line \u001b[0;32m1\u001b[0m\n\u001b[0;31m    print \"sdfsdf\u001b[0m\n\u001b[0m                ^\u001b[0m\n\u001b[0;31mSyntaxError\u001b[0m\u001b[0;31m:\u001b[0m EOL while scanning string literal\n"
     ]
    }
   ],
   "source": [
    "print \"sdfsdf"
   ]
  },
  {
   "cell_type": "code",
   "execution_count": 2,
   "metadata": {},
   "outputs": [
    {
     "name": "stdout",
     "output_type": "stream",
     "text": [
      "program started.\n",
      "Enter a value:12\n",
      "Enter b value:6\n",
      "before conversion a=12, b=6\n",
      "after conversion a=12, b=6\n",
      "result=2\n",
      "other statements in program\n",
      "program ended.\n"
     ]
    }
   ],
   "source": [
    "print \"program started.\"\n",
    "a=raw_input(\"Enter a value:\")\n",
    "b=raw_input(\"Enter b value:\")\n",
    "print \"before conversion a=%s, b=%s\"%(a,b)\n",
    "a=int(a)\n",
    "b=int(b)\n",
    "print \"after conversion a=%s, b=%s\"%(a,b)\n",
    "res=a/b\n",
    "print \"result=%s\"%(res)\n",
    "print \"other statements in program\"\n",
    "print \"program ended.\""
   ]
  },
  {
   "cell_type": "code",
   "execution_count": 3,
   "metadata": {},
   "outputs": [
    {
     "name": "stdout",
     "output_type": "stream",
     "text": [
      "program started.\n",
      "Enter a value:12.35\n",
      "Enter b value:56.78\n",
      "before conversion a=12.35, b=56.78\n"
     ]
    },
    {
     "ename": "ValueError",
     "evalue": "invalid literal for int() with base 10: '12.35'",
     "output_type": "error",
     "traceback": [
      "\u001b[0;31m---------------------------------------------------------------------------\u001b[0m",
      "\u001b[0;31mValueError\u001b[0m                                Traceback (most recent call last)",
      "\u001b[0;32m<ipython-input-3-9e14e013525e>\u001b[0m in \u001b[0;36m<module>\u001b[0;34m()\u001b[0m\n\u001b[1;32m      3\u001b[0m \u001b[0mb\u001b[0m\u001b[0;34m=\u001b[0m\u001b[0mraw_input\u001b[0m\u001b[0;34m(\u001b[0m\u001b[0;34m\"Enter b value:\"\u001b[0m\u001b[0;34m)\u001b[0m\u001b[0;34m\u001b[0m\u001b[0m\n\u001b[1;32m      4\u001b[0m \u001b[0;32mprint\u001b[0m \u001b[0;34m\"before conversion a=%s, b=%s\"\u001b[0m\u001b[0;34m%\u001b[0m\u001b[0;34m(\u001b[0m\u001b[0ma\u001b[0m\u001b[0;34m,\u001b[0m\u001b[0mb\u001b[0m\u001b[0;34m)\u001b[0m\u001b[0;34m\u001b[0m\u001b[0m\n\u001b[0;32m----> 5\u001b[0;31m \u001b[0ma\u001b[0m\u001b[0;34m=\u001b[0m\u001b[0mint\u001b[0m\u001b[0;34m(\u001b[0m\u001b[0ma\u001b[0m\u001b[0;34m)\u001b[0m\u001b[0;34m\u001b[0m\u001b[0m\n\u001b[0m\u001b[1;32m      6\u001b[0m \u001b[0mb\u001b[0m\u001b[0;34m=\u001b[0m\u001b[0mint\u001b[0m\u001b[0;34m(\u001b[0m\u001b[0mb\u001b[0m\u001b[0;34m)\u001b[0m\u001b[0;34m\u001b[0m\u001b[0m\n\u001b[1;32m      7\u001b[0m \u001b[0;32mprint\u001b[0m \u001b[0;34m\"after conversion a=%s, b=%s\"\u001b[0m\u001b[0;34m%\u001b[0m\u001b[0;34m(\u001b[0m\u001b[0ma\u001b[0m\u001b[0;34m,\u001b[0m\u001b[0mb\u001b[0m\u001b[0;34m)\u001b[0m\u001b[0;34m\u001b[0m\u001b[0m\n",
      "\u001b[0;31mValueError\u001b[0m: invalid literal for int() with base 10: '12.35'"
     ]
    }
   ],
   "source": [
    "print \"program started.\"\n",
    "a=raw_input(\"Enter a value:\")\n",
    "b=raw_input(\"Enter b value:\")\n",
    "print \"before conversion a=%s, b=%s\"%(a,b)\n",
    "a=int(a)\n",
    "b=int(b)\n",
    "print \"after conversion a=%s, b=%s\"%(a,b)\n",
    "res=a/b\n",
    "print \"result=%s\"%(res)\n",
    "print \"other statements in program\"\n",
    "print \"program ended.\""
   ]
  },
  {
   "cell_type": "code",
   "execution_count": 4,
   "metadata": {},
   "outputs": [
    {
     "ename": "SyntaxError",
     "evalue": "EOL while scanning string literal (<ipython-input-4-c3ad94bd01d9>, line 2)",
     "output_type": "error",
     "traceback": [
      "\u001b[0;36m  File \u001b[0;32m\"<ipython-input-4-c3ad94bd01d9>\"\u001b[0;36m, line \u001b[0;32m2\u001b[0m\n\u001b[0;31m    print \"dfsdfsd\u001b[0m\n\u001b[0m                 ^\u001b[0m\n\u001b[0;31mSyntaxError\u001b[0m\u001b[0;31m:\u001b[0m EOL while scanning string literal\n"
     ]
    }
   ],
   "source": [
    "print \"st1\"\n",
    "print \"dfsdfsd\n",
    "print \"st2\""
   ]
  },
  {
   "cell_type": "code",
   "execution_count": 5,
   "metadata": {},
   "outputs": [
    {
     "name": "stdout",
     "output_type": "stream",
     "text": [
      "program started.\n",
      "Enter a value:12\n",
      "Enter b value:6\n",
      "before conversion a=12, b=6\n",
      "after conversion a=12.0, b=6.0\n",
      "result=2.0\n",
      "other statements in program\n",
      "program ended.\n"
     ]
    }
   ],
   "source": [
    "print \"program started.\"\n",
    "a=raw_input(\"Enter a value:\")\n",
    "b=raw_input(\"Enter b value:\")\n",
    "print \"before conversion a=%s, b=%s\"%(a,b)\n",
    "a=float(a)\n",
    "b=float(b)\n",
    "print \"after conversion a=%s, b=%s\"%(a,b)\n",
    "res=a/b\n",
    "print \"result=%s\"%(res)\n",
    "print \"other statements in program\"\n",
    "print \"program ended.\""
   ]
  },
  {
   "cell_type": "code",
   "execution_count": 6,
   "metadata": {},
   "outputs": [
    {
     "name": "stdout",
     "output_type": "stream",
     "text": [
      "program started.\n",
      "Enter a value:1.2\n",
      "Enter b value:0.6\n",
      "before conversion a=1.2, b=0.6\n",
      "after conversion a=1.2, b=0.6\n",
      "result=2.0\n",
      "other statements in program\n",
      "program ended.\n"
     ]
    }
   ],
   "source": [
    "print \"program started.\"\n",
    "a=raw_input(\"Enter a value:\")\n",
    "b=raw_input(\"Enter b value:\")\n",
    "print \"before conversion a=%s, b=%s\"%(a,b)\n",
    "a=float(a)\n",
    "b=float(b)\n",
    "print \"after conversion a=%s, b=%s\"%(a,b)\n",
    "res=a/b\n",
    "print \"result=%s\"%(res)\n",
    "print \"other statements in program\"\n",
    "print \"program ended.\""
   ]
  },
  {
   "cell_type": "code",
   "execution_count": 7,
   "metadata": {},
   "outputs": [
    {
     "name": "stdout",
     "output_type": "stream",
     "text": [
      "program started.\n",
      "Enter a value:werw\n",
      "Enter b value:23432\n",
      "before conversion a=werw, b=23432\n"
     ]
    },
    {
     "ename": "ValueError",
     "evalue": "could not convert string to float: werw",
     "output_type": "error",
     "traceback": [
      "\u001b[0;31m---------------------------------------------------------------------------\u001b[0m",
      "\u001b[0;31mValueError\u001b[0m                                Traceback (most recent call last)",
      "\u001b[0;32m<ipython-input-7-41f22ae8add6>\u001b[0m in \u001b[0;36m<module>\u001b[0;34m()\u001b[0m\n\u001b[1;32m      3\u001b[0m \u001b[0mb\u001b[0m\u001b[0;34m=\u001b[0m\u001b[0mraw_input\u001b[0m\u001b[0;34m(\u001b[0m\u001b[0;34m\"Enter b value:\"\u001b[0m\u001b[0;34m)\u001b[0m\u001b[0;34m\u001b[0m\u001b[0m\n\u001b[1;32m      4\u001b[0m \u001b[0;32mprint\u001b[0m \u001b[0;34m\"before conversion a=%s, b=%s\"\u001b[0m\u001b[0;34m%\u001b[0m\u001b[0;34m(\u001b[0m\u001b[0ma\u001b[0m\u001b[0;34m,\u001b[0m\u001b[0mb\u001b[0m\u001b[0;34m)\u001b[0m\u001b[0;34m\u001b[0m\u001b[0m\n\u001b[0;32m----> 5\u001b[0;31m \u001b[0ma\u001b[0m\u001b[0;34m=\u001b[0m\u001b[0mfloat\u001b[0m\u001b[0;34m(\u001b[0m\u001b[0ma\u001b[0m\u001b[0;34m)\u001b[0m\u001b[0;34m\u001b[0m\u001b[0m\n\u001b[0m\u001b[1;32m      6\u001b[0m \u001b[0mb\u001b[0m\u001b[0;34m=\u001b[0m\u001b[0mfloat\u001b[0m\u001b[0;34m(\u001b[0m\u001b[0mb\u001b[0m\u001b[0;34m)\u001b[0m\u001b[0;34m\u001b[0m\u001b[0m\n\u001b[1;32m      7\u001b[0m \u001b[0;32mprint\u001b[0m \u001b[0;34m\"after conversion a=%s, b=%s\"\u001b[0m\u001b[0;34m%\u001b[0m\u001b[0;34m(\u001b[0m\u001b[0ma\u001b[0m\u001b[0;34m,\u001b[0m\u001b[0mb\u001b[0m\u001b[0;34m)\u001b[0m\u001b[0;34m\u001b[0m\u001b[0m\n",
      "\u001b[0;31mValueError\u001b[0m: could not convert string to float: werw"
     ]
    }
   ],
   "source": [
    "print \"program started.\"\n",
    "a=raw_input(\"Enter a value:\")\n",
    "b=raw_input(\"Enter b value:\")\n",
    "print \"before conversion a=%s, b=%s\"%(a,b)\n",
    "a=float(a)\n",
    "b=float(b)\n",
    "print \"after conversion a=%s, b=%s\"%(a,b)\n",
    "res=a/b\n",
    "print \"result=%s\"%(res)\n",
    "print \"other statements in program\"\n",
    "print \"program ended.\""
   ]
  },
  {
   "cell_type": "code",
   "execution_count": 8,
   "metadata": {},
   "outputs": [
    {
     "name": "stdout",
     "output_type": "stream",
     "text": [
      "program started.\n",
      "Enter a value:12\n",
      "Enter b value:0\n",
      "before conversion a=12, b=0\n",
      "after conversion a=12.0, b=0.0\n"
     ]
    },
    {
     "ename": "ZeroDivisionError",
     "evalue": "float division by zero",
     "output_type": "error",
     "traceback": [
      "\u001b[0;31m---------------------------------------------------------------------------\u001b[0m",
      "\u001b[0;31mZeroDivisionError\u001b[0m                         Traceback (most recent call last)",
      "\u001b[0;32m<ipython-input-8-41f22ae8add6>\u001b[0m in \u001b[0;36m<module>\u001b[0;34m()\u001b[0m\n\u001b[1;32m      6\u001b[0m \u001b[0mb\u001b[0m\u001b[0;34m=\u001b[0m\u001b[0mfloat\u001b[0m\u001b[0;34m(\u001b[0m\u001b[0mb\u001b[0m\u001b[0;34m)\u001b[0m\u001b[0;34m\u001b[0m\u001b[0m\n\u001b[1;32m      7\u001b[0m \u001b[0;32mprint\u001b[0m \u001b[0;34m\"after conversion a=%s, b=%s\"\u001b[0m\u001b[0;34m%\u001b[0m\u001b[0;34m(\u001b[0m\u001b[0ma\u001b[0m\u001b[0;34m,\u001b[0m\u001b[0mb\u001b[0m\u001b[0;34m)\u001b[0m\u001b[0;34m\u001b[0m\u001b[0m\n\u001b[0;32m----> 8\u001b[0;31m \u001b[0mres\u001b[0m\u001b[0;34m=\u001b[0m\u001b[0ma\u001b[0m\u001b[0;34m/\u001b[0m\u001b[0mb\u001b[0m\u001b[0;34m\u001b[0m\u001b[0m\n\u001b[0m\u001b[1;32m      9\u001b[0m \u001b[0;32mprint\u001b[0m \u001b[0;34m\"result=%s\"\u001b[0m\u001b[0;34m%\u001b[0m\u001b[0;34m(\u001b[0m\u001b[0mres\u001b[0m\u001b[0;34m)\u001b[0m\u001b[0;34m\u001b[0m\u001b[0m\n\u001b[1;32m     10\u001b[0m \u001b[0;32mprint\u001b[0m \u001b[0;34m\"other statements in program\"\u001b[0m\u001b[0;34m\u001b[0m\u001b[0m\n",
      "\u001b[0;31mZeroDivisionError\u001b[0m: float division by zero"
     ]
    }
   ],
   "source": [
    "print \"program started.\"\n",
    "a=raw_input(\"Enter a value:\")\n",
    "b=raw_input(\"Enter b value:\")\n",
    "print \"before conversion a=%s, b=%s\"%(a,b)\n",
    "a=float(a)\n",
    "b=float(b)\n",
    "print \"after conversion a=%s, b=%s\"%(a,b)\n",
    "res=a/b\n",
    "print \"result=%s\"%(res)\n",
    "print \"other statements in program\"\n",
    "print \"program ended.\""
   ]
  },
  {
   "cell_type": "code",
   "execution_count": 9,
   "metadata": {},
   "outputs": [
    {
     "ename": "ValueError",
     "evalue": "could not convert string to float: sdfsdf",
     "output_type": "error",
     "traceback": [
      "\u001b[0;31m---------------------------------------------------------------------------\u001b[0m",
      "\u001b[0;31mValueError\u001b[0m                                Traceback (most recent call last)",
      "\u001b[0;32m<ipython-input-9-250ba3da24d4>\u001b[0m in \u001b[0;36m<module>\u001b[0;34m()\u001b[0m\n\u001b[0;32m----> 1\u001b[0;31m \u001b[0mfloat\u001b[0m\u001b[0;34m(\u001b[0m\u001b[0;34m\"sdfsdf\"\u001b[0m\u001b[0;34m)\u001b[0m\u001b[0;34m\u001b[0m\u001b[0m\n\u001b[0m",
      "\u001b[0;31mValueError\u001b[0m: could not convert string to float: sdfsdf"
     ]
    }
   ],
   "source": [
    "float(\"sdfsdf\")"
   ]
  },
  {
   "cell_type": "code",
   "execution_count": 10,
   "metadata": {},
   "outputs": [
    {
     "ename": "ZeroDivisionError",
     "evalue": "integer division or modulo by zero",
     "output_type": "error",
     "traceback": [
      "\u001b[0;31m---------------------------------------------------------------------------\u001b[0m",
      "\u001b[0;31mZeroDivisionError\u001b[0m                         Traceback (most recent call last)",
      "\u001b[0;32m<ipython-input-10-2c84e0d59998>\u001b[0m in \u001b[0;36m<module>\u001b[0;34m()\u001b[0m\n\u001b[0;32m----> 1\u001b[0;31m \u001b[0;32mprint\u001b[0m \u001b[0;36m12\u001b[0m\u001b[0;34m/\u001b[0m\u001b[0;36m0\u001b[0m\u001b[0;34m\u001b[0m\u001b[0m\n\u001b[0m",
      "\u001b[0;31mZeroDivisionError\u001b[0m: integer division or modulo by zero"
     ]
    }
   ],
   "source": [
    "print 12/0"
   ]
  },
  {
   "cell_type": "code",
   "execution_count": 11,
   "metadata": {},
   "outputs": [
    {
     "name": "stdout",
     "output_type": "stream",
     "text": [
      "program started.\n",
      "Enter a value:ertw432\n",
      "Enter b value:w34r\n",
      "before conversion a=ertw432, b=w34r\n"
     ]
    },
    {
     "ename": "ValueError",
     "evalue": "could not convert string to float: ertw432",
     "output_type": "error",
     "traceback": [
      "\u001b[0;31m---------------------------------------------------------------------------\u001b[0m",
      "\u001b[0;31mValueError\u001b[0m                                Traceback (most recent call last)",
      "\u001b[0;32m<ipython-input-11-41f22ae8add6>\u001b[0m in \u001b[0;36m<module>\u001b[0;34m()\u001b[0m\n\u001b[1;32m      3\u001b[0m \u001b[0mb\u001b[0m\u001b[0;34m=\u001b[0m\u001b[0mraw_input\u001b[0m\u001b[0;34m(\u001b[0m\u001b[0;34m\"Enter b value:\"\u001b[0m\u001b[0;34m)\u001b[0m\u001b[0;34m\u001b[0m\u001b[0m\n\u001b[1;32m      4\u001b[0m \u001b[0;32mprint\u001b[0m \u001b[0;34m\"before conversion a=%s, b=%s\"\u001b[0m\u001b[0;34m%\u001b[0m\u001b[0;34m(\u001b[0m\u001b[0ma\u001b[0m\u001b[0;34m,\u001b[0m\u001b[0mb\u001b[0m\u001b[0;34m)\u001b[0m\u001b[0;34m\u001b[0m\u001b[0m\n\u001b[0;32m----> 5\u001b[0;31m \u001b[0ma\u001b[0m\u001b[0;34m=\u001b[0m\u001b[0mfloat\u001b[0m\u001b[0;34m(\u001b[0m\u001b[0ma\u001b[0m\u001b[0;34m)\u001b[0m\u001b[0;34m\u001b[0m\u001b[0m\n\u001b[0m\u001b[1;32m      6\u001b[0m \u001b[0mb\u001b[0m\u001b[0;34m=\u001b[0m\u001b[0mfloat\u001b[0m\u001b[0;34m(\u001b[0m\u001b[0mb\u001b[0m\u001b[0;34m)\u001b[0m\u001b[0;34m\u001b[0m\u001b[0m\n\u001b[1;32m      7\u001b[0m \u001b[0;32mprint\u001b[0m \u001b[0;34m\"after conversion a=%s, b=%s\"\u001b[0m\u001b[0;34m%\u001b[0m\u001b[0;34m(\u001b[0m\u001b[0ma\u001b[0m\u001b[0;34m,\u001b[0m\u001b[0mb\u001b[0m\u001b[0;34m)\u001b[0m\u001b[0;34m\u001b[0m\u001b[0m\n",
      "\u001b[0;31mValueError\u001b[0m: could not convert string to float: ertw432"
     ]
    }
   ],
   "source": [
    "print \"program started.\"\n",
    "a=raw_input(\"Enter a value:\")\n",
    "b=raw_input(\"Enter b value:\")\n",
    "print \"before conversion a=%s, b=%s\"%(a,b)\n",
    "a=float(a)\n",
    "b=float(b)\n",
    "print \"after conversion a=%s, b=%s\"%(a,b)\n",
    "res=a/b\n",
    "print \"result=%s\"%(res)\n",
    "print \"other statements in program\"\n",
    "print \"program ended.\""
   ]
  },
  {
   "cell_type": "code",
   "execution_count": 12,
   "metadata": {},
   "outputs": [
    {
     "name": "stdout",
     "output_type": "stream",
     "text": [
      "program started.\n",
      "Enter a value:12\n",
      "Enter b value:6\n",
      "before conversion a=12, b=6\n",
      "after conversion a=12.0, b=6.0\n",
      "result=2.0\n",
      "other statements in program\n",
      "program ended.\n"
     ]
    }
   ],
   "source": [
    "try:\n",
    "    print \"program started.\"\n",
    "    a=raw_input(\"Enter a value:\")\n",
    "    b=raw_input(\"Enter b value:\")\n",
    "    print \"before conversion a=%s, b=%s\"%(a,b)\n",
    "    a=float(a)\n",
    "    b=float(b)\n",
    "    print \"after conversion a=%s, b=%s\"%(a,b)\n",
    "    res=a/b\n",
    "    print \"result=%s\"%(res)\n",
    "    print \"other statements in program\"\n",
    "    print \"program ended.\"\n",
    "except:\n",
    "    print \"Invalid input\"\n",
    "    print \"something went wrong\""
   ]
  },
  {
   "cell_type": "code",
   "execution_count": 13,
   "metadata": {},
   "outputs": [
    {
     "name": "stdout",
     "output_type": "stream",
     "text": [
      "program started.\n",
      "Enter a value:12\n",
      "Enter b value:0\n",
      "before conversion a=12, b=0\n",
      "after conversion a=12.0, b=0.0\n",
      "Invalid input\n",
      "something went wrong\n"
     ]
    }
   ],
   "source": [
    "try:\n",
    "    print \"program started.\"\n",
    "    a=raw_input(\"Enter a value:\")\n",
    "    b=raw_input(\"Enter b value:\")\n",
    "    print \"before conversion a=%s, b=%s\"%(a,b)\n",
    "    a=float(a)\n",
    "    b=float(b)\n",
    "    print \"after conversion a=%s, b=%s\"%(a,b)\n",
    "    res=a/b\n",
    "    print \"result=%s\"%(res)\n",
    "    print \"other statements in program\"\n",
    "    print \"program ended.\"\n",
    "except:\n",
    "    print \"Invalid input\"\n",
    "    print \"something went wrong\""
   ]
  },
  {
   "cell_type": "code",
   "execution_count": 14,
   "metadata": {},
   "outputs": [
    {
     "name": "stdout",
     "output_type": "stream",
     "text": [
      "program started.\n",
      "Enter a value:12\n",
      "Enter b value:6\n",
      "before conversion a=12, b=6\n",
      "after conversion a=12.0, b=6.0\n",
      "result=2.0\n",
      "other statements in program\n",
      "program ended.\n",
      "main after except\n"
     ]
    }
   ],
   "source": [
    "try:\n",
    "    print \"program started.\"\n",
    "    a=raw_input(\"Enter a value:\")\n",
    "    b=raw_input(\"Enter b value:\")\n",
    "    print \"before conversion a=%s, b=%s\"%(a,b)\n",
    "    a=float(a)\n",
    "    b=float(b)\n",
    "    print \"after conversion a=%s, b=%s\"%(a,b)\n",
    "    res=a/b\n",
    "    print \"result=%s\"%(res)\n",
    "    print \"other statements in program\"\n",
    "    print \"program ended.\"\n",
    "except:\n",
    "    print \"Invalid input\"\n",
    "    print \"something went wrong\"\n",
    "print \"main after except\""
   ]
  },
  {
   "cell_type": "code",
   "execution_count": 15,
   "metadata": {},
   "outputs": [
    {
     "name": "stdout",
     "output_type": "stream",
     "text": [
      "program started.\n",
      "Enter a value:12\n",
      "Enter b value:weer\n",
      "before conversion a=12, b=weer\n",
      "Invalid input\n",
      "something went wrong\n",
      "main after except\n"
     ]
    }
   ],
   "source": [
    "try:\n",
    "    print \"program started.\"\n",
    "    a=raw_input(\"Enter a value:\")\n",
    "    b=raw_input(\"Enter b value:\")\n",
    "    print \"before conversion a=%s, b=%s\"%(a,b)\n",
    "    a=float(a)\n",
    "    b=float(b)\n",
    "    print \"after conversion a=%s, b=%s\"%(a,b)\n",
    "    res=a/b\n",
    "    print \"result=%s\"%(res)\n",
    "    print \"other statements in program\"\n",
    "    print \"program ended.\"\n",
    "except:\n",
    "    print \"Invalid input\"\n",
    "    print \"something went wrong\"\n",
    "print \"main after except\""
   ]
  },
  {
   "cell_type": "code",
   "execution_count": 16,
   "metadata": {},
   "outputs": [
    {
     "name": "stdout",
     "output_type": "stream",
     "text": [
      "program started.\n",
      "Enter a value:12\n",
      "Enter b value:6\n",
      "before conversion a=12, b=6\n",
      "after conversion a=12.0, b=6.0\n",
      "result=2.0\n",
      "main after except\n",
      "other statements in program\n",
      "program ended.\n"
     ]
    }
   ],
   "source": [
    "print \"program started.\"\n",
    "a=raw_input(\"Enter a value:\")\n",
    "b=raw_input(\"Enter b value:\")\n",
    "print \"before conversion a=%s, b=%s\"%(a,b)\n",
    "try:\n",
    "    a=float(a)\n",
    "    b=float(b)\n",
    "    print \"after conversion a=%s, b=%s\"%(a,b)\n",
    "    res=a/b\n",
    "    print \"result=%s\"%(res)\n",
    "except:\n",
    "    print \"Invalid input\"\n",
    "    print \"something went wrong\"\n",
    "print \"main after except\"\n",
    "print \"other statements in program\"\n",
    "print \"program ended.\""
   ]
  },
  {
   "cell_type": "code",
   "execution_count": 17,
   "metadata": {},
   "outputs": [
    {
     "name": "stdout",
     "output_type": "stream",
     "text": [
      "program started.\n",
      "Enter a value:12\n",
      "Enter b value:0\n",
      "before conversion a=12, b=0\n",
      "after conversion a=12.0, b=0.0\n",
      "Invalid input\n",
      "something went wrong\n",
      "main after except\n",
      "other statements in program\n",
      "program ended.\n"
     ]
    }
   ],
   "source": [
    "print \"program started.\"\n",
    "a=raw_input(\"Enter a value:\")\n",
    "b=raw_input(\"Enter b value:\")\n",
    "print \"before conversion a=%s, b=%s\"%(a,b)\n",
    "try:\n",
    "    a=float(a)\n",
    "    b=float(b)\n",
    "    print \"after conversion a=%s, b=%s\"%(a,b)\n",
    "    res=a/b\n",
    "    print \"result=%s\"%(res)\n",
    "except:\n",
    "    print \"Invalid input\"\n",
    "    print \"something went wrong\"\n",
    "print \"main after except\"\n",
    "print \"other statements in program\"\n",
    "print \"program ended.\""
   ]
  },
  {
   "cell_type": "code",
   "execution_count": null,
   "metadata": {
    "collapsed": true
   },
   "outputs": [],
   "source": []
  }
 ],
 "metadata": {
  "kernelspec": {
   "display_name": "Python 2",
   "language": "python",
   "name": "python2"
  },
  "language_info": {
   "codemirror_mode": {
    "name": "ipython",
    "version": 2
   },
   "file_extension": ".py",
   "mimetype": "text/x-python",
   "name": "python",
   "nbconvert_exporter": "python",
   "pygments_lexer": "ipython2",
   "version": "2.7.14"
  }
 },
 "nbformat": 4,
 "nbformat_minor": 2
}
